{
 "cells": [
  {
   "cell_type": "markdown",
   "metadata": {},
   "source": [
    "# XML example and exercise\n",
    "****\n",
    "+ study examples of accessing nodes in XML tree structure  \n",
    "+ work on exercise to be completed and submitted\n",
    "****\n",
    "+ reference: https://docs.python.org/2.7/library/xml.etree.elementtree.html\n",
    "+ data source: http://www.dbis.informatik.uni-goettingen.de/Mondial\n",
    "****"
   ]
  },
  {
   "cell_type": "code",
   "execution_count": 1,
   "metadata": {
    "collapsed": true
   },
   "outputs": [],
   "source": [
    "from xml.etree import ElementTree as ET"
   ]
  },
  {
   "cell_type": "markdown",
   "metadata": {},
   "source": [
    "## XML example\n",
    "\n",
    "+ for details about tree traversal and iterators, see https://docs.python.org/2.7/library/xml.etree.elementtree.html"
   ]
  },
  {
   "cell_type": "code",
   "execution_count": 2,
   "metadata": {
    "collapsed": true
   },
   "outputs": [],
   "source": [
    "document_tree = ET.parse( './data/mondial_database_less.xml' )"
   ]
  },
  {
   "cell_type": "code",
   "execution_count": 14,
   "metadata": {
    "collapsed": false
   },
   "outputs": [
    {
     "name": "stdout",
     "output_type": "stream",
     "text": [
      "Albania\n",
      "Greece\n",
      "Macedonia\n",
      "Serbia\n",
      "Montenegro\n",
      "Kosovo\n",
      "Andorra\n"
     ]
    }
   ],
   "source": [
    "# print names of all countries\n",
    "for child in document_tree.getroot():\n",
    "    print child.find('name').text\n",
    "#     print child.attrib"
   ]
  },
  {
   "cell_type": "code",
   "execution_count": 15,
   "metadata": {
    "collapsed": false
   },
   "outputs": [
    {
     "name": "stdout",
     "output_type": "stream",
     "text": [
      "* Albania: Tirana, Shkodër, Durrës, Vlorë, Elbasan, Korçë\n",
      "* Greece: Komotini, Kavala, Athina, Peiraias, Peristeri, Acharnes, Patra, Kozani, Kerkyra, Ioannina, Thessaloniki, Iraklio, Chania, Ermoupoli, Rhodes, Tripoli, Lamia, Chalkida, Larissa, Volos, Mytilini, Karyes\n",
      "* Macedonia: Skopje, Kumanovo\n",
      "* Serbia: Beograd, Novi Sad, Niš\n",
      "* Montenegro: Podgorica\n",
      "* Kosovo: Prishtine\n",
      "* Andorra: Andorra la Vella\n"
     ]
    }
   ],
   "source": [
    "# print names of all countries and their cities\n",
    "for element in document_tree.iterfind('country'):\n",
    "    print '* ' + element.find('name').text + ':',\n",
    "    capitals_string = ''\n",
    "    for subelement in element.getiterator('city'):\n",
    "        capitals_string += subelement.find('name').text + ', '\n",
    "    print capitals_string[:-2]"
   ]
  },
  {
   "cell_type": "markdown",
   "metadata": {},
   "source": [
    "****\n",
    "## XML exercise\n",
    "\n",
    "Using data in 'data/mondial_database.xml', the examples above, and refering to https://docs.python.org/2.7/library/xml.etree.elementtree.html, find\n",
    "\n",
    "1. 10 countries with the lowest infant mortality rates\n",
    "2. 10 cities with the largest population\n",
    "3. 10 ethnic groups with the largest overall populations (sum of best/latest estimates over all countries)\n",
    "4. name and country of a) longest river, b) largest lake and c) airport at highest elevation"
   ]
  },
  {
   "cell_type": "code",
   "execution_count": 16,
   "metadata": {
    "collapsed": false
   },
   "outputs": [],
   "source": [
    "document = ET.parse( './data/mondial_database.xml' )"
   ]
  },
  {
   "cell_type": "markdown",
   "metadata": {},
   "source": [
    "## Ex.1 10 countries with the lowest infant mortality rates"
   ]
  },
  {
   "cell_type": "code",
   "execution_count": 27,
   "metadata": {
    "collapsed": false
   },
   "outputs": [],
   "source": [
    "root = document.getroot()"
   ]
  },
  {
   "cell_type": "code",
   "execution_count": 54,
   "metadata": {
    "collapsed": false
   },
   "outputs": [],
   "source": [
    "import pandas as pd\n",
    "%matplotlib inline\n",
    "mortality = []\n",
    "for e in root.iter('country'):\n",
    "    if e.find('infant_mortality') != None:\n",
    "        mortality.append((e.find('name').text,e.find('infant_mortality').text))\n",
    "mortality = pd.DataFrame(mortality,columns = ['country','infant_mortality_rate'])"
   ]
  },
  {
   "cell_type": "code",
   "execution_count": 69,
   "metadata": {
    "collapsed": false
   },
   "outputs": [],
   "source": [
    "# original data type is string, need to transform to numeric to do sorting properly\n",
    "mortality['infant_mortality_rate'] = pd.to_numeric(mortality.infant_mortality_rate)"
   ]
  },
  {
   "cell_type": "code",
   "execution_count": 70,
   "metadata": {
    "collapsed": false
   },
   "outputs": [
    {
     "data": {
      "text/html": [
       "<div>\n",
       "<table border=\"1\" class=\"dataframe\">\n",
       "  <thead>\n",
       "    <tr style=\"text-align: right;\">\n",
       "      <th></th>\n",
       "      <th>country</th>\n",
       "      <th>infant_mortality_rate</th>\n",
       "    </tr>\n",
       "  </thead>\n",
       "  <tbody>\n",
       "    <tr>\n",
       "      <th>36</th>\n",
       "      <td>Monaco</td>\n",
       "      <td>1.81</td>\n",
       "    </tr>\n",
       "    <tr>\n",
       "      <th>90</th>\n",
       "      <td>Japan</td>\n",
       "      <td>2.13</td>\n",
       "    </tr>\n",
       "    <tr>\n",
       "      <th>109</th>\n",
       "      <td>Bermuda</td>\n",
       "      <td>2.48</td>\n",
       "    </tr>\n",
       "    <tr>\n",
       "      <th>34</th>\n",
       "      <td>Norway</td>\n",
       "      <td>2.48</td>\n",
       "    </tr>\n",
       "    <tr>\n",
       "      <th>98</th>\n",
       "      <td>Singapore</td>\n",
       "      <td>2.53</td>\n",
       "    </tr>\n",
       "    <tr>\n",
       "      <th>35</th>\n",
       "      <td>Sweden</td>\n",
       "      <td>2.60</td>\n",
       "    </tr>\n",
       "    <tr>\n",
       "      <th>8</th>\n",
       "      <td>Czech Republic</td>\n",
       "      <td>2.63</td>\n",
       "    </tr>\n",
       "    <tr>\n",
       "      <th>72</th>\n",
       "      <td>Hong Kong</td>\n",
       "      <td>2.73</td>\n",
       "    </tr>\n",
       "    <tr>\n",
       "      <th>73</th>\n",
       "      <td>Macao</td>\n",
       "      <td>3.13</td>\n",
       "    </tr>\n",
       "    <tr>\n",
       "      <th>39</th>\n",
       "      <td>Iceland</td>\n",
       "      <td>3.15</td>\n",
       "    </tr>\n",
       "  </tbody>\n",
       "</table>\n",
       "</div>"
      ],
      "text/plain": [
       "            country  infant_mortality_rate\n",
       "36           Monaco                   1.81\n",
       "90            Japan                   2.13\n",
       "109         Bermuda                   2.48\n",
       "34           Norway                   2.48\n",
       "98        Singapore                   2.53\n",
       "35           Sweden                   2.60\n",
       "8    Czech Republic                   2.63\n",
       "72        Hong Kong                   2.73\n",
       "73            Macao                   3.13\n",
       "39          Iceland                   3.15"
      ]
     },
     "execution_count": 70,
     "metadata": {},
     "output_type": "execute_result"
    }
   ],
   "source": [
    "mortality.sort_values('infant_mortality_rate')[:10]"
   ]
  },
  {
   "cell_type": "code",
   "execution_count": 84,
   "metadata": {
    "collapsed": false,
    "scrolled": false
   },
   "outputs": [
    {
     "data": {
      "text/plain": [
       "<matplotlib.axes.AxesSubplot at 0x10e8347d0>"
      ]
     },
     "execution_count": 84,
     "metadata": {},
     "output_type": "execute_result"
    },
    {
     "data": {
      "image/png": "[encoded data removed]",
      "text/plain": [
       "<matplotlib.figure.Figure at 0x10d6a9210>"
      ]
     },
     "metadata": {},
     "output_type": "display_data"
    }
   ],
   "source": [
    "%matplotlib inline\n",
    "low10 = mortality.sort_values('infant_mortality_rate')[:10]\n",
    "low10 = low10.set_index(low10.country)\n",
    "low10.plot.bar()"
   ]
  },
  {
   "cell_type": "code",
   "execution_count": null,
   "metadata": {
    "collapsed": true
   },
   "outputs": [],
   "source": []
  },
  {
   "cell_type": "markdown",
   "metadata": {},
   "source": [
    "## Ex.2 10 cities with the largest population"
   ]
  },
  {
   "cell_type": "code",
   "execution_count": 106,
   "metadata": {
    "collapsed": false
   },
   "outputs": [],
   "source": [
    "city_pop = []\n",
    "city_names = []\n",
    "for e in root.iter('city'):\n",
    "    name = e.find('name').text\n",
    "    if e.findall('population') != []:\n",
    "        p = e.findall('population')[-1]\n",
    "        city_names.append(name)\n",
    "        city_pop.append((p.get('year'),p.text))"
   ]
  },
  {
   "cell_type": "code",
   "execution_count": 109,
   "metadata": {
    "collapsed": false
   },
   "outputs": [
    {
     "data": {
      "text/html": [
       "<div>\n",
       "<table border=\"1\" class=\"dataframe\">\n",
       "  <thead>\n",
       "    <tr style=\"text-align: right;\">\n",
       "      <th></th>\n",
       "      <th>year</th>\n",
       "      <th>population</th>\n",
       "    </tr>\n",
       "  </thead>\n",
       "  <tbody>\n",
       "    <tr>\n",
       "      <th>Shanghai</th>\n",
       "      <td>2010</td>\n",
       "      <td>22315474</td>\n",
       "    </tr>\n",
       "    <tr>\n",
       "      <th>Istanbul</th>\n",
       "      <td>2012</td>\n",
       "      <td>13710512</td>\n",
       "    </tr>\n",
       "    <tr>\n",
       "      <th>Mumbai</th>\n",
       "      <td>2011</td>\n",
       "      <td>12442373</td>\n",
       "    </tr>\n",
       "    <tr>\n",
       "      <th>Moskva</th>\n",
       "      <td>2013</td>\n",
       "      <td>11979529</td>\n",
       "    </tr>\n",
       "    <tr>\n",
       "      <th>Beijing</th>\n",
       "      <td>2010</td>\n",
       "      <td>11716620</td>\n",
       "    </tr>\n",
       "    <tr>\n",
       "      <th>São Paulo</th>\n",
       "      <td>2010</td>\n",
       "      <td>11152344</td>\n",
       "    </tr>\n",
       "    <tr>\n",
       "      <th>Tianjin</th>\n",
       "      <td>2010</td>\n",
       "      <td>11090314</td>\n",
       "    </tr>\n",
       "    <tr>\n",
       "      <th>Guangzhou</th>\n",
       "      <td>2010</td>\n",
       "      <td>11071424</td>\n",
       "    </tr>\n",
       "    <tr>\n",
       "      <th>Delhi</th>\n",
       "      <td>2011</td>\n",
       "      <td>11034555</td>\n",
       "    </tr>\n",
       "    <tr>\n",
       "      <th>Shenzhen</th>\n",
       "      <td>2010</td>\n",
       "      <td>10358381</td>\n",
       "    </tr>\n",
       "  </tbody>\n",
       "</table>\n",
       "</div>"
      ],
      "text/plain": [
       "           year  population\n",
       "Shanghai   2010    22315474\n",
       "Istanbul   2012    13710512\n",
       "Mumbai     2011    12442373\n",
       "Moskva     2013    11979529\n",
       "Beijing    2010    11716620\n",
       "São Paulo  2010    11152344\n",
       "Tianjin    2010    11090314\n",
       "Guangzhou  2010    11071424\n",
       "Delhi      2011    11034555\n",
       "Shenzhen   2010    10358381"
      ]
     },
     "execution_count": 109,
     "metadata": {},
     "output_type": "execute_result"
    }
   ],
   "source": [
    "city = pd.DataFrame(city_pop,index=city_names,columns=['year','population'])\n",
    "city['population'] = pd.to_numeric(city.population)\n",
    "city.sort_values('population',ascending=False)[:10]"
   ]
  },
  {
   "cell_type": "code",
   "execution_count": null,
   "metadata": {
    "collapsed": true
   },
   "outputs": [],
   "source": []
  },
  {
   "cell_type": "markdown",
   "metadata": {},
   "source": [
    "## Ex.3 10 ethnic groups with largest overall populations"
   ]
  },
  {
   "cell_type": "code",
   "execution_count": 146,
   "metadata": {
    "collapsed": false
   },
   "outputs": [
    {
     "data": {
      "text/html": [
       "<div>\n",
       "<table border=\"1\" class=\"dataframe\">\n",
       "  <thead>\n",
       "    <tr style=\"text-align: right;\">\n",
       "      <th></th>\n",
       "      <th></th>\n",
       "      <th>population</th>\n",
       "    </tr>\n",
       "    <tr>\n",
       "      <th>ethnic_group</th>\n",
       "      <th>year</th>\n",
       "      <th></th>\n",
       "    </tr>\n",
       "  </thead>\n",
       "  <tbody>\n",
       "    <tr>\n",
       "      <th>Han Chinese</th>\n",
       "      <th>2013</th>\n",
       "      <td>1.245059e+09</td>\n",
       "    </tr>\n",
       "    <tr>\n",
       "      <th>Indo-Aryan</th>\n",
       "      <th>2011</th>\n",
       "      <td>8.718156e+08</td>\n",
       "    </tr>\n",
       "    <tr>\n",
       "      <th>European</th>\n",
       "      <th>2014</th>\n",
       "      <td>4.160749e+08</td>\n",
       "    </tr>\n",
       "    <tr>\n",
       "      <th>Dravidian</th>\n",
       "      <th>2011</th>\n",
       "      <td>3.027137e+08</td>\n",
       "    </tr>\n",
       "    <tr>\n",
       "      <th>African</th>\n",
       "      <th>2011</th>\n",
       "      <td>1.649993e+08</td>\n",
       "    </tr>\n",
       "    <tr>\n",
       "      <th>Bengali</th>\n",
       "      <th>2011</th>\n",
       "      <td>1.467769e+08</td>\n",
       "    </tr>\n",
       "    <tr>\n",
       "      <th>Japanese</th>\n",
       "      <th>2013</th>\n",
       "      <td>1.265342e+08</td>\n",
       "    </tr>\n",
       "    <tr>\n",
       "      <th>Russian</th>\n",
       "      <th>2014</th>\n",
       "      <td>1.195535e+08</td>\n",
       "    </tr>\n",
       "    <tr>\n",
       "      <th>Javanese</th>\n",
       "      <th>2014</th>\n",
       "      <td>1.134560e+08</td>\n",
       "    </tr>\n",
       "    <tr>\n",
       "      <th>Malay</th>\n",
       "      <th>2010</th>\n",
       "      <td>1.028323e+08</td>\n",
       "    </tr>\n",
       "  </tbody>\n",
       "</table>\n",
       "</div>"
      ],
      "text/plain": [
       "                     population\n",
       "ethnic_group year              \n",
       "Han Chinese  2013  1.245059e+09\n",
       "Indo-Aryan   2011  8.718156e+08\n",
       "European     2014  4.160749e+08\n",
       "Dravidian    2011  3.027137e+08\n",
       "African      2011  1.649993e+08\n",
       "Bengali      2011  1.467769e+08\n",
       "Japanese     2013  1.265342e+08\n",
       "Russian      2014  1.195535e+08\n",
       "Javanese     2014  1.134560e+08\n",
       "Malay        2010  1.028323e+08"
      ]
     },
     "execution_count": 146,
     "metadata": {},
     "output_type": "execute_result"
    }
   ],
   "source": [
    "country = []\n",
    "ethnic_pop = [] # includes latest country population, and ethnic group rate\n",
    "for e in root.iter('country'):\n",
    "    name = e.find('name').text\n",
    "    if e.findall('population') != []:\n",
    "        p = e.findall('population')[-1]\n",
    "        year = p.get('year')\n",
    "        p = float(p.text)\n",
    "        for group in e.findall('ethnicgroup'):\n",
    "            r = float(group.get('percentage'))/100\n",
    "            e_p = p*r\n",
    "            country.append(name)\n",
    "            ethnic_pop.append((year,group.text,e_p))\n",
    "\n",
    "ethnic = pd.DataFrame(ethnic_pop,index=country,columns=['year','ethnic_group','population'])\n",
    "ethnic.groupby(('ethnic_group','year')).sum().sort_values('population',ascending=False)[:10]"
   ]
  },
  {
   "cell_type": "markdown",
   "metadata": {},
   "source": [
    "## Ex.4 name and country of a) longest river, b) largest lake and c) airport at highest elevation"
   ]
  },
  {
   "cell_type": "code",
   "execution_count": 194,
   "metadata": {
    "collapsed": false
   },
   "outputs": [
    {
     "name": "stdout",
     "output_type": "stream",
     "text": [
      "Longest river is Amazonas,with length 6448.0,runs through ['Colombia', 'Brazil', 'Peru']\n"
     ]
    }
   ],
   "source": [
    "car_code = {}\n",
    "for e in root.iter('country'):\n",
    "    car_code[e.get('car_code')] = e.find('name').text\n",
    "\n",
    "longest_river = {'name':'NA','length':0,'country':'NA'}\n",
    "\n",
    "for river in root.iter('river'):\n",
    "    name = river.find('name').text\n",
    "    if river.find('length') != None:\n",
    "        length = float(river.find('length').text)\n",
    "        country = river.get('country')\n",
    "#         for c in river.findall('located'):\n",
    "#             print c.get('country')\n",
    "        if length > longest_river['length']:\n",
    "            longest_river['name'] = name\n",
    "            longest_river['length'] = length\n",
    "            longest_river['country'] = country\n",
    "print 'Longest river is {},with length {},runs through {}'.format(longest_river['name'],\n",
    "                                                                  longest_river['length'],\n",
    "                                                                  [car_code[i] for i in longest_river['country'].split(' ')])"
   ]
  },
  {
   "cell_type": "code",
   "execution_count": 204,
   "metadata": {
    "collapsed": false
   },
   "outputs": [
    {
     "name": "stdout",
     "output_type": "stream",
     "text": [
      "Largest lake is Caspian Sea,with area 386400.0,runs through ['Russia', 'Azerbaijan', 'Kazakhstan', 'Iran', 'Turkmenistan']\n"
     ]
    }
   ],
   "source": [
    "largest_lake = {'name':'NA','area':0,'country':'NA'}\n",
    "\n",
    "for lake in root.iter('lake'):\n",
    "    name = lake.find('name').text\n",
    "    \n",
    "    if lake.find('area') != None:\n",
    "        area = float(lake.find('area').text)\n",
    "        country = lake.get('country')\n",
    "        if area > largest_lake['area']:\n",
    "            largest_lake['name'] = name\n",
    "            largest_lake['area'] = area\n",
    "            largest_lake['country'] = country\n",
    "            \n",
    "print 'Largest lake is {},with area {},runs through {}'.format(largest_lake['name'],\n",
    "                                                                  largest_lake['area'],\n",
    "                                                                  [car_code[i] for i in largest_lake['country'].split(' ')])"
   ]
  },
  {
   "cell_type": "code",
   "execution_count": 209,
   "metadata": {
    "collapsed": false
   },
   "outputs": [
    {
     "name": "stdout",
     "output_type": "stream",
     "text": [
      "Highest airport is El Alto Intl,with elevation 4063.0,is located in ['Bolivia']\n"
     ]
    }
   ],
   "source": [
    "highest_airport = {'name':'NA','elevation':0,'country':'NA'}\n",
    "\n",
    "for airport in root.iter('airport'):\n",
    "    name = airport.find('name').text\n",
    "    # different condition here:\n",
    "    if airport.find('elevation') != None and airport.find('elevation').text != None: # there's hand-type error with Xiangfan Airport, so need extra condition\n",
    "        elevation = float(airport.find('elevation').text)\n",
    "        country = airport.get('country')\n",
    "\n",
    "        if elevation > highest_airport['elevation']:\n",
    "            highest_airport['name'] = name\n",
    "            highest_airport['elevation'] = elevation\n",
    "            highest_airport['country'] = country\n",
    "            \n",
    "print 'Highest airport is {},with elevation {},is located in {}'.format(highest_airport['name'],\n",
    "                                                                  highest_airport['elevation'],\n",
    "                                                                  [car_code[i] for i in highest_airport['country'].split(' ')])\n"
   ]
  },
  {
   "cell_type": "code",
   "execution_count": null,
   "metadata": {
    "collapsed": true
   },
   "outputs": [],
   "source": []
  }
 ],
 "metadata": {
  "kernelspec": {
   "display_name": "Python 2",
   "language": "python",
   "name": "python2"
  },
  "language_info": {
   "codemirror_mode": {
    "name": "ipython",
    "version": 2
   },
   "file_extension": ".py",
   "mimetype": "text/x-python",
   "name": "python",
   "nbconvert_exporter": "python",
   "pygments_lexer": "ipython2",
   "version": "2.7.12"
  }
 },
 "nbformat": 4,
 "nbformat_minor": 0
}
