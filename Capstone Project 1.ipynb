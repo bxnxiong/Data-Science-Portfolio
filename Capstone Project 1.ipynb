{
 "cells": [
  {
   "cell_type": "markdown",
   "metadata": {},
   "source": [
    "# Predicting the Next Hit on Billboard Hot 100"
   ]
  },
  {
   "cell_type": "markdown",
   "metadata": {},
   "source": [
    "This project utilizes data from the EchoNest API to get acoustic features, Musixmatch API to get lyrics, and Billboard API to get ranking of songs."
   ]
  },
  {
   "cell_type": "markdown",
   "metadata": {},
   "source": [
    "*****\n",
    "## Step 1: collect billboard data and do initial exploratory analysis\n",
    "Songs date as far back as 1958, where I found the first available chart for Hot 100."
   ]
  },
  {
   "cell_type": "code",
   "execution_count": 91,
   "metadata": {
    "collapsed": true
   },
   "outputs": [
    {
     "name": "stdout",
     "output_type": "stream",
     "text": [
      "chart year:2017,month:02\n",
      "chart year:2017,month:01\n",
      "chart year:2016,month:12\n",
      "chart year:2016,month:11\n",
      "chart year:2016,month:10\n",
      "chart year:2016,month:09\n",
      "chart year:2016,month:08\n",
      "chart year:2016,month:07\n",
      "chart year:2016,month:06\n",
      "chart year:2016,month:05\n",
      "chart year:2016,month:04\n",
      "chart year:2016,month:03\n",
      "chart year:2016,month:02\n",
      "chart year:2016,month:01\n",
      "chart year:2015,month:12\n",
      "chart year:2015,month:11\n",
      "chart year:2015,month:10\n",
      "chart year:2015,month:09\n",
      "chart year:2015,month:08\n",
      "chart year:2015,month:07\n",
      "chart year:2015,month:06\n",
      "chart year:2015,month:05\n",
      "chart year:2015,month:04\n",
      "chart year:2015,month:03\n",
      "chart year:2015,month:02\n",
      "chart year:2015,month:01\n",
      "chart year:2014,month:12\n",
      "chart year:2014,month:11\n",
      "chart year:2014,month:10\n",
      "chart year:2014,month:09\n",
      "chart year:2014,month:08\n",
      "chart year:2014,month:07\n",
      "chart year:2014,month:06\n",
      "chart year:2014,month:05\n",
      "chart year:2014,month:04\n",
      "chart year:2014,month:03\n",
      "chart year:2014,month:02\n",
      "chart year:2014,month:01\n",
      "chart year:2013,month:12\n",
      "chart year:2013,month:11\n",
      "chart year:2013,month:10\n",
      "chart year:2013,month:09\n",
      "chart year:2013,month:08\n",
      "chart year:2013,month:07\n",
      "chart year:2013,month:06\n",
      "chart year:2013,month:05\n",
      "chart year:2013,month:04\n",
      "chart year:2013,month:03\n",
      "chart year:2013,month:02\n",
      "chart year:2013,month:01\n",
      "chart year:2012,month:12\n",
      "chart year:2012,month:11\n",
      "chart year:2012,month:10\n",
      "chart year:2012,month:09\n",
      "chart year:2012,month:08\n",
      "chart year:2012,month:07\n",
      "chart year:2012,month:06\n",
      "chart year:2012,month:05\n",
      "chart year:2012,month:04\n",
      "chart year:2012,month:03\n",
      "chart year:2012,month:02\n",
      "chart year:2012,month:01\n",
      "chart year:2011,month:12\n",
      "chart year:2011,month:11\n",
      "chart year:2011,month:10\n",
      "chart year:2011,month:09\n",
      "chart year:2011,month:08\n",
      "chart year:2011,month:07\n",
      "chart year:2011,month:06\n",
      "chart year:2011,month:05\n",
      "chart year:2011,month:04\n",
      "chart year:2011,month:03\n",
      "chart year:2011,month:02\n",
      "chart year:2011,month:01\n"
     ]
    }
   ],
   "source": [
    "# pip install billboard.py\n",
    "\n",
    "# in this part we want to build up a data frame of all available charts on billboard\n",
    "import billboard\n",
    "import pandas as pd\n",
    "\n",
    "Hot_10 = pd.DataFrame(columns = ['date','title','artist','rank','weeks','change_in_rank','spotifyID'\n",
    "    ])\n",
    "\n",
    "\n",
    "chart = billboard.ChartData('hot-100',date = '2010-12-25') # this breaks sometimes so have to rerun and change date\n",
    "date = chart.date\n",
    "prev_year,prev_month = date.split('-')[0],date.split('-')[1]\n",
    "\n",
    "while chart.previousDate:\n",
    "    year,month = date.split('-')[0],date.split('-')[1]\n",
    "    if prev_month != month:\n",
    "        print 'chart year:{},month:{}'.format(year,month)\n",
    "    for i in range(10):\n",
    "        song = chart[i]\n",
    "        Hot_10 = Hot_10.append([(date,song.title,song.artist,song.rank,song.weeks,song.change,song.spotifyID)])\n",
    "    chart = billboard.ChartData('hot-100',chart.previousDate)\n",
    "    prev_year,prev_month = year,month\n",
    "    date = chart.date\n",
    "    no += 1\n"
   ]
  },
  {
   "cell_type": "code",
   "execution_count": 125,
   "metadata": {
    "collapsed": true
   },
   "outputs": [
    {
     "ename": "AttributeError",
     "evalue": "'NoneType' object has no attribute 'string'",
     "output_type": "error",
     "traceback": [
      "\u001b[0;31m---------------------------------------------------------------------------\u001b[0m",
      "\u001b[0;31mAttributeError\u001b[0m                            Traceback (most recent call last)",
      "\u001b[0;32m<ipython-input-125-631ba8fcab1f>\u001b[0m in \u001b[0;36m<module>\u001b[0;34m()\u001b[0m\n\u001b[0;32m----> 1\u001b[0;31m \u001b[0mchart\u001b[0m \u001b[0;34m=\u001b[0m \u001b[0mbillboard\u001b[0m\u001b[0;34m.\u001b[0m\u001b[0mChartData\u001b[0m\u001b[0;34m(\u001b[0m\u001b[0;34m'hot-100'\u001b[0m\u001b[0;34m,\u001b[0m\u001b[0mdate\u001b[0m \u001b[0;34m=\u001b[0m \u001b[0;34m'1958-08-09'\u001b[0m\u001b[0;34m)\u001b[0m \u001b[0;31m# this breaks sometimes so have to rerun and change date\u001b[0m\u001b[0;34m\u001b[0m\u001b[0m\n\u001b[0m\u001b[1;32m      2\u001b[0m \u001b[0mdate\u001b[0m \u001b[0;34m=\u001b[0m \u001b[0mchart\u001b[0m\u001b[0;34m.\u001b[0m\u001b[0mdate\u001b[0m\u001b[0;34m\u001b[0m\u001b[0m\n\u001b[1;32m      3\u001b[0m \u001b[0mprev_year\u001b[0m\u001b[0;34m,\u001b[0m\u001b[0mprev_month\u001b[0m \u001b[0;34m=\u001b[0m \u001b[0mdate\u001b[0m\u001b[0;34m.\u001b[0m\u001b[0msplit\u001b[0m\u001b[0;34m(\u001b[0m\u001b[0;34m'-'\u001b[0m\u001b[0;34m)\u001b[0m\u001b[0;34m[\u001b[0m\u001b[0;36m0\u001b[0m\u001b[0;34m]\u001b[0m\u001b[0;34m,\u001b[0m\u001b[0mdate\u001b[0m\u001b[0;34m.\u001b[0m\u001b[0msplit\u001b[0m\u001b[0;34m(\u001b[0m\u001b[0;34m'-'\u001b[0m\u001b[0;34m)\u001b[0m\u001b[0;34m[\u001b[0m\u001b[0;36m1\u001b[0m\u001b[0;34m]\u001b[0m\u001b[0;34m\u001b[0m\u001b[0m\n\u001b[1;32m      4\u001b[0m \u001b[0;34m\u001b[0m\u001b[0m\n\u001b[1;32m      5\u001b[0m \u001b[0;32mwhile\u001b[0m \u001b[0mchart\u001b[0m\u001b[0;34m.\u001b[0m\u001b[0mpreviousDate\u001b[0m\u001b[0;34m:\u001b[0m\u001b[0;34m\u001b[0m\u001b[0m\n",
      "\u001b[0;32m/Library/Frameworks/Python.framework/Versions/2.7/lib/python2.7/site-packages/billboard.pyc\u001b[0m in \u001b[0;36m__init__\u001b[0;34m(self, name, date, fetch, all, quantize)\u001b[0m\n\u001b[1;32m    114\u001b[0m         \u001b[0mself\u001b[0m\u001b[0;34m.\u001b[0m\u001b[0mentries\u001b[0m \u001b[0;34m=\u001b[0m \u001b[0;34m[\u001b[0m\u001b[0;34m]\u001b[0m\u001b[0;34m\u001b[0m\u001b[0m\n\u001b[1;32m    115\u001b[0m         \u001b[0;32mif\u001b[0m \u001b[0mfetch\u001b[0m\u001b[0;34m:\u001b[0m\u001b[0;34m\u001b[0m\u001b[0m\n\u001b[0;32m--> 116\u001b[0;31m             \u001b[0mself\u001b[0m\u001b[0;34m.\u001b[0m\u001b[0mfetchEntries\u001b[0m\u001b[0;34m(\u001b[0m\u001b[0mall\u001b[0m\u001b[0;34m=\u001b[0m\u001b[0mall\u001b[0m\u001b[0;34m)\u001b[0m\u001b[0;34m\u001b[0m\u001b[0m\n\u001b[0m\u001b[1;32m    117\u001b[0m \u001b[0;34m\u001b[0m\u001b[0m\n\u001b[1;32m    118\u001b[0m     \u001b[0;32mdef\u001b[0m \u001b[0m__repr__\u001b[0m\u001b[0;34m(\u001b[0m\u001b[0mself\u001b[0m\u001b[0;34m)\u001b[0m\u001b[0;34m:\u001b[0m\u001b[0;34m\u001b[0m\u001b[0m\n",
      "\u001b[0;32m/Library/Frameworks/Python.framework/Versions/2.7/lib/python2.7/site-packages/billboard.pyc\u001b[0m in \u001b[0;36mfetchEntries\u001b[0;34m(self, all)\u001b[0m\n\u001b[1;32m    209\u001b[0m             \u001b[0;31m# Grab week data (peak rank, last week's rank, total weeks on\u001b[0m\u001b[0;34m\u001b[0m\u001b[0;34m\u001b[0m\u001b[0m\n\u001b[1;32m    210\u001b[0m             \u001b[0;31m# chart)\u001b[0m\u001b[0;34m\u001b[0m\u001b[0;34m\u001b[0m\u001b[0m\n\u001b[0;32m--> 211\u001b[0;31m             \u001b[0mpeakPos\u001b[0m \u001b[0;34m=\u001b[0m \u001b[0mint\u001b[0m\u001b[0;34m(\u001b[0m\u001b[0mgetRowValue\u001b[0m\u001b[0;34m(\u001b[0m\u001b[0;34m'top-spot'\u001b[0m\u001b[0;34m)\u001b[0m\u001b[0;34m)\u001b[0m\u001b[0;34m\u001b[0m\u001b[0m\n\u001b[0m\u001b[1;32m    212\u001b[0m \u001b[0;34m\u001b[0m\u001b[0m\n\u001b[1;32m    213\u001b[0m             \u001b[0mlastPos\u001b[0m \u001b[0;34m=\u001b[0m \u001b[0mgetRowValue\u001b[0m\u001b[0;34m(\u001b[0m\u001b[0;34m'last-week'\u001b[0m\u001b[0;34m)\u001b[0m\u001b[0;34m\u001b[0m\u001b[0m\n",
      "\u001b[0;32m/Library/Frameworks/Python.framework/Versions/2.7/lib/python2.7/site-packages/billboard.pyc\u001b[0m in \u001b[0;36mgetRowValue\u001b[0;34m(rowName)\u001b[0m\n\u001b[1;32m    205\u001b[0m             \u001b[0;32mdef\u001b[0m \u001b[0mgetRowValue\u001b[0m\u001b[0;34m(\u001b[0m\u001b[0mrowName\u001b[0m\u001b[0;34m)\u001b[0m\u001b[0;34m:\u001b[0m\u001b[0;34m\u001b[0m\u001b[0m\n\u001b[1;32m    206\u001b[0m                 \u001b[0mselector\u001b[0m \u001b[0;34m=\u001b[0m \u001b[0;34m'div.chart-row__'\u001b[0m \u001b[0;34m+\u001b[0m \u001b[0mrowName\u001b[0m \u001b[0;34m+\u001b[0m \u001b[0;34m' .chart-row__value'\u001b[0m\u001b[0;34m\u001b[0m\u001b[0m\n\u001b[0;32m--> 207\u001b[0;31m                 \u001b[0;32mreturn\u001b[0m \u001b[0mentrySoup\u001b[0m\u001b[0;34m.\u001b[0m\u001b[0mselect_one\u001b[0m\u001b[0;34m(\u001b[0m\u001b[0mselector\u001b[0m\u001b[0;34m)\u001b[0m\u001b[0;34m.\u001b[0m\u001b[0mstring\u001b[0m\u001b[0;34m.\u001b[0m\u001b[0mstrip\u001b[0m\u001b[0;34m(\u001b[0m\u001b[0;34m)\u001b[0m\u001b[0;34m\u001b[0m\u001b[0m\n\u001b[0m\u001b[1;32m    208\u001b[0m \u001b[0;34m\u001b[0m\u001b[0m\n\u001b[1;32m    209\u001b[0m             \u001b[0;31m# Grab week data (peak rank, last week's rank, total weeks on\u001b[0m\u001b[0;34m\u001b[0m\u001b[0;34m\u001b[0m\u001b[0m\n",
      "\u001b[0;31mAttributeError\u001b[0m: 'NoneType' object has no attribute 'string'"
     ]
    }
   ],
   "source": [
    "chart = billboard.ChartData('hot-100',date = '1958-08-09') # this breaks sometimes so have to rerun and change date\n",
    "date = chart.date\n",
    "prev_year,prev_month = date.split('-')[0],date.split('-')[1]\n",
    "\n",
    "while chart.previousDate:\n",
    "    year,month = date.split('-')[0],date.split('-')[1]\n",
    "    if prev_month != month:\n",
    "        print 'chart year:{},month:{}'.format(year,month)\n",
    "    for i in range(10):\n",
    "        song = chart[i]\n",
    "        Hot_10 = Hot_10.append([(date,song.title,song.artist,song.rank,song.weeks,song.change,song.spotifyID)])\n",
    "    chart = billboard.ChartData('hot-100',chart.previousDate)\n",
    "    prev_year,prev_month = year,month\n",
    "    date = chart.date\n",
    "    no += 1"
   ]
  },
  {
   "cell_type": "code",
   "execution_count": null,
   "metadata": {
    "collapsed": true
   },
   "outputs": [],
   "source": [
    "Hot_10_dropped = Hot_10.drop(Hot_10.columns.values[7:],axis=1)\n",
    "Hot_10_dropped.columns = ['date','title','artist','rank','weeks','change_in_rank','spotifyID']\n",
    "Hot_10_dropped.to_pickle('Billboard_data')"
   ]
  },
  {
   "cell_type": "code",
   "execution_count": 1,
   "metadata": {
    "collapsed": false
   },
   "outputs": [
    {
     "data": {
      "text/html": [
       "<div>\n",
       "<table border=\"1\" class=\"dataframe\">\n",
       "  <thead>\n",
       "    <tr style=\"text-align: right;\">\n",
       "      <th></th>\n",
       "      <th>date</th>\n",
       "      <th>title</th>\n",
       "      <th>artist</th>\n",
       "      <th>rank</th>\n",
       "      <th>weeks</th>\n",
       "      <th>change_in_rank</th>\n",
       "      <th>spotifyID</th>\n",
       "    </tr>\n",
       "  </thead>\n",
       "  <tbody>\n",
       "    <tr>\n",
       "      <th>0</th>\n",
       "      <td>2017-03-18</td>\n",
       "      <td>Shape Of You</td>\n",
       "      <td>Ed Sheeran</td>\n",
       "      <td>1.0</td>\n",
       "      <td>8.0</td>\n",
       "      <td>0</td>\n",
       "      <td>0FE9t6xYkqWXU2ahLh6D8X</td>\n",
       "    </tr>\n",
       "    <tr>\n",
       "      <th>0</th>\n",
       "      <td>2017-03-18</td>\n",
       "      <td>Bad And Boujee</td>\n",
       "      <td>Migos Featuring Lil Uzi Vert</td>\n",
       "      <td>2.0</td>\n",
       "      <td>16.0</td>\n",
       "      <td>0</td>\n",
       "      <td>1FvU97lrWOG2NRxErh6OZz</td>\n",
       "    </tr>\n",
       "    <tr>\n",
       "      <th>0</th>\n",
       "      <td>2017-03-18</td>\n",
       "      <td>I Don't Wanna Live Forever (Fifty Shades Darker)</td>\n",
       "      <td>Zayn / Taylor Swift</td>\n",
       "      <td>3.0</td>\n",
       "      <td>12.0</td>\n",
       "      <td>0</td>\n",
       "      <td>6yIdwnpDHufLWgQcveTPMk</td>\n",
       "    </tr>\n",
       "    <tr>\n",
       "      <th>0</th>\n",
       "      <td>2017-03-18</td>\n",
       "      <td>That's What I Like</td>\n",
       "      <td>Bruno Mars</td>\n",
       "      <td>4.0</td>\n",
       "      <td>7.0</td>\n",
       "      <td>0</td>\n",
       "      <td>0KKkJNfGyhkQ5aFogxQAPU</td>\n",
       "    </tr>\n",
       "    <tr>\n",
       "      <th>0</th>\n",
       "      <td>2017-03-18</td>\n",
       "      <td>Something Just Like This</td>\n",
       "      <td>The Chainsmokers &amp; Coldplay</td>\n",
       "      <td>5.0</td>\n",
       "      <td>2.0</td>\n",
       "      <td>+51</td>\n",
       "      <td></td>\n",
       "    </tr>\n",
       "  </tbody>\n",
       "</table>\n",
       "</div>"
      ],
      "text/plain": [
       "         date                                             title  \\\n",
       "0  2017-03-18                                      Shape Of You   \n",
       "0  2017-03-18                                    Bad And Boujee   \n",
       "0  2017-03-18  I Don't Wanna Live Forever (Fifty Shades Darker)   \n",
       "0  2017-03-18                                That's What I Like   \n",
       "0  2017-03-18                          Something Just Like This   \n",
       "\n",
       "                         artist  rank  weeks change_in_rank  \\\n",
       "0                    Ed Sheeran   1.0    8.0              0   \n",
       "0  Migos Featuring Lil Uzi Vert   2.0   16.0              0   \n",
       "0           Zayn / Taylor Swift   3.0   12.0              0   \n",
       "0                    Bruno Mars   4.0    7.0              0   \n",
       "0   The Chainsmokers & Coldplay   5.0    2.0            +51   \n",
       "\n",
       "                spotifyID  \n",
       "0  0FE9t6xYkqWXU2ahLh6D8X  \n",
       "0  1FvU97lrWOG2NRxErh6OZz  \n",
       "0  6yIdwnpDHufLWgQcveTPMk  \n",
       "0  0KKkJNfGyhkQ5aFogxQAPU  \n",
       "0                          "
      ]
     },
     "execution_count": 1,
     "metadata": {},
     "output_type": "execute_result"
    }
   ],
   "source": [
    "import pandas as pd\n",
    "top10 = pd.read_pickle('Billboard_data')\n",
    "top10.head()"
   ]
  },
  {
   "cell_type": "markdown",
   "metadata": {},
   "source": [
    "## Some exploratory data analysis on billboard data to answer 5 questions"
   ]
  },
  {
   "cell_type": "markdown",
   "metadata": {},
   "source": [
    "### question1: which artist has dominated top 1 for longest weeks in the history? Is it Beatles??"
   ]
  },
  {
   "cell_type": "code",
   "execution_count": 40,
   "metadata": {
    "collapsed": false,
    "scrolled": false
   },
   "outputs": [
    {
     "data": {
      "text/plain": [
       "<matplotlib.axes._subplots.AxesSubplot at 0x112ae9ed0>"
      ]
     },
     "execution_count": 40,
     "metadata": {},
     "output_type": "execute_result"
    },
    {
     "data": {
      "image/png": "[encoded data removed]",
      "text/plain": [
       "<matplotlib.figure.Figure at 0x112b0f390>"
      ]
     },
     "metadata": {},
     "output_type": "display_data"
    }
   ],
   "source": [
    "%matplotlib inline\n",
    "import matplotlib.pyplot as plt\n",
    "import seaborn as sns\n",
    "\n",
    "plt.rcParams['figure.figsize'] = (8,6)\n",
    "top1 = top10[top10['rank']==1.0]\n",
    "top1.artist.value_counts()[:10].plot(kind='bar')"
   ]
  },
  {
   "cell_type": "markdown",
   "metadata": {},
   "source": [
    "Turns out Mariah Carey has more times ranked 1 on billboard history! Also this result is not considering many collaborated song Mariah Carey have with Boyz II Men and other artists.\n",
    "\n",
    "Also some very recent singers like The Black Eyed Peas and Adele both have more than 20 times ranked top 1"
   ]
  },
  {
   "cell_type": "markdown",
   "metadata": {},
   "source": [
    "### question2: which song is most liked for the longest time? or it topped 1st place for longest continuous weeks, and how long is it? Which song is among top 10 for most of the weeks(not continuously)?"
   ]
  },
  {
   "cell_type": "code",
   "execution_count": 73,
   "metadata": {
    "collapsed": false,
    "scrolled": false
   },
   "outputs": [
    {
     "data": {
      "text/plain": [
       "[(u'One Sweet Day by Mariah Carey & Boyz II Men', 16),\n",
       " (u'Uptown Funk! by Mark Ronson Featuring Bruno Mars', 14),\n",
       " (u'I Gotta Feeling by The Black Eyed Peas', 14),\n",
       " (u'Candle In The Wind 1997/Something About The Way You Look Tonight by Elton John',\n",
       "  14),\n",
       " (u'Macarena (Bayside Boys Mix) by Los Del Rio', 14),\n",
       " (u'I ll Make Love To You by Boyz II Men', 14),\n",
       " (u'I Will Always Love You (From \"The Bodyguard\") by Whitney Houston', 14),\n",
       " (u'The Boy Is Mine by Brandy', 13),\n",
       " (u'End Of The Road (From \"Boomerang\") by Boyz II Men', 13),\n",
       " (u'Closer by The Chainsmokers Featuring Halsey', 12)]"
      ]
     },
     "execution_count": 73,
     "metadata": {},
     "output_type": "execute_result"
    }
   ],
   "source": [
    "# continuous top 1\n",
    "top1.head(10)\n",
    "titles = top1.title.values\n",
    "artists = top1.artist.values\n",
    "continuous_weeks = []\n",
    "count = 1\n",
    "\n",
    "for i in xrange(1,len(titles)):\n",
    "    if titles[i] == titles[i-1]:\n",
    "        count += 1\n",
    "    else:\n",
    "        continuous_weeks.append((titles[i-1]+u' by '+artists[i-1],count))\n",
    "        count = 1\n",
    "continuous_weeks.sort(key=lambda x:-x[1])\n",
    "continuous_weeks[:10]"
   ]
  },
  {
   "cell_type": "markdown",
   "metadata": {},
   "source": [
    "Record high goes to 'One Sweet Day' by Mariah Carey & Boyz II Men, lasted four whole months! That's impressive!"
   ]
  },
  {
   "cell_type": "markdown",
   "metadata": {},
   "source": [
    "How about top 10 songs counting not continuously? Basically just count how many times that song appeared in top 10"
   ]
  },
  {
   "cell_type": "code",
   "execution_count": 102,
   "metadata": {
    "collapsed": false
   },
   "outputs": [
    {
     "data": {
      "text/plain": [
       "title                                artist                                   \n",
       "How Do I Live                        LeAnn Rimes                                  32\n",
       "Closer                               The Chainsmokers Featuring Halsey            31\n",
       "Uptown Funk!                         Mark Ronson Featuring Bruno Mars             31\n",
       "Smooth                               Santana Featuring Rob Thomas                 30\n",
       "Party Rock Anthem                    LMFAO Featuring Lauren Bennett & GoonRock    29\n",
       "Foolish Games/You Were Meant For Me  Jewel                                        28\n",
       "Truly Madly Deeply                   Savage Garden                                26\n",
       "Un-Break My Heart                    Toni Braxton                                 25\n",
       "Apologize                            Timbaland Featuring OneRepublic              25\n",
       "The Twist                            Chubby Checker                               25\n",
       "dtype: int64"
      ]
     },
     "execution_count": 102,
     "metadata": {},
     "output_type": "execute_result"
    }
   ],
   "source": [
    "# top10.title.value_counts()[:10]\n",
    "top10.groupby(['title','artist']).size().sort_values(ascending=False)[:10]"
   ]
  },
  {
   "cell_type": "markdown",
   "metadata": {},
   "source": [
    "In this way we get to know more less famous artists, and we also learn this:\n",
    "\n",
    "being able to stay the longest weeks as top 1 does not necessarily mean you can also stay the longest in top 10 chart. For example in the above table, we can't find any Mariah Carey song."
   ]
  },
  {
   "cell_type": "markdown",
   "metadata": {},
   "source": [
    "### question3: which artist's tracks likes to bomb the chart?(i.e. become top 1 once released)"
   ]
  },
  {
   "cell_type": "code",
   "execution_count": 88,
   "metadata": {
    "collapsed": false,
    "scrolled": false
   },
   "outputs": [
    {
     "data": {
      "text/html": [
       "<div>\n",
       "<table border=\"1\" class=\"dataframe\">\n",
       "  <thead>\n",
       "    <tr style=\"text-align: right;\">\n",
       "      <th></th>\n",
       "      <th>date</th>\n",
       "      <th>title</th>\n",
       "      <th>artist</th>\n",
       "      <th>rank</th>\n",
       "      <th>weeks</th>\n",
       "      <th>change_in_rank</th>\n",
       "      <th>spotifyID</th>\n",
       "    </tr>\n",
       "  </thead>\n",
       "  <tbody>\n",
       "    <tr>\n",
       "      <th>0</th>\n",
       "      <td>2017-01-28</td>\n",
       "      <td>Shape Of You</td>\n",
       "      <td>Ed Sheeran</td>\n",
       "      <td>1.0</td>\n",
       "      <td>1.0</td>\n",
       "      <td>Hot Shot Debut</td>\n",
       "      <td>0FE9t6xYkqWXU2ahLh6D8X</td>\n",
       "    </tr>\n",
       "    <tr>\n",
       "      <th>0</th>\n",
       "      <td>2016-05-28</td>\n",
       "      <td>Can't Stop The Feeling!</td>\n",
       "      <td>Justin Timberlake</td>\n",
       "      <td>1.0</td>\n",
       "      <td>1.0</td>\n",
       "      <td>Hot Shot Debut</td>\n",
       "      <td>6JV2JOEocMgcZxYSZelKcc</td>\n",
       "    </tr>\n",
       "    <tr>\n",
       "      <th>0</th>\n",
       "      <td>2016-02-20</td>\n",
       "      <td>Pillowtalk</td>\n",
       "      <td>Zayn</td>\n",
       "      <td>1.0</td>\n",
       "      <td>1.0</td>\n",
       "      <td>Hot Shot Debut</td>\n",
       "      <td>0IKK48xF4eEdfofyaeKWWO</td>\n",
       "    </tr>\n",
       "    <tr>\n",
       "      <th>0</th>\n",
       "      <td>2015-11-14</td>\n",
       "      <td>Hello</td>\n",
       "      <td>Adele</td>\n",
       "      <td>1.0</td>\n",
       "      <td>1.0</td>\n",
       "      <td>Hot Shot Debut</td>\n",
       "      <td>1MDoll6jK4rrk2BcFRP5i7</td>\n",
       "    </tr>\n",
       "    <tr>\n",
       "      <th>0</th>\n",
       "      <td>2015-09-19</td>\n",
       "      <td>What Do You Mean?</td>\n",
       "      <td>Justin Bieber</td>\n",
       "      <td>1.0</td>\n",
       "      <td>1.0</td>\n",
       "      <td>Hot Shot Debut</td>\n",
       "      <td>1ds2QsfhAAfRiaFMGDzrdb</td>\n",
       "    </tr>\n",
       "    <tr>\n",
       "      <th>0</th>\n",
       "      <td>2014-09-06</td>\n",
       "      <td>Shake It Off</td>\n",
       "      <td>Taylor Swift</td>\n",
       "      <td>1.0</td>\n",
       "      <td>1.0</td>\n",
       "      <td>Hot Shot Debut</td>\n",
       "      <td>7zCCVZBgy3Ij5fX7S4fs60</td>\n",
       "    </tr>\n",
       "    <tr>\n",
       "      <th>0</th>\n",
       "      <td>2013-03-02</td>\n",
       "      <td>Harlem Shake</td>\n",
       "      <td>Baauer</td>\n",
       "      <td>1.0</td>\n",
       "      <td>1.0</td>\n",
       "      <td>Hot Shot Debut</td>\n",
       "      <td>2eP6GhdRE1Ydnw2uXzo7q8</td>\n",
       "    </tr>\n",
       "    <tr>\n",
       "      <th>0</th>\n",
       "      <td>2012-03-03</td>\n",
       "      <td>Part Of Me</td>\n",
       "      <td>Katy Perry</td>\n",
       "      <td>1.0</td>\n",
       "      <td>1.0</td>\n",
       "      <td>Hot Shot Debut</td>\n",
       "      <td>1nZzRJbFvCEct3uzu04ZoL</td>\n",
       "    </tr>\n",
       "    <tr>\n",
       "      <th>0</th>\n",
       "      <td>2011-02-26</td>\n",
       "      <td>Born This Way</td>\n",
       "      <td>Lady Gaga</td>\n",
       "      <td>1.0</td>\n",
       "      <td>1.0</td>\n",
       "      <td>Hot Shot Debut</td>\n",
       "      <td>0FC7X3BRdEJC8L4ZEUAv2Q</td>\n",
       "    </tr>\n",
       "    <tr>\n",
       "      <th>0</th>\n",
       "      <td>2011-01-29</td>\n",
       "      <td>Hold It Against Me</td>\n",
       "      <td>Britney Spears</td>\n",
       "      <td>1.0</td>\n",
       "      <td>1.0</td>\n",
       "      <td>Hot Shot Debut</td>\n",
       "      <td>6CnuehRR8GVXJfzCs25GX9</td>\n",
       "    </tr>\n",
       "    <tr>\n",
       "      <th>0</th>\n",
       "      <td>2010-11-13</td>\n",
       "      <td>We R Who We R</td>\n",
       "      <td>Ke$ha</td>\n",
       "      <td>1.0</td>\n",
       "      <td>1.0</td>\n",
       "      <td>Hot Shot Debut</td>\n",
       "      <td>5jaz6aiRknA63NIYWdbr2O</td>\n",
       "    </tr>\n",
       "    <tr>\n",
       "      <th>0</th>\n",
       "      <td>2010-05-22</td>\n",
       "      <td>Not Afraid</td>\n",
       "      <td>Eminem</td>\n",
       "      <td>1.0</td>\n",
       "      <td>1.0</td>\n",
       "      <td>Hot Shot Debut</td>\n",
       "      <td>7Ie9W94M7OjPoZVV216Xus</td>\n",
       "    </tr>\n",
       "    <tr>\n",
       "      <th>0</th>\n",
       "      <td>2009-10-24</td>\n",
       "      <td>3</td>\n",
       "      <td>Britney Spears</td>\n",
       "      <td>1.0</td>\n",
       "      <td>1.0</td>\n",
       "      <td>Hot Shot Debut</td>\n",
       "      <td>7eusnHDVdvqjUGAigj77XC</td>\n",
       "    </tr>\n",
       "    <tr>\n",
       "      <th>0</th>\n",
       "      <td>2006-07-01</td>\n",
       "      <td>Do I Make You Proud</td>\n",
       "      <td>Taylor Hicks</td>\n",
       "      <td>1.0</td>\n",
       "      <td>1.0</td>\n",
       "      <td>Hot Shot Debut</td>\n",
       "      <td>2jv9Ppwz9u3lqWfXV0q2sW</td>\n",
       "    </tr>\n",
       "    <tr>\n",
       "      <th>0</th>\n",
       "      <td>2005-07-02</td>\n",
       "      <td>Inside Your Heaven</td>\n",
       "      <td>Carrie Underwood</td>\n",
       "      <td>1.0</td>\n",
       "      <td>1.0</td>\n",
       "      <td>Hot Shot Debut</td>\n",
       "      <td>3w8xlZi49MQuQkyyB5bi5e</td>\n",
       "    </tr>\n",
       "    <tr>\n",
       "      <th>0</th>\n",
       "      <td>2004-07-10</td>\n",
       "      <td>I Believe</td>\n",
       "      <td>Fantasia</td>\n",
       "      <td>1.0</td>\n",
       "      <td>1.0</td>\n",
       "      <td>Hot Shot Debut</td>\n",
       "      <td>2zZJnAlhgvW6DERn1tu3fb</td>\n",
       "    </tr>\n",
       "    <tr>\n",
       "      <th>0</th>\n",
       "      <td>2003-06-28</td>\n",
       "      <td>This Is The Night</td>\n",
       "      <td>Clay Aiken</td>\n",
       "      <td>1.0</td>\n",
       "      <td>1.0</td>\n",
       "      <td>Hot Shot Debut</td>\n",
       "      <td>6QP46GKcggdxLbVLWilLVc</td>\n",
       "    </tr>\n",
       "  </tbody>\n",
       "</table>\n",
       "</div>"
      ],
      "text/plain": [
       "         date                    title             artist  rank  weeks  \\\n",
       "0  2017-01-28             Shape Of You         Ed Sheeran   1.0    1.0   \n",
       "0  2016-05-28  Can't Stop The Feeling!  Justin Timberlake   1.0    1.0   \n",
       "0  2016-02-20               Pillowtalk               Zayn   1.0    1.0   \n",
       "0  2015-11-14                    Hello              Adele   1.0    1.0   \n",
       "0  2015-09-19        What Do You Mean?      Justin Bieber   1.0    1.0   \n",
       "0  2014-09-06             Shake It Off       Taylor Swift   1.0    1.0   \n",
       "0  2013-03-02             Harlem Shake             Baauer   1.0    1.0   \n",
       "0  2012-03-03               Part Of Me         Katy Perry   1.0    1.0   \n",
       "0  2011-02-26            Born This Way          Lady Gaga   1.0    1.0   \n",
       "0  2011-01-29       Hold It Against Me     Britney Spears   1.0    1.0   \n",
       "0  2010-11-13            We R Who We R              Ke$ha   1.0    1.0   \n",
       "0  2010-05-22               Not Afraid             Eminem   1.0    1.0   \n",
       "0  2009-10-24                        3     Britney Spears   1.0    1.0   \n",
       "0  2006-07-01      Do I Make You Proud       Taylor Hicks   1.0    1.0   \n",
       "0  2005-07-02       Inside Your Heaven   Carrie Underwood   1.0    1.0   \n",
       "0  2004-07-10                I Believe           Fantasia   1.0    1.0   \n",
       "0  2003-06-28        This Is The Night         Clay Aiken   1.0    1.0   \n",
       "\n",
       "   change_in_rank               spotifyID  \n",
       "0  Hot Shot Debut  0FE9t6xYkqWXU2ahLh6D8X  \n",
       "0  Hot Shot Debut  6JV2JOEocMgcZxYSZelKcc  \n",
       "0  Hot Shot Debut  0IKK48xF4eEdfofyaeKWWO  \n",
       "0  Hot Shot Debut  1MDoll6jK4rrk2BcFRP5i7  \n",
       "0  Hot Shot Debut  1ds2QsfhAAfRiaFMGDzrdb  \n",
       "0  Hot Shot Debut  7zCCVZBgy3Ij5fX7S4fs60  \n",
       "0  Hot Shot Debut  2eP6GhdRE1Ydnw2uXzo7q8  \n",
       "0  Hot Shot Debut  1nZzRJbFvCEct3uzu04ZoL  \n",
       "0  Hot Shot Debut  0FC7X3BRdEJC8L4ZEUAv2Q  \n",
       "0  Hot Shot Debut  6CnuehRR8GVXJfzCs25GX9  \n",
       "0  Hot Shot Debut  5jaz6aiRknA63NIYWdbr2O  \n",
       "0  Hot Shot Debut  7Ie9W94M7OjPoZVV216Xus  \n",
       "0  Hot Shot Debut  7eusnHDVdvqjUGAigj77XC  \n",
       "0  Hot Shot Debut  2jv9Ppwz9u3lqWfXV0q2sW  \n",
       "0  Hot Shot Debut  3w8xlZi49MQuQkyyB5bi5e  \n",
       "0  Hot Shot Debut  2zZJnAlhgvW6DERn1tu3fb  \n",
       "0  Hot Shot Debut  6QP46GKcggdxLbVLWilLVc  "
      ]
     },
     "execution_count": 88,
     "metadata": {},
     "output_type": "execute_result"
    }
   ],
   "source": [
    "# define the bomb: rank = 1 and weeks = 1, if on chart for the first week it has ranked top 1 then it's a bomb\n",
    "top1[top1.weeks== 1.0]"
   ]
  },
  {
   "cell_type": "markdown",
   "metadata": {},
   "source": [
    "### It's interesting that all these songs come from 21st century. \n",
    "Maybe one of the reason is that listeners' access to good songs nowadays has increased compared with the situation in the past, where the spreading speed of songs could be much slower than now.\n",
    "\n",
    "Another reason could be that people tend to spend more time listening to music made by artists they are familiar with. In this case, a well known musician is more likely to make a bomb song nowadays, since it will definitely attract much more traffic than those less known musicians."
   ]
  },
  {
   "cell_type": "markdown",
   "metadata": {},
   "source": [
    "### question4: continued from above analysis on songs' total number of weeks on the billboard chart, how has the total number changed over time? If decreased we could conclude the competition has increased over the years"
   ]
  },
  {
   "cell_type": "code",
   "execution_count": 143,
   "metadata": {
    "collapsed": false
   },
   "outputs": [
    {
     "data": {
      "text/html": [
       "<div>\n",
       "<table border=\"1\" class=\"dataframe\">\n",
       "  <thead>\n",
       "    <tr style=\"text-align: right;\">\n",
       "      <th></th>\n",
       "      <th>weeks</th>\n",
       "      <th>year</th>\n",
       "    </tr>\n",
       "  </thead>\n",
       "  <tbody>\n",
       "    <tr>\n",
       "      <th>Sensitivity by Ralph Tresvant</th>\n",
       "      <td>20.0</td>\n",
       "      <td>1991</td>\n",
       "    </tr>\n",
       "    <tr>\n",
       "      <th>That's All You Gotta Do by Brenda Lee</th>\n",
       "      <td>14.0</td>\n",
       "      <td>1960</td>\n",
       "    </tr>\n",
       "  </tbody>\n",
       "</table>\n",
       "</div>"
      ],
      "text/plain": [
       "                                       weeks  year\n",
       "Sensitivity by Ralph Tresvant           20.0  1991\n",
       "That's All You Gotta Do by Brenda Lee   14.0  1960"
      ]
     },
     "execution_count": 143,
     "metadata": {},
     "output_type": "execute_result"
    }
   ],
   "source": [
    "# for every song in the chart, get the largest weeks number, then analyze their relationship with date\n",
    "top10['year'] = map(lambda x:x.split('-')[0],top10.date.values)\n",
    "song_weeks = {}\n",
    "for i in xrange(len(top10)):\n",
    "    title_artist,week,year = top10.title.iloc[i]+u' by '+top10.artist.iloc[i],top10.weeks.iloc[i],top10.year.iloc[i]\n",
    "    if title_artist not in song_weeks:\n",
    "        song_weeks[title_artist] = (week,year)\n",
    "    \n",
    "song_weeks = pd.DataFrame(song_weeks.values(),song_weeks.keys(),columns = ['weeks','year'])\n",
    "song_weeks.head(2)"
   ]
  },
  {
   "cell_type": "code",
   "execution_count": 171,
   "metadata": {
    "collapsed": false
   },
   "outputs": [
    {
     "data": {
      "image/png": "[encoded data removed]",
      "text/plain": [
       "<matplotlib.figure.Figure at 0x10af6a250>"
      ]
     },
     "metadata": {},
     "output_type": "display_data"
    }
   ],
   "source": [
    "fig,ax = plt.subplots()\n",
    "song_weeks.groupby('year').mean().plot(ax=ax,kind='line',sharex = True,label='mean weeks')\n",
    "song_weeks.groupby('year').size().plot(ax=ax,kind='line',sharex = True,secondary_y=True,label='total songs')\n",
    "lines, _ = ax.get_legend_handles_labels()\n",
    "ax.legend(lines, ['mean weeks','total songs'], loc='best') # why it's not showing the second label?!\n",
    "plt.show()"
   ]
  },
  {
   "cell_type": "markdown",
   "metadata": {},
   "source": [
    "Green lines are number of unique songs appeared in the chart, blue lines show average number of weeks within that year. \n",
    "\n",
    "We can find something interesting here. \n",
    "\n",
    "1.Total unique songs on the billboard chart is decreasing, which means the competition to get on board is not as intense as in the 1980s or 1960s! \n",
    "\n",
    "2.However, even if the number of songs competing for top 10 is decreasing, average weeks a song can stay on top 10 chart is decreasing, especially compared to the data in 1990s, where there are more songs than now, and at the same time they stay longer on top 10 chart."
   ]
  },
  {
   "cell_type": "markdown",
   "metadata": {},
   "source": [
    "### question5: are songs performed by collaborated artists becoming more popular than before?"
   ]
  },
  {
   "cell_type": "code",
   "execution_count": 164,
   "metadata": {
    "collapsed": true
   },
   "outputs": [],
   "source": [
    "artists = top10.artist.values"
   ]
  },
  {
   "cell_type": "code",
   "execution_count": 165,
   "metadata": {
    "collapsed": false
   },
   "outputs": [],
   "source": [
    "import re\n",
    "artist_pairs = map(lambda x:re.split(\"Featuring | \\/ | \\&\",x),artists)"
   ]
  },
  {
   "cell_type": "code",
   "execution_count": 168,
   "metadata": {
    "collapsed": false
   },
   "outputs": [],
   "source": [
    "top10['n_artists'] = [len(i) for i in artist_pairs]"
   ]
  },
  {
   "cell_type": "code",
   "execution_count": 210,
   "metadata": {
    "collapsed": false,
    "scrolled": true
   },
   "outputs": [
    {
     "data": {
      "text/plain": [
       "<matplotlib.axes._subplots.AxesSubplot at 0x119b51750>"
      ]
     },
     "execution_count": 210,
     "metadata": {},
     "output_type": "execute_result"
    },
    {
     "data": {
      "image/png": "[encoded data removed]",
      "text/plain": [
       "<matplotlib.figure.Figure at 0x119b2b910>"
      ]
     },
     "metadata": {},
     "output_type": "display_data"
    }
   ],
   "source": [
    "test = top10[['title','n_artists','year']].groupby(['year','title']).mean()\n",
    "unique_song_table = pd.DataFrame(zip(test.index.get_level_values('year'),test.n_artists),columns = ['year','n_artists'])\n",
    "unique_song_table.groupby('year').mean().plot(kind='line')"
   ]
  },
  {
   "cell_type": "markdown",
   "metadata": {},
   "source": [
    "Artists collaboration are helping them get on the top 10 charts!"
   ]
  },
  {
   "cell_type": "code",
   "execution_count": null,
   "metadata": {
    "collapsed": true
   },
   "outputs": [],
   "source": []
  }
 ],
 "metadata": {
  "kernelspec": {
   "display_name": "Python 2",
   "language": "python",
   "name": "python2"
  },
  "language_info": {
   "codemirror_mode": {
    "name": "ipython",
    "version": 2
   },
   "file_extension": ".py",
   "mimetype": "text/x-python",
   "name": "python",
   "nbconvert_exporter": "python",
   "pygments_lexer": "ipython2",
   "version": "2.7.12"
  }
 },
 "nbformat": 4,
 "nbformat_minor": 1
}
