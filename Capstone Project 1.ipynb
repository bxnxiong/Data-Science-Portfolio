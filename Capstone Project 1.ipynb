{
 "cells": [
  {
   "cell_type": "markdown",
   "metadata": {},
   "source": [
    "# Predicting the Next Hit on Billboard Hot 100"
   ]
  },
  {
   "cell_type": "markdown",
   "metadata": {},
   "source": [
    "This project utilizes data from the EchoNest API to get acoustic features, Musixmatch API to get lyrics, and Billboard API to get ranking of songs."
   ]
  },
  {
   "cell_type": "markdown",
   "metadata": {},
   "source": [
    "*****\n",
    "## Step 1: collect billboard data and do initial exploratory analysis\n",
    "Songs date as far back as 1958, where I found the first available chart for Hot 100."
   ]
  },
  {
   "cell_type": "code",
   "execution_count": 91,
   "metadata": {
    "collapsed": true
   },
   "outputs": [
    {
     "name": "stdout",
     "output_type": "stream",
     "text": [
      "chart year:2017,month:02\n",
      "chart year:2017,month:01\n",
      "chart year:2016,month:12\n",
      "chart year:2016,month:11\n",
      "chart year:2016,month:10\n",
      "chart year:2016,month:09\n",
      "chart year:2016,month:08\n",
      "chart year:2016,month:07\n",
      "chart year:2016,month:06\n",
      "chart year:2016,month:05\n",
      "chart year:2016,month:04\n",
      "chart year:2016,month:03\n",
      "chart year:2016,month:02\n",
      "chart year:2016,month:01\n",
      "chart year:2015,month:12\n",
      "chart year:2015,month:11\n",
      "chart year:2015,month:10\n",
      "chart year:2015,month:09\n",
      "chart year:2015,month:08\n",
      "chart year:2015,month:07\n",
      "chart year:2015,month:06\n",
      "chart year:2015,month:05\n",
      "chart year:2015,month:04\n",
      "chart year:2015,month:03\n",
      "chart year:2015,month:02\n",
      "chart year:2015,month:01\n",
      "chart year:2014,month:12\n",
      "chart year:2014,month:11\n",
      "chart year:2014,month:10\n",
      "chart year:2014,month:09\n",
      "chart year:2014,month:08\n",
      "chart year:2014,month:07\n",
      "chart year:2014,month:06\n",
      "chart year:2014,month:05\n",
      "chart year:2014,month:04\n",
      "chart year:2014,month:03\n",
      "chart year:2014,month:02\n",
      "chart year:2014,month:01\n",
      "chart year:2013,month:12\n",
      "chart year:2013,month:11\n",
      "chart year:2013,month:10\n",
      "chart year:2013,month:09\n",
      "chart year:2013,month:08\n",
      "chart year:2013,month:07\n",
      "chart year:2013,month:06\n",
      "chart year:2013,month:05\n",
      "chart year:2013,month:04\n",
      "chart year:2013,month:03\n",
      "chart year:2013,month:02\n",
      "chart year:2013,month:01\n",
      "chart year:2012,month:12\n",
      "chart year:2012,month:11\n",
      "chart year:2012,month:10\n",
      "chart year:2012,month:09\n",
      "chart year:2012,month:08\n",
      "chart year:2012,month:07\n",
      "chart year:2012,month:06\n",
      "chart year:2012,month:05\n",
      "chart year:2012,month:04\n",
      "chart year:2012,month:03\n",
      "chart year:2012,month:02\n",
      "chart year:2012,month:01\n",
      "chart year:2011,month:12\n",
      "chart year:2011,month:11\n",
      "chart year:2011,month:10\n",
      "chart year:2011,month:09\n",
      "chart year:2011,month:08\n",
      "chart year:2011,month:07\n",
      "chart year:2011,month:06\n",
      "chart year:2011,month:05\n",
      "chart year:2011,month:04\n",
      "chart year:2011,month:03\n",
      "chart year:2011,month:02\n",
      "chart year:2011,month:01\n"
     ]
    }
   ],
   "source": [
    "# pip install billboard.py\n",
    "\n",
    "# in this part we want to build up a data frame of all available charts on billboard\n",
    "import billboard\n",
    "import pandas as pd\n",
    "\n",
    "Hot_10 = pd.DataFrame(columns = ['date','title','artist','rank','weeks','change_in_rank','spotifyID'\n",
    "    ])\n",
    "\n",
    "\n",
    "chart = billboard.ChartData('hot-100',date = '2010-12-25') # this breaks sometimes so have to rerun and change date\n",
    "date = chart.date\n",
    "prev_year,prev_month = date.split('-')[0],date.split('-')[1]\n",
    "\n",
    "while chart.previousDate:\n",
    "    year,month = date.split('-')[0],date.split('-')[1]\n",
    "    if prev_month != month:\n",
    "        print 'chart year:{},month:{}'.format(year,month)\n",
    "    for i in range(10):\n",
    "        song = chart[i]\n",
    "        Hot_10 = Hot_10.append([(date,song.title,song.artist,song.rank,song.weeks,song.change,song.spotifyID)])\n",
    "    chart = billboard.ChartData('hot-100',chart.previousDate)\n",
    "    prev_year,prev_month = year,month\n",
    "    date = chart.date\n",
    "    no += 1\n"
   ]
  },
  {
   "cell_type": "code",
   "execution_count": 125,
   "metadata": {
    "collapsed": true
   },
   "outputs": [
    {
     "ename": "AttributeError",
     "evalue": "'NoneType' object has no attribute 'string'",
     "output_type": "error",
     "traceback": [
      "\u001b[0;31m---------------------------------------------------------------------------\u001b[0m",
      "\u001b[0;31mAttributeError\u001b[0m                            Traceback (most recent call last)",
      "\u001b[0;32m<ipython-input-125-631ba8fcab1f>\u001b[0m in \u001b[0;36m<module>\u001b[0;34m()\u001b[0m\n\u001b[0;32m----> 1\u001b[0;31m \u001b[0mchart\u001b[0m \u001b[0;34m=\u001b[0m \u001b[0mbillboard\u001b[0m\u001b[0;34m.\u001b[0m\u001b[0mChartData\u001b[0m\u001b[0;34m(\u001b[0m\u001b[0;34m'hot-100'\u001b[0m\u001b[0;34m,\u001b[0m\u001b[0mdate\u001b[0m \u001b[0;34m=\u001b[0m \u001b[0;34m'1958-08-09'\u001b[0m\u001b[0;34m)\u001b[0m \u001b[0;31m# this breaks sometimes so have to rerun and change date\u001b[0m\u001b[0;34m\u001b[0m\u001b[0m\n\u001b[0m\u001b[1;32m      2\u001b[0m \u001b[0mdate\u001b[0m \u001b[0;34m=\u001b[0m \u001b[0mchart\u001b[0m\u001b[0;34m.\u001b[0m\u001b[0mdate\u001b[0m\u001b[0;34m\u001b[0m\u001b[0m\n\u001b[1;32m      3\u001b[0m \u001b[0mprev_year\u001b[0m\u001b[0;34m,\u001b[0m\u001b[0mprev_month\u001b[0m \u001b[0;34m=\u001b[0m \u001b[0mdate\u001b[0m\u001b[0;34m.\u001b[0m\u001b[0msplit\u001b[0m\u001b[0;34m(\u001b[0m\u001b[0;34m'-'\u001b[0m\u001b[0;34m)\u001b[0m\u001b[0;34m[\u001b[0m\u001b[0;36m0\u001b[0m\u001b[0;34m]\u001b[0m\u001b[0;34m,\u001b[0m\u001b[0mdate\u001b[0m\u001b[0;34m.\u001b[0m\u001b[0msplit\u001b[0m\u001b[0;34m(\u001b[0m\u001b[0;34m'-'\u001b[0m\u001b[0;34m)\u001b[0m\u001b[0;34m[\u001b[0m\u001b[0;36m1\u001b[0m\u001b[0;34m]\u001b[0m\u001b[0;34m\u001b[0m\u001b[0m\n\u001b[1;32m      4\u001b[0m \u001b[0;34m\u001b[0m\u001b[0m\n\u001b[1;32m      5\u001b[0m \u001b[0;32mwhile\u001b[0m \u001b[0mchart\u001b[0m\u001b[0;34m.\u001b[0m\u001b[0mpreviousDate\u001b[0m\u001b[0;34m:\u001b[0m\u001b[0;34m\u001b[0m\u001b[0m\n",
      "\u001b[0;32m/Library/Frameworks/Python.framework/Versions/2.7/lib/python2.7/site-packages/billboard.pyc\u001b[0m in \u001b[0;36m__init__\u001b[0;34m(self, name, date, fetch, all, quantize)\u001b[0m\n\u001b[1;32m    114\u001b[0m         \u001b[0mself\u001b[0m\u001b[0;34m.\u001b[0m\u001b[0mentries\u001b[0m \u001b[0;34m=\u001b[0m \u001b[0;34m[\u001b[0m\u001b[0;34m]\u001b[0m\u001b[0;34m\u001b[0m\u001b[0m\n\u001b[1;32m    115\u001b[0m         \u001b[0;32mif\u001b[0m \u001b[0mfetch\u001b[0m\u001b[0;34m:\u001b[0m\u001b[0;34m\u001b[0m\u001b[0m\n\u001b[0;32m--> 116\u001b[0;31m             \u001b[0mself\u001b[0m\u001b[0;34m.\u001b[0m\u001b[0mfetchEntries\u001b[0m\u001b[0;34m(\u001b[0m\u001b[0mall\u001b[0m\u001b[0;34m=\u001b[0m\u001b[0mall\u001b[0m\u001b[0;34m)\u001b[0m\u001b[0;34m\u001b[0m\u001b[0m\n\u001b[0m\u001b[1;32m    117\u001b[0m \u001b[0;34m\u001b[0m\u001b[0m\n\u001b[1;32m    118\u001b[0m     \u001b[0;32mdef\u001b[0m \u001b[0m__repr__\u001b[0m\u001b[0;34m(\u001b[0m\u001b[0mself\u001b[0m\u001b[0;34m)\u001b[0m\u001b[0;34m:\u001b[0m\u001b[0;34m\u001b[0m\u001b[0m\n",
      "\u001b[0;32m/Library/Frameworks/Python.framework/Versions/2.7/lib/python2.7/site-packages/billboard.pyc\u001b[0m in \u001b[0;36mfetchEntries\u001b[0;34m(self, all)\u001b[0m\n\u001b[1;32m    209\u001b[0m             \u001b[0;31m# Grab week data (peak rank, last week's rank, total weeks on\u001b[0m\u001b[0;34m\u001b[0m\u001b[0;34m\u001b[0m\u001b[0m\n\u001b[1;32m    210\u001b[0m             \u001b[0;31m# chart)\u001b[0m\u001b[0;34m\u001b[0m\u001b[0;34m\u001b[0m\u001b[0m\n\u001b[0;32m--> 211\u001b[0;31m             \u001b[0mpeakPos\u001b[0m \u001b[0;34m=\u001b[0m \u001b[0mint\u001b[0m\u001b[0;34m(\u001b[0m\u001b[0mgetRowValue\u001b[0m\u001b[0;34m(\u001b[0m\u001b[0;34m'top-spot'\u001b[0m\u001b[0;34m)\u001b[0m\u001b[0;34m)\u001b[0m\u001b[0;34m\u001b[0m\u001b[0m\n\u001b[0m\u001b[1;32m    212\u001b[0m \u001b[0;34m\u001b[0m\u001b[0m\n\u001b[1;32m    213\u001b[0m             \u001b[0mlastPos\u001b[0m \u001b[0;34m=\u001b[0m \u001b[0mgetRowValue\u001b[0m\u001b[0;34m(\u001b[0m\u001b[0;34m'last-week'\u001b[0m\u001b[0;34m)\u001b[0m\u001b[0;34m\u001b[0m\u001b[0m\n",
      "\u001b[0;32m/Library/Frameworks/Python.framework/Versions/2.7/lib/python2.7/site-packages/billboard.pyc\u001b[0m in \u001b[0;36mgetRowValue\u001b[0;34m(rowName)\u001b[0m\n\u001b[1;32m    205\u001b[0m             \u001b[0;32mdef\u001b[0m \u001b[0mgetRowValue\u001b[0m\u001b[0;34m(\u001b[0m\u001b[0mrowName\u001b[0m\u001b[0;34m)\u001b[0m\u001b[0;34m:\u001b[0m\u001b[0;34m\u001b[0m\u001b[0m\n\u001b[1;32m    206\u001b[0m                 \u001b[0mselector\u001b[0m \u001b[0;34m=\u001b[0m \u001b[0;34m'div.chart-row__'\u001b[0m \u001b[0;34m+\u001b[0m \u001b[0mrowName\u001b[0m \u001b[0;34m+\u001b[0m \u001b[0;34m' .chart-row__value'\u001b[0m\u001b[0;34m\u001b[0m\u001b[0m\n\u001b[0;32m--> 207\u001b[0;31m                 \u001b[0;32mreturn\u001b[0m \u001b[0mentrySoup\u001b[0m\u001b[0;34m.\u001b[0m\u001b[0mselect_one\u001b[0m\u001b[0;34m(\u001b[0m\u001b[0mselector\u001b[0m\u001b[0;34m)\u001b[0m\u001b[0;34m.\u001b[0m\u001b[0mstring\u001b[0m\u001b[0;34m.\u001b[0m\u001b[0mstrip\u001b[0m\u001b[0;34m(\u001b[0m\u001b[0;34m)\u001b[0m\u001b[0;34m\u001b[0m\u001b[0m\n\u001b[0m\u001b[1;32m    208\u001b[0m \u001b[0;34m\u001b[0m\u001b[0m\n\u001b[1;32m    209\u001b[0m             \u001b[0;31m# Grab week data (peak rank, last week's rank, total weeks on\u001b[0m\u001b[0;34m\u001b[0m\u001b[0;34m\u001b[0m\u001b[0m\n",
      "\u001b[0;31mAttributeError\u001b[0m: 'NoneType' object has no attribute 'string'"
     ]
    }
   ],
   "source": [
    "chart = billboard.ChartData('hot-100',date = '1958-08-09') # this breaks sometimes so have to rerun and change date\n",
    "date = chart.date\n",
    "prev_year,prev_month = date.split('-')[0],date.split('-')[1]\n",
    "\n",
    "while chart.previousDate:\n",
    "    year,month = date.split('-')[0],date.split('-')[1]\n",
    "    if prev_month != month:\n",
    "        print 'chart year:{},month:{}'.format(year,month)\n",
    "    for i in range(10):\n",
    "        song = chart[i]\n",
    "        Hot_10 = Hot_10.append([(date,song.title,song.artist,song.rank,song.weeks,song.change,song.spotifyID)])\n",
    "    chart = billboard.ChartData('hot-100',chart.previousDate)\n",
    "    prev_year,prev_month = year,month\n",
    "    date = chart.date\n",
    "    no += 1"
   ]
  },
  {
   "cell_type": "code",
   "execution_count": null,
   "metadata": {
    "collapsed": true
   },
   "outputs": [],
   "source": [
    "Hot_10_dropped = Hot_10.drop(Hot_10.columns.values[7:],axis=1)\n",
    "Hot_10_dropped.columns = ['date','title','artist','rank','weeks','change_in_rank','spotifyID']\n",
    "Hot_10_dropped.to_pickle('Billboard_data')"
   ]
  },
  {
   "cell_type": "code",
   "execution_count": 10,
   "metadata": {
    "collapsed": false
   },
   "outputs": [
    {
     "data": {
      "text/html": [
       "<div>\n",
       "<table border=\"1\" class=\"dataframe\">\n",
       "  <thead>\n",
       "    <tr style=\"text-align: right;\">\n",
       "      <th></th>\n",
       "      <th>date</th>\n",
       "      <th>title</th>\n",
       "      <th>artist</th>\n",
       "      <th>rank</th>\n",
       "      <th>weeks</th>\n",
       "      <th>change_in_rank</th>\n",
       "      <th>spotifyID</th>\n",
       "    </tr>\n",
       "  </thead>\n",
       "  <tbody>\n",
       "    <tr>\n",
       "      <th>0</th>\n",
       "      <td>2017-03-18</td>\n",
       "      <td>Shape Of You</td>\n",
       "      <td>Ed Sheeran</td>\n",
       "      <td>1.0</td>\n",
       "      <td>8.0</td>\n",
       "      <td>0</td>\n",
       "      <td>0FE9t6xYkqWXU2ahLh6D8X</td>\n",
       "    </tr>\n",
       "    <tr>\n",
       "      <th>0</th>\n",
       "      <td>2017-03-18</td>\n",
       "      <td>Bad And Boujee</td>\n",
       "      <td>Migos Featuring Lil Uzi Vert</td>\n",
       "      <td>2.0</td>\n",
       "      <td>16.0</td>\n",
       "      <td>0</td>\n",
       "      <td>1FvU97lrWOG2NRxErh6OZz</td>\n",
       "    </tr>\n",
       "    <tr>\n",
       "      <th>0</th>\n",
       "      <td>2017-03-18</td>\n",
       "      <td>I Don't Wanna Live Forever (Fifty Shades Darker)</td>\n",
       "      <td>Zayn / Taylor Swift</td>\n",
       "      <td>3.0</td>\n",
       "      <td>12.0</td>\n",
       "      <td>0</td>\n",
       "      <td>6yIdwnpDHufLWgQcveTPMk</td>\n",
       "    </tr>\n",
       "    <tr>\n",
       "      <th>0</th>\n",
       "      <td>2017-03-18</td>\n",
       "      <td>That's What I Like</td>\n",
       "      <td>Bruno Mars</td>\n",
       "      <td>4.0</td>\n",
       "      <td>7.0</td>\n",
       "      <td>0</td>\n",
       "      <td>0KKkJNfGyhkQ5aFogxQAPU</td>\n",
       "    </tr>\n",
       "    <tr>\n",
       "      <th>0</th>\n",
       "      <td>2017-03-18</td>\n",
       "      <td>Something Just Like This</td>\n",
       "      <td>The Chainsmokers &amp; Coldplay</td>\n",
       "      <td>5.0</td>\n",
       "      <td>2.0</td>\n",
       "      <td>+51</td>\n",
       "      <td></td>\n",
       "    </tr>\n",
       "  </tbody>\n",
       "</table>\n",
       "</div>"
      ],
      "text/plain": [
       "         date                                             title  \\\n",
       "0  2017-03-18                                      Shape Of You   \n",
       "0  2017-03-18                                    Bad And Boujee   \n",
       "0  2017-03-18  I Don't Wanna Live Forever (Fifty Shades Darker)   \n",
       "0  2017-03-18                                That's What I Like   \n",
       "0  2017-03-18                          Something Just Like This   \n",
       "\n",
       "                         artist  rank  weeks change_in_rank  \\\n",
       "0                    Ed Sheeran   1.0    8.0              0   \n",
       "0  Migos Featuring Lil Uzi Vert   2.0   16.0              0   \n",
       "0           Zayn / Taylor Swift   3.0   12.0              0   \n",
       "0                    Bruno Mars   4.0    7.0              0   \n",
       "0   The Chainsmokers & Coldplay   5.0    2.0            +51   \n",
       "\n",
       "                spotifyID  \n",
       "0  0FE9t6xYkqWXU2ahLh6D8X  \n",
       "0  1FvU97lrWOG2NRxErh6OZz  \n",
       "0  6yIdwnpDHufLWgQcveTPMk  \n",
       "0  0KKkJNfGyhkQ5aFogxQAPU  \n",
       "0                          "
      ]
     },
     "execution_count": 10,
     "metadata": {},
     "output_type": "execute_result"
    }
   ],
   "source": [
    "import pandas as pd\n",
    "top10 = pd.read_pickle('Billboard_data')\n",
    "top10.head()"
   ]
  },
  {
   "cell_type": "markdown",
   "metadata": {},
   "source": [
    "## Some exploratory data analysis on billboard data to answer 5 questions"
   ]
  },
  {
   "cell_type": "markdown",
   "metadata": {},
   "source": [
    "### question1: which artist has dominated top 1 for longest weeks in the history? Is it Beatles??"
   ]
  },
  {
   "cell_type": "code",
   "execution_count": 2,
   "metadata": {
    "collapsed": false,
    "scrolled": false
   },
   "outputs": [
    {
     "data": {
      "text/plain": [
       "<matplotlib.axes._subplots.AxesSubplot at 0x10a5f6e10>"
      ]
     },
     "execution_count": 2,
     "metadata": {},
     "output_type": "execute_result"
    },
    {
     "data": {
      "image/png": "[encoded data removed]",
      "text/plain": [
       "<matplotlib.figure.Figure at 0x10a5f6490>"
      ]
     },
     "metadata": {},
     "output_type": "display_data"
    }
   ],
   "source": [
    "%matplotlib inline\n",
    "import matplotlib.pyplot as plt\n",
    "import seaborn as sns\n",
    "\n",
    "plt.rcParams['figure.figsize'] = (8,6)\n",
    "top1 = top10[top10['rank']==1.0]\n",
    "top1.artist.value_counts()[:10].plot(kind='bar')"
   ]
  },
  {
   "cell_type": "markdown",
   "metadata": {},
   "source": [
    "Turns out Mariah Carey has more times ranked 1 on billboard history! Also this result is not considering many collaborated song Mariah Carey have with Boyz II Men and other artists.\n",
    "\n",
    "Also some very recent singers like The Black Eyed Peas and Adele both have more than 20 times ranked top 1"
   ]
  },
  {
   "cell_type": "markdown",
   "metadata": {},
   "source": [
    "### question2: which song is most liked for the longest time? or it topped 1st place for longest continuous weeks, and how long is it? Which song is among top 10 for most of the weeks(not continuously)?"
   ]
  },
  {
   "cell_type": "code",
   "execution_count": 73,
   "metadata": {
    "collapsed": false,
    "scrolled": false
   },
   "outputs": [
    {
     "data": {
      "text/plain": [
       "[(u'One Sweet Day by Mariah Carey & Boyz II Men', 16),\n",
       " (u'Uptown Funk! by Mark Ronson Featuring Bruno Mars', 14),\n",
       " (u'I Gotta Feeling by The Black Eyed Peas', 14),\n",
       " (u'Candle In The Wind 1997/Something About The Way You Look Tonight by Elton John',\n",
       "  14),\n",
       " (u'Macarena (Bayside Boys Mix) by Los Del Rio', 14),\n",
       " (u'I ll Make Love To You by Boyz II Men', 14),\n",
       " (u'I Will Always Love You (From \"The Bodyguard\") by Whitney Houston', 14),\n",
       " (u'The Boy Is Mine by Brandy', 13),\n",
       " (u'End Of The Road (From \"Boomerang\") by Boyz II Men', 13),\n",
       " (u'Closer by The Chainsmokers Featuring Halsey', 12)]"
      ]
     },
     "execution_count": 73,
     "metadata": {},
     "output_type": "execute_result"
    }
   ],
   "source": [
    "# continuous top 1\n",
    "top1.head(10)\n",
    "titles = top1.title.values\n",
    "artists = top1.artist.values\n",
    "continuous_weeks = []\n",
    "count = 1\n",
    "\n",
    "for i in xrange(1,len(titles)):\n",
    "    if titles[i] == titles[i-1]:\n",
    "        count += 1\n",
    "    else:\n",
    "        continuous_weeks.append((titles[i-1]+u' by '+artists[i-1],count))\n",
    "        count = 1\n",
    "continuous_weeks.sort(key=lambda x:-x[1])\n",
    "continuous_weeks[:10]"
   ]
  },
  {
   "cell_type": "markdown",
   "metadata": {},
   "source": [
    "Record high goes to 'One Sweet Day' by Mariah Carey & Boyz II Men, lasted four whole months! That's impressive!"
   ]
  },
  {
   "cell_type": "markdown",
   "metadata": {},
   "source": [
    "How about top 10 songs counting not continuously? Basically just count how many times that song appeared in top 10"
   ]
  },
  {
   "cell_type": "code",
   "execution_count": 102,
   "metadata": {
    "collapsed": false
   },
   "outputs": [
    {
     "data": {
      "text/plain": [
       "title                                artist                                   \n",
       "How Do I Live                        LeAnn Rimes                                  32\n",
       "Closer                               The Chainsmokers Featuring Halsey            31\n",
       "Uptown Funk!                         Mark Ronson Featuring Bruno Mars             31\n",
       "Smooth                               Santana Featuring Rob Thomas                 30\n",
       "Party Rock Anthem                    LMFAO Featuring Lauren Bennett & GoonRock    29\n",
       "Foolish Games/You Were Meant For Me  Jewel                                        28\n",
       "Truly Madly Deeply                   Savage Garden                                26\n",
       "Un-Break My Heart                    Toni Braxton                                 25\n",
       "Apologize                            Timbaland Featuring OneRepublic              25\n",
       "The Twist                            Chubby Checker                               25\n",
       "dtype: int64"
      ]
     },
     "execution_count": 102,
     "metadata": {},
     "output_type": "execute_result"
    }
   ],
   "source": [
    "# top10.title.value_counts()[:10]\n",
    "top10.groupby(['title','artist']).size().sort_values(ascending=False)[:10]"
   ]
  },
  {
   "cell_type": "markdown",
   "metadata": {},
   "source": [
    "In this way we get to know more less famous artists, and we also learn this:\n",
    "\n",
    "being able to stay the longest weeks as top 1 does not necessarily mean you can also stay the longest in top 10 chart. For example in the above table, we can't find any Mariah Carey song."
   ]
  },
  {
   "cell_type": "markdown",
   "metadata": {},
   "source": [
    "### question3: which artist's tracks likes to bomb the chart?(i.e. become top 1 once released)"
   ]
  },
  {
   "cell_type": "code",
   "execution_count": 29,
   "metadata": {
    "collapsed": false,
    "scrolled": false
   },
   "outputs": [
    {
     "data": {
      "text/html": [
       "<div>\n",
       "<table border=\"1\" class=\"dataframe\">\n",
       "  <thead>\n",
       "    <tr style=\"text-align: right;\">\n",
       "      <th></th>\n",
       "      <th>date</th>\n",
       "      <th>title</th>\n",
       "      <th>artist</th>\n",
       "      <th>rank</th>\n",
       "      <th>weeks</th>\n",
       "      <th>change_in_rank</th>\n",
       "      <th>spotifyID</th>\n",
       "    </tr>\n",
       "  </thead>\n",
       "  <tbody>\n",
       "    <tr>\n",
       "      <th>0</th>\n",
       "      <td>2017-01-28</td>\n",
       "      <td>Shape Of You</td>\n",
       "      <td>Ed Sheeran</td>\n",
       "      <td>1.0</td>\n",
       "      <td>1.0</td>\n",
       "      <td>Hot Shot Debut</td>\n",
       "      <td>0FE9t6xYkqWXU2ahLh6D8X</td>\n",
       "    </tr>\n",
       "    <tr>\n",
       "      <th>0</th>\n",
       "      <td>2016-05-28</td>\n",
       "      <td>Can't Stop The Feeling!</td>\n",
       "      <td>Justin Timberlake</td>\n",
       "      <td>1.0</td>\n",
       "      <td>1.0</td>\n",
       "      <td>Hot Shot Debut</td>\n",
       "      <td>6JV2JOEocMgcZxYSZelKcc</td>\n",
       "    </tr>\n",
       "    <tr>\n",
       "      <th>0</th>\n",
       "      <td>2016-02-20</td>\n",
       "      <td>Pillowtalk</td>\n",
       "      <td>Zayn</td>\n",
       "      <td>1.0</td>\n",
       "      <td>1.0</td>\n",
       "      <td>Hot Shot Debut</td>\n",
       "      <td>0IKK48xF4eEdfofyaeKWWO</td>\n",
       "    </tr>\n",
       "    <tr>\n",
       "      <th>0</th>\n",
       "      <td>2015-11-14</td>\n",
       "      <td>Hello</td>\n",
       "      <td>Adele</td>\n",
       "      <td>1.0</td>\n",
       "      <td>1.0</td>\n",
       "      <td>Hot Shot Debut</td>\n",
       "      <td>1MDoll6jK4rrk2BcFRP5i7</td>\n",
       "    </tr>\n",
       "    <tr>\n",
       "      <th>0</th>\n",
       "      <td>2015-09-19</td>\n",
       "      <td>What Do You Mean?</td>\n",
       "      <td>Justin Bieber</td>\n",
       "      <td>1.0</td>\n",
       "      <td>1.0</td>\n",
       "      <td>Hot Shot Debut</td>\n",
       "      <td>1ds2QsfhAAfRiaFMGDzrdb</td>\n",
       "    </tr>\n",
       "    <tr>\n",
       "      <th>0</th>\n",
       "      <td>2014-09-06</td>\n",
       "      <td>Shake It Off</td>\n",
       "      <td>Taylor Swift</td>\n",
       "      <td>1.0</td>\n",
       "      <td>1.0</td>\n",
       "      <td>Hot Shot Debut</td>\n",
       "      <td>7zCCVZBgy3Ij5fX7S4fs60</td>\n",
       "    </tr>\n",
       "    <tr>\n",
       "      <th>0</th>\n",
       "      <td>2013-03-02</td>\n",
       "      <td>Harlem Shake</td>\n",
       "      <td>Baauer</td>\n",
       "      <td>1.0</td>\n",
       "      <td>1.0</td>\n",
       "      <td>Hot Shot Debut</td>\n",
       "      <td>2eP6GhdRE1Ydnw2uXzo7q8</td>\n",
       "    </tr>\n",
       "    <tr>\n",
       "      <th>0</th>\n",
       "      <td>2012-03-03</td>\n",
       "      <td>Part Of Me</td>\n",
       "      <td>Katy Perry</td>\n",
       "      <td>1.0</td>\n",
       "      <td>1.0</td>\n",
       "      <td>Hot Shot Debut</td>\n",
       "      <td>1nZzRJbFvCEct3uzu04ZoL</td>\n",
       "    </tr>\n",
       "    <tr>\n",
       "      <th>0</th>\n",
       "      <td>2011-02-26</td>\n",
       "      <td>Born This Way</td>\n",
       "      <td>Lady Gaga</td>\n",
       "      <td>1.0</td>\n",
       "      <td>1.0</td>\n",
       "      <td>Hot Shot Debut</td>\n",
       "      <td>0FC7X3BRdEJC8L4ZEUAv2Q</td>\n",
       "    </tr>\n",
       "    <tr>\n",
       "      <th>0</th>\n",
       "      <td>2011-01-29</td>\n",
       "      <td>Hold It Against Me</td>\n",
       "      <td>Britney Spears</td>\n",
       "      <td>1.0</td>\n",
       "      <td>1.0</td>\n",
       "      <td>Hot Shot Debut</td>\n",
       "      <td>6CnuehRR8GVXJfzCs25GX9</td>\n",
       "    </tr>\n",
       "    <tr>\n",
       "      <th>0</th>\n",
       "      <td>2010-11-13</td>\n",
       "      <td>We R Who We R</td>\n",
       "      <td>Ke$ha</td>\n",
       "      <td>1.0</td>\n",
       "      <td>1.0</td>\n",
       "      <td>Hot Shot Debut</td>\n",
       "      <td>5jaz6aiRknA63NIYWdbr2O</td>\n",
       "    </tr>\n",
       "    <tr>\n",
       "      <th>0</th>\n",
       "      <td>2010-05-22</td>\n",
       "      <td>Not Afraid</td>\n",
       "      <td>Eminem</td>\n",
       "      <td>1.0</td>\n",
       "      <td>1.0</td>\n",
       "      <td>Hot Shot Debut</td>\n",
       "      <td>7Ie9W94M7OjPoZVV216Xus</td>\n",
       "    </tr>\n",
       "    <tr>\n",
       "      <th>0</th>\n",
       "      <td>2009-10-24</td>\n",
       "      <td>3</td>\n",
       "      <td>Britney Spears</td>\n",
       "      <td>1.0</td>\n",
       "      <td>1.0</td>\n",
       "      <td>Hot Shot Debut</td>\n",
       "      <td>7eusnHDVdvqjUGAigj77XC</td>\n",
       "    </tr>\n",
       "    <tr>\n",
       "      <th>0</th>\n",
       "      <td>2006-07-01</td>\n",
       "      <td>Do I Make You Proud</td>\n",
       "      <td>Taylor Hicks</td>\n",
       "      <td>1.0</td>\n",
       "      <td>1.0</td>\n",
       "      <td>Hot Shot Debut</td>\n",
       "      <td>2jv9Ppwz9u3lqWfXV0q2sW</td>\n",
       "    </tr>\n",
       "    <tr>\n",
       "      <th>0</th>\n",
       "      <td>2005-07-02</td>\n",
       "      <td>Inside Your Heaven</td>\n",
       "      <td>Carrie Underwood</td>\n",
       "      <td>1.0</td>\n",
       "      <td>1.0</td>\n",
       "      <td>Hot Shot Debut</td>\n",
       "      <td>3w8xlZi49MQuQkyyB5bi5e</td>\n",
       "    </tr>\n",
       "    <tr>\n",
       "      <th>0</th>\n",
       "      <td>2004-07-10</td>\n",
       "      <td>I Believe</td>\n",
       "      <td>Fantasia</td>\n",
       "      <td>1.0</td>\n",
       "      <td>1.0</td>\n",
       "      <td>Hot Shot Debut</td>\n",
       "      <td>2zZJnAlhgvW6DERn1tu3fb</td>\n",
       "    </tr>\n",
       "    <tr>\n",
       "      <th>0</th>\n",
       "      <td>2003-06-28</td>\n",
       "      <td>This Is The Night</td>\n",
       "      <td>Clay Aiken</td>\n",
       "      <td>1.0</td>\n",
       "      <td>1.0</td>\n",
       "      <td>Hot Shot Debut</td>\n",
       "      <td>6QP46GKcggdxLbVLWilLVc</td>\n",
       "    </tr>\n",
       "  </tbody>\n",
       "</table>\n",
       "</div>"
      ],
      "text/plain": [
       "         date                    title             artist  rank  weeks  \\\n",
       "0  2017-01-28             Shape Of You         Ed Sheeran   1.0    1.0   \n",
       "0  2016-05-28  Can't Stop The Feeling!  Justin Timberlake   1.0    1.0   \n",
       "0  2016-02-20               Pillowtalk               Zayn   1.0    1.0   \n",
       "0  2015-11-14                    Hello              Adele   1.0    1.0   \n",
       "0  2015-09-19        What Do You Mean?      Justin Bieber   1.0    1.0   \n",
       "0  2014-09-06             Shake It Off       Taylor Swift   1.0    1.0   \n",
       "0  2013-03-02             Harlem Shake             Baauer   1.0    1.0   \n",
       "0  2012-03-03               Part Of Me         Katy Perry   1.0    1.0   \n",
       "0  2011-02-26            Born This Way          Lady Gaga   1.0    1.0   \n",
       "0  2011-01-29       Hold It Against Me     Britney Spears   1.0    1.0   \n",
       "0  2010-11-13            We R Who We R              Ke$ha   1.0    1.0   \n",
       "0  2010-05-22               Not Afraid             Eminem   1.0    1.0   \n",
       "0  2009-10-24                        3     Britney Spears   1.0    1.0   \n",
       "0  2006-07-01      Do I Make You Proud       Taylor Hicks   1.0    1.0   \n",
       "0  2005-07-02       Inside Your Heaven   Carrie Underwood   1.0    1.0   \n",
       "0  2004-07-10                I Believe           Fantasia   1.0    1.0   \n",
       "0  2003-06-28        This Is The Night         Clay Aiken   1.0    1.0   \n",
       "\n",
       "   change_in_rank               spotifyID  \n",
       "0  Hot Shot Debut  0FE9t6xYkqWXU2ahLh6D8X  \n",
       "0  Hot Shot Debut  6JV2JOEocMgcZxYSZelKcc  \n",
       "0  Hot Shot Debut  0IKK48xF4eEdfofyaeKWWO  \n",
       "0  Hot Shot Debut  1MDoll6jK4rrk2BcFRP5i7  \n",
       "0  Hot Shot Debut  1ds2QsfhAAfRiaFMGDzrdb  \n",
       "0  Hot Shot Debut  7zCCVZBgy3Ij5fX7S4fs60  \n",
       "0  Hot Shot Debut  2eP6GhdRE1Ydnw2uXzo7q8  \n",
       "0  Hot Shot Debut  1nZzRJbFvCEct3uzu04ZoL  \n",
       "0  Hot Shot Debut  0FC7X3BRdEJC8L4ZEUAv2Q  \n",
       "0  Hot Shot Debut  6CnuehRR8GVXJfzCs25GX9  \n",
       "0  Hot Shot Debut  5jaz6aiRknA63NIYWdbr2O  \n",
       "0  Hot Shot Debut  7Ie9W94M7OjPoZVV216Xus  \n",
       "0  Hot Shot Debut  7eusnHDVdvqjUGAigj77XC  \n",
       "0  Hot Shot Debut  2jv9Ppwz9u3lqWfXV0q2sW  \n",
       "0  Hot Shot Debut  3w8xlZi49MQuQkyyB5bi5e  \n",
       "0  Hot Shot Debut  2zZJnAlhgvW6DERn1tu3fb  \n",
       "0  Hot Shot Debut  6QP46GKcggdxLbVLWilLVc  "
      ]
     },
     "execution_count": 29,
     "metadata": {},
     "output_type": "execute_result"
    }
   ],
   "source": [
    "# define the bomb: rank = 1 and weeks = 1, if on chart for the first week it has ranked top 1 then it's a bomb\n",
    "top1[top1.change_in_rank==u\"Hot Shot Debut\"]"
   ]
  },
  {
   "cell_type": "markdown",
   "metadata": {},
   "source": [
    "### It's interesting that all these songs come from 21st century. \n",
    "Maybe one of the reason is that listeners' access to good songs nowadays has increased compared with the situation in the past, where the spreading speed of songs could be much slower than now.\n",
    "\n",
    "Another reason could be that people tend to spend more time listening to music made by artists they are familiar with. In this case, a well known musician is more likely to make a bomb song nowadays, since it will definitely attract much more traffic than those less known musicians."
   ]
  },
  {
   "cell_type": "markdown",
   "metadata": {},
   "source": [
    "### question4: continued from above analysis on songs' total number of weeks on the billboard chart, how has the total number changed over time? If decreased we could conclude the competition has increased over the years"
   ]
  },
  {
   "cell_type": "code",
   "execution_count": 143,
   "metadata": {
    "collapsed": false
   },
   "outputs": [
    {
     "data": {
      "text/html": [
       "<div>\n",
       "<table border=\"1\" class=\"dataframe\">\n",
       "  <thead>\n",
       "    <tr style=\"text-align: right;\">\n",
       "      <th></th>\n",
       "      <th>weeks</th>\n",
       "      <th>year</th>\n",
       "    </tr>\n",
       "  </thead>\n",
       "  <tbody>\n",
       "    <tr>\n",
       "      <th>Sensitivity by Ralph Tresvant</th>\n",
       "      <td>20.0</td>\n",
       "      <td>1991</td>\n",
       "    </tr>\n",
       "    <tr>\n",
       "      <th>That's All You Gotta Do by Brenda Lee</th>\n",
       "      <td>14.0</td>\n",
       "      <td>1960</td>\n",
       "    </tr>\n",
       "  </tbody>\n",
       "</table>\n",
       "</div>"
      ],
      "text/plain": [
       "                                       weeks  year\n",
       "Sensitivity by Ralph Tresvant           20.0  1991\n",
       "That's All You Gotta Do by Brenda Lee   14.0  1960"
      ]
     },
     "execution_count": 143,
     "metadata": {},
     "output_type": "execute_result"
    }
   ],
   "source": [
    "# for every song in the chart, get the largest weeks number, then analyze their relationship with date\n",
    "top10['year'] = map(lambda x:x.split('-')[0],top10.date.values)\n",
    "song_weeks = {}\n",
    "for i in xrange(len(top10)):\n",
    "    title_artist,week,year = top10.title.iloc[i]+u' by '+top10.artist.iloc[i],top10.weeks.iloc[i],top10.year.iloc[i]\n",
    "    if title_artist not in song_weeks:\n",
    "        song_weeks[title_artist] = (week,year)\n",
    "    \n",
    "song_weeks = pd.DataFrame(song_weeks.values(),song_weeks.keys(),columns = ['weeks','year'])\n",
    "song_weeks.head(2)"
   ]
  },
  {
   "cell_type": "code",
   "execution_count": 171,
   "metadata": {
    "collapsed": false
   },
   "outputs": [
    {
     "data": {
      "image/png": "[encoded data removed]",
      "text/plain": [
       "<matplotlib.figure.Figure at 0x10af6a250>"
      ]
     },
     "metadata": {},
     "output_type": "display_data"
    }
   ],
   "source": [
    "fig,ax = plt.subplots()\n",
    "song_weeks.groupby('year').mean().plot(ax=ax,kind='line',sharex = True,label='mean weeks')\n",
    "song_weeks.groupby('year').size().plot(ax=ax,kind='line',sharex = True,secondary_y=True,label='total songs')\n",
    "lines, _ = ax.get_legend_handles_labels()\n",
    "ax.legend(lines, ['mean weeks','total songs'], loc='best') # why it's not showing the second label?!\n",
    "plt.show()"
   ]
  },
  {
   "cell_type": "markdown",
   "metadata": {},
   "source": [
    "Green lines are number of unique songs appeared in the chart, blue lines show average number of weeks within that year. \n",
    "\n",
    "We can find something interesting here. \n",
    "\n",
    "1.Total unique songs on the billboard chart is decreasing, which means the competition to get on board is not as intense as in the 1980s or 1960s! \n",
    "\n",
    "2.However, even if the number of songs competing for top 10 is decreasing, average weeks a song can stay on top 10 chart is decreasing, especially compared to the data in 1990s, where there are more songs than now, and at the same time they stay longer on top 10 chart."
   ]
  },
  {
   "cell_type": "markdown",
   "metadata": {},
   "source": [
    "### question5: are songs performed by collaborated artists becoming more popular than before?"
   ]
  },
  {
   "cell_type": "code",
   "execution_count": 11,
   "metadata": {
    "collapsed": true
   },
   "outputs": [],
   "source": [
    "artists = top10.artist.values"
   ]
  },
  {
   "cell_type": "code",
   "execution_count": 19,
   "metadata": {
    "collapsed": false
   },
   "outputs": [],
   "source": [
    "import re\n",
    "artist_pairs = map(lambda x:re.split(\" Featuring | \\/ | \\& | x \",x),artists)"
   ]
  },
  {
   "cell_type": "code",
   "execution_count": 168,
   "metadata": {
    "collapsed": false
   },
   "outputs": [],
   "source": [
    "top10['n_artists'] = [len(i) for i in artist_pairs]"
   ]
  },
  {
   "cell_type": "code",
   "execution_count": 210,
   "metadata": {
    "collapsed": false,
    "scrolled": true
   },
   "outputs": [
    {
     "data": {
      "text/plain": [
       "<matplotlib.axes._subplots.AxesSubplot at 0x119b51750>"
      ]
     },
     "execution_count": 210,
     "metadata": {},
     "output_type": "execute_result"
    },
    {
     "data": {
      "image/png": "[encoded data removed]",
      "text/plain": [
       "<matplotlib.figure.Figure at 0x119b2b910>"
      ]
     },
     "metadata": {},
     "output_type": "display_data"
    }
   ],
   "source": [
    "test = top10[['title','n_artists','year']].groupby(['year','title']).mean()\n",
    "unique_song_table = pd.DataFrame(zip(test.index.get_level_values('year'),test.n_artists),columns = ['year','n_artists'])\n",
    "unique_song_table.groupby('year').mean().plot(kind='line')"
   ]
  },
  {
   "cell_type": "markdown",
   "metadata": {},
   "source": [
    "We can see more artists collaboration work on the top 10 charts!"
   ]
  },
  {
   "cell_type": "markdown",
   "metadata": {},
   "source": [
    "*****\n",
    "## Step 2: Integrate Billboard data with audio features and lyrics, do more  exploratory analysis"
   ]
  },
  {
   "cell_type": "markdown",
   "metadata": {},
   "source": [
    "Before we integrate, we need to filter out those without a spotify id, around 5% of the unique songs are not in the billboard top 10 charts so it's not a big impact on our future analysis."
   ]
  },
  {
   "cell_type": "code",
   "execution_count": 38,
   "metadata": {
    "collapsed": false
   },
   "outputs": [
    {
     "data": {
      "text/plain": [
       "0.05326231691078562"
      ]
     },
     "execution_count": 38,
     "metadata": {},
     "output_type": "execute_result"
    }
   ],
   "source": [
    "(len(set(top10.title))-len(set(top10.spotifyID))-1)/float(len(set(top10.title)))"
   ]
  },
  {
   "cell_type": "markdown",
   "metadata": {},
   "source": [
    "### Get Spotify Audio Features Data"
   ]
  },
  {
   "cell_type": "code",
   "execution_count": 182,
   "metadata": {
    "collapsed": false,
    "scrolled": true
   },
   "outputs": [],
   "source": [
    "from oauthlib.oauth2 import BackendApplicationClient\n",
    "from requests_oauthlib import OAuth2Session\n",
    "import time,json\n",
    "import pandas as pd"
   ]
  },
  {
   "cell_type": "code",
   "execution_count": 207,
   "metadata": {
    "collapsed": true
   },
   "outputs": [],
   "source": [
    "def get_token():\n",
    "    auth_url = u'https://accounts.spotify.com/api/token'\n",
    "\n",
    "    ##### private information #####\n",
    "    client_id = u'client_id_string_here'\n",
    "    client_secret = u'client_secret_string_here'\n",
    "    ##### wipe if publish in public #####\n",
    "    client = BackendApplicationClient(client_id=client_id)\n",
    "    oauth = OAuth2Session(client=client)\n",
    "    token = oauth.fetch_token(token_url=auth_url, client_id=client_id,\n",
    "        client_secret=client_secret)\n",
    "\n",
    "    return token\n",
    "\n",
    "def get_spotify_json(url,token=None):\n",
    "    if token['expires_at']-time.time() < 100 or not token: # if token less than 100 seconds until expiration\n",
    "        token = get_token()\n",
    "\n",
    "    access_token = token['access_token']\n",
    "    header = {u'Authorization':u'Bearer '+access_token}\n",
    "\n",
    "    r = requests.get(url,headers=header)\n",
    "    return r.json(),token\n",
    "\n",
    "def single_audio_features(track_id,token=None):\n",
    "    url_head = u'https://api.spotify.com/v1/audio-features/'\n",
    "\n",
    "    if type(track_id) == str:\n",
    "        url = url_head + track_id\n",
    "    else:\n",
    "        raise TypeError(\"Track_id should be str!\")\n",
    "\n",
    "    r,token = get_spotify_json(url,token)\n",
    "    table = pd.DataFrame([r])\n",
    "    table.drop(['analysis_url','id','track_href','type'],axis=1,inplace=True)\n",
    "    return table,token\n",
    "    \n",
    "def multiple_audio_features(track_ids,token=None):\n",
    "    url_head = u'https://api.spotify.com/v1/audio-features?ids='\n",
    "\n",
    "    url = url_head + ','.join(track_ids)\n",
    "\n",
    "    rs,token = get_spotify_json(url,token)\n",
    "    table = pd.DataFrame()\n",
    "    for r in rs['audio_features']:\n",
    "        row = pd.DataFrame([r])\n",
    "        row.drop(['analysis_url','id','track_href','type'],axis=1,inplace=True)\n",
    "        table = table.append(row)\n",
    "\n",
    "    return table,token\n"
   ]
  },
  {
   "cell_type": "code",
   "execution_count": 147,
   "metadata": {
    "collapsed": false
   },
   "outputs": [],
   "source": [
    "top10_spotify = top10[top10.spotifyID != u'']\n",
    "distinct_trackids = list(set(top10_spotify.spotifyID.values))\n",
    "# same named songs are as many as 250!"
   ]
  },
  {
   "cell_type": "code",
   "execution_count": 286,
   "metadata": {
    "collapsed": false
   },
   "outputs": [],
   "source": [
    "# example of not consistent artist name(uppercase vs lowercase)\n",
    "# top10_spotify[top10_spotify.spotifyID==u'3FWPoYBDserKdzcattMFGa']"
   ]
  },
  {
   "cell_type": "code",
   "execution_count": 293,
   "metadata": {
    "collapsed": false
   },
   "outputs": [
    {
     "name": "stdout",
     "output_type": "stream",
     "text": [
      "4264\n"
     ]
    }
   ],
   "source": [
    "print len(distinct_trackids)\n",
    "audio_data = pd.DataFrame()"
   ]
  },
  {
   "cell_type": "code",
   "execution_count": 291,
   "metadata": {
    "collapsed": false
   },
   "outputs": [],
   "source": [
    "def chunk_100(series):\n",
    "    for i in xrange(0,len(series),100):\n",
    "        yield series[i:(i+100)]\n",
    "    "
   ]
  },
  {
   "cell_type": "code",
   "execution_count": 299,
   "metadata": {
    "collapsed": false
   },
   "outputs": [],
   "source": [
    "import os.path\n",
    "\n",
    "if not os.path.isfile('Spotify_audio_features'):\n",
    "    for i,track_ids in enumerate(chunk_100(distinct_trackids)):\n",
    "        audio_features,token = multiple_audio_features(track_ids,token)\n",
    "        audio_data = audio_data.append(audio_features)\n",
    "        \n",
    "    assert len(audio_data)==len(distinct_trackids)\n",
    "    audio_data.to_pickle('Spotify_audio_features')\n",
    "\n",
    "else:\n",
    "    audio_data = pd.read_pickle('Spotify_audio_features')"
   ]
  },
  {
   "cell_type": "code",
   "execution_count": 300,
   "metadata": {
    "collapsed": false
   },
   "outputs": [
    {
     "data": {
      "text/html": [
       "<div>\n",
       "<table border=\"1\" class=\"dataframe\">\n",
       "  <thead>\n",
       "    <tr style=\"text-align: right;\">\n",
       "      <th></th>\n",
       "      <th>acousticness</th>\n",
       "      <th>danceability</th>\n",
       "      <th>duration_ms</th>\n",
       "      <th>energy</th>\n",
       "      <th>instrumentalness</th>\n",
       "      <th>key</th>\n",
       "      <th>liveness</th>\n",
       "      <th>loudness</th>\n",
       "      <th>mode</th>\n",
       "      <th>speechiness</th>\n",
       "      <th>tempo</th>\n",
       "      <th>time_signature</th>\n",
       "      <th>uri</th>\n",
       "      <th>valence</th>\n",
       "    </tr>\n",
       "  </thead>\n",
       "  <tbody>\n",
       "    <tr>\n",
       "      <th>0</th>\n",
       "      <td>0.767000</td>\n",
       "      <td>0.588</td>\n",
       "      <td>136040</td>\n",
       "      <td>0.736</td>\n",
       "      <td>0.000000</td>\n",
       "      <td>8</td>\n",
       "      <td>0.3510</td>\n",
       "      <td>-7.760</td>\n",
       "      <td>0</td>\n",
       "      <td>0.0461</td>\n",
       "      <td>132.731</td>\n",
       "      <td>4.0</td>\n",
       "      <td>spotify:track:6vJOIceKD99L4Z2jyOE1m7</td>\n",
       "      <td>0.838</td>\n",
       "    </tr>\n",
       "    <tr>\n",
       "      <th>0</th>\n",
       "      <td>0.000712</td>\n",
       "      <td>0.695</td>\n",
       "      <td>214840</td>\n",
       "      <td>0.915</td>\n",
       "      <td>0.000000</td>\n",
       "      <td>0</td>\n",
       "      <td>0.0311</td>\n",
       "      <td>-3.549</td>\n",
       "      <td>1</td>\n",
       "      <td>0.0497</td>\n",
       "      <td>141.019</td>\n",
       "      <td>4.0</td>\n",
       "      <td>spotify:track:7aBVQ8dcHytEddV0SlDrcQ</td>\n",
       "      <td>0.899</td>\n",
       "    </tr>\n",
       "    <tr>\n",
       "      <th>0</th>\n",
       "      <td>0.060700</td>\n",
       "      <td>0.386</td>\n",
       "      <td>173547</td>\n",
       "      <td>0.642</td>\n",
       "      <td>0.005070</td>\n",
       "      <td>2</td>\n",
       "      <td>0.0675</td>\n",
       "      <td>-5.767</td>\n",
       "      <td>1</td>\n",
       "      <td>0.0461</td>\n",
       "      <td>168.515</td>\n",
       "      <td>4.0</td>\n",
       "      <td>spotify:track:6NimgfBPonkKO8yep1pFzQ</td>\n",
       "      <td>0.704</td>\n",
       "    </tr>\n",
       "    <tr>\n",
       "      <th>0</th>\n",
       "      <td>0.732000</td>\n",
       "      <td>0.490</td>\n",
       "      <td>208760</td>\n",
       "      <td>0.319</td>\n",
       "      <td>0.000024</td>\n",
       "      <td>10</td>\n",
       "      <td>0.1050</td>\n",
       "      <td>-14.069</td>\n",
       "      <td>1</td>\n",
       "      <td>0.0384</td>\n",
       "      <td>80.181</td>\n",
       "      <td>4.0</td>\n",
       "      <td>spotify:track:6eVAEqfTAe6FmPcwY7hhnG</td>\n",
       "      <td>0.337</td>\n",
       "    </tr>\n",
       "    <tr>\n",
       "      <th>0</th>\n",
       "      <td>0.209000</td>\n",
       "      <td>0.834</td>\n",
       "      <td>245373</td>\n",
       "      <td>0.701</td>\n",
       "      <td>0.000000</td>\n",
       "      <td>5</td>\n",
       "      <td>0.1860</td>\n",
       "      <td>-6.132</td>\n",
       "      <td>0</td>\n",
       "      <td>0.2130</td>\n",
       "      <td>96.682</td>\n",
       "      <td>4.0</td>\n",
       "      <td>spotify:track:4YA7nxDtAVE2R1Eryx7uRu</td>\n",
       "      <td>0.831</td>\n",
       "    </tr>\n",
       "  </tbody>\n",
       "</table>\n",
       "</div>"
      ],
      "text/plain": [
       "   acousticness  danceability  duration_ms  energy  instrumentalness  key  \\\n",
       "0      0.767000         0.588       136040   0.736          0.000000    8   \n",
       "0      0.000712         0.695       214840   0.915          0.000000    0   \n",
       "0      0.060700         0.386       173547   0.642          0.005070    2   \n",
       "0      0.732000         0.490       208760   0.319          0.000024   10   \n",
       "0      0.209000         0.834       245373   0.701          0.000000    5   \n",
       "\n",
       "   liveness  loudness  mode  speechiness    tempo  time_signature  \\\n",
       "0    0.3510    -7.760     0       0.0461  132.731             4.0   \n",
       "0    0.0311    -3.549     1       0.0497  141.019             4.0   \n",
       "0    0.0675    -5.767     1       0.0461  168.515             4.0   \n",
       "0    0.1050   -14.069     1       0.0384   80.181             4.0   \n",
       "0    0.1860    -6.132     0       0.2130   96.682             4.0   \n",
       "\n",
       "                                    uri  valence  \n",
       "0  spotify:track:6vJOIceKD99L4Z2jyOE1m7    0.838  \n",
       "0  spotify:track:7aBVQ8dcHytEddV0SlDrcQ    0.899  \n",
       "0  spotify:track:6NimgfBPonkKO8yep1pFzQ    0.704  \n",
       "0  spotify:track:6eVAEqfTAe6FmPcwY7hhnG    0.337  \n",
       "0  spotify:track:4YA7nxDtAVE2R1Eryx7uRu    0.831  "
      ]
     },
     "execution_count": 300,
     "metadata": {},
     "output_type": "execute_result"
    }
   ],
   "source": [
    "audio_data.head()"
   ]
  },
  {
   "cell_type": "markdown",
   "metadata": {
    "collapsed": true
   },
   "source": [
    "### Get lyrics from lyrics.wikia.com\n",
    "\n",
    "According to the original plan I was to get the lyrics from Musixmatch, but for their free version they only provide 30% of the lyrics per song, and has a quota of 2000 songs per day. So I looked for other resources and found this website, and scraped from its html code\n",
    "link to the website:\n",
    "http://lyrics.wikia.com/"
   ]
  },
  {
   "cell_type": "code",
   "execution_count": 182,
   "metadata": {
    "collapsed": false
   },
   "outputs": [],
   "source": [
    "import requests\n",
    "import re\n",
    "import urllib\n",
    "from bs4 import BeautifulSoup\n",
    "\n",
    "def get_lyric(title,artist):\n",
    "    url_head = u'http://lyrics.wikia.com/wiki/'\n",
    "    url = url_head+urllib.quote(artist)+':'+urllib.quote(title)\n",
    "    r = requests.get(url)\n",
    "    soup = BeautifulSoup(r.text,'html.parser')\n",
    "    lyricbox = soup.find('div',class_ = 'lyricbox')\n",
    "    lyric = re.sub('<.?div.*?>','',str(lyricbox))\n",
    "    lyric = re.sub('<br/>','.',lyric)\n",
    "    return lyric\n"
   ]
  },
  {
   "cell_type": "code",
   "execution_count": 174,
   "metadata": {
    "collapsed": false
   },
   "outputs": [],
   "source": [
    "artists = top10_spotify.artist.values\n",
    "titles = top10_spotify.title.values\n",
    "title_artist_pairs = map(lambda (x,y):(x.lower(),y.lower()),zip(titles,artists))\n",
    "unique_title_artist_pairs = list(set(title_artist_pairs)) # 4314 unique pairs\n",
    "unique_titles,unique_artists = zip(*unique_title_artist_pairs)\n",
    "lyrics_data = pd.DataFrame()"
   ]
  },
  {
   "cell_type": "code",
   "execution_count": 272,
   "metadata": {
    "collapsed": false,
    "scrolled": true
   },
   "outputs": [],
   "source": [
    "import os.path\n",
    "if not os.path.isfile('lyrics_data_round1'):\n",
    "    lyrics_data = pd.DataFrame()\n",
    "    artists_filter1 = map(lambda x:re.split('with| \\(|\\)',x),unique_artists)\n",
    "    left_over = []\n",
    "    for i,(title,artist) in enumerate(zip(unique_titles,artists_filter1)):\n",
    "        if i % 50 == 0:\n",
    "            print i,title,artist[0]\n",
    "        lyric = get_lyric(title,artist[0])\n",
    "        if lyric == 'None':\n",
    "            left_over.append((title,unique_artists[i]))\n",
    "        else:\n",
    "            row = pd.DataFrame({'title':title,'artist':artist,'lyric':lyric})\n",
    "            lyrics_data = lyrics_data.append(row)\n",
    "    lyrics_data.to_pickle('lyrics_data_round1')\n",
    "else:\n",
    "    lyrics_data = pd.read_pickle('lyrics_data_round1')\n",
    "    artists = top10_spotify.artist.values\n",
    "    titles = top10_spotify.title.values\n",
    "    title_artist_pairs = map(lambda (x,y):(x.lower(),y.lower()),zip(titles,artists))\n",
    "    unique_title_artist_pairs = list(set(title_artist_pairs)) # 4314 unique pairs\n",
    "    left_over = []\n",
    "    for i in unique_title_artist_pairs:\n",
    "        if i not in zip(lyrics_data.title.values,lyrics_data.artist.values):\n",
    "            left_over.append(i)\n"
   ]
  },
  {
   "cell_type": "code",
   "execution_count": 273,
   "metadata": {
    "collapsed": false
   },
   "outputs": [
    {
     "data": {
      "text/plain": [
       "3469"
      ]
     },
     "execution_count": 273,
     "metadata": {},
     "output_type": "execute_result"
    }
   ],
   "source": [
    "len(lyrics_data)"
   ]
  },
  {
   "cell_type": "code",
   "execution_count": 274,
   "metadata": {
    "collapsed": false,
    "scrolled": true
   },
   "outputs": [
    {
     "data": {
      "text/plain": [
       "943"
      ]
     },
     "execution_count": 274,
     "metadata": {},
     "output_type": "execute_result"
    }
   ],
   "source": [
    "len(left_over)"
   ]
  },
  {
   "cell_type": "code",
   "execution_count": 276,
   "metadata": {
    "collapsed": false
   },
   "outputs": [
    {
     "name": "stdout",
     "output_type": "stream",
     "text": [
      "0 beth/detroit rock city kiss\n",
      "50 what goes around...comes around justin timberlake\n",
      "100 i can t dance genesis\n",
      "150 stop stop stop the hollies\n",
      "200 star wars (main title) london symphony orchestra\n",
      "250 tonight (i'm lovin' you) enrique iglesias\n",
      "300 that lady (part 1) the isley brothers\n",
      "350 bust it baby part 2 plies\n",
      "400 i don't wanna live forever (fifty shades darker) zayn\n",
      "450 careless whisper wham!\n",
      "500 leather and lace stevie nicks with don henley\n",
      "550 jacob s ladder huey lewis\n",
      "600 itsy bitsy teenie weenie yellow polkadot bikini brian hyland\n",
      "650 crazy in love beyonce\n",
      "700 carrie-anne the hollies\n",
      "750 my baby lil' romeo\n",
      "800 down jay sean\n",
      "850 wiggle jason derulo\n",
      "900 my love is the shhh! somethin' for the people\n",
      "639\n"
     ]
    }
   ],
   "source": [
    "# lyrics_data = pd.read_pickle('lyrics_data_round1')\n",
    "unique_titles,unique_artists = zip(*left_over)\n",
    "artists_filter2 = map(lambda x:re.split(\" featuring | \\/ | \\& | x \",x),unique_artists)\n",
    "left_over2 = []\n",
    "for i,(title,artist) in enumerate(zip(unique_titles,artists_filter2)):\n",
    "    if i % 50 == 0:\n",
    "        print i,title,artist[0]\n",
    "    lyric = get_lyric(title,artist[0])\n",
    "    if lyric == 'None':\n",
    "        left_over2.append((title,unique_artists[i]))\n",
    "    else:\n",
    "        row = pd.DataFrame({'title':title,'artist':artist,'lyric':lyric})\n",
    "        lyrics_data = lyrics_data.append(row)\n",
    "print len(left_over2)\n",
    "lyrics_data.to_pickle('lyrics_data_round2')"
   ]
  },
  {
   "cell_type": "code",
   "execution_count": 301,
   "metadata": {
    "collapsed": false
   },
   "outputs": [],
   "source": []
  },
  {
   "cell_type": "code",
   "execution_count": 277,
   "metadata": {
    "collapsed": false,
    "scrolled": true
   },
   "outputs": [
    {
     "data": {
      "text/plain": [
       "639"
      ]
     },
     "execution_count": 277,
     "metadata": {},
     "output_type": "execute_result"
    }
   ],
   "source": [
    "len(left_over2)"
   ]
  },
  {
   "cell_type": "code",
   "execution_count": 304,
   "metadata": {
    "collapsed": false
   },
   "outputs": [],
   "source": [
    "def get_spotify_ids(names,table):\n",
    "    '''\n",
    "    in: [(title,artist),...]\n",
    "        pd.DataFrame with spotifyID\n",
    "    out: [spotifyID,...]\n",
    "    '''\n",
    "    spotifyIDs = []\n",
    "    for i in names:\n",
    "        spotifyID = table[i]\n",
    "        spotifyIDs.append(spotifyID)\n",
    "    return spotifyIDs\n",
    "\n",
    "def spotify_id_lookup(table):\n",
    "    distinct_records = set(zip(table.title,table.artist,table.spotifyID))\n",
    "\n",
    "    lookup_table = {}\n",
    "    for record in distinct_records:\n",
    "        title,artist,spotifyID = record[0].lower(),record[1].lower(),record[2]\n",
    "        lookup_table[(title,artist)] = spotifyID\n",
    "\n",
    "    return lookup_table\n",
    "\n",
    "\n",
    "\n",
    "def chunk_50(series): # requesting track info needs smaller size of requests\n",
    "    for i in xrange(0,len(series),50):\n",
    "        yield series[i:(i+50)]\n",
    "    \n",
    "    \n",
    "def correct_names_spotify(names,spotifyIDs):\n",
    "    '''\n",
    "    in: [(title,artist),...]\n",
    "    out: [(c_title,c_artist),...]\n",
    "    '''\n",
    "    spotify_names = get_spotify_names(spotifyIDs)\n",
    "    \n",
    "    corrected,not_corrected = [],[]\n",
    "    for i in spotify_names:\n",
    "        if i not in names:\n",
    "            corrected.append(i)\n",
    "        else:\n",
    "            not_corrected.append(i)\n",
    "    return corrected,not_corrected\n",
    "\n",
    "def get_spotify_names(spotifyIDs):\n",
    "    '''\n",
    "    in: [ids,...]\n",
    "    out: [(title,artist),...]\n",
    "    '''\n",
    "    names = []\n",
    "    \n",
    "    for chunked_spotifyIDs in chunk_50(spotifyIDs):\n",
    "        url_head = 'https://api.spotify.com/v1/tracks/?ids='\n",
    "        detail = ','.join(chunked_spotifyIDs)\n",
    "        url = url_head+detail\n",
    "        r = requests.get(url)\n",
    "        track_lists = r.json()['tracks']\n",
    "\n",
    "        for track in track_lists:\n",
    "            title = track['name'].lower()\n",
    "            artist = track['artists'][0]['name'].lower()# only get first artist for now\n",
    "            names.append((title,artist))\n",
    "    return names\n",
    "\n",
    "left_over2_spotifyIDs = get_spotify_ids(left_over2,spotify_id_lookup(top10_spotify))\n",
    "\n",
    "corrected_names,left_over3 = correct_names_spotify(left_over2,left_over2_spotifyIDs)\n"
   ]
  },
  {
   "cell_type": "code",
   "execution_count": 336,
   "metadata": {
    "collapsed": false
   },
   "outputs": [
    {
     "name": "stdout",
     "output_type": "stream",
     "text": [
      "4119\n",
      "0 beth kiss\n",
      "50 tubular bells (theme from \"the excorist\") mike oldfield\n",
      "100 forget you ceelo green\n",
      "150 you make my dreams - remastered daryl hall & john oates\n",
      "200 sea of love phil phillips and the twilights\n",
      "250 born in the u.s.a. bruce springsteen\n",
      "300 jacob's ladder - 2006 digital remaster huey lewis & the news\n",
      "350 empire state of mind [jay-z + alicia keys] jay z\n",
      "400 xanadu - xanadu soundtrack version olivia newton-john\n",
      "450 zip-a-dee doo-dah bob b. soxx & the blue jeans\n",
      "500 mockingbird inez foxx and charlie foxx\n",
      "453\n"
     ]
    }
   ],
   "source": [
    "def get_lyric_encoded(title,artist):\n",
    "    url_head = u'http://lyrics.wikia.com/wiki/'\n",
    "    url = url_head+urllib.quote(artist.encode('utf-8'))+':'+urllib.quote(title.encode('utf-8')) #encoding in utf-8 to avoid quote() throwing key error. eg.chanté moore\n",
    "    r = requests.get(url)\n",
    "    soup = BeautifulSoup(r.text,'html.parser')\n",
    "    lyricbox = soup.find('div',class_ = 'lyricbox')\n",
    "    lyric = re.sub('<.?div.*?>','',str(lyricbox))\n",
    "    lyric = re.sub('<br/>','.',lyric)\n",
    "    return lyric\n",
    "\n",
    "\n",
    "lyrics_data = pd.read_pickle('lyrics_data_round2')\n",
    "print len(lyrics_data)\n",
    "for i,(title,artist) in enumerate(corrected_names):\n",
    "    if i % 50 == 0:\n",
    "        print i,title,artist\n",
    "    lyric = get_lyric_encoded(title,artist)\n",
    "    if lyric == 'None':\n",
    "        left_over3.append((title,artist))\n",
    "    else:\n",
    "#         print title,artist,lyric\n",
    "        row = pd.DataFrame({'title':[title],'artist':[artist],'lyric':[lyric]})\n",
    "        lyrics_data = lyrics_data.append(row)\n",
    "print len(left_over3)"
   ]
  },
  {
   "cell_type": "code",
   "execution_count": 337,
   "metadata": {
    "collapsed": false
   },
   "outputs": [
    {
     "name": "stdout",
     "output_type": "stream",
     "text": [
      "317\n"
     ]
    }
   ],
   "source": [
    "print len(left_over3)-(lencorrected_names_namesd_nameser2)-len(corrected_names))"
   ]
  },
  {
   "cell_type": "code",
   "execution_count": 338,
   "metadata": {
    "collapsed": true
   },
   "outputs": [],
   "source": [
    "lyrics_data.to_pickle('lyrics_data_round3')"
   ]
  },
  {
   "cell_type": "code",
   "execution_count": 341,
   "metadata": {
    "collapsed": false
   },
   "outputs": [
    {
     "data": {
      "text/plain": [
       "453"
      ]
     },
     "execution_count": 341,
     "metadata": {},
     "output_type": "execute_result"
    }
   ],
   "source": [
    "len(left_over3)"
   ]
  },
  {
   "cell_type": "code",
   "execution_count": 340,
   "metadata": {
    "collapsed": false,
    "scrolled": true
   },
   "outputs": [
    {
     "data": {
      "text/plain": [
       "4323"
      ]
     },
     "execution_count": 340,
     "metadata": {},
     "output_type": "execute_result"
    }
   ],
   "source": [
    "len(set(zip(lyrics_data.title.values,lyrics_data.artist.values)))"
   ]
  },
  {
   "cell_type": "code",
   "execution_count": 342,
   "metadata": {
    "collapsed": false
   },
   "outputs": [
    {
     "data": {
      "text/plain": [
       "4319"
      ]
     },
     "execution_count": 342,
     "metadata": {},
     "output_type": "execute_result"
    }
   ],
   "source": [
    "len(set(zip(top10_spotify.title.values,top10_spotify.artist.values)))"
   ]
  },
  {
   "cell_type": "code",
   "execution_count": 373,
   "metadata": {
    "collapsed": false
   },
   "outputs": [
    {
     "name": "stdout",
     "output_type": "stream",
     "text": [
      "(u'someone to love', u'babyface')\n",
      "(u'soldier', u't.i.')\n",
      "(u'all night long', u'puff daddy')\n",
      "(u'keep on, keepin\\' on (from \"sunset park\")', u'mc lyte')\n",
      "(u'how we do', u'the game')\n",
      "(u'g.d.f.r.', u'flo rida')\n",
      "(u'the game of love', u'michelle branch')\n",
      "(u\"don't wanna know\", u'maroon 5')\n",
      "(u'stutter', u'mystikal')\n",
      "(u'dark horse', u'juicy j')\n",
      "(u'work from home', u'fifth harmony')\n",
      "(u'bossa nova baby', u' the jordanaires')\n",
      "(u'shawty', u'plies')\n",
      "(u'6 foot 7 foot', u'cory gunz')\n",
      "(u'hate that i love you', u'rihanna')\n",
      "(u\"lookin' at me\", u'mase')\n",
      "(u\"can't help falling in love\", u'elvis presley ')\n",
      "(u\"drop it like it's hot\", u'snoop dogg')\n",
      "(u'fiesta', u'r. kelly')\n",
      "(u'game of love', u'the mindbenders')\n",
      "(u'girlfriend', u'nelly')\n",
      "(u'boogie wonderland', u'earth, wind & fire ')\n",
      "(u\"don't mess with my man\", u'brandon casey')\n",
      "(u'hotel', u'cassidy')\n",
      "(u'i get lonely', u'blackstreet')\n",
      "(u'look at me now', u'lil wayne')\n",
      "(u'i feel it coming', u'daft punk')\n",
      "(u'titanium', u'david guetta')\n",
      "(u'hotel', u'r. kelly')\n",
      "(u'damn!', u'youngbloodz')\n",
      "(u'one dance', u'wizkid')\n",
      "(u'addictive', u'truth hurts')\n",
      "(u\"let's go\", u'trick daddy')\n",
      "(u\"i'm on one\", u'lil wayne')\n",
      "(u'just the two of us', u'')\n",
      "(u'live your life', u't.i.')\n",
      "(u\"hold on, we're going home\", u'drake')\n",
      "(u'i need a doctor', u'eminem')\n",
      "(u'clarity', u'zedd')\n",
      "(u'look at me now', u'chris brown')\n",
      "(u\"club can't handle me\", u'flo rida')\n",
      "(u'on the floor', u'jennifer lopez')\n",
      "(u'ayo technology', u'50 cent')\n",
      "(u'hungry', u'mark lindsay')\n",
      "(u'take care', u'rihanna')\n",
      "(u'wonderful', u'ashanti')\n",
      "(u'this is what you came for', u'calvin harris')\n",
      "(u'without you', u'usher')\n",
      "(u'gold digger', u'kanye west')\n",
      "(u'grillz', u'paul wall, ali')\n",
      "(u\"like i'm gonna lose you\", u'john legend')\n",
      "(u'i get lonely', u'janet')\n",
      "(u'lay down (candles in the rain)', u'melanie ')\n",
      "(u'always on time', u'ashanti')\n",
      "(u\"pullin' me back\", u'tyrese')\n",
      "(u'like you', u'bow wow')\n",
      "(u'my love is the shhh!', u'trina')\n",
      "(u'into you', u'tamia or ashanti')\n",
      "(u\"don't cha\", u'the pussycat dolls')\n",
      "(u'i know what you want', u'the flipmode squad')\n",
      "(u'talk dirty', u'2 chainz')\n",
      "(u'let it rock', u'kevin rudolf')\n",
      "(u'smooth', u'rob thomas')\n",
      "(u'the letter', u'joe cocker ')\n",
      "(u\"gangsta lovin'\", u'eve')\n",
      "(u'heartbreaker', u'jay-z')\n",
      "(u'down', u'lil wayne')\n",
      "(u'ride wit me', u'nelly')\n",
      "(u'one call away', u'chingy')\n",
      "(u\"what's luv?\", u'ashanti')\n",
      "(u'ayo technology', u'timbaland')\n",
      "(u'knock you down', u'ne-yo')\n",
      "(u'let it go', u'keyshia cole')\n",
      "(u'crying in the chapel', u' the jordanaires')\n",
      "(u'let me hold you', u'bow wow')\n",
      "(u'umbrella', u'jay-z')\n",
      "(u\"get it poppin'\", u'nelly')\n",
      "(u\"pimpin' all over the world\", u'ludacris')\n",
      "(u'my boo', u'alicia keys')\n",
      "(u'drunk in love', u'jay z')\n",
      "(u'beauty and a beat', u'justin bieber')\n",
      "(u'me, myself & i', u'bebe rexha')\n",
      "(u\"what's my name?\", u'drake')\n",
      "(u'lean wit it, rock wit it', u'lil peanut')\n",
      "(u'ms. new booty', u'bubba sparxxx')\n",
      "(u'payphone', u'wiz khalifa')\n",
      "(u'the sweet escape', u'akon')\n",
      "(u\"don't let me down\", u'daya')\n",
      "(u'good luck charm', u'elvis presley ')\n",
      "(u'underneath it all', u'no doubt')\n",
      "(u'got money', u'lil wayne')\n",
      "(u'lollipop', u'static major')\n",
      "(u'whatever gets you thru the night', u' the plastic ono nuclear band')\n",
      "(u'problem', u'iggy azalea')\n",
      "(u\"we don't talk anymore\", u'selena gomez')\n",
      "(u'bad and boujee', u'migos')\n",
      "(u'oh boy', u'juelz santana')\n",
      "(u'shawty get loose', u'lil mama')\n",
      "(u'i like it', u'pitbull')\n",
      "(u\"she's like the wind\", u'')\n",
      "(u\"hard to say i'm sorry\", u'az yet')\n",
      "(u'who dat', u'jt money')\n",
      "(u'1, 2 step', u'ciara')\n",
      "(u'mesmerize', u'ashanti')\n",
      "(u\"i don't wanna live forever (fifty shades darker)\", u'zayn')\n",
      "(u'traces', u'classics iv')\n",
      "(u\"she's like the wind\", u'featuring wendy fraser')\n",
      "(u'bottoms up', u'trey songz')\n",
      "(u'air force ones', u'nelly')\n",
      "(u'love me', u'drake')\n",
      "(u'soldier', u'lil wayne')\n",
      "(u\"livin' it up\", u'ja rule')\n",
      "(u\"i'm on one\", u'dj khaled')\n",
      "(u\"can't let you go\", u\"lil' mo\")\n",
      "(u'good girls go bad', u'cobra starship')\n",
      "(u'loyal', u'lil wayne')\n",
      "(u'stay', u'mikky ekko')\n",
      "(u\"hold on, we're going home\", u'majid jordan')\n",
      "(u'shake that', u'eminem')\n",
      "(u'shawty get loose', u'chris brown')\n",
      "(u'stormy', u'classics iv')\n",
      "(u'check on it', u'beyonce')\n",
      "(u'the way i are', u'keri hilson')\n",
      "(u'angel of the morning', u'the turnabouts')\n",
      "(u'679', u'fetty wap')\n",
      "(u'snap yo fingers', u'sean paul of the youngbloodz')\n",
      "(u'hey baby (drop it to the floor)', u'pitbull')\n",
      "(u'easy lover', u'philip bailey ')\n",
      "(u'sexy chick', u'akon')\n",
      "(u'all cried out', u'112')\n",
      "(u'yeah!', u'usher')\n",
      "(u'primrose lane', u'jerry wallace ')\n",
      "(u'get up', u'chamillionaire')\n",
      "(u\"'03 bonnie & clyde\", u'beyonce knowles')\n",
      "(u'mo money mo problems', u'puff daddy')\n",
      "(u\"slow twistin'\", u'')\n",
      "(u'we found love', u'rihanna')\n",
      "(u'we are young', u'janelle monae')\n",
      "(u\"get it poppin'\", u'fat joe')\n",
      "(u'taste of honey', u'the tijuana brass')\n",
      "(u'salt shaker', u'the east side boyz')\n",
      "(u'billionaire', u'bruno mars')\n",
      "(u'love me', u'lil wayne')\n",
      "(u'turn me on', u'david guetta')\n",
      "(u'tragedy', u'thomas wayne ')\n",
      "(u'cold water', u'mo')\n",
      "(u\"i'll be\", u'jay-z')\n",
      "(u'g.d.f.r.', u'lookas')\n",
      "(u'take care', u'drake')\n",
      "(u'american boy', u'estelle')\n",
      "(u'somebody', u'jeremih')\n",
      "(u'salt shaker', u'lil jon')\n",
      "(u'baby', u'ludacris')\n",
      "(u'down low (nobody has to know)', u'ronald isley')\n",
      "(u\"can't believe it\", u't-pain')\n",
      "(u'young girl', u'gary puckett')\n",
      "(u\"what's my name?\", u'rihanna')\n",
      "(u'let it go', u'missy elliott')\n",
      "(u'promiscuous', u'timbaland')\n",
      "(u'closer', u'the chainsmokers')\n",
      "(u'loyal', u'french montana or too $hort or tyga')\n",
      "(u\"i don't wanna know\", u'p. diddy')\n",
      "(u'good luck charm', u' the jordanaires')\n",
      "(u'tragedy', u' the delons')\n",
      "(u'wild ones', u'sia')\n",
      "(u'one dance', u'drake')\n",
      "(u'love of my life (an ode to hip hop)', u'erykah badu')\n",
      "(u\"don't fall in love with a dreamer\", u' kim carnes')\n",
      "(u'get low', u'the east side boyz')\n",
      "(u\"tonight (i'm lovin' you)\", u'dj frank e')\n",
      "(u'the warrior', u'patty smyth')\n",
      "(u\"i don't like to sleep alone\", u' odia coates')\n",
      "(u'good life', u't-pain')\n",
      "(u'i need a doctor', u'skylar grey')\n",
      "(u\"frontin'\", u'pharrell')\n",
      "(u'over and over', u'tim mcgraw')\n",
      "(u'guilty', u'barry gibb')\n",
      "(u\"stop draggin' my heart around\", u' tom petty and the heartbreakers')\n",
      "(u'holidae in', u'ludacris')\n",
      "(u'let me blow ya mind', u'eve')\n",
      "(u\"ridin'\", u'krayzie bone')\n",
      "(u'love me', u'future')\n",
      "(u'latch', u'disclosure')\n",
      "(u\"i don't wanna live forever (fifty shades darker)\", u'taylor swift')\n",
      "(u\"don't let me down\", u'the chainsmokers')\n",
      "(u'roses', u'the chainsmokers')\n",
      "(u\"it's your love\", u'tim mcgraw ')\n",
      "(u'she will', u'lil wayne')\n",
      "(u'beautiful', u'uncle charlie wilson')\n",
      "(u'talk dirty', u'jason derulo')\n",
      "(u'the way you move', u'outkast')\n",
      "(u\"buy u a drank (shawty snappin')\", u'yung joc')\n",
      "(u'broccoli', u'd.r.a.m.')\n",
      "(u'i like it', u'enrique iglesias')\n",
      "(u'you make me feel...', u'cobra starship')\n",
      "(u'somebody that i used to know', u'kimbra')\n",
      "(u'21 questions', u'50 cent')\n",
      "(u'gold digger', u'jamie foxx')\n",
      "(u'goodies', u'petey pablo')\n",
      "(u'slow jamz', u'twista')\n",
      "(u'my first kiss', u'ke$ha')\n",
      "(u'baby boy', u'sean paul')\n",
      "(u'move ya body', u'nina sky')\n",
      "(u'hey mama', u'afrojack')\n",
      "(u'lay down (candles in the rain)', u' the edwin hawkins singers')\n",
      "(u'moves like jagger', u'christina aguilera')\n",
      "(u'feel this moment', u'christina aguilera')\n",
      "(u'shortie like mine', u'johnta austin')\n",
      "(u'candy shop', u'olivia')\n",
      "(u'superstar', u'matthew santos')\n",
      "(u'piano in the dark', u'joe esposito')\n",
      "(u'air force ones', u'kyjuan, ali')\n",
      "(u'love you so', u'ron holden ')\n",
      "(u'cheap thrills', u'sia')\n",
      "(u'wild wild west', u'will smith')\n",
      "(u'i wanna love you', u'snoop dogg')\n",
      "(u'surrender', u'elvis presley ')\n",
      "(u'ayo technology', u'justin timberlake')\n",
      "(u'give me everything', u'ne-yo, afrojack')\n",
      "(u'bartender', u'akon')\n",
      "(u\"she's not you\", u' the jordanaires')\n",
      "(u'sweet thing', u'chaka khan')\n",
      "(u'hard', u'rihanna')\n",
      "(u'give it to me', u'nelly furtado')\n",
      "(u'all night long', u'faith evans')\n",
      "(u'surrender', u' the jordanaires')\n",
      "(u'all cried out', u'allure')\n",
      "(u'piano in the dark', u'brenda russell')\n",
      "(u'return to sender', u'elvis presley ')\n",
      "(u'locked away', u'adam levine')\n",
      "(u'i need a doctor', u'dr. dre')\n",
      "(u'hard headed woman', u'elvis presley ')\n",
      "(u'how deep is your love', u'dru hill')\n",
      "(u'cold water', u'justin bieber')\n",
      "(u'hungry', u'paul revere')\n",
      "(u'hate it or love it', u'the game')\n",
      "(u'get up', u'ciara')\n",
      "(u'wiggle', u'jason derulo')\n",
      "(u'knock you down', u'kanye west')\n",
      "(u'the game of love', u'santana')\n",
      "(u'glamorous', u'ludacris')\n",
      "(u'good thing', u'paul revere')\n",
      "(u'problem', u'ariana grande')\n",
      "(u\"i'm gonna be alright\", u'jennifer lopez')\n",
      "(u'let it rock', u'lil wayne')\n",
      "(u'cyclone', u't-pain')\n",
      "(u'tighten up', u'the drells')\n",
      "(u'stuck on you', u' the jordanaires')\n",
      "(u'hey baby', u'no doubt')\n",
      "(u'kicks', u'the raiders')\n",
      "(u\"(you're the) devil in disguise\", u' the jordanaires')\n",
      "(u'make me proud', u'drake')\n",
      "(u'come to me', u'nicole scherzinger')\n",
      "(u'the next time i fall', u' amy grant')\n",
      "(u'holidae in', u'snoop dogg')\n",
      "(u\"(now and then there's) a fool such as i\", u' the jordanaires')\n",
      "(u'sweet thing', u'rufus')\n",
      "(u'the chipmunk song', u'the chipmunks ')\n",
      "(u'just dance', u'lady gaga')\n",
      "(u'underneath it all', u'lady saw')\n",
      "(u'break your heart', u'taio cruz')\n",
      "(u'fancy', u'iggy azalea')\n",
      "(u'forever', u'drake')\n",
      "(u'sunshine', u'lea')\n",
      "(u'stutter', u'joe')\n",
      "(u'salt shaker', u'ying yang twins')\n",
      "(u'party rock anthem', u'lmfao')\n",
      "(u'starboy', u'the weeknd')\n",
      "(u'feel this moment', u'pitbull')\n",
      "(u'i tried', u'bone thugs-n-harmony')\n",
      "(u'runaway love', u'mary j. blige')\n",
      "(u\"i'm real\", u'ja rule')\n",
      "(u'lighters', u'bad meets evil')\n",
      "(u'whatta man', u'salt-n-pepa')\n",
      "(u'rather be', u'jess glynne')\n",
      "(u'baby', u'justin bieber')\n",
      "(u'just the two of us', u'ers')\n",
      "(u'party rock anthem', u'goonrock')\n",
      "(u'as long as you love me', u'justin bieber')\n",
      "(u'broccoli', u'lil yachty')\n",
      "(u'california gurls', u'katy perry')\n",
      "(u\"a big hunk o' love\", u'elvis presley ')\n",
      "(u'we found love', u'calvin harris')\n",
      "(u'i wanna love you', u'akon')\n",
      "(u'buttons', u'snoop dogg')\n",
      "(u'set the night to music', u'roberta flack ')\n",
      "(u\"can't believe it\", u'lil wayne')\n",
      "(u'break free', u'ariana grande')\n",
      "(u'side to side', u'ariana grande')\n",
      "(u\"i'm real\", u'jennifer lopez')\n",
      "(u'shawty get loose', u't-pain')\n",
      "(u'jamboree', u'naughty by nature')\n",
      "(u'slow motion', u'soulja slim')\n",
      "(u'tighten up', u'archie bell')\n",
      "(u'good life', u'kanye west')\n",
      "(u'my place', u'nelly')\n",
      "(u'money maker', u'ludacris')\n",
      "(u'dilemma', u'nelly')\n",
      "(u'black beatles', u'rae sremmurd')\n",
      "(u'check on it', u'slim thug')\n",
      "(u'stuck on you', u'elvis presley ')\n",
      "(u'telephone', u'beyonce')\n",
      "(u\"don't mess with my man\", u'nivea')\n",
      "(u'ms. new booty', u'mr. collipark')\n",
      "(u'diary', u'alicia keys')\n",
      "(u'wonderful', u'ja rule')\n",
      "(u'see you again', u'wiz khalifa')\n",
      "(u'right round', u'ke$ha')\n",
      "(u'stereo hearts', u'gym class heroes')\n",
      "(u'get back', u' billy preston')\n",
      "(u'just the two of us', u' bill ')\n",
      "(u'blame it', u't-pain')\n",
      "(u'so what', u'field mob')\n",
      "(u'make it hot', u'mocha')\n",
      "(u'bad blood', u'kendrick lamar')\n",
      "(u'crazy in love', u'jay-z')\n",
      "(u'last night', u'keyshia cole')\n",
      "(u'whatever gets you thru the night', u'john lennon ')\n",
      "(u'over and over', u'nelly')\n",
      "(u'kiss kiss', u'chris brown')\n",
      "(u'i love it', u'charli xcx')\n",
      "(u'oh boy', u\"cam'ron\")\n",
      "(u'my love is the shhh!', u'tamara')\n",
      "(u'good for you', u'a$ap rocky')\n",
      "(u'beautiful', u'pharrell')\n",
      "(u'once you get started', u'rufus')\n",
      "(u'jamboree', u'zhane')\n",
      "(u'what you want', u'mase')\n",
      "(u\"(you're the) devil in disguise\", u'elvis presley ')\n",
      "(u'baby boy', u'beyonce')\n",
      "(u'i know what you want', u'busta rhymes')\n",
      "(u'shawty', u't-pain')\n",
      "(u'i finally found someone (from \"the mirror has two faces\")', u'bryan adams')\n",
      "(u'forever', u'kanye west, lil wayne')\n",
      "(u'black widow', u'iggy azalea')\n",
      "(u\"i don't wanna know\", u'mario winans')\n",
      "(u'make me better', u'fabolous')\n",
      "(u'just dance', u\"colby o'donis\")\n",
      "(u'e.t.', u'katy perry')\n",
      "(u'game of love', u'wayne fontana')\n",
      "(u\"tonight (i'm lovin' you)\", u'enrique iglesias')\n",
      "(u'come to me', u'diddy')\n",
      "(u'cold water', u'm0')\n",
      "(u\"don't fall in love with a dreamer\", u'kenny rogers ')\n",
      "(u\"don't you worry child\", u'swedish house mafia')\n",
      "(u'timber', u'ke$ha')\n",
      "(u'forever', u'eminem')\n",
      "(u'wild ones', u'flo rida')\n",
      "(u'drift away', u'uncle kracker')\n",
      "(u'always on time', u'ja rule')\n",
      "(u'starboy', u'daft punk')\n",
      "(u'e.t.', u'kanye west')\n",
      "(u'holy grail', u'jay z')\n",
      "(u\"a rockin' good way (to mess around and fall in love)\", u'brook benton')\n",
      "(u'dangerous', u'kardinal offishall')\n",
      "(u'never say never', u'justin bieber')\n",
      "(u'drunk in love', u'beyonce')\n",
      "(u'lose control', u'missy elliott')\n",
      "(u'give it to me', u'justin timberlake')\n",
      "(u'hero', u'chad kroeger')\n",
      "(u'sugar', u'wynter')\n",
      "(u'lean wit it, rock wit it', u'dem franchize boyz')\n",
      "(u'dance (a$$)', u'nicki minaj')\n",
      "(u'my first kiss', u'3oh!3')\n",
      "(u'bottoms up', u'nicki minaj')\n",
      "(u'diary', u'tony! toni! tone!')\n",
      "(u'1, 2 step', u'missy elliott')\n",
      "(u'me, myself & i', u'g-eazy')\n",
      "(u'dance with me', u'peter brown ')\n",
      "(u\"stop draggin' my heart around\", u'stevie nicks ')\n",
      "(u'girlfriend', u\"'n sync\")\n",
      "(u'down on me', u'50 cent')\n",
      "(u'she will', u'drake')\n",
      "(u'locked away', u'r. city')\n",
      "(u'chained to the rhythm', u'skip marley')\n",
      "(u'give it to me', u'timbaland')\n",
      "(u'break free', u'zedd')\n",
      "(u'taste of honey', u'herb alpert')\n",
      "(u'679', u'remy boyz')\n",
      "(u'someone to love', u'jon b.')\n",
      "(u'my place', u'jaheim')\n",
      "(u'suga suga', u'frankie j')\n",
      "(u'i know what you want', u'mariah carey')\n",
      "(u'how deep is your love', u'redman')\n",
      "(u'into you', u'fabolous')\n",
      "(u'nobody', u'athena cage')\n",
      "(u'dead and gone', u'justin timberlake')\n",
      "(u'we are young', u'fun.')\n",
      "(u'i told you so', u'carrie underwood')\n",
      "(u'sexy chick', u'david guetta')\n",
      "(u'california gurls', u'snoop dogg')\n",
      "(u\"don't cha\", u'busta rhymes')\n",
      "(u'slow jamz', u'kanye west')\n",
      "(u'i love it', u'icona pop')\n",
      "(u'lose control', u'fat man scoop')\n",
      "(u\"why don't you & i\", u'santana')\n",
      "(u'get lucky', u'pharrell williams')\n",
      "(u'whatta man', u'en vogue')\n",
      "(u'one dance', u'kyla')\n",
      "(u\"don't you worry child\", u'john martin')\n",
      "(u'boogie wonderland', u' the emotions')\n",
      "(u'work from home', u'ty dolla $ign')\n",
      "(u'thank god i found you', u'joe')\n",
      "(u'hard', u'jeezy')\n",
      "(u'without you', u'david guetta')\n",
      "(u'bump, bump, bump', u'p. diddy')\n",
      "(u'billionaire', u'travie mccoy')\n",
      "(u'move ya body', u'jabba')\n",
      "(u\"i'm on one\", u'drake, rick ross')\n",
      "(u'angel of the morning', u'merrilee rush')\n",
      "(u'guilty', u'barbra streisand')\n",
      "(u'good thing', u'mark lindsay')\n",
      "(u'dilemma', u'kelly rowland')\n",
      "(u'i tried', u'akon')\n",
      "(u'do you remember', u'sean paul')\n",
      "(u'lose control', u'ciara')\n",
      "(u'blurred lines', u't.i. + pharrell')\n",
      "(u'never say never', u'jaden smith')\n",
      "(u'beautiful', u'snoop dogg')\n",
      "(u'make it hot', u'missy \"misdemeanor\" elliott')\n",
      "(u'my way', u'fetty wap')\n",
      "(u'my love is the shhh!', u\"somethin' for the people\")\n",
      "(u'this old heart of mine', u' ronald isley')\n",
      "(u'all falls down', u'kanye west')\n",
      "(u'closer', u'halsey')\n",
      "(u\"'03 bonnie & clyde\", u'jay-z')\n",
      "(u'hey mama', u'david guetta')\n",
      "(u\"she's not you\", u'elvis presley ')\n",
      "(u'bossa nova baby', u'elvis presley ')\n",
      "(u'look at me now', u'busta rhymes')\n",
      "(u'put it on me', u'vita')\n",
      "(u'love the way you lie', u'rihanna')\n",
      "(u'lollipop', u'lil wayne')\n",
      "(u'sweet nothing', u'calvin harris')\n",
      "(u'say aah', u'fabolous')\n",
      "(u'hate that i love you', u'ne-yo')\n",
      "(u'roses', u'rozes')\n",
      "(u'right above it', u'lil wayne')\n",
      "(u'suit & tie', u'justin timberlake')\n",
      "(u'shop around', u'featuring bill smokey robinson')\n",
      "(u\"slow twistin'\", u' dee dee sharp')\n",
      "(u'the monster', u'rihanna')\n",
      "(u'tall paul', u'annette ')\n",
      "(u'say aah', u'trey songz')\n",
      "(u'how we do', u'50 cent')\n",
      "(u'dangerous', u'akon')\n",
      "(u'kicks', u'paul revere')\n",
      "(u\"livin' it up\", u'case')\n",
      "(u'what kind of fool', u'barry gibb')\n",
      "(u'hey baby (drop it to the floor)', u't-pain')\n",
      "(u'candy shop', u'50 cent')\n",
      "(u'rather be', u'clean bandit')\n",
      "(u\"ain't it funny\", u'ja rule')\n",
      "(u'baby, come to me', u'patti austin ')\n",
      "(u\"throw some d's\", u'rich boy')\n",
      "(u'the letter', u' leon russell & the shelter people')\n",
      "(u\"hips don't lie\", u'wyclef jean')\n",
      "(u'let it go', u'lil kim')\n",
      "(u\"let's go\", u'lil jon')\n",
      "(u'down on me', u'jeremih')\n",
      "(u'wonderful', u'r. kelly')\n",
      "(u\"like i'm gonna lose you\", u'meghan trainor')\n",
      "(u'i need your love tonight', u' the jordanaires')\n",
      "(u'traces', u'dennis yost')\n",
      "(u'hey mama', u'nicki minaj, bebe rexha')\n",
      "(u'get lucky', u'daft punk')\n",
      "(u'magic stick', u\"lil' kim\")\n",
      "(u'oh', u'ludacris')\n",
      "(u'love the way you lie', u'eminem')\n",
      "(u\"where'd you go\", u'holly brook')\n",
      "(u\"throw some d's\", u'polow da don')\n",
      "(u'blurred lines', u'robin thicke')\n",
      "(u'where the party at', u'jagged edge ')\n",
      "(u'give me everything', u'nayer')\n",
      "(u'somebody that i used to know', u'gotye')\n",
      "(u'on the floor', u'pitbull')\n",
      "(u\"it's your love\", u' faith hill')\n",
      "(u\"ridin'\", u'chamillionaire')\n",
      "(u'crazy in love', u'beyonce')\n",
      "(u'the way i are', u'timbaland')\n",
      "(u'once you get started', u'chaka khan')\n",
      "(u'g.d.f.r.', u'sage the gemini')\n",
      "(u'one call away', u'j. weav')\n",
      "(u'payphone', u'maroon 5')\n",
      "(u'the warrior', u'scandal')\n",
      "(u'all falls down', u'syleena johnson')\n",
      "(u'wild wild west', u'dru hill')\n",
      "(u'kicks', u'mark lindsay')\n",
      "(u'fiesta', u'jay-z')\n",
      "(u'in the ayer', u'will.i.am')\n",
      "(u\"hard to say i'm sorry\", u'peter cetera')\n",
      "(u'rich girl', u'eve')\n",
      "(u'good thing', u'the raiders')\n",
      "(u'bad and boujee', u'lil uzi vert')\n",
      "(u\"i'm gonna be alright\", u'nas')\n",
      "(u'make it hot', u'nicole')\n",
      "(u\"a big hunk o' love\", u' the jordanaires')\n",
      "(u'turn me on', u'spragga benz')\n",
      "(u'superstar', u'lupe fiasco')\n",
      "(u'i need your love tonight', u'elvis presley ')\n",
      "(u'cruise', u'nelly')\n",
      "(u'nobody', u'keith sweat')\n",
      "(u'black widow', u'rita ora')\n",
      "(u'crying in the chapel', u'elvis presley ')\n",
      "(u'smack that', u'akon')\n",
      "(u'just give me a reason', u'nate ruess')\n",
      "(u'air force ones', u'murphy lee')\n",
      "(u'love in this club', u'young jeezy')\n",
      "(u\"ain't it funny\", u'jennifer lopez')\n",
      "(u'stereo hearts', u'adam levine')\n",
      "(u'heaven knows', u' brooklyn dreams')\n",
      "(u'thank god i found you', u'mariah carey')\n",
      "(u'just give me a reason', u'p!nk')\n",
      "(u\"drop it like it's hot\", u'pharrell')\n",
      "(u'the way', u'ariana grande')\n",
      "(u'6 foot 7 foot', u'lil wayne')\n",
      "(u'snap yo fingers', u'lil jon')\n",
      "(u'who dat', u'sole')\n",
      "(u\"it's now or never\", u' the jordanaires')\n",
      "(u'let me blow ya mind', u'gwen stefani')\n",
      "(u'get low', u'ying yang twins')\n",
      "(u'give me everything', u'pitbull')\n",
      "(u'timber', u'pitbull')\n",
      "(u'shop around', u'')\n",
      "(u'suit & tie', u'jay z')\n",
      "(u'bad blood', u'taylor swift')\n",
      "(u\"give me all your luvin'\", u'madonna')\n",
      "(u'chained to the rhythm', u'katy perry')\n",
      "(u\"frontin'\", u'jay-z')\n",
      "(u'ride wit me', u'city spud')\n",
      "(u'all i have', u'jennifer lopez')\n",
      "(u'slow motion', u'juvenile')\n",
      "(u'as long as you love me', u'big sean')\n",
      "(u'21 questions', u'nate dogg')\n",
      "(u'my love', u'justin timberlake')\n",
      "(u'oh', u'ciara')\n",
      "(u'unpredictable', u'jamie foxx')\n",
      "(u'heaven knows', u'donna summer ')\n",
      "(u'dark horse', u'katy perry')\n",
      "(u'blame it', u'jamie foxx')\n",
      "(u'telephone', u'lady gaga')\n",
      "(u'slow jamz', u'jamie foxx')\n",
      "(u'primrose lane', u' the jewels')\n",
      "(u'control myself', u'jennifer lopez')\n",
      "(u'wild night', u'john mellencamp ')\n",
      "(u\"pullin' me back\", u'chingy')\n",
      "(u'turn me on', u'nicki minaj')\n",
      "(u'fancy', u'charli xcx')\n",
      "(u'bring me to life', u'evanescence')\n",
      "(u'hungry', u'the raiders')\n",
      "(u'sugar', u'flo rida')\n",
      "(u'tall paul', u' the afterbeats')\n",
      "(u'down low (nobody has to know)', u'r. kelly')\n",
      "(u'no diggity', u'featuring dr. dre')\n",
      "(u'heartbreaker', u'mariah carey')\n",
      "(u'suga suga', u'baby bash')\n",
      "(u'smooth', u'santana')\n",
      "(u'promiscuous', u'nelly furtado')\n",
      "(u'runaway love', u'ludacris')\n",
      "(u'the monster', u'eminem')\n",
      "(u'soul survivor', u'akon')\n",
      "(u'bring me to life', u'paul mccoy')\n",
      "(u'clarity', u'foxes')\n",
      "(u'shoulder lean', u'young dro')\n",
      "(u'blah blah blah', u'3oh!3')\n",
      "(u'so what', u'ciara')\n",
      "(u'cruise', u'florida georgia line')\n",
      "(u\"hips don't lie\", u'shakira')\n",
      "(u'apologize', u'timbaland')\n",
      "(u'woman, woman', u'gary puckett')\n",
      "(u'yeah!', u'ludacris')\n",
      "(u'my love', u't.i.')\n",
      "(u'put it on me', u\"lil' mo\")\n",
      "(u\"i don't wanna know\", u'enya')\n",
      "(u'magic stick', u'50 cent')\n",
      "(u'move this', u'ya kid k')\n",
      "(u'wild night', u' me shell ndegeocello')\n",
      "(u'you make me feel...', u'sabi')\n",
      "(u'right above it', u'drake')\n",
      "(u'side to side', u'nicki minaj')\n",
      "(u'grillz', u'nelly')\n",
      "(u'put it on me', u'ja rule')\n",
      "(u'the sweet escape', u'gwen stefani')\n",
      "(u'angel', u'shaggy')\n",
      "(u'sunshine', u\"lil' flip\")\n",
      "(u'i feel it coming', u'the weeknd')\n",
      "(u'shoulder lean', u't.i.')\n",
      "(u\"don't mess with my man\", u'brian')\n",
      "(u'dance (a$$)', u'big sean')\n",
      "(u'betcha by golly, wow', u'the stylistics')\n",
      "(u'do you remember', u'jay sean')\n",
      "(u'return to sender', u' the jordanaires')\n",
      "(u'the way', u'mac miller')\n",
      "(u'smack that', u'eminem')\n",
      "(u'holidae in', u'chingy')\n",
      "(u'lean wit it, rock wit it', u'charlay')\n",
      "(u'party rock anthem', u'lauren bennett')\n",
      "(u'dead and gone', u't.i.')\n",
      "(u'money maker', u'pharrell')\n",
      "(u'wiggle', u'snoop dogg')\n",
      "(u\"what's luv?\", u'fat joe')\n",
      "(u'the chipmunk song', u' david seville')\n",
      "(u'sea of love', u' the twilights')\n",
      "(u\"why don't you & i\", u'alex band or chad kroeger')\n",
      "(u'goodies', u'ciara')\n",
      "(u'addictive', u'rakim')\n",
      "(u\"we don't talk anymore\", u'charlie puth')\n",
      "(u'umbrella', u'rihanna')\n",
      "(u\"club can't handle me\", u'david guetta')\n",
      "(u'locked up', u'akon')\n",
      "(u'good for you', u'selena gomez')\n",
      "(u'i told you so', u'randy travis')\n",
      "(u'in the ayer', u'flo rida')\n",
      "(u'dance with me', u' betty wright')\n",
      "(u'got money', u't-pain')\n",
      "(u'turn me on', u'kevin lyttle')\n",
      "(u'rich girl', u'gwen stefani')\n",
      "(u'ms. new booty', u'ying yang twins')\n",
      "(u'work', u'rihanna')\n",
      "(u\"it wasn't me\", u'ricardo \"rikrok\" ducent')\n",
      "(u\"(now and then there's) a fool such as i\", u'elvis presley ')\n",
      "(u'where the party at', u' nelly')\n",
      "(u'the candy man', u' the mike curb congregation')\n",
      "(u'get low', u'lil jon')\n",
      "(u'woman, woman', u'the union gap')\n",
      "(u'black beatles', u'gucci mane')\n",
      "(u\"gangsta lovin'\", u'alicia keys')\n",
      "(u\"let's go\", u'twista')\n",
      "(u\"can't let you go\", u'mike shorey')\n",
      "(u'bartender', u't-pain')\n",
      "(u\"give me all your luvin'\", u'm.i.a.')\n",
      "(u'see you again', u'charlie puth')\n",
      "(u'easy lover', u' phil collins')\n",
      "(u\"where'd you go\", u'fort minor')\n",
      "(u'latch', u'sam smith')\n",
      "(u\"it's now or never\", u'elvis presley ')\n",
      "(u\"can't help falling in love\", u' the jordanaires')\n",
      "(u'last night', u'diddy')\n",
      "(u'all i have', u'll cool j')\n",
      "(u'somebody', u'natalie la rose')\n",
      "(u'apologize', u'onerepublic')\n",
      "(u'unpredictable', u'ludacris')\n",
      "(u'loyal', u'chris brown')\n",
      "(u\"(you're) having my baby\", u'paul anka ')\n",
      "(u'loverboy', u'mariah carey')\n",
      "(u'hard headed woman', u' the jordanaires')\n",
      "(u\"pimpin' all over the world\", u'bobby valentino')\n",
      "(u'love of my life (an ode to hip hop)', u'common')\n",
      "(u'mo money mo problems', u'the notorious b.i.g.')\n",
      "(u'the way you move', u'sleepy brown')\n",
      "(u'snap yo fingers', u'e-40')\n",
      "(u\"give me all your luvin'\", u'nicki minaj')\n",
      "(u\"lookin' at me\", u'puff daddy')\n",
      "(u'make me proud', u'nicki minaj')\n",
      "(u\"slow twistin'\", u'chubby checker')\n",
      "(u\"i don't like to sleep alone\", u'paul anka ')\n",
      "(u'mo money mo problems', u'mase')\n",
      "(u'shortie like mine', u'bow wow')\n",
      "(u\"i'll be\", u'foxy brown')\n",
      "(u'down', u'jay sean')\n",
      "(u'good girls go bad', u'leighton meester')\n",
      "(u'what you want', u'total')\n",
      "(u\"don't wanna know\", u'kendrick lamar')\n",
      "(u'stand up', u'ludacris')\n",
      "(u'mesmerize', u'ja rule')\n",
      "(u'shake that', u'nate dogg')\n",
      "(u'let me hold you', u'omarion')\n",
      "(u'love you so', u' the thunderbirds')\n",
      "(u'stand up', u'shawnna')\n",
      "(u'betcha by golly, wow', u'russell thompkins,jr.')\n",
      "(u'this is what you came for', u'rihanna')\n",
      "(u'lighters', u'bruno mars')\n",
      "(u'yeah!', u'lil jon')\n",
      "(u'live your life', u'rihanna')\n",
      "(u'kiss kiss', u't-pain')\n",
      "(u'cyclone', u'baby bash')\n",
      "(u'loverboy', u'cameo')\n",
      "(u\"tonight (i'm lovin' you)\", u'ludacris')\n",
      "(u'soldier', u\"destiny's child\")\n",
      "(u'control myself', u'll cool j')\n",
      "(u'knock you down', u'keri hilson')\n",
      "(u'this old heart of mine', u'rod stewart ')\n",
      "(u'holy grail', u'justin timberlake')\n",
      "(u'like you', u'ciara')\n",
      "(u'cold water', u'major lazer')\n",
      "(u'get back', u'the beatles ')\n",
      "(u'damn!', u'lil jon')\n",
      "(u'buttons', u'the pussycat dolls')\n",
      "(u'titanium', u'sia')\n",
      "(u'love in this club', u'usher')\n",
      "(u'young girl', u'the union gap')\n",
      "(u'american boy', u'kanye west')\n",
      "(u'hero', u'josey scott')\n",
      "(u'work', u'drake')\n",
      "(u'soul survivor', u'young jeezy')\n",
      "(u'glamorous', u'fergie')\n",
      "(u'sea of love', u'phil phillips ')\n",
      "(u'moves like jagger', u'maroon 5')\n",
      "(u'baby, come to me', u' james ingram')\n",
      "(u'hey baby', u'bounty killer')\n",
      "(u'beauty and a beat', u'nicki minaj')\n",
      "(u\"a rockin' good way (to mess around and fall in love)\", u'dinah washington')\n",
      "(u'make me better', u'ne-yo')\n",
      "(u'the next time i fall', u'peter cetera ')\n",
      "(u'locked up', u'styles p.')\n",
      "(u'break your heart', u'ludacris')\n",
      "(u'no diggity', u'')\n",
      "(u\"(you're) having my baby\", u' odia coates')\n",
      "(u\"buy u a drank (shawty snappin')\", u't-pain')\n",
      "(u'set the night to music', u' maxi priest')\n",
      "(u'keep on, keepin\\' on (from \"sunset park\")', u'xscape')\n",
      "(u'move this', u'technotronic')\n",
      "(u'the candy man', u'sammy davis, jr. ')\n",
      "(u'stormy', u'dennis yost')\n",
      "(u'do you remember', u'lil jon')\n",
      "(u'blah blah blah', u'ke$ha')\n",
      "(u'shortie like mine', u'chris brown')\n",
      "(u'bump, bump, bump', u'b2k')\n",
      "(u'stay', u'rihanna')\n",
      "(u'my way', u'monty')\n",
      "(u'cheap thrills', u'sean paul')\n",
      "(u'angel', u'rayvon')\n",
      "(u\"can't let you go\", u'fabolous')\n",
      "(u'what kind of fool', u'barbra streisand')\n",
      "(u'sweet nothing', u'florence welch')\n",
      "(u'grillz', u'gipp')\n",
      "(u'hate it or love it', u'50 cent')\n"
     ]
    }
   ],
   "source": [
    "a = list(set(zip(lyrics_data.title.values,lyrics_data.artist.values)))\n",
    "b = list(set(map(lambda (x,y):(x.lower(),y.lower()),zip(top10_spotify.title.values,top10_spotify.artist.values))))\n",
    "\n",
    "for i in a:\n",
    "    if i not in b and i not in corrected_names:\n",
    "        print i"
   ]
  },
  {
   "cell_type": "code",
   "execution_count": 367,
   "metadata": {
    "collapsed": true
   },
   "outputs": [],
   "source": [
    "lyrics_data = pd.read_pickle('lyrics_data_round3')"
   ]
  },
  {
   "cell_type": "code",
   "execution_count": 374,
   "metadata": {
    "collapsed": false
   },
   "outputs": [
    {
     "data": {
      "text/html": [
       "<div>\n",
       "<table border=\"1\" class=\"dataframe\">\n",
       "  <thead>\n",
       "    <tr style=\"text-align: right;\">\n",
       "      <th></th>\n",
       "      <th>artist</th>\n",
       "      <th>lyric</th>\n",
       "      <th>title</th>\n",
       "    </tr>\n",
       "  </thead>\n",
       "  <tbody>\n",
       "    <tr>\n",
       "      <th>0</th>\n",
       "      <td>jon b.</td>\n",
       "      <td>Don't even like to think about it.I dont know ...</td>\n",
       "      <td>someone to love</td>\n",
       "    </tr>\n",
       "    <tr>\n",
       "      <th>1</th>\n",
       "      <td>babyface</td>\n",
       "      <td>Don't even like to think about it.I dont know ...</td>\n",
       "      <td>someone to love</td>\n",
       "    </tr>\n",
       "  </tbody>\n",
       "</table>\n",
       "</div>"
      ],
      "text/plain": [
       "     artist                                              lyric  \\\n",
       "0    jon b.  Don't even like to think about it.I dont know ...   \n",
       "1  babyface  Don't even like to think about it.I dont know ...   \n",
       "\n",
       "             title  \n",
       "0  someone to love  \n",
       "1  someone to love  "
      ]
     },
     "execution_count": 374,
     "metadata": {},
     "output_type": "execute_result"
    }
   ],
   "source": [
    "lyrics_data[lyrics_data.title == u\"someone to love\"]"
   ]
  },
  {
   "cell_type": "code",
   "execution_count": 386,
   "metadata": {
    "collapsed": false
   },
   "outputs": [
    {
     "data": {
      "text/html": [
       "<div>\n",
       "<table border=\"1\" class=\"dataframe\">\n",
       "  <thead>\n",
       "    <tr style=\"text-align: right;\">\n",
       "      <th></th>\n",
       "      <th>artist</th>\n",
       "      <th>lyric</th>\n",
       "      <th>title</th>\n",
       "    </tr>\n",
       "  </thead>\n",
       "  <tbody>\n",
       "  </tbody>\n",
       "</table>\n",
       "</div>"
      ],
      "text/plain": [
       "Empty DataFrame\n",
       "Columns: [artist, lyric, title]\n",
       "Index: []"
      ]
     },
     "execution_count": 386,
     "metadata": {},
     "output_type": "execute_result"
    }
   ],
   "source": [
    "l2 = pd.read_pickle('lyrics_data_round1')\n",
    "l2[l2.title == u\"someone to love\"]"
   ]
  },
  {
   "cell_type": "code",
   "execution_count": null,
   "metadata": {
    "collapsed": true
   },
   "outputs": [],
   "source": []
  },
  {
   "cell_type": "code",
   "execution_count": 378,
   "metadata": {
    "collapsed": false
   },
   "outputs": [
    {
     "data": {
      "text/html": [
       "<div>\n",
       "<table border=\"1\" class=\"dataframe\">\n",
       "  <thead>\n",
       "    <tr style=\"text-align: right;\">\n",
       "      <th></th>\n",
       "      <th>date</th>\n",
       "      <th>title</th>\n",
       "      <th>artist</th>\n",
       "      <th>rank</th>\n",
       "      <th>weeks</th>\n",
       "      <th>change_in_rank</th>\n",
       "      <th>spotifyID</th>\n",
       "    </tr>\n",
       "  </thead>\n",
       "  <tbody>\n",
       "    <tr>\n",
       "      <th>0</th>\n",
       "      <td>2005-04-09</td>\n",
       "      <td>How We Do</td>\n",
       "      <td>The Game Featuring 50 Cent</td>\n",
       "      <td>9.0</td>\n",
       "      <td>20.0</td>\n",
       "      <td>-1</td>\n",
       "      <td>4PmMVdIFpJTB9WQbmILf4p</td>\n",
       "    </tr>\n",
       "    <tr>\n",
       "      <th>0</th>\n",
       "      <td>2005-04-02</td>\n",
       "      <td>How We Do</td>\n",
       "      <td>The Game Featuring 50 Cent</td>\n",
       "      <td>8.0</td>\n",
       "      <td>19.0</td>\n",
       "      <td>-1</td>\n",
       "      <td>4PmMVdIFpJTB9WQbmILf4p</td>\n",
       "    </tr>\n",
       "    <tr>\n",
       "      <th>0</th>\n",
       "      <td>2005-03-26</td>\n",
       "      <td>How We Do</td>\n",
       "      <td>The Game Featuring 50 Cent</td>\n",
       "      <td>7.0</td>\n",
       "      <td>18.0</td>\n",
       "      <td>-3</td>\n",
       "      <td>4PmMVdIFpJTB9WQbmILf4p</td>\n",
       "    </tr>\n",
       "    <tr>\n",
       "      <th>0</th>\n",
       "      <td>2005-03-19</td>\n",
       "      <td>How We Do</td>\n",
       "      <td>The Game Featuring 50 Cent</td>\n",
       "      <td>4.0</td>\n",
       "      <td>17.0</td>\n",
       "      <td>0</td>\n",
       "      <td>4PmMVdIFpJTB9WQbmILf4p</td>\n",
       "    </tr>\n",
       "    <tr>\n",
       "      <th>0</th>\n",
       "      <td>2005-03-12</td>\n",
       "      <td>How We Do</td>\n",
       "      <td>The Game Featuring 50 Cent</td>\n",
       "      <td>4.0</td>\n",
       "      <td>16.0</td>\n",
       "      <td>0</td>\n",
       "      <td>4PmMVdIFpJTB9WQbmILf4p</td>\n",
       "    </tr>\n",
       "    <tr>\n",
       "      <th>0</th>\n",
       "      <td>2005-03-05</td>\n",
       "      <td>How We Do</td>\n",
       "      <td>The Game Featuring 50 Cent</td>\n",
       "      <td>4.0</td>\n",
       "      <td>15.0</td>\n",
       "      <td>+1</td>\n",
       "      <td>4PmMVdIFpJTB9WQbmILf4p</td>\n",
       "    </tr>\n",
       "    <tr>\n",
       "      <th>0</th>\n",
       "      <td>2005-02-26</td>\n",
       "      <td>How We Do</td>\n",
       "      <td>The Game Featuring 50 Cent</td>\n",
       "      <td>5.0</td>\n",
       "      <td>14.0</td>\n",
       "      <td>-1</td>\n",
       "      <td>4PmMVdIFpJTB9WQbmILf4p</td>\n",
       "    </tr>\n",
       "    <tr>\n",
       "      <th>0</th>\n",
       "      <td>2005-02-19</td>\n",
       "      <td>How We Do</td>\n",
       "      <td>The Game Featuring 50 Cent</td>\n",
       "      <td>4.0</td>\n",
       "      <td>13.0</td>\n",
       "      <td>+2</td>\n",
       "      <td>4PmMVdIFpJTB9WQbmILf4p</td>\n",
       "    </tr>\n",
       "    <tr>\n",
       "      <th>0</th>\n",
       "      <td>2005-02-12</td>\n",
       "      <td>How We Do</td>\n",
       "      <td>The Game Featuring 50 Cent</td>\n",
       "      <td>6.0</td>\n",
       "      <td>12.0</td>\n",
       "      <td>-1</td>\n",
       "      <td>4PmMVdIFpJTB9WQbmILf4p</td>\n",
       "    </tr>\n",
       "    <tr>\n",
       "      <th>0</th>\n",
       "      <td>2005-02-05</td>\n",
       "      <td>How We Do</td>\n",
       "      <td>The Game Featuring 50 Cent</td>\n",
       "      <td>6.0</td>\n",
       "      <td>11.0</td>\n",
       "      <td>0</td>\n",
       "      <td>4PmMVdIFpJTB9WQbmILf4p</td>\n",
       "    </tr>\n",
       "    <tr>\n",
       "      <th>0</th>\n",
       "      <td>2005-01-29</td>\n",
       "      <td>How We Do</td>\n",
       "      <td>The Game Featuring 50 Cent</td>\n",
       "      <td>6.0</td>\n",
       "      <td>10.0</td>\n",
       "      <td>+3</td>\n",
       "      <td>4PmMVdIFpJTB9WQbmILf4p</td>\n",
       "    </tr>\n",
       "    <tr>\n",
       "      <th>0</th>\n",
       "      <td>2005-01-22</td>\n",
       "      <td>How We Do</td>\n",
       "      <td>The Game Featuring 50 Cent</td>\n",
       "      <td>9.0</td>\n",
       "      <td>9.0</td>\n",
       "      <td>+2</td>\n",
       "      <td>4PmMVdIFpJTB9WQbmILf4p</td>\n",
       "    </tr>\n",
       "  </tbody>\n",
       "</table>\n",
       "</div>"
      ],
      "text/plain": [
       "         date      title                      artist  rank  weeks  \\\n",
       "0  2005-04-09  How We Do  The Game Featuring 50 Cent   9.0   20.0   \n",
       "0  2005-04-02  How We Do  The Game Featuring 50 Cent   8.0   19.0   \n",
       "0  2005-03-26  How We Do  The Game Featuring 50 Cent   7.0   18.0   \n",
       "0  2005-03-19  How We Do  The Game Featuring 50 Cent   4.0   17.0   \n",
       "0  2005-03-12  How We Do  The Game Featuring 50 Cent   4.0   16.0   \n",
       "0  2005-03-05  How We Do  The Game Featuring 50 Cent   4.0   15.0   \n",
       "0  2005-02-26  How We Do  The Game Featuring 50 Cent   5.0   14.0   \n",
       "0  2005-02-19  How We Do  The Game Featuring 50 Cent   4.0   13.0   \n",
       "0  2005-02-12  How We Do  The Game Featuring 50 Cent   6.0   12.0   \n",
       "0  2005-02-05  How We Do  The Game Featuring 50 Cent   6.0   11.0   \n",
       "0  2005-01-29  How We Do  The Game Featuring 50 Cent   6.0   10.0   \n",
       "0  2005-01-22  How We Do  The Game Featuring 50 Cent   9.0    9.0   \n",
       "\n",
       "  change_in_rank               spotifyID  \n",
       "0             -1  4PmMVdIFpJTB9WQbmILf4p  \n",
       "0             -1  4PmMVdIFpJTB9WQbmILf4p  \n",
       "0             -3  4PmMVdIFpJTB9WQbmILf4p  \n",
       "0              0  4PmMVdIFpJTB9WQbmILf4p  \n",
       "0              0  4PmMVdIFpJTB9WQbmILf4p  \n",
       "0             +1  4PmMVdIFpJTB9WQbmILf4p  \n",
       "0             -1  4PmMVdIFpJTB9WQbmILf4p  \n",
       "0             +2  4PmMVdIFpJTB9WQbmILf4p  \n",
       "0             -1  4PmMVdIFpJTB9WQbmILf4p  \n",
       "0              0  4PmMVdIFpJTB9WQbmILf4p  \n",
       "0             +3  4PmMVdIFpJTB9WQbmILf4p  \n",
       "0             +2  4PmMVdIFpJTB9WQbmILf4p  "
      ]
     },
     "execution_count": 378,
     "metadata": {},
     "output_type": "execute_result"
    }
   ],
   "source": [
    "top10_spotify[top10_spotify.title.str.lower() == u\"how we do\"]"
   ]
  },
  {
   "cell_type": "code",
   "execution_count": 380,
   "metadata": {
    "collapsed": false
   },
   "outputs": [
    {
     "data": {
      "text/plain": [
       "4771"
      ]
     },
     "execution_count": 380,
     "metadata": {},
     "output_type": "execute_result"
    }
   ],
   "source": [
    "len(set(zip(lyrics_data.artist,lyrics_data.lyric)))+len(left_over3)"
   ]
  },
  {
   "cell_type": "code",
   "execution_count": 268,
   "metadata": {
    "collapsed": false
   },
   "outputs": [
    {
     "data": {
      "text/plain": [
       "3469"
      ]
     },
     "execution_count": 268,
     "metadata": {},
     "output_type": "execute_result"
    }
   ],
   "source": [
    "test = pd.read_pickle('lyrics_data_round1')\n",
    "len(test)"
   ]
  },
  {
   "cell_type": "code",
   "execution_count": null,
   "metadata": {
    "collapsed": true
   },
   "outputs": [],
   "source": [
    "# unique_title_artist_pairs(4314) --pattern1-->> left_over(943) + round1 data --pattern2-->> left_over2(639) + round2 data\n",
    "# --spotify_name_correct-->> left_over3(453) + round3 data\n",
    "# by using pattern in artist names:  pattern1: 'with| \\(|\\)'  pattern2: \" featuring | \\/ | \\& | x \""
   ]
  },
  {
   "cell_type": "code",
   "execution_count": null,
   "metadata": {
    "collapsed": true
   },
   "outputs": [],
   "source": []
  },
  {
   "cell_type": "code",
   "execution_count": null,
   "metadata": {
    "collapsed": true
   },
   "outputs": [],
   "source": []
  }
 ],
 "metadata": {
  "kernelspec": {
   "display_name": "Python 2",
   "language": "python",
   "name": "python2"
  },
  "language_info": {
   "codemirror_mode": {
    "name": "ipython",
    "version": 2
   },
   "file_extension": ".py",
   "mimetype": "text/x-python",
   "name": "python",
   "nbconvert_exporter": "python",
   "pygments_lexer": "ipython2",
   "version": "2.7.12"
  }
 },
 "nbformat": 4,
 "nbformat_minor": 1
}
