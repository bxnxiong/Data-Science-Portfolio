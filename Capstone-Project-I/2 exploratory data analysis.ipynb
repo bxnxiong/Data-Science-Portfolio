{
 "cells": [
  {
   "cell_type": "markdown",
   "metadata": {},
   "source": [
    "# A short trip in pop music history for the past 50 years, through lens of billboard charts\n",
    "## - Exploratory data analysis on billboard chart to answer 5 questions"
   ]
  },
  {
   "cell_type": "markdown",
   "metadata": {},
   "source": [
    "### question1: which artist has dominated top 1 for longest weeks in the history? Is it Beatles??"
   ]
  },
  {
   "cell_type": "code",
   "execution_count": 1,
   "metadata": {
    "collapsed": false,
    "scrolled": true
   },
   "outputs": [
    {
     "data": {
      "text/html": [
       "<div>\n",
       "<table border=\"1\" class=\"dataframe\">\n",
       "  <thead>\n",
       "    <tr style=\"text-align: right;\">\n",
       "      <th></th>\n",
       "      <th>date</th>\n",
       "      <th>title</th>\n",
       "      <th>artist</th>\n",
       "      <th>rank</th>\n",
       "      <th>weeks</th>\n",
       "      <th>change_in_rank</th>\n",
       "      <th>spotifyID</th>\n",
       "    </tr>\n",
       "  </thead>\n",
       "  <tbody>\n",
       "    <tr>\n",
       "      <th>0</th>\n",
       "      <td>2017-03-18</td>\n",
       "      <td>Shape Of You</td>\n",
       "      <td>Ed Sheeran</td>\n",
       "      <td>1.0</td>\n",
       "      <td>8.0</td>\n",
       "      <td>0</td>\n",
       "      <td>0FE9t6xYkqWXU2ahLh6D8X</td>\n",
       "    </tr>\n",
       "    <tr>\n",
       "      <th>0</th>\n",
       "      <td>2017-03-18</td>\n",
       "      <td>Bad And Boujee</td>\n",
       "      <td>Migos Featuring Lil Uzi Vert</td>\n",
       "      <td>2.0</td>\n",
       "      <td>16.0</td>\n",
       "      <td>0</td>\n",
       "      <td>1FvU97lrWOG2NRxErh6OZz</td>\n",
       "    </tr>\n",
       "    <tr>\n",
       "      <th>0</th>\n",
       "      <td>2017-03-18</td>\n",
       "      <td>I Don't Wanna Live Forever (Fifty Shades Darker)</td>\n",
       "      <td>Zayn / Taylor Swift</td>\n",
       "      <td>3.0</td>\n",
       "      <td>12.0</td>\n",
       "      <td>0</td>\n",
       "      <td>6yIdwnpDHufLWgQcveTPMk</td>\n",
       "    </tr>\n",
       "    <tr>\n",
       "      <th>0</th>\n",
       "      <td>2017-03-18</td>\n",
       "      <td>That's What I Like</td>\n",
       "      <td>Bruno Mars</td>\n",
       "      <td>4.0</td>\n",
       "      <td>7.0</td>\n",
       "      <td>0</td>\n",
       "      <td>0KKkJNfGyhkQ5aFogxQAPU</td>\n",
       "    </tr>\n",
       "    <tr>\n",
       "      <th>0</th>\n",
       "      <td>2017-03-18</td>\n",
       "      <td>Something Just Like This</td>\n",
       "      <td>The Chainsmokers &amp; Coldplay</td>\n",
       "      <td>5.0</td>\n",
       "      <td>2.0</td>\n",
       "      <td>+51</td>\n",
       "      <td></td>\n",
       "    </tr>\n",
       "  </tbody>\n",
       "</table>\n",
       "</div>"
      ],
      "text/plain": [
       "         date                                             title  \\\n",
       "0  2017-03-18                                      Shape Of You   \n",
       "0  2017-03-18                                    Bad And Boujee   \n",
       "0  2017-03-18  I Don't Wanna Live Forever (Fifty Shades Darker)   \n",
       "0  2017-03-18                                That's What I Like   \n",
       "0  2017-03-18                          Something Just Like This   \n",
       "\n",
       "                         artist  rank  weeks change_in_rank  \\\n",
       "0                    Ed Sheeran   1.0    8.0              0   \n",
       "0  Migos Featuring Lil Uzi Vert   2.0   16.0              0   \n",
       "0           Zayn / Taylor Swift   3.0   12.0              0   \n",
       "0                    Bruno Mars   4.0    7.0              0   \n",
       "0   The Chainsmokers & Coldplay   5.0    2.0            +51   \n",
       "\n",
       "                spotifyID  \n",
       "0  0FE9t6xYkqWXU2ahLh6D8X  \n",
       "0  1FvU97lrWOG2NRxErh6OZz  \n",
       "0  6yIdwnpDHufLWgQcveTPMk  \n",
       "0  0KKkJNfGyhkQ5aFogxQAPU  \n",
       "0                          "
      ]
     },
     "execution_count": 1,
     "metadata": {},
     "output_type": "execute_result"
    }
   ],
   "source": [
    "import pandas as pd\n",
    "top10 = pd.read_pickle('Billboard_data')\n",
    "top10.head()"
   ]
  },
  {
   "cell_type": "code",
   "execution_count": 2,
   "metadata": {
    "collapsed": false
   },
   "outputs": [
    {
     "data": {
      "text/plain": [
       "<matplotlib.axes._subplots.AxesSubplot at 0x10a73be10>"
      ]
     },
     "execution_count": 2,
     "metadata": {},
     "output_type": "execute_result"
    },
    {
     "data": {
      "image/png": "[encoded data removed]",
      "text/plain": [
       "<matplotlib.figure.Figure at 0x10a73b510>"
      ]
     },
     "metadata": {},
     "output_type": "display_data"
    }
   ],
   "source": [
    "%matplotlib inline\n",
    "import matplotlib.pyplot as plt\n",
    "import seaborn as sns\n",
    "\n",
    "plt.rcParams['figure.figsize'] = (8,6)\n",
    "top1 = top10[top10['rank']==1.0]\n",
    "top1.artist.value_counts()[:10].plot(kind='bar',title='# of Top 1 Hit Songs by Artist')"
   ]
  },
  {
   "cell_type": "markdown",
   "metadata": {},
   "source": [
    "Turns out Mariah Carey has more times ranked 1 on billboard history! Also this result is not considering many collaborated song Mariah Carey have with Boyz II Men and other artists.\n",
    "\n",
    "Also some very recent singers like The Black Eyed Peas and Adele both have more than 20 times ranked top 1.\n",
    "\n",
    "Now I wonder if their success comes from some very successful songs, or they are powerful enough to land as many songs as possible onto billboard?"
   ]
  },
  {
   "cell_type": "code",
   "execution_count": 3,
   "metadata": {
    "collapsed": true
   },
   "outputs": [],
   "source": [
    "unique_title_artist = top10.drop_duplicates(subset=['title','artist'],keep='first')"
   ]
  },
  {
   "cell_type": "code",
   "execution_count": 4,
   "metadata": {
    "collapsed": false
   },
   "outputs": [
    {
     "data": {
      "text/plain": [
       "<matplotlib.axes._subplots.AxesSubplot at 0x10a8124d0>"
      ]
     },
     "execution_count": 4,
     "metadata": {},
     "output_type": "execute_result"
    },
    {
     "data": {
      "image/png": "[encoded data removed]",
      "text/plain": [
       "<matplotlib.figure.Figure at 0x10a8cad90>"
      ]
     },
     "metadata": {},
     "output_type": "display_data"
    }
   ],
   "source": [
    "unique_title_artist.groupby('artist').size().sort_values(ascending=False)[:10].plot(\n",
    "    kind='bar',title='# of Unique Top 10 Songs by Artist')"
   ]
  },
  {
   "cell_type": "markdown",
   "metadata": {},
   "source": [
    "Madonna has largest number of popular songs in billboard history. The Beatles has more popular songs than Mariah Carey,and we also see other familiar names coming up, such as Stevie Wonder, Elton John,and Machael Jackson"
   ]
  },
  {
   "cell_type": "markdown",
   "metadata": {},
   "source": [
    "### question2: which song is most liked for the longest time(or it topped 1st place for longest continuous weeks)? and how long is it? Which song is among top 10 for most of the weeks(not continuously)?"
   ]
  },
  {
   "cell_type": "code",
   "execution_count": 5,
   "metadata": {
    "collapsed": false
   },
   "outputs": [
    {
     "data": {
      "text/html": [
       "<div>\n",
       "<table border=\"1\" class=\"dataframe\">\n",
       "  <thead>\n",
       "    <tr style=\"text-align: right;\">\n",
       "      <th></th>\n",
       "      <th>title_artist</th>\n",
       "      <th>continuous_weeks</th>\n",
       "    </tr>\n",
       "  </thead>\n",
       "  <tbody>\n",
       "    <tr>\n",
       "      <th>0</th>\n",
       "      <td>One Sweet Day by Mariah Carey &amp; Boyz II Men</td>\n",
       "      <td>16</td>\n",
       "    </tr>\n",
       "    <tr>\n",
       "      <th>1</th>\n",
       "      <td>Uptown Funk! by Mark Ronson Featuring Bruno Mars</td>\n",
       "      <td>14</td>\n",
       "    </tr>\n",
       "    <tr>\n",
       "      <th>2</th>\n",
       "      <td>I Gotta Feeling by The Black Eyed Peas</td>\n",
       "      <td>14</td>\n",
       "    </tr>\n",
       "    <tr>\n",
       "      <th>3</th>\n",
       "      <td>Candle In The Wind 1997/Something About The Wa...</td>\n",
       "      <td>14</td>\n",
       "    </tr>\n",
       "    <tr>\n",
       "      <th>4</th>\n",
       "      <td>Macarena (Bayside Boys Mix) by Los Del Rio</td>\n",
       "      <td>14</td>\n",
       "    </tr>\n",
       "    <tr>\n",
       "      <th>5</th>\n",
       "      <td>I ll Make Love To You by Boyz II Men</td>\n",
       "      <td>14</td>\n",
       "    </tr>\n",
       "    <tr>\n",
       "      <th>6</th>\n",
       "      <td>I Will Always Love You (From \"The Bodyguard\") ...</td>\n",
       "      <td>14</td>\n",
       "    </tr>\n",
       "    <tr>\n",
       "      <th>7</th>\n",
       "      <td>The Boy Is Mine by Brandy</td>\n",
       "      <td>13</td>\n",
       "    </tr>\n",
       "    <tr>\n",
       "      <th>8</th>\n",
       "      <td>End Of The Road (From \"Boomerang\") by Boyz II Men</td>\n",
       "      <td>13</td>\n",
       "    </tr>\n",
       "    <tr>\n",
       "      <th>9</th>\n",
       "      <td>Closer by The Chainsmokers Featuring Halsey</td>\n",
       "      <td>12</td>\n",
       "    </tr>\n",
       "  </tbody>\n",
       "</table>\n",
       "</div>"
      ],
      "text/plain": [
       "                                        title_artist  continuous_weeks\n",
       "0        One Sweet Day by Mariah Carey & Boyz II Men                16\n",
       "1   Uptown Funk! by Mark Ronson Featuring Bruno Mars                14\n",
       "2             I Gotta Feeling by The Black Eyed Peas                14\n",
       "3  Candle In The Wind 1997/Something About The Wa...                14\n",
       "4         Macarena (Bayside Boys Mix) by Los Del Rio                14\n",
       "5               I ll Make Love To You by Boyz II Men                14\n",
       "6  I Will Always Love You (From \"The Bodyguard\") ...                14\n",
       "7                          The Boy Is Mine by Brandy                13\n",
       "8  End Of The Road (From \"Boomerang\") by Boyz II Men                13\n",
       "9        Closer by The Chainsmokers Featuring Halsey                12"
      ]
     },
     "execution_count": 5,
     "metadata": {},
     "output_type": "execute_result"
    }
   ],
   "source": [
    "# continuous top 1\n",
    "top1.head(10)\n",
    "titles = top1.title.values\n",
    "artists = top1.artist.values\n",
    "continuous_weeks = []\n",
    "count = 1\n",
    "\n",
    "for i in xrange(1,len(titles)):\n",
    "    if titles[i] == titles[i-1]:\n",
    "        count += 1\n",
    "    else:\n",
    "        continuous_weeks.append((titles[i-1]+u' by '+artists[i-1],count))\n",
    "        count = 1\n",
    "continuous_weeks.sort(key=lambda x:-x[1])\n",
    "pd.DataFrame(continuous_weeks[:10],columns=['title_artist','continuous_weeks'])"
   ]
  },
  {
   "cell_type": "markdown",
   "metadata": {},
   "source": [
    "Record high goes to 'One Sweet Day' by Mariah Carey & Boyz II Men, people basically can see this song dominating as Top 1 on Billboard chart for four whole months! That's impressive!\n",
    "\n",
    "How about top 10 songs counting not continuously? Basically just count how many times that song appeared in top 10"
   ]
  },
  {
   "cell_type": "code",
   "execution_count": 6,
   "metadata": {
    "collapsed": false
   },
   "outputs": [
    {
     "data": {
      "text/html": [
       "<div>\n",
       "<table border=\"1\" class=\"dataframe\">\n",
       "  <thead>\n",
       "    <tr style=\"text-align: right;\">\n",
       "      <th></th>\n",
       "      <th>title</th>\n",
       "      <th>artist</th>\n",
       "      <th>weeks</th>\n",
       "    </tr>\n",
       "  </thead>\n",
       "  <tbody>\n",
       "    <tr>\n",
       "      <th>0</th>\n",
       "      <td>How Do I Live</td>\n",
       "      <td>LeAnn Rimes</td>\n",
       "      <td>32</td>\n",
       "    </tr>\n",
       "    <tr>\n",
       "      <th>1</th>\n",
       "      <td>Closer</td>\n",
       "      <td>The Chainsmokers Featuring Halsey</td>\n",
       "      <td>31</td>\n",
       "    </tr>\n",
       "    <tr>\n",
       "      <th>2</th>\n",
       "      <td>Uptown Funk!</td>\n",
       "      <td>Mark Ronson Featuring Bruno Mars</td>\n",
       "      <td>31</td>\n",
       "    </tr>\n",
       "    <tr>\n",
       "      <th>3</th>\n",
       "      <td>Smooth</td>\n",
       "      <td>Santana Featuring Rob Thomas</td>\n",
       "      <td>30</td>\n",
       "    </tr>\n",
       "    <tr>\n",
       "      <th>4</th>\n",
       "      <td>Party Rock Anthem</td>\n",
       "      <td>LMFAO Featuring Lauren Bennett &amp; GoonRock</td>\n",
       "      <td>29</td>\n",
       "    </tr>\n",
       "    <tr>\n",
       "      <th>5</th>\n",
       "      <td>Foolish Games/You Were Meant For Me</td>\n",
       "      <td>Jewel</td>\n",
       "      <td>28</td>\n",
       "    </tr>\n",
       "    <tr>\n",
       "      <th>6</th>\n",
       "      <td>Truly Madly Deeply</td>\n",
       "      <td>Savage Garden</td>\n",
       "      <td>26</td>\n",
       "    </tr>\n",
       "    <tr>\n",
       "      <th>7</th>\n",
       "      <td>Un-Break My Heart</td>\n",
       "      <td>Toni Braxton</td>\n",
       "      <td>25</td>\n",
       "    </tr>\n",
       "    <tr>\n",
       "      <th>8</th>\n",
       "      <td>Apologize</td>\n",
       "      <td>Timbaland Featuring OneRepublic</td>\n",
       "      <td>25</td>\n",
       "    </tr>\n",
       "    <tr>\n",
       "      <th>9</th>\n",
       "      <td>The Twist</td>\n",
       "      <td>Chubby Checker</td>\n",
       "      <td>25</td>\n",
       "    </tr>\n",
       "  </tbody>\n",
       "</table>\n",
       "</div>"
      ],
      "text/plain": [
       "                                 title  \\\n",
       "0                        How Do I Live   \n",
       "1                               Closer   \n",
       "2                         Uptown Funk!   \n",
       "3                               Smooth   \n",
       "4                    Party Rock Anthem   \n",
       "5  Foolish Games/You Were Meant For Me   \n",
       "6                   Truly Madly Deeply   \n",
       "7                    Un-Break My Heart   \n",
       "8                            Apologize   \n",
       "9                            The Twist   \n",
       "\n",
       "                                      artist  weeks  \n",
       "0                                LeAnn Rimes     32  \n",
       "1          The Chainsmokers Featuring Halsey     31  \n",
       "2           Mark Ronson Featuring Bruno Mars     31  \n",
       "3               Santana Featuring Rob Thomas     30  \n",
       "4  LMFAO Featuring Lauren Bennett & GoonRock     29  \n",
       "5                                      Jewel     28  \n",
       "6                              Savage Garden     26  \n",
       "7                               Toni Braxton     25  \n",
       "8            Timbaland Featuring OneRepublic     25  \n",
       "9                             Chubby Checker     25  "
      ]
     },
     "execution_count": 6,
     "metadata": {},
     "output_type": "execute_result"
    }
   ],
   "source": [
    "top10.groupby(['title','artist']).size().sort_values(ascending=False)[:10].reset_index().rename(\n",
    "    index=str,columns={'title':'title','artist':'artist',0:'weeks'})"
   ]
  },
  {
   "cell_type": "markdown",
   "metadata": {},
   "source": [
    "In this way we get to know more less famous artists, and we also learn this:\n",
    "\n",
    "being able to stay the longest weeks as top 1 does not necessarily mean you can also stay the longest in top 10 chart. For example in the above table, we can't find any Mariah Carey song."
   ]
  },
  {
   "cell_type": "markdown",
   "metadata": {},
   "source": [
    "### question3: which artist's tracks likes to bomb the chart?(i.e. become top 1 once released)"
   ]
  },
  {
   "cell_type": "code",
   "execution_count": 7,
   "metadata": {
    "collapsed": false
   },
   "outputs": [
    {
     "data": {
      "text/html": [
       "<div>\n",
       "<table border=\"1\" class=\"dataframe\">\n",
       "  <thead>\n",
       "    <tr style=\"text-align: right;\">\n",
       "      <th></th>\n",
       "      <th>date</th>\n",
       "      <th>title</th>\n",
       "      <th>artist</th>\n",
       "      <th>rank</th>\n",
       "      <th>weeks</th>\n",
       "      <th>change_in_rank</th>\n",
       "      <th>spotifyID</th>\n",
       "    </tr>\n",
       "  </thead>\n",
       "  <tbody>\n",
       "    <tr>\n",
       "      <th>0</th>\n",
       "      <td>2017-01-28</td>\n",
       "      <td>Shape Of You</td>\n",
       "      <td>Ed Sheeran</td>\n",
       "      <td>1.0</td>\n",
       "      <td>1.0</td>\n",
       "      <td>Hot Shot Debut</td>\n",
       "      <td>0FE9t6xYkqWXU2ahLh6D8X</td>\n",
       "    </tr>\n",
       "    <tr>\n",
       "      <th>0</th>\n",
       "      <td>2016-05-28</td>\n",
       "      <td>Can't Stop The Feeling!</td>\n",
       "      <td>Justin Timberlake</td>\n",
       "      <td>1.0</td>\n",
       "      <td>1.0</td>\n",
       "      <td>Hot Shot Debut</td>\n",
       "      <td>6JV2JOEocMgcZxYSZelKcc</td>\n",
       "    </tr>\n",
       "    <tr>\n",
       "      <th>0</th>\n",
       "      <td>2016-02-20</td>\n",
       "      <td>Pillowtalk</td>\n",
       "      <td>Zayn</td>\n",
       "      <td>1.0</td>\n",
       "      <td>1.0</td>\n",
       "      <td>Hot Shot Debut</td>\n",
       "      <td>0IKK48xF4eEdfofyaeKWWO</td>\n",
       "    </tr>\n",
       "    <tr>\n",
       "      <th>0</th>\n",
       "      <td>2015-11-14</td>\n",
       "      <td>Hello</td>\n",
       "      <td>Adele</td>\n",
       "      <td>1.0</td>\n",
       "      <td>1.0</td>\n",
       "      <td>Hot Shot Debut</td>\n",
       "      <td>1MDoll6jK4rrk2BcFRP5i7</td>\n",
       "    </tr>\n",
       "    <tr>\n",
       "      <th>0</th>\n",
       "      <td>2015-09-19</td>\n",
       "      <td>What Do You Mean?</td>\n",
       "      <td>Justin Bieber</td>\n",
       "      <td>1.0</td>\n",
       "      <td>1.0</td>\n",
       "      <td>Hot Shot Debut</td>\n",
       "      <td>1ds2QsfhAAfRiaFMGDzrdb</td>\n",
       "    </tr>\n",
       "    <tr>\n",
       "      <th>0</th>\n",
       "      <td>2014-09-06</td>\n",
       "      <td>Shake It Off</td>\n",
       "      <td>Taylor Swift</td>\n",
       "      <td>1.0</td>\n",
       "      <td>1.0</td>\n",
       "      <td>Hot Shot Debut</td>\n",
       "      <td>7zCCVZBgy3Ij5fX7S4fs60</td>\n",
       "    </tr>\n",
       "    <tr>\n",
       "      <th>0</th>\n",
       "      <td>2013-03-02</td>\n",
       "      <td>Harlem Shake</td>\n",
       "      <td>Baauer</td>\n",
       "      <td>1.0</td>\n",
       "      <td>1.0</td>\n",
       "      <td>Hot Shot Debut</td>\n",
       "      <td>2eP6GhdRE1Ydnw2uXzo7q8</td>\n",
       "    </tr>\n",
       "    <tr>\n",
       "      <th>0</th>\n",
       "      <td>2012-03-03</td>\n",
       "      <td>Part Of Me</td>\n",
       "      <td>Katy Perry</td>\n",
       "      <td>1.0</td>\n",
       "      <td>1.0</td>\n",
       "      <td>Hot Shot Debut</td>\n",
       "      <td>1nZzRJbFvCEct3uzu04ZoL</td>\n",
       "    </tr>\n",
       "    <tr>\n",
       "      <th>0</th>\n",
       "      <td>2011-02-26</td>\n",
       "      <td>Born This Way</td>\n",
       "      <td>Lady Gaga</td>\n",
       "      <td>1.0</td>\n",
       "      <td>1.0</td>\n",
       "      <td>Hot Shot Debut</td>\n",
       "      <td>0FC7X3BRdEJC8L4ZEUAv2Q</td>\n",
       "    </tr>\n",
       "    <tr>\n",
       "      <th>0</th>\n",
       "      <td>2011-01-29</td>\n",
       "      <td>Hold It Against Me</td>\n",
       "      <td>Britney Spears</td>\n",
       "      <td>1.0</td>\n",
       "      <td>1.0</td>\n",
       "      <td>Hot Shot Debut</td>\n",
       "      <td>6CnuehRR8GVXJfzCs25GX9</td>\n",
       "    </tr>\n",
       "    <tr>\n",
       "      <th>0</th>\n",
       "      <td>2010-11-13</td>\n",
       "      <td>We R Who We R</td>\n",
       "      <td>Ke$ha</td>\n",
       "      <td>1.0</td>\n",
       "      <td>1.0</td>\n",
       "      <td>Hot Shot Debut</td>\n",
       "      <td>5jaz6aiRknA63NIYWdbr2O</td>\n",
       "    </tr>\n",
       "    <tr>\n",
       "      <th>0</th>\n",
       "      <td>2010-05-22</td>\n",
       "      <td>Not Afraid</td>\n",
       "      <td>Eminem</td>\n",
       "      <td>1.0</td>\n",
       "      <td>1.0</td>\n",
       "      <td>Hot Shot Debut</td>\n",
       "      <td>7Ie9W94M7OjPoZVV216Xus</td>\n",
       "    </tr>\n",
       "    <tr>\n",
       "      <th>0</th>\n",
       "      <td>2009-10-24</td>\n",
       "      <td>3</td>\n",
       "      <td>Britney Spears</td>\n",
       "      <td>1.0</td>\n",
       "      <td>1.0</td>\n",
       "      <td>Hot Shot Debut</td>\n",
       "      <td>7eusnHDVdvqjUGAigj77XC</td>\n",
       "    </tr>\n",
       "    <tr>\n",
       "      <th>0</th>\n",
       "      <td>2006-07-01</td>\n",
       "      <td>Do I Make You Proud</td>\n",
       "      <td>Taylor Hicks</td>\n",
       "      <td>1.0</td>\n",
       "      <td>1.0</td>\n",
       "      <td>Hot Shot Debut</td>\n",
       "      <td>2jv9Ppwz9u3lqWfXV0q2sW</td>\n",
       "    </tr>\n",
       "    <tr>\n",
       "      <th>0</th>\n",
       "      <td>2005-07-02</td>\n",
       "      <td>Inside Your Heaven</td>\n",
       "      <td>Carrie Underwood</td>\n",
       "      <td>1.0</td>\n",
       "      <td>1.0</td>\n",
       "      <td>Hot Shot Debut</td>\n",
       "      <td>3w8xlZi49MQuQkyyB5bi5e</td>\n",
       "    </tr>\n",
       "    <tr>\n",
       "      <th>0</th>\n",
       "      <td>2004-07-10</td>\n",
       "      <td>I Believe</td>\n",
       "      <td>Fantasia</td>\n",
       "      <td>1.0</td>\n",
       "      <td>1.0</td>\n",
       "      <td>Hot Shot Debut</td>\n",
       "      <td>2zZJnAlhgvW6DERn1tu3fb</td>\n",
       "    </tr>\n",
       "    <tr>\n",
       "      <th>0</th>\n",
       "      <td>2003-06-28</td>\n",
       "      <td>This Is The Night</td>\n",
       "      <td>Clay Aiken</td>\n",
       "      <td>1.0</td>\n",
       "      <td>1.0</td>\n",
       "      <td>Hot Shot Debut</td>\n",
       "      <td>6QP46GKcggdxLbVLWilLVc</td>\n",
       "    </tr>\n",
       "  </tbody>\n",
       "</table>\n",
       "</div>"
      ],
      "text/plain": [
       "         date                    title             artist  rank  weeks  \\\n",
       "0  2017-01-28             Shape Of You         Ed Sheeran   1.0    1.0   \n",
       "0  2016-05-28  Can't Stop The Feeling!  Justin Timberlake   1.0    1.0   \n",
       "0  2016-02-20               Pillowtalk               Zayn   1.0    1.0   \n",
       "0  2015-11-14                    Hello              Adele   1.0    1.0   \n",
       "0  2015-09-19        What Do You Mean?      Justin Bieber   1.0    1.0   \n",
       "0  2014-09-06             Shake It Off       Taylor Swift   1.0    1.0   \n",
       "0  2013-03-02             Harlem Shake             Baauer   1.0    1.0   \n",
       "0  2012-03-03               Part Of Me         Katy Perry   1.0    1.0   \n",
       "0  2011-02-26            Born This Way          Lady Gaga   1.0    1.0   \n",
       "0  2011-01-29       Hold It Against Me     Britney Spears   1.0    1.0   \n",
       "0  2010-11-13            We R Who We R              Ke$ha   1.0    1.0   \n",
       "0  2010-05-22               Not Afraid             Eminem   1.0    1.0   \n",
       "0  2009-10-24                        3     Britney Spears   1.0    1.0   \n",
       "0  2006-07-01      Do I Make You Proud       Taylor Hicks   1.0    1.0   \n",
       "0  2005-07-02       Inside Your Heaven   Carrie Underwood   1.0    1.0   \n",
       "0  2004-07-10                I Believe           Fantasia   1.0    1.0   \n",
       "0  2003-06-28        This Is The Night         Clay Aiken   1.0    1.0   \n",
       "\n",
       "   change_in_rank               spotifyID  \n",
       "0  Hot Shot Debut  0FE9t6xYkqWXU2ahLh6D8X  \n",
       "0  Hot Shot Debut  6JV2JOEocMgcZxYSZelKcc  \n",
       "0  Hot Shot Debut  0IKK48xF4eEdfofyaeKWWO  \n",
       "0  Hot Shot Debut  1MDoll6jK4rrk2BcFRP5i7  \n",
       "0  Hot Shot Debut  1ds2QsfhAAfRiaFMGDzrdb  \n",
       "0  Hot Shot Debut  7zCCVZBgy3Ij5fX7S4fs60  \n",
       "0  Hot Shot Debut  2eP6GhdRE1Ydnw2uXzo7q8  \n",
       "0  Hot Shot Debut  1nZzRJbFvCEct3uzu04ZoL  \n",
       "0  Hot Shot Debut  0FC7X3BRdEJC8L4ZEUAv2Q  \n",
       "0  Hot Shot Debut  6CnuehRR8GVXJfzCs25GX9  \n",
       "0  Hot Shot Debut  5jaz6aiRknA63NIYWdbr2O  \n",
       "0  Hot Shot Debut  7Ie9W94M7OjPoZVV216Xus  \n",
       "0  Hot Shot Debut  7eusnHDVdvqjUGAigj77XC  \n",
       "0  Hot Shot Debut  2jv9Ppwz9u3lqWfXV0q2sW  \n",
       "0  Hot Shot Debut  3w8xlZi49MQuQkyyB5bi5e  \n",
       "0  Hot Shot Debut  2zZJnAlhgvW6DERn1tu3fb  \n",
       "0  Hot Shot Debut  6QP46GKcggdxLbVLWilLVc  "
      ]
     },
     "execution_count": 7,
     "metadata": {},
     "output_type": "execute_result"
    }
   ],
   "source": [
    "# define the bomb: rank = 1 and weeks = 1, if on chart for the first week it has ranked top 1 then it's a bomb\n",
    "top1[top1.change_in_rank==u\"Hot Shot Debut\"]"
   ]
  },
  {
   "cell_type": "markdown",
   "metadata": {},
   "source": [
    "### It's interesting that all these songs come from 21st century. \n",
    "Maybe one of the reasons is that listeners' access to good songs nowadays has increased compared with the situation in the past, where the spreading speed of songs could be much slower than now.\n"
   ]
  },
  {
   "cell_type": "markdown",
   "metadata": {},
   "source": [
    "### question4: continued from above analysis on songs' total number of weeks on the billboard chart, how has the total number changed over time? If decreased we could conclude the competition has increased over the years"
   ]
  },
  {
   "cell_type": "code",
   "execution_count": 8,
   "metadata": {
    "collapsed": false
   },
   "outputs": [
    {
     "data": {
      "text/html": [
       "<div>\n",
       "<table border=\"1\" class=\"dataframe\">\n",
       "  <thead>\n",
       "    <tr style=\"text-align: right;\">\n",
       "      <th></th>\n",
       "      <th>weeks</th>\n",
       "      <th>year</th>\n",
       "    </tr>\n",
       "  </thead>\n",
       "  <tbody>\n",
       "    <tr>\n",
       "      <th>Sensitivity by Ralph Tresvant</th>\n",
       "      <td>8</td>\n",
       "      <td>1991</td>\n",
       "    </tr>\n",
       "    <tr>\n",
       "      <th>That's All You Gotta Do by Brenda Lee</th>\n",
       "      <td>5</td>\n",
       "      <td>1960</td>\n",
       "    </tr>\n",
       "  </tbody>\n",
       "</table>\n",
       "</div>"
      ],
      "text/plain": [
       "                                       weeks  year\n",
       "Sensitivity by Ralph Tresvant              8  1991\n",
       "That's All You Gotta Do by Brenda Lee      5  1960"
      ]
     },
     "execution_count": 8,
     "metadata": {},
     "output_type": "execute_result"
    }
   ],
   "source": [
    "# for every song in the chart, get the largest weeks number, then analyze their relationship with date\n",
    "top10['year'] = map(lambda x:x.split('-')[0],top10.date.values)\n",
    "song_weeks = {}\n",
    "for i in xrange(len(top10)):\n",
    "    title_artist,year = top10.title.iloc[i]+u' by '+top10.artist.iloc[i],top10.year.iloc[i]\n",
    "    if title_artist not in song_weeks:\n",
    "        song_weeks[title_artist] = (1,year)\n",
    "    else:\n",
    "        song_weeks[title_artist] = song_weeks[title_artist][0]+1,song_weeks[title_artist][1]\n",
    "    \n",
    "song_weeks = pd.DataFrame(song_weeks.values(),song_weeks.keys(),columns = ['weeks','year'])\n",
    "song_weeks.head(2)"
   ]
  },
  {
   "cell_type": "code",
   "execution_count": 9,
   "metadata": {
    "collapsed": false,
    "scrolled": false
   },
   "outputs": [
    {
     "data": {
      "text/plain": [
       "<matplotlib.text.Text at 0x10b23d810>"
      ]
     },
     "execution_count": 9,
     "metadata": {},
     "output_type": "execute_result"
    },
    {
     "data": {
      "image/png": "[encoded data removed]",
      "text/plain": [
       "<matplotlib.figure.Figure at 0x1076a8b10>"
      ]
     },
     "metadata": {},
     "output_type": "display_data"
    }
   ],
   "source": [
    "mean_weeks = song_weeks.groupby('year').mean()\n",
    "\n",
    "total_songs = song_weeks.groupby('year').size()\n",
    "fig,ax1 = plt.subplots()\n",
    "ax2 = ax1.twinx()\n",
    "ax1.plot(mean_weeks,color='skyblue')\n",
    "ax2.plot(total_songs,color='orange')\n",
    "ax1.set_xlabel('year')\n",
    "ax1.set_ylabel('avg weeks',color='skyblue')\n",
    "ax2.set_ylabel('# of songs',color='orange')"
   ]
  },
  {
   "cell_type": "markdown",
   "metadata": {},
   "source": [
    "We can find something interesting here. \n",
    "\n",
    "- 1.Total unique songs on the billboard chart is decreasing, which means the competition to get on board is not as intense as in the 1980s or 1960s, or artists are getting good at making growingly addictive songs!\n",
    "\n",
    "- 2.The competition for billboard got very intense during 1970s and 1990s, with a slight drop during 1980s.As we went into 21st centure, the competition got relaxed by seeing half as many songs competing as in 1990s."
   ]
  },
  {
   "cell_type": "markdown",
   "metadata": {},
   "source": [
    "It gets more interesting when we compare above info with the graph telling us which particular song lasts longest time each year"
   ]
  },
  {
   "cell_type": "code",
   "execution_count": 10,
   "metadata": {
    "collapsed": false,
    "scrolled": true
   },
   "outputs": [
    {
     "data": {
      "text/plain": [
       "<matplotlib.axes._subplots.AxesSubplot at 0x10b2a5810>"
      ]
     },
     "execution_count": 10,
     "metadata": {},
     "output_type": "execute_result"
    },
    {
     "data": {
      "image/png": "[encoded data removed]",
      "text/plain": [
       "<matplotlib.figure.Figure at 0x1076a8d50>"
      ]
     },
     "metadata": {},
     "output_type": "display_data"
    }
   ],
   "source": [
    "yearly_long_live_songs = song_weeks.sort_values('weeks',ascending=False)\n",
    "yearly_long_live_songs.drop_duplicates(subset=['year'],keep='first',inplace=True)\n",
    "yearly_long_live_songs = yearly_long_live_songs.sort_values('year')\n",
    "# plt.plot(yearly_long_live_songs.year,yearly_long_live_songs.weeks)\n",
    "yearly_long_live_songs = yearly_long_live_songs.set_index('year')\n",
    "yearly_long_live_songs.plot(kind='line')"
   ]
  },
  {
   "cell_type": "markdown",
   "metadata": {},
   "source": [
    "We have seen 1970s and 1990s have most unique songs on billboard history, but this graph tells us that compared with 1970s, 1990s is the both most competitive and of high popularity songs in pop music history, with songs lasting averagely 25 weeks in the mid to late 90s."
   ]
  },
  {
   "cell_type": "markdown",
   "metadata": {},
   "source": [
    "### question5: are songs performed by collaborated artists becoming more popular than before?"
   ]
  },
  {
   "cell_type": "code",
   "execution_count": 11,
   "metadata": {
    "collapsed": true
   },
   "outputs": [],
   "source": [
    "artists = top10.artist.values\n",
    "import re\n",
    "artist_pairs = map(lambda x:re.split(\" Featuring | \\/ | \\& | x | feat. \",x),artists)\n",
    "top10['n_artists'] = [len(i) for i in artist_pairs]"
   ]
  },
  {
   "cell_type": "code",
   "execution_count": 12,
   "metadata": {
    "collapsed": false
   },
   "outputs": [
    {
     "data": {
      "text/plain": [
       "<matplotlib.axes._subplots.AxesSubplot at 0x10b2d6710>"
      ]
     },
     "execution_count": 12,
     "metadata": {},
     "output_type": "execute_result"
    },
    {
     "data": {
      "image/png": "[encoded data removed]",
      "text/plain": [
       "<matplotlib.figure.Figure at 0x10ab80650>"
      ]
     },
     "metadata": {},
     "output_type": "display_data"
    }
   ],
   "source": [
    "test = top10[['title','n_artists','year']].groupby(['year','title']).mean()\n",
    "unique_song_table = pd.DataFrame(zip(test.index.get_level_values('year'),test.n_artists),columns = ['year','n_artists'])\n",
    "unique_song_table.groupby('year').mean().plot(kind='line')"
   ]
  },
  {
   "cell_type": "markdown",
   "metadata": {},
   "source": [
    "We can see more artists collaboration work on the top 10 charts!"
   ]
  },
  {
   "cell_type": "markdown",
   "metadata": {
    "collapsed": true
   },
   "source": [
    "# Conclusion\n",
    "\n",
    "By answering previous questions we have a general idea as to:\n",
    "- which song by artist lasted longest weeks as top 1 hit?\n",
    "- which artist can produce most top 10 songs?\n",
    "- which top 10 song lasted longest weeks?\n",
    "- pattern in hot debut songs in recent years\n",
    "- over time how # of unique songs on billboard chart and average # of weeks they have?\n",
    "- is collaboration in songs becoming more popular?\n",
    "\n",
    "We can clearly see that historically, 1990s is a very good time period for music lovers because they have a lot variety of songs to choose to listen to, and some of these songs are extremely popular in the mid to late 90s, songs from 90s are likely to become a classic. That's why I LOVE 90s songs!\n",
    "\n",
    "Also we can find out that as technology allows more and various access to music, it's easier for modern artists to produce hot debut songs and land as top 1 hit on Billboard once they release them. Also collaboration between artists are increasingly popular as they put more songs onto Billboard than in the 20th century"
   ]
  }
 ],
 "metadata": {
  "kernelspec": {
   "display_name": "Python 2",
   "language": "python",
   "name": "python2"
  },
  "language_info": {
   "codemirror_mode": {
    "name": "ipython",
    "version": 2
   },
   "file_extension": ".py",
   "mimetype": "text/x-python",
   "name": "python",
   "nbconvert_exporter": "python",
   "pygments_lexer": "ipython2",
   "version": "2.7.12"
  }
 },
 "nbformat": 4,
 "nbformat_minor": 1
}
