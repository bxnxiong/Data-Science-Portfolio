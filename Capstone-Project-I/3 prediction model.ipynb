{
 "cells": [
  {
   "cell_type": "markdown",
   "metadata": {},
   "source": [
    "# Build basic model using audio features only\n",
    "\n",
    "models used: Logistic Regression(baseline), SVM, random forest"
   ]
  },
  {
   "cell_type": "code",
   "execution_count": 1,
   "metadata": {
    "collapsed": false
   },
   "outputs": [
    {
     "data": {
      "text/html": [
       "<div>\n",
       "<table border=\"1\" class=\"dataframe\">\n",
       "  <thead>\n",
       "    <tr style=\"text-align: right;\">\n",
       "      <th></th>\n",
       "      <th>acousticness</th>\n",
       "      <th>danceability</th>\n",
       "      <th>duration_ms</th>\n",
       "      <th>energy</th>\n",
       "      <th>instrumentalness</th>\n",
       "      <th>key</th>\n",
       "      <th>liveness</th>\n",
       "      <th>loudness</th>\n",
       "      <th>mode</th>\n",
       "      <th>speechiness</th>\n",
       "      <th>tempo</th>\n",
       "      <th>time_signature</th>\n",
       "      <th>uri</th>\n",
       "      <th>valence</th>\n",
       "      <th>is_top10</th>\n",
       "    </tr>\n",
       "  </thead>\n",
       "  <tbody>\n",
       "    <tr>\n",
       "      <th>0</th>\n",
       "      <td>0.0340</td>\n",
       "      <td>0.818</td>\n",
       "      <td>225983</td>\n",
       "      <td>0.803</td>\n",
       "      <td>0.000000</td>\n",
       "      <td>1</td>\n",
       "      <td>0.153</td>\n",
       "      <td>-4.282</td>\n",
       "      <td>1</td>\n",
       "      <td>0.0797</td>\n",
       "      <td>106.970</td>\n",
       "      <td>4</td>\n",
       "      <td>spotify:track:6b8Be6ljOzmkOmFslEb23P</td>\n",
       "      <td>0.618</td>\n",
       "      <td>0</td>\n",
       "    </tr>\n",
       "    <tr>\n",
       "      <th>0</th>\n",
       "      <td>0.0362</td>\n",
       "      <td>0.886</td>\n",
       "      <td>161067</td>\n",
       "      <td>0.580</td>\n",
       "      <td>0.000002</td>\n",
       "      <td>7</td>\n",
       "      <td>0.0882</td>\n",
       "      <td>-2.144</td>\n",
       "      <td>0</td>\n",
       "      <td>0.0513</td>\n",
       "      <td>144.988</td>\n",
       "      <td>4</td>\n",
       "      <td>spotify:track:0WgBb7XgdtbUW0GlYel9mH</td>\n",
       "      <td>0.806</td>\n",
       "      <td>0</td>\n",
       "    </tr>\n",
       "  </tbody>\n",
       "</table>\n",
       "</div>"
      ],
      "text/plain": [
       "   acousticness danceability  duration_ms  energy  instrumentalness  key  \\\n",
       "0        0.0340        0.818       225983   0.803          0.000000    1   \n",
       "0        0.0362        0.886       161067   0.580          0.000002    7   \n",
       "\n",
       "  liveness  loudness  mode speechiness    tempo time_signature  \\\n",
       "0    0.153    -4.282     1      0.0797  106.970              4   \n",
       "0   0.0882    -2.144     0      0.0513  144.988              4   \n",
       "\n",
       "                                    uri valence  is_top10  \n",
       "0  spotify:track:6b8Be6ljOzmkOmFslEb23P   0.618         0  \n",
       "0  spotify:track:0WgBb7XgdtbUW0GlYel9mH   0.806         0  "
      ]
     },
     "execution_count": 1,
     "metadata": {},
     "output_type": "execute_result"
    }
   ],
   "source": [
    "import pandas as pd\n",
    "audio_data = pd.read_pickle('Same_album_track_audio_features')\n",
    "not_top10 = len(audio_data)\n",
    "audio_data2 = pd.read_pickle('Spotify_audio_features')\n",
    "top10 = len(audio_data2)\n",
    "data = audio_data.append(audio_data2)\n",
    "data['is_top10'] = [[0,1][i>=not_top10] for i in range(not_top10+top10)]\n",
    "data.head(2)"
   ]
  },
  {
   "cell_type": "code",
   "execution_count": 2,
   "metadata": {
    "collapsed": false
   },
   "outputs": [
    {
     "data": {
      "text/html": [
       "<div>\n",
       "<table border=\"1\" class=\"dataframe\">\n",
       "  <thead>\n",
       "    <tr style=\"text-align: right;\">\n",
       "      <th></th>\n",
       "      <th>acousticness</th>\n",
       "      <th>danceability</th>\n",
       "      <th>duration_ms</th>\n",
       "      <th>energy</th>\n",
       "      <th>instrumentalness</th>\n",
       "      <th>key</th>\n",
       "      <th>liveness</th>\n",
       "      <th>loudness</th>\n",
       "      <th>mode</th>\n",
       "      <th>speechiness</th>\n",
       "      <th>tempo</th>\n",
       "      <th>time_signature</th>\n",
       "      <th>valence</th>\n",
       "      <th>is_top10</th>\n",
       "    </tr>\n",
       "  </thead>\n",
       "  <tbody>\n",
       "    <tr>\n",
       "      <th>0</th>\n",
       "      <td>0.03400</td>\n",
       "      <td>0.818</td>\n",
       "      <td>225983</td>\n",
       "      <td>0.803</td>\n",
       "      <td>0.000000</td>\n",
       "      <td>1</td>\n",
       "      <td>0.153</td>\n",
       "      <td>-4.282</td>\n",
       "      <td>1</td>\n",
       "      <td>0.0797</td>\n",
       "      <td>106.970</td>\n",
       "      <td>4</td>\n",
       "      <td>0.618</td>\n",
       "      <td>0</td>\n",
       "    </tr>\n",
       "    <tr>\n",
       "      <th>0</th>\n",
       "      <td>0.03620</td>\n",
       "      <td>0.886</td>\n",
       "      <td>161067</td>\n",
       "      <td>0.580</td>\n",
       "      <td>0.000002</td>\n",
       "      <td>7</td>\n",
       "      <td>0.0882</td>\n",
       "      <td>-2.144</td>\n",
       "      <td>0</td>\n",
       "      <td>0.0513</td>\n",
       "      <td>144.988</td>\n",
       "      <td>4</td>\n",
       "      <td>0.806</td>\n",
       "      <td>0</td>\n",
       "    </tr>\n",
       "    <tr>\n",
       "      <th>0</th>\n",
       "      <td>0.21000</td>\n",
       "      <td>0.404</td>\n",
       "      <td>212933</td>\n",
       "      <td>0.758</td>\n",
       "      <td>0.000000</td>\n",
       "      <td>11</td>\n",
       "      <td>0.161</td>\n",
       "      <td>-4.304</td>\n",
       "      <td>0</td>\n",
       "      <td>0.397</td>\n",
       "      <td>139.534</td>\n",
       "      <td>5</td>\n",
       "      <td>0.311</td>\n",
       "      <td>0</td>\n",
       "    </tr>\n",
       "    <tr>\n",
       "      <th>0</th>\n",
       "      <td>0.00532</td>\n",
       "      <td>0.853</td>\n",
       "      <td>215467</td>\n",
       "      <td>0.784</td>\n",
       "      <td>0.000000</td>\n",
       "      <td>5</td>\n",
       "      <td>0.0985</td>\n",
       "      <td>-4.874</td>\n",
       "      <td>1</td>\n",
       "      <td>0.0457</td>\n",
       "      <td>132.072</td>\n",
       "      <td>4</td>\n",
       "      <td>0.306</td>\n",
       "      <td>0</td>\n",
       "    </tr>\n",
       "    <tr>\n",
       "      <th>0</th>\n",
       "      <td>0.40800</td>\n",
       "      <td>0.378</td>\n",
       "      <td>202360</td>\n",
       "      <td>0.403</td>\n",
       "      <td>0.000012</td>\n",
       "      <td>9</td>\n",
       "      <td>0.0481</td>\n",
       "      <td>-7.472</td>\n",
       "      <td>1</td>\n",
       "      <td>0.0387</td>\n",
       "      <td>204.581</td>\n",
       "      <td>3</td>\n",
       "      <td>0.2</td>\n",
       "      <td>0</td>\n",
       "    </tr>\n",
       "  </tbody>\n",
       "</table>\n",
       "</div>"
      ],
      "text/plain": [
       "   acousticness danceability  duration_ms  energy  instrumentalness  key  \\\n",
       "0       0.03400        0.818       225983   0.803          0.000000    1   \n",
       "0       0.03620        0.886       161067   0.580          0.000002    7   \n",
       "0       0.21000        0.404       212933   0.758          0.000000   11   \n",
       "0       0.00532        0.853       215467   0.784          0.000000    5   \n",
       "0       0.40800        0.378       202360   0.403          0.000012    9   \n",
       "\n",
       "  liveness  loudness  mode speechiness    tempo time_signature valence  \\\n",
       "0    0.153    -4.282     1      0.0797  106.970              4   0.618   \n",
       "0   0.0882    -2.144     0      0.0513  144.988              4   0.806   \n",
       "0    0.161    -4.304     0       0.397  139.534              5   0.311   \n",
       "0   0.0985    -4.874     1      0.0457  132.072              4   0.306   \n",
       "0   0.0481    -7.472     1      0.0387  204.581              3     0.2   \n",
       "\n",
       "   is_top10  \n",
       "0         0  \n",
       "0         0  \n",
       "0         0  \n",
       "0         0  \n",
       "0         0  "
      ]
     },
     "execution_count": 2,
     "metadata": {},
     "output_type": "execute_result"
    }
   ],
   "source": [
    "del data['uri']\n",
    "data.head()"
   ]
  },
  {
   "cell_type": "code",
   "execution_count": 3,
   "metadata": {
    "collapsed": false
   },
   "outputs": [
    {
     "data": {
      "text/plain": [
       "acousticness        False\n",
       "danceability         True\n",
       "duration_ms         False\n",
       "energy              False\n",
       "instrumentalness    False\n",
       "key                 False\n",
       "liveness             True\n",
       "loudness            False\n",
       "mode                False\n",
       "speechiness          True\n",
       "tempo               False\n",
       "time_signature       True\n",
       "valence              True\n",
       "is_top10            False\n",
       "dtype: bool"
      ]
     },
     "execution_count": 3,
     "metadata": {},
     "output_type": "execute_result"
    }
   ],
   "source": [
    "data.isnull().any()"
   ]
  },
  {
   "cell_type": "code",
   "execution_count": 4,
   "metadata": {
    "collapsed": false
   },
   "outputs": [
    {
     "data": {
      "text/html": [
       "<div>\n",
       "<table border=\"1\" class=\"dataframe\">\n",
       "  <thead>\n",
       "    <tr style=\"text-align: right;\">\n",
       "      <th></th>\n",
       "      <th>acousticness</th>\n",
       "      <th>danceability</th>\n",
       "      <th>duration_ms</th>\n",
       "      <th>energy</th>\n",
       "      <th>instrumentalness</th>\n",
       "      <th>key</th>\n",
       "      <th>liveness</th>\n",
       "      <th>loudness</th>\n",
       "      <th>mode</th>\n",
       "      <th>speechiness</th>\n",
       "      <th>tempo</th>\n",
       "      <th>time_signature</th>\n",
       "      <th>valence</th>\n",
       "      <th>is_top10</th>\n",
       "    </tr>\n",
       "  </thead>\n",
       "  <tbody>\n",
       "    <tr>\n",
       "      <th>0</th>\n",
       "      <td>-0.943133</td>\n",
       "      <td>1.404985</td>\n",
       "      <td>0.102166</td>\n",
       "      <td>0.903164</td>\n",
       "      <td>-0.274262</td>\n",
       "      <td>-1.184270</td>\n",
       "      <td>-0.279805</td>\n",
       "      <td>1.262767</td>\n",
       "      <td>0.629122</td>\n",
       "      <td>0.131219</td>\n",
       "      <td>-0.465609</td>\n",
       "      <td>0.199308</td>\n",
       "      <td>-0.031404</td>\n",
       "      <td>0</td>\n",
       "    </tr>\n",
       "    <tr>\n",
       "      <th>1</th>\n",
       "      <td>-0.935430</td>\n",
       "      <td>1.849583</td>\n",
       "      <td>-0.861720</td>\n",
       "      <td>-0.172240</td>\n",
       "      <td>-0.274247</td>\n",
       "      <td>0.509469</td>\n",
       "      <td>-0.653368</td>\n",
       "      <td>1.839245</td>\n",
       "      <td>-1.589516</td>\n",
       "      <td>-0.211136</td>\n",
       "      <td>0.906921</td>\n",
       "      <td>0.199308</td>\n",
       "      <td>0.748840</td>\n",
       "      <td>0</td>\n",
       "    </tr>\n",
       "  </tbody>\n",
       "</table>\n",
       "</div>"
      ],
      "text/plain": [
       "   acousticness  danceability  duration_ms    energy  instrumentalness  \\\n",
       "0     -0.943133      1.404985     0.102166  0.903164         -0.274262   \n",
       "1     -0.935430      1.849583    -0.861720 -0.172240         -0.274247   \n",
       "\n",
       "        key  liveness  loudness      mode  speechiness     tempo  \\\n",
       "0 -1.184270 -0.279805  1.262767  0.629122     0.131219 -0.465609   \n",
       "1  0.509469 -0.653368  1.839245 -1.589516    -0.211136  0.906921   \n",
       "\n",
       "   time_signature   valence  is_top10  \n",
       "0        0.199308 -0.031404         0  \n",
       "1        0.199308  0.748840         0  "
      ]
     },
     "execution_count": 4,
     "metadata": {},
     "output_type": "execute_result"
    }
   ],
   "source": [
    "# remove null values\n",
    "data_notnull = data.dropna()\n",
    "\n",
    "# normalize all columns since they have 0 values and their value ranges are quite different\n",
    "from sklearn import preprocessing\n",
    "data_scaled = preprocessing.scale(data_notnull.ix[:,:-1]) # not normalize Y variable\n",
    "data_scaled = pd.DataFrame(data_scaled,columns=data_notnull.columns[:-1])\n",
    "\n",
    "data_scaled['is_top10'] = data_notnull['is_top10'].values\n",
    "data_scaled.head(2)"
   ]
  },
  {
   "cell_type": "code",
   "execution_count": 5,
   "metadata": {
    "collapsed": false
   },
   "outputs": [
    {
     "name": "stdout",
     "output_type": "stream",
     "text": [
      "Randomly select will produce prediction accuracy of 0.51\n"
     ]
    }
   ],
   "source": [
    "print('Randomly select will produce prediction accuracy of %0.2f' % (sum(data_scaled.is_top10==1)/float(len(data_scaled.is_top10))))"
   ]
  },
  {
   "cell_type": "code",
   "execution_count": 6,
   "metadata": {
    "collapsed": false
   },
   "outputs": [
    {
     "name": "stdout",
     "output_type": "stream",
     "text": [
      "Accuracy: 0.47 (+/- 0.12)\n"
     ]
    }
   ],
   "source": [
    "from sklearn.linear_model import LogisticRegression\n",
    "from sklearn.model_selection import cross_val_score\n",
    "\n",
    "clf = LogisticRegression()\n",
    "scores = cross_val_score(clf, data_scaled.ix[:,:-1].values, data_scaled.is_top10.values, cv=5)\n",
    "\n",
    "print(\"Accuracy: %0.2f (+/- %0.2f)\" % (scores.mean(), scores.std() * 2))"
   ]
  },
  {
   "cell_type": "code",
   "execution_count": 7,
   "metadata": {
    "collapsed": false
   },
   "outputs": [
    {
     "name": "stdout",
     "output_type": "stream",
     "text": [
      "Accuracy: 0.45 (+/- 0.10) using margin 0.2\n",
      "Accuracy: 0.45 (+/- 0.09) using margin 0.5\n",
      "Accuracy: 0.46 (+/- 0.09) using margin 0.8\n",
      "Accuracy: 0.46 (+/- 0.09) using margin 1.0\n"
     ]
    }
   ],
   "source": [
    "from sklearn import svm\n",
    "\n",
    "Cs = [0.2,0.5,0.8,1]\n",
    "for c in Cs:\n",
    "    clf = svm.SVC(kernel='rbf', C=c)\n",
    "    scores = cross_val_score(clf, data_scaled.ix[:,:-1].values, data_scaled.is_top10.values, cv=5)\n",
    "\n",
    "    print(\"Accuracy: %0.2f (+/- %0.2f) using margin %0.1f\" % (scores.mean(), scores.std() * 2,c))"
   ]
  },
  {
   "cell_type": "code",
   "execution_count": 8,
   "metadata": {
    "collapsed": false
   },
   "outputs": [
    {
     "name": "stdout",
     "output_type": "stream",
     "text": [
      "Accuracy: 0.46 (+/- 0.11) using linear kernel\n"
     ]
    }
   ],
   "source": [
    "clf = svm.SVC(kernel='linear', C=c)\n",
    "scores = cross_val_score(clf, data_scaled.ix[:,:-1].values, data_scaled.is_top10.values, cv=5)\n",
    "\n",
    "print(\"Accuracy: %0.2f (+/- %0.2f) using linear kernel\" % (scores.mean(), scores.std() * 2))"
   ]
  },
  {
   "cell_type": "code",
   "execution_count": 9,
   "metadata": {
    "collapsed": false
   },
   "outputs": [
    {
     "name": "stdout",
     "output_type": "stream",
     "text": [
      "Accuracy: 0.45 (+/- 0.05) using 5 estimators\n",
      "Accuracy: 0.45 (+/- 0.10) using 10 estimators\n",
      "Accuracy: 0.44 (+/- 0.08) using 20 estimators\n",
      "Accuracy: 0.44 (+/- 0.08) using 30 estimators\n"
     ]
    }
   ],
   "source": [
    "from sklearn.ensemble import RandomForestClassifier\n",
    "\n",
    "n_trees = [5,10,20,30]\n",
    "for n in n_trees:\n",
    "    clf = RandomForestClassifier(n_estimators=n)\n",
    "    scores = cross_val_score(clf, data_scaled.ix[:,:-1].values, data_scaled.is_top10.values, cv=5)\n",
    "\n",
    "    print(\"Accuracy: %0.2f (+/- %0.2f) using %s estimators\" % (scores.mean(), scores.std() * 2,n))"
   ]
  },
  {
   "cell_type": "code",
   "execution_count": null,
   "metadata": {
    "collapsed": true
   },
   "outputs": [],
   "source": []
  }
 ],
 "metadata": {
  "kernelspec": {
   "display_name": "Python 2",
   "language": "python",
   "name": "python2"
  },
  "language_info": {
   "codemirror_mode": {
    "name": "ipython",
    "version": 2
   },
   "file_extension": ".py",
   "mimetype": "text/x-python",
   "name": "python",
   "nbconvert_exporter": "python",
   "pygments_lexer": "ipython2",
   "version": "2.7.12"
  }
 },
 "nbformat": 4,
 "nbformat_minor": 1
}
