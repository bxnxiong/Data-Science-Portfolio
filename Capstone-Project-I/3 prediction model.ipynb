{
 "cells": [
  {
   "cell_type": "markdown",
   "metadata": {},
   "source": [
    "# Build basic model using audio features only\n",
    "\n",
    "models used: Logistic Regression(baseline), SVM, random forest"
   ]
  },
  {
   "cell_type": "code",
   "execution_count": 1,
   "metadata": {
    "collapsed": false
   },
   "outputs": [
    {
     "data": {
      "text/html": [
       "<div>\n",
       "<table border=\"1\" class=\"dataframe\">\n",
       "  <thead>\n",
       "    <tr style=\"text-align: right;\">\n",
       "      <th></th>\n",
       "      <th>acousticness</th>\n",
       "      <th>danceability</th>\n",
       "      <th>duration_ms</th>\n",
       "      <th>energy</th>\n",
       "      <th>instrumentalness</th>\n",
       "      <th>key</th>\n",
       "      <th>liveness</th>\n",
       "      <th>loudness</th>\n",
       "      <th>mode</th>\n",
       "      <th>speechiness</th>\n",
       "      <th>tempo</th>\n",
       "      <th>time_signature</th>\n",
       "      <th>uri</th>\n",
       "      <th>valence</th>\n",
       "      <th>is_top10</th>\n",
       "    </tr>\n",
       "  </thead>\n",
       "  <tbody>\n",
       "    <tr>\n",
       "      <th>0</th>\n",
       "      <td>0.0362</td>\n",
       "      <td>0.886</td>\n",
       "      <td>161067</td>\n",
       "      <td>0.580</td>\n",
       "      <td>0.000002</td>\n",
       "      <td>7</td>\n",
       "      <td>0.0882</td>\n",
       "      <td>-2.144</td>\n",
       "      <td>0</td>\n",
       "      <td>0.0513</td>\n",
       "      <td>144.988</td>\n",
       "      <td>4</td>\n",
       "      <td>spotify:track:0WgBb7XgdtbUW0GlYel9mH</td>\n",
       "      <td>0.806</td>\n",
       "      <td>0</td>\n",
       "    </tr>\n",
       "    <tr>\n",
       "      <th>0</th>\n",
       "      <td>0.2100</td>\n",
       "      <td>0.404</td>\n",
       "      <td>212933</td>\n",
       "      <td>0.758</td>\n",
       "      <td>0.000000</td>\n",
       "      <td>11</td>\n",
       "      <td>0.161</td>\n",
       "      <td>-4.304</td>\n",
       "      <td>0</td>\n",
       "      <td>0.397</td>\n",
       "      <td>139.534</td>\n",
       "      <td>5</td>\n",
       "      <td>spotify:track:5HxyJa6E8OXdYKKfufrbKE</td>\n",
       "      <td>0.311</td>\n",
       "      <td>0</td>\n",
       "    </tr>\n",
       "  </tbody>\n",
       "</table>\n",
       "</div>"
      ],
      "text/plain": [
       "   acousticness danceability  duration_ms  energy  instrumentalness  key  \\\n",
       "0        0.0362        0.886       161067   0.580          0.000002    7   \n",
       "0        0.2100        0.404       212933   0.758          0.000000   11   \n",
       "\n",
       "  liveness  loudness  mode speechiness    tempo time_signature  \\\n",
       "0   0.0882    -2.144     0      0.0513  144.988              4   \n",
       "0    0.161    -4.304     0       0.397  139.534              5   \n",
       "\n",
       "                                    uri valence  is_top10  \n",
       "0  spotify:track:0WgBb7XgdtbUW0GlYel9mH   0.806         0  \n",
       "0  spotify:track:5HxyJa6E8OXdYKKfufrbKE   0.311         0  "
      ]
     },
     "execution_count": 1,
     "metadata": {},
     "output_type": "execute_result"
    }
   ],
   "source": [
    "import pandas as pd\n",
    "audio_data = pd.read_pickle('Extra_audio_features')\n",
    "not_top10 = len(audio_data)\n",
    "audio_data2 = pd.read_pickle('Billboard_audio_features')\n",
    "top10 = len(audio_data2)\n",
    "data = audio_data.append(audio_data2)\n",
    "data['is_top10'] = [[0,1][i>=not_top10] for i in range(not_top10+top10)]\n",
    "data.head(2)"
   ]
  },
  {
   "cell_type": "code",
   "execution_count": 2,
   "metadata": {
    "collapsed": false
   },
   "outputs": [
    {
     "name": "stdout",
     "output_type": "stream",
     "text": [
      "3119 2950\n"
     ]
    }
   ],
   "source": [
    "print not_top10,top10"
   ]
  },
  {
   "cell_type": "code",
   "execution_count": 3,
   "metadata": {
    "collapsed": false
   },
   "outputs": [
    {
     "data": {
      "text/html": [
       "<div>\n",
       "<table border=\"1\" class=\"dataframe\">\n",
       "  <thead>\n",
       "    <tr style=\"text-align: right;\">\n",
       "      <th></th>\n",
       "      <th>acousticness</th>\n",
       "      <th>danceability</th>\n",
       "      <th>duration_ms</th>\n",
       "      <th>energy</th>\n",
       "      <th>instrumentalness</th>\n",
       "      <th>key</th>\n",
       "      <th>liveness</th>\n",
       "      <th>loudness</th>\n",
       "      <th>mode</th>\n",
       "      <th>speechiness</th>\n",
       "      <th>tempo</th>\n",
       "      <th>time_signature</th>\n",
       "      <th>valence</th>\n",
       "      <th>is_top10</th>\n",
       "    </tr>\n",
       "  </thead>\n",
       "  <tbody>\n",
       "    <tr>\n",
       "      <th>0</th>\n",
       "      <td>0.03620</td>\n",
       "      <td>0.886</td>\n",
       "      <td>161067</td>\n",
       "      <td>0.580</td>\n",
       "      <td>0.000002</td>\n",
       "      <td>7</td>\n",
       "      <td>0.0882</td>\n",
       "      <td>-2.144</td>\n",
       "      <td>0</td>\n",
       "      <td>0.0513</td>\n",
       "      <td>144.988</td>\n",
       "      <td>4</td>\n",
       "      <td>0.806</td>\n",
       "      <td>0</td>\n",
       "    </tr>\n",
       "    <tr>\n",
       "      <th>0</th>\n",
       "      <td>0.21000</td>\n",
       "      <td>0.404</td>\n",
       "      <td>212933</td>\n",
       "      <td>0.758</td>\n",
       "      <td>0.000000</td>\n",
       "      <td>11</td>\n",
       "      <td>0.161</td>\n",
       "      <td>-4.304</td>\n",
       "      <td>0</td>\n",
       "      <td>0.397</td>\n",
       "      <td>139.534</td>\n",
       "      <td>5</td>\n",
       "      <td>0.311</td>\n",
       "      <td>0</td>\n",
       "    </tr>\n",
       "    <tr>\n",
       "      <th>0</th>\n",
       "      <td>0.00532</td>\n",
       "      <td>0.853</td>\n",
       "      <td>215467</td>\n",
       "      <td>0.784</td>\n",
       "      <td>0.000000</td>\n",
       "      <td>5</td>\n",
       "      <td>0.0985</td>\n",
       "      <td>-4.874</td>\n",
       "      <td>1</td>\n",
       "      <td>0.0457</td>\n",
       "      <td>132.072</td>\n",
       "      <td>4</td>\n",
       "      <td>0.306</td>\n",
       "      <td>0</td>\n",
       "    </tr>\n",
       "    <tr>\n",
       "      <th>0</th>\n",
       "      <td>0.40800</td>\n",
       "      <td>0.378</td>\n",
       "      <td>202360</td>\n",
       "      <td>0.403</td>\n",
       "      <td>0.000012</td>\n",
       "      <td>9</td>\n",
       "      <td>0.0481</td>\n",
       "      <td>-7.472</td>\n",
       "      <td>1</td>\n",
       "      <td>0.0387</td>\n",
       "      <td>204.581</td>\n",
       "      <td>3</td>\n",
       "      <td>0.2</td>\n",
       "      <td>0</td>\n",
       "    </tr>\n",
       "    <tr>\n",
       "      <th>0</th>\n",
       "      <td>0.74900</td>\n",
       "      <td>0.453</td>\n",
       "      <td>83400</td>\n",
       "      <td>0.380</td>\n",
       "      <td>0.000002</td>\n",
       "      <td>9</td>\n",
       "      <td>0.145</td>\n",
       "      <td>-7.914</td>\n",
       "      <td>0</td>\n",
       "      <td>0.0298</td>\n",
       "      <td>99.893</td>\n",
       "      <td>4</td>\n",
       "      <td>0.154</td>\n",
       "      <td>0</td>\n",
       "    </tr>\n",
       "  </tbody>\n",
       "</table>\n",
       "</div>"
      ],
      "text/plain": [
       "   acousticness danceability  duration_ms  energy  instrumentalness  key  \\\n",
       "0       0.03620        0.886       161067   0.580          0.000002    7   \n",
       "0       0.21000        0.404       212933   0.758          0.000000   11   \n",
       "0       0.00532        0.853       215467   0.784          0.000000    5   \n",
       "0       0.40800        0.378       202360   0.403          0.000012    9   \n",
       "0       0.74900        0.453        83400   0.380          0.000002    9   \n",
       "\n",
       "  liveness  loudness  mode speechiness    tempo time_signature valence  \\\n",
       "0   0.0882    -2.144     0      0.0513  144.988              4   0.806   \n",
       "0    0.161    -4.304     0       0.397  139.534              5   0.311   \n",
       "0   0.0985    -4.874     1      0.0457  132.072              4   0.306   \n",
       "0   0.0481    -7.472     1      0.0387  204.581              3     0.2   \n",
       "0    0.145    -7.914     0      0.0298   99.893              4   0.154   \n",
       "\n",
       "   is_top10  \n",
       "0         0  \n",
       "0         0  \n",
       "0         0  \n",
       "0         0  \n",
       "0         0  "
      ]
     },
     "execution_count": 3,
     "metadata": {},
     "output_type": "execute_result"
    }
   ],
   "source": [
    "del data['uri']\n",
    "data.head()"
   ]
  },
  {
   "cell_type": "code",
   "execution_count": 4,
   "metadata": {
    "collapsed": false
   },
   "outputs": [
    {
     "data": {
      "text/plain": [
       "acousticness        False\n",
       "danceability         True\n",
       "duration_ms         False\n",
       "energy              False\n",
       "instrumentalness    False\n",
       "key                 False\n",
       "liveness             True\n",
       "loudness            False\n",
       "mode                False\n",
       "speechiness          True\n",
       "tempo               False\n",
       "time_signature       True\n",
       "valence              True\n",
       "is_top10            False\n",
       "dtype: bool"
      ]
     },
     "execution_count": 4,
     "metadata": {},
     "output_type": "execute_result"
    }
   ],
   "source": [
    "data.isnull().any()"
   ]
  },
  {
   "cell_type": "code",
   "execution_count": 6,
   "metadata": {
    "collapsed": false
   },
   "outputs": [
    {
     "data": {
      "text/html": [
       "<div>\n",
       "<table border=\"1\" class=\"dataframe\">\n",
       "  <thead>\n",
       "    <tr style=\"text-align: right;\">\n",
       "      <th></th>\n",
       "      <th>acousticness</th>\n",
       "      <th>danceability</th>\n",
       "      <th>duration_ms</th>\n",
       "      <th>energy</th>\n",
       "      <th>instrumentalness</th>\n",
       "      <th>key</th>\n",
       "      <th>liveness</th>\n",
       "      <th>loudness</th>\n",
       "      <th>mode</th>\n",
       "      <th>speechiness</th>\n",
       "      <th>tempo</th>\n",
       "      <th>time_signature</th>\n",
       "      <th>valence</th>\n",
       "      <th>is_top10</th>\n",
       "    </tr>\n",
       "  </thead>\n",
       "  <tbody>\n",
       "    <tr>\n",
       "      <th>0</th>\n",
       "      <td>-0.887515</td>\n",
       "      <td>1.857172</td>\n",
       "      <td>-0.987611</td>\n",
       "      <td>-0.217135</td>\n",
       "      <td>-0.237975</td>\n",
       "      <td>0.500834</td>\n",
       "      <td>-0.639775</td>\n",
       "      <td>1.777625</td>\n",
       "      <td>-1.534333</td>\n",
       "      <td>-0.226638</td>\n",
       "      <td>0.922991</td>\n",
       "      <td>0.191563</td>\n",
       "      <td>0.801502</td>\n",
       "      <td>0</td>\n",
       "    </tr>\n",
       "    <tr>\n",
       "      <th>1</th>\n",
       "      <td>-0.263664</td>\n",
       "      <td>-1.329468</td>\n",
       "      <td>-0.196773</td>\n",
       "      <td>0.638699</td>\n",
       "      <td>-0.237994</td>\n",
       "      <td>1.628140</td>\n",
       "      <td>-0.204393</td>\n",
       "      <td>1.195628</td>\n",
       "      <td>-1.534333</td>\n",
       "      <td>3.891784</td>\n",
       "      <td>0.724554</td>\n",
       "      <td>3.547246</td>\n",
       "      <td>-1.256792</td>\n",
       "      <td>0</td>\n",
       "    </tr>\n",
       "  </tbody>\n",
       "</table>\n",
       "</div>"
      ],
      "text/plain": [
       "   acousticness  danceability  duration_ms    energy  instrumentalness  \\\n",
       "0     -0.887515      1.857172    -0.987611 -0.217135         -0.237975   \n",
       "1     -0.263664     -1.329468    -0.196773  0.638699         -0.237994   \n",
       "\n",
       "        key  liveness  loudness      mode  speechiness     tempo  \\\n",
       "0  0.500834 -0.639775  1.777625 -1.534333    -0.226638  0.922991   \n",
       "1  1.628140 -0.204393  1.195628 -1.534333     3.891784  0.724554   \n",
       "\n",
       "   time_signature   valence  is_top10  \n",
       "0        0.191563  0.801502         0  \n",
       "1        3.547246 -1.256792         0  "
      ]
     },
     "execution_count": 6,
     "metadata": {},
     "output_type": "execute_result"
    }
   ],
   "source": [
    "# remove null values\n",
    "data_notnull = data.dropna()\n",
    "\n",
    "# normalize all columns since they have 0 values and their value ranges are quite different\n",
    "from sklearn import preprocessing\n",
    "data_scaled = preprocessing.scale(data_notnull.ix[:,:-1]) # not normalize Y variable\n",
    "data_scaled = pd.DataFrame(data_scaled,columns=data_notnull.columns[:-1])\n",
    "\n",
    "data_scaled['is_top10'] = data_notnull['is_top10'].values\n",
    "data_scaled.head(2)"
   ]
  },
  {
   "cell_type": "code",
   "execution_count": 7,
   "metadata": {
    "collapsed": false
   },
   "outputs": [
    {
     "name": "stdout",
     "output_type": "stream",
     "text": [
      "Randomly select will produce prediction accuracy of 0.49\n"
     ]
    }
   ],
   "source": [
    "print('Randomly select will produce prediction accuracy of %0.2f' % (sum(data_scaled.is_top10==1)/float(len(data_scaled.is_top10))))"
   ]
  },
  {
   "cell_type": "code",
   "execution_count": 8,
   "metadata": {
    "collapsed": false
   },
   "outputs": [
    {
     "name": "stdout",
     "output_type": "stream",
     "text": [
      "Accuracy: 0.52 (+/- 0.17)\n"
     ]
    }
   ],
   "source": [
    "from sklearn.linear_model import LogisticRegression\n",
    "from sklearn.model_selection import cross_val_score\n",
    "\n",
    "clf = LogisticRegression()\n",
    "scores = cross_val_score(clf, data_scaled.ix[:,:-1].values, data_scaled.is_top10.values, cv=5)\n",
    "\n",
    "print(\"Accuracy: %0.2f (+/- %0.2f)\" % (scores.mean(), scores.std() * 2))"
   ]
  },
  {
   "cell_type": "code",
   "execution_count": 9,
   "metadata": {
    "collapsed": false
   },
   "outputs": [
    {
     "name": "stdout",
     "output_type": "stream",
     "text": [
      "Accuracy: 0.52 (+/- 0.16) using margin 0.2\n",
      "Accuracy: 0.51 (+/- 0.15) using margin 0.5\n",
      "Accuracy: 0.51 (+/- 0.14) using margin 0.8\n",
      "Accuracy: 0.51 (+/- 0.14) using margin 1.0\n"
     ]
    }
   ],
   "source": [
    "from sklearn import svm\n",
    "\n",
    "Cs = [0.2,0.5,0.8,1]\n",
    "for c in Cs:\n",
    "    clf = svm.SVC(kernel='rbf', C=c)\n",
    "    scores = cross_val_score(clf, data_scaled.ix[:,:-1].values, data_scaled.is_top10.values, cv=5)\n",
    "\n",
    "    print(\"Accuracy: %0.2f (+/- %0.2f) using margin %0.1f\" % (scores.mean(), scores.std() * 2,c))"
   ]
  },
  {
   "cell_type": "code",
   "execution_count": 10,
   "metadata": {
    "collapsed": false
   },
   "outputs": [
    {
     "name": "stdout",
     "output_type": "stream",
     "text": [
      "Accuracy: 0.52 (+/- 0.18) using linear kernel\n"
     ]
    }
   ],
   "source": [
    "clf = svm.SVC(kernel='linear', C=c)\n",
    "scores = cross_val_score(clf, data_scaled.ix[:,:-1].values, data_scaled.is_top10.values, cv=5)\n",
    "\n",
    "print(\"Accuracy: %0.2f (+/- %0.2f) using linear kernel\" % (scores.mean(), scores.std() * 2))"
   ]
  },
  {
   "cell_type": "code",
   "execution_count": 11,
   "metadata": {
    "collapsed": false
   },
   "outputs": [
    {
     "name": "stdout",
     "output_type": "stream",
     "text": [
      "Accuracy: 0.51 (+/- 0.10) using 5 estimators\n",
      "Accuracy: 0.50 (+/- 0.09) using 10 estimators\n",
      "Accuracy: 0.49 (+/- 0.11) using 20 estimators\n",
      "Accuracy: 0.50 (+/- 0.13) using 30 estimators\n"
     ]
    }
   ],
   "source": [
    "from sklearn.ensemble import RandomForestClassifier\n",
    "\n",
    "n_trees = [5,10,20,30]\n",
    "for n in n_trees:\n",
    "    clf = RandomForestClassifier(n_estimators=n)\n",
    "    scores = cross_val_score(clf, data_scaled.ix[:,:-1].values, data_scaled.is_top10.values, cv=5)\n",
    "\n",
    "    print(\"Accuracy: %0.2f (+/- %0.2f) using %s estimators\" % (scores.mean(), scores.std() * 2,n))"
   ]
  },
  {
   "cell_type": "code",
   "execution_count": 14,
   "metadata": {
    "collapsed": false
   },
   "outputs": [
    {
     "name": "stdout",
     "output_type": "stream",
     "text": [
      "Accuracy: 0.50 (+/- 0.08) using 1 estimators\n",
      "Accuracy: 0.51 (+/- 0.03) using 2 estimators\n",
      "Accuracy: 0.49 (+/- 0.08) using 3 estimators\n",
      "Accuracy: 0.49 (+/- 0.07) using 4 estimators\n",
      "Accuracy: 0.51 (+/- 0.09) using 5 estimators\n",
      "Accuracy: 0.50 (+/- 0.09) using 6 estimators\n",
      "Accuracy: 0.49 (+/- 0.07) using 7 estimators\n",
      "Accuracy: 0.49 (+/- 0.08) using 8 estimators\n",
      "Accuracy: 0.50 (+/- 0.09) using 9 estimators\n"
     ]
    }
   ],
   "source": [
    "n_trees = range(1,10)\n",
    "for n in n_trees:\n",
    "    clf = RandomForestClassifier(n_estimators=n)\n",
    "    scores = cross_val_score(clf, data_scaled.ix[:,:-1].values, data_scaled.is_top10.values, cv=5)\n",
    "\n",
    "    print(\"Accuracy: %0.2f (+/- %0.2f) using %s estimators\" % (scores.mean(), scores.std() * 2,n))"
   ]
  },
  {
   "cell_type": "code",
   "execution_count": null,
   "metadata": {
    "collapsed": true
   },
   "outputs": [],
   "source": []
  }
 ],
 "metadata": {
  "kernelspec": {
   "display_name": "Python 2",
   "language": "python",
   "name": "python2"
  },
  "language_info": {
   "codemirror_mode": {
    "name": "ipython",
    "version": 2
   },
   "file_extension": ".py",
   "mimetype": "text/x-python",
   "name": "python",
   "nbconvert_exporter": "python",
   "pygments_lexer": "ipython2",
   "version": "2.7.12"
  }
 },
 "nbformat": 4,
 "nbformat_minor": 1
}
