{
 "cells": [
  {
   "cell_type": "markdown",
   "metadata": {},
   "source": [
    "# Build basic model using audio features only\n",
    "\n",
    "models used: Logistic Regression(baseline), SVM, random forest"
   ]
  },
  {
   "cell_type": "code",
   "execution_count": 1,
   "metadata": {
    "collapsed": false
   },
   "outputs": [
    {
     "data": {
      "text/html": [
       "<div>\n",
       "<table border=\"1\" class=\"dataframe\">\n",
       "  <thead>\n",
       "    <tr style=\"text-align: right;\">\n",
       "      <th></th>\n",
       "      <th>acousticness</th>\n",
       "      <th>danceability</th>\n",
       "      <th>duration_ms</th>\n",
       "      <th>energy</th>\n",
       "      <th>instrumentalness</th>\n",
       "      <th>key</th>\n",
       "      <th>liveness</th>\n",
       "      <th>loudness</th>\n",
       "      <th>mode</th>\n",
       "      <th>speechiness</th>\n",
       "      <th>tempo</th>\n",
       "      <th>time_signature</th>\n",
       "      <th>uri</th>\n",
       "      <th>valence</th>\n",
       "      <th>is_top10</th>\n",
       "    </tr>\n",
       "  </thead>\n",
       "  <tbody>\n",
       "    <tr>\n",
       "      <th>0</th>\n",
       "      <td>0.063</td>\n",
       "      <td>0.751</td>\n",
       "      <td>218933</td>\n",
       "      <td>0.549</td>\n",
       "      <td>0.000025</td>\n",
       "      <td>6</td>\n",
       "      <td>0.1060</td>\n",
       "      <td>-10.508</td>\n",
       "      <td>0</td>\n",
       "      <td>0.429</td>\n",
       "      <td>92.224</td>\n",
       "      <td>4</td>\n",
       "      <td>spotify:track:01TR6aAKrA2cI3Z0gnCOsu</td>\n",
       "      <td>0.564</td>\n",
       "      <td>0</td>\n",
       "    </tr>\n",
       "    <tr>\n",
       "      <th>0</th>\n",
       "      <td>0.195</td>\n",
       "      <td>0.749</td>\n",
       "      <td>147760</td>\n",
       "      <td>0.530</td>\n",
       "      <td>0.000035</td>\n",
       "      <td>9</td>\n",
       "      <td>0.0748</td>\n",
       "      <td>-12.940</td>\n",
       "      <td>1</td>\n",
       "      <td>0.0326</td>\n",
       "      <td>121.395</td>\n",
       "      <td>4</td>\n",
       "      <td>spotify:track:4yPl1mK1oluIrCwI4HInPR</td>\n",
       "      <td>0.968</td>\n",
       "      <td>0</td>\n",
       "    </tr>\n",
       "  </tbody>\n",
       "</table>\n",
       "</div>"
      ],
      "text/plain": [
       "   acousticness danceability  duration_ms  energy  instrumentalness  key  \\\n",
       "0         0.063        0.751       218933   0.549          0.000025    6   \n",
       "0         0.195        0.749       147760   0.530          0.000035    9   \n",
       "\n",
       "   liveness  loudness  mode speechiness    tempo time_signature  \\\n",
       "0    0.1060   -10.508     0       0.429   92.224              4   \n",
       "0    0.0748   -12.940     1      0.0326  121.395              4   \n",
       "\n",
       "                                    uri valence  is_top10  \n",
       "0  spotify:track:01TR6aAKrA2cI3Z0gnCOsu   0.564         0  \n",
       "0  spotify:track:4yPl1mK1oluIrCwI4HInPR   0.968         0  "
      ]
     },
     "execution_count": 1,
     "metadata": {},
     "output_type": "execute_result"
    }
   ],
   "source": [
    "import pandas as pd\n",
    "audio_data = pd.read_pickle('MSD_audio_features')\n",
    "not_top10 = len(audio_data)\n",
    "audio_data2 = pd.read_pickle('Spotify_audio_features')\n",
    "top10 = len(audio_data2)\n",
    "data = audio_data.append(audio_data2)\n",
    "data['is_top10'] = [[0,1][i>=not_top10] for i in range(not_top10+top10)]\n",
    "data.head(2)"
   ]
  },
  {
   "cell_type": "code",
   "execution_count": 2,
   "metadata": {
    "collapsed": false
   },
   "outputs": [
    {
     "data": {
      "text/html": [
       "<div>\n",
       "<table border=\"1\" class=\"dataframe\">\n",
       "  <thead>\n",
       "    <tr style=\"text-align: right;\">\n",
       "      <th></th>\n",
       "      <th>acousticness</th>\n",
       "      <th>danceability</th>\n",
       "      <th>duration_ms</th>\n",
       "      <th>energy</th>\n",
       "      <th>instrumentalness</th>\n",
       "      <th>key</th>\n",
       "      <th>liveness</th>\n",
       "      <th>loudness</th>\n",
       "      <th>mode</th>\n",
       "      <th>speechiness</th>\n",
       "      <th>tempo</th>\n",
       "      <th>time_signature</th>\n",
       "      <th>valence</th>\n",
       "      <th>is_top10</th>\n",
       "    </tr>\n",
       "  </thead>\n",
       "  <tbody>\n",
       "    <tr>\n",
       "      <th>0</th>\n",
       "      <td>0.063000</td>\n",
       "      <td>0.751</td>\n",
       "      <td>218933</td>\n",
       "      <td>0.549</td>\n",
       "      <td>0.000025</td>\n",
       "      <td>6</td>\n",
       "      <td>0.1060</td>\n",
       "      <td>-10.508</td>\n",
       "      <td>0</td>\n",
       "      <td>0.429</td>\n",
       "      <td>92.224</td>\n",
       "      <td>4</td>\n",
       "      <td>0.564</td>\n",
       "      <td>0</td>\n",
       "    </tr>\n",
       "    <tr>\n",
       "      <th>0</th>\n",
       "      <td>0.195000</td>\n",
       "      <td>0.749</td>\n",
       "      <td>147760</td>\n",
       "      <td>0.530</td>\n",
       "      <td>0.000035</td>\n",
       "      <td>9</td>\n",
       "      <td>0.0748</td>\n",
       "      <td>-12.940</td>\n",
       "      <td>1</td>\n",
       "      <td>0.0326</td>\n",
       "      <td>121.395</td>\n",
       "      <td>4</td>\n",
       "      <td>0.968</td>\n",
       "      <td>0</td>\n",
       "    </tr>\n",
       "    <tr>\n",
       "      <th>0</th>\n",
       "      <td>0.197000</td>\n",
       "      <td>0.596</td>\n",
       "      <td>232107</td>\n",
       "      <td>0.934</td>\n",
       "      <td>0.007410</td>\n",
       "      <td>0</td>\n",
       "      <td>0.1840</td>\n",
       "      <td>-3.812</td>\n",
       "      <td>1</td>\n",
       "      <td>0.0459</td>\n",
       "      <td>120.055</td>\n",
       "      <td>4</td>\n",
       "      <td>0.846</td>\n",
       "      <td>0</td>\n",
       "    </tr>\n",
       "    <tr>\n",
       "      <th>0</th>\n",
       "      <td>0.000356</td>\n",
       "      <td>0.525</td>\n",
       "      <td>209600</td>\n",
       "      <td>0.918</td>\n",
       "      <td>0.566000</td>\n",
       "      <td>2</td>\n",
       "      <td>0.0904</td>\n",
       "      <td>-4.512</td>\n",
       "      <td>1</td>\n",
       "      <td>0.0543</td>\n",
       "      <td>129.727</td>\n",
       "      <td>4</td>\n",
       "      <td>0.652</td>\n",
       "      <td>0</td>\n",
       "    </tr>\n",
       "    <tr>\n",
       "      <th>0</th>\n",
       "      <td>0.813000</td>\n",
       "      <td>0.677</td>\n",
       "      <td>112947</td>\n",
       "      <td>0.183</td>\n",
       "      <td>0.000000</td>\n",
       "      <td>1</td>\n",
       "      <td>0.2600</td>\n",
       "      <td>-16.059</td>\n",
       "      <td>1</td>\n",
       "      <td>0.926</td>\n",
       "      <td>87.661</td>\n",
       "      <td>4</td>\n",
       "      <td>0.735</td>\n",
       "      <td>0</td>\n",
       "    </tr>\n",
       "  </tbody>\n",
       "</table>\n",
       "</div>"
      ],
      "text/plain": [
       "   acousticness danceability  duration_ms  energy  instrumentalness  key  \\\n",
       "0      0.063000        0.751       218933   0.549          0.000025    6   \n",
       "0      0.195000        0.749       147760   0.530          0.000035    9   \n",
       "0      0.197000        0.596       232107   0.934          0.007410    0   \n",
       "0      0.000356        0.525       209600   0.918          0.566000    2   \n",
       "0      0.813000        0.677       112947   0.183          0.000000    1   \n",
       "\n",
       "   liveness  loudness  mode speechiness    tempo time_signature valence  \\\n",
       "0    0.1060   -10.508     0       0.429   92.224              4   0.564   \n",
       "0    0.0748   -12.940     1      0.0326  121.395              4   0.968   \n",
       "0    0.1840    -3.812     1      0.0459  120.055              4   0.846   \n",
       "0    0.0904    -4.512     1      0.0543  129.727              4   0.652   \n",
       "0    0.2600   -16.059     1       0.926   87.661              4   0.735   \n",
       "\n",
       "   is_top10  \n",
       "0         0  \n",
       "0         0  \n",
       "0         0  \n",
       "0         0  \n",
       "0         0  "
      ]
     },
     "execution_count": 2,
     "metadata": {},
     "output_type": "execute_result"
    }
   ],
   "source": [
    "del data['uri']\n",
    "data.head()"
   ]
  },
  {
   "cell_type": "code",
   "execution_count": 3,
   "metadata": {
    "collapsed": false
   },
   "outputs": [
    {
     "data": {
      "text/plain": [
       "acousticness        False\n",
       "danceability         True\n",
       "duration_ms         False\n",
       "energy              False\n",
       "instrumentalness    False\n",
       "key                 False\n",
       "liveness            False\n",
       "loudness            False\n",
       "mode                False\n",
       "speechiness          True\n",
       "tempo               False\n",
       "time_signature       True\n",
       "valence              True\n",
       "is_top10            False\n",
       "dtype: bool"
      ]
     },
     "execution_count": 3,
     "metadata": {},
     "output_type": "execute_result"
    }
   ],
   "source": [
    "data.isnull().any()"
   ]
  },
  {
   "cell_type": "code",
   "execution_count": 4,
   "metadata": {
    "collapsed": false
   },
   "outputs": [
    {
     "data": {
      "text/html": [
       "<div>\n",
       "<table border=\"1\" class=\"dataframe\">\n",
       "  <thead>\n",
       "    <tr style=\"text-align: right;\">\n",
       "      <th></th>\n",
       "      <th>acousticness</th>\n",
       "      <th>danceability</th>\n",
       "      <th>duration_ms</th>\n",
       "      <th>energy</th>\n",
       "      <th>instrumentalness</th>\n",
       "      <th>key</th>\n",
       "      <th>liveness</th>\n",
       "      <th>loudness</th>\n",
       "      <th>mode</th>\n",
       "      <th>speechiness</th>\n",
       "      <th>tempo</th>\n",
       "      <th>time_signature</th>\n",
       "      <th>valence</th>\n",
       "      <th>is_top10</th>\n",
       "    </tr>\n",
       "  </thead>\n",
       "  <tbody>\n",
       "    <tr>\n",
       "      <th>0</th>\n",
       "      <td>-0.813976</td>\n",
       "      <td>0.999522</td>\n",
       "      <td>-0.155646</td>\n",
       "      <td>-0.277563</td>\n",
       "      <td>-0.421397</td>\n",
       "      <td>0.220124</td>\n",
       "      <td>-0.537636</td>\n",
       "      <td>-0.313251</td>\n",
       "      <td>-1.572732</td>\n",
       "      <td>3.352853</td>\n",
       "      <td>-0.962947</td>\n",
       "      <td>0.238822</td>\n",
       "      <td>-0.061014</td>\n",
       "      <td>0</td>\n",
       "    </tr>\n",
       "    <tr>\n",
       "      <th>1</th>\n",
       "      <td>-0.387663</td>\n",
       "      <td>0.987877</td>\n",
       "      <td>-0.962531</td>\n",
       "      <td>-0.360561</td>\n",
       "      <td>-0.421355</td>\n",
       "      <td>1.064178</td>\n",
       "      <td>-0.703653</td>\n",
       "      <td>-0.878755</td>\n",
       "      <td>0.635836</td>\n",
       "      <td>-0.447199</td>\n",
       "      <td>0.051558</td>\n",
       "      <td>0.238822</td>\n",
       "      <td>1.502051</td>\n",
       "      <td>0</td>\n",
       "    </tr>\n",
       "  </tbody>\n",
       "</table>\n",
       "</div>"
      ],
      "text/plain": [
       "   acousticness  danceability  duration_ms    energy  instrumentalness  \\\n",
       "0     -0.813976      0.999522    -0.155646 -0.277563         -0.421397   \n",
       "1     -0.387663      0.987877    -0.962531 -0.360561         -0.421355   \n",
       "\n",
       "        key  liveness  loudness      mode  speechiness     tempo  \\\n",
       "0  0.220124 -0.537636 -0.313251 -1.572732     3.352853 -0.962947   \n",
       "1  1.064178 -0.703653 -0.878755  0.635836    -0.447199  0.051558   \n",
       "\n",
       "   time_signature   valence  is_top10  \n",
       "0        0.238822 -0.061014         0  \n",
       "1        0.238822  1.502051         0  "
      ]
     },
     "execution_count": 4,
     "metadata": {},
     "output_type": "execute_result"
    }
   ],
   "source": [
    "# remove null values\n",
    "data_notnull = data.dropna()\n",
    "\n",
    "# normalize all columns since they have 0 values and their value ranges are quite different\n",
    "from sklearn import preprocessing\n",
    "data_scaled = preprocessing.scale(data_notnull.ix[:,:-1]) # not normalize Y variable\n",
    "data_scaled = pd.DataFrame(data_scaled,columns=data_notnull.columns[:-1])\n",
    "\n",
    "data_scaled['is_top10'] = data_notnull['is_top10'].values\n",
    "data_scaled.head(2)"
   ]
  },
  {
   "cell_type": "code",
   "execution_count": 5,
   "metadata": {
    "collapsed": false
   },
   "outputs": [
    {
     "name": "stdout",
     "output_type": "stream",
     "text": [
      "Randomly select will produce prediction accuracy of 0.52\n"
     ]
    }
   ],
   "source": [
    "print('Randomly select will produce prediction accuracy of %0.2f' % (sum(data_scaled.is_top10==1)/float(len(data_scaled.is_top10))))"
   ]
  },
  {
   "cell_type": "code",
   "execution_count": 6,
   "metadata": {
    "collapsed": false
   },
   "outputs": [
    {
     "name": "stdout",
     "output_type": "stream",
     "text": [
      "Accuracy: 0.67 (+/- 0.02)\n"
     ]
    }
   ],
   "source": [
    "from sklearn.linear_model import LogisticRegression\n",
    "from sklearn.model_selection import cross_val_score\n",
    "\n",
    "clf = LogisticRegression()\n",
    "scores = cross_val_score(clf, data_scaled.ix[:,:-1].values, data_scaled.is_top10.values, cv=5)\n",
    "\n",
    "print(\"Accuracy: %0.2f (+/- %0.2f)\" % (scores.mean(), scores.std() * 2))"
   ]
  },
  {
   "cell_type": "code",
   "execution_count": 7,
   "metadata": {
    "collapsed": false
   },
   "outputs": [
    {
     "name": "stdout",
     "output_type": "stream",
     "text": [
      "Accuracy: 0.70 (+/- 0.02) using margin 0.2\n",
      "Accuracy: 0.70 (+/- 0.01) using margin 0.5\n",
      "Accuracy: 0.70 (+/- 0.01) using margin 0.8\n",
      "Accuracy: 0.70 (+/- 0.01) using margin 1.0\n"
     ]
    }
   ],
   "source": [
    "from sklearn import svm\n",
    "\n",
    "Cs = [0.2,0.5,0.8,1]\n",
    "for c in Cs:\n",
    "    clf = svm.SVC(kernel='rbf', C=c)\n",
    "    scores = cross_val_score(clf, data_scaled.ix[:,:-1].values, data_scaled.is_top10.values, cv=5)\n",
    "\n",
    "    print(\"Accuracy: %0.2f (+/- %0.2f) using margin %0.1f\" % (scores.mean(), scores.std() * 2,c))"
   ]
  },
  {
   "cell_type": "code",
   "execution_count": 8,
   "metadata": {
    "collapsed": false
   },
   "outputs": [
    {
     "name": "stdout",
     "output_type": "stream",
     "text": [
      "Accuracy: 0.66 (+/- 0.02) using linear kernel\n"
     ]
    }
   ],
   "source": [
    "clf = svm.SVC(kernel='linear', C=c)\n",
    "scores = cross_val_score(clf, data_scaled.ix[:,:-1].values, data_scaled.is_top10.values, cv=5)\n",
    "\n",
    "print(\"Accuracy: %0.2f (+/- %0.2f) using linear kernel\" % (scores.mean(), scores.std() * 2))"
   ]
  },
  {
   "cell_type": "code",
   "execution_count": 9,
   "metadata": {
    "collapsed": false
   },
   "outputs": [
    {
     "name": "stdout",
     "output_type": "stream",
     "text": [
      "Accuracy: 0.66 (+/- 0.02) using 5 estimators\n",
      "Accuracy: 0.67 (+/- 0.02) using 10 estimators\n",
      "Accuracy: 0.69 (+/- 0.01) using 20 estimators\n",
      "Accuracy: 0.70 (+/- 0.01) using 30 estimators\n"
     ]
    }
   ],
   "source": [
    "from sklearn.ensemble import RandomForestClassifier\n",
    "\n",
    "n_trees = [5,10,20,30]\n",
    "for n in n_trees:\n",
    "    clf = RandomForestClassifier(n_estimators=n)\n",
    "    scores = cross_val_score(clf, data_scaled.ix[:,:-1].values, data_scaled.is_top10.values, cv=5)\n",
    "\n",
    "    print(\"Accuracy: %0.2f (+/- %0.2f) using %s estimators\" % (scores.mean(), scores.std() * 2,n))"
   ]
  },
  {
   "cell_type": "code",
   "execution_count": null,
   "metadata": {
    "collapsed": true
   },
   "outputs": [],
   "source": []
  }
 ],
 "metadata": {
  "kernelspec": {
   "display_name": "Python 2",
   "language": "python",
   "name": "python2"
  },
  "language_info": {
   "codemirror_mode": {
    "name": "ipython",
    "version": 2
   },
   "file_extension": ".py",
   "mimetype": "text/x-python",
   "name": "python",
   "nbconvert_exporter": "python",
   "pygments_lexer": "ipython2",
   "version": "2.7.12"
  }
 },
 "nbformat": 4,
 "nbformat_minor": 1
}
