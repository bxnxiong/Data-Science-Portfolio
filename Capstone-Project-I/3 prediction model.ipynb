{
 "cells": [
  {
   "cell_type": "markdown",
   "metadata": {},
   "source": [
    "# Build basic model using audio features only\n",
    "\n",
    "models used: Logistic Regression(baseline), SVM, random forest"
   ]
  },
  {
   "cell_type": "code",
   "execution_count": 14,
   "metadata": {
    "collapsed": false
   },
   "outputs": [
    {
     "data": {
      "text/html": [
       "<div>\n",
       "<table border=\"1\" class=\"dataframe\">\n",
       "  <thead>\n",
       "    <tr style=\"text-align: right;\">\n",
       "      <th></th>\n",
       "      <th>acousticness</th>\n",
       "      <th>danceability</th>\n",
       "      <th>duration_ms</th>\n",
       "      <th>energy</th>\n",
       "      <th>instrumentalness</th>\n",
       "      <th>key</th>\n",
       "      <th>liveness</th>\n",
       "      <th>loudness</th>\n",
       "      <th>mode</th>\n",
       "      <th>speechiness</th>\n",
       "      <th>tempo</th>\n",
       "      <th>time_signature</th>\n",
       "      <th>uri</th>\n",
       "      <th>valence</th>\n",
       "      <th>is_top10</th>\n",
       "    </tr>\n",
       "  </thead>\n",
       "  <tbody>\n",
       "    <tr>\n",
       "      <th>0</th>\n",
       "      <td>0.0362</td>\n",
       "      <td>0.886</td>\n",
       "      <td>161067</td>\n",
       "      <td>0.580</td>\n",
       "      <td>0.000002</td>\n",
       "      <td>7</td>\n",
       "      <td>0.0882</td>\n",
       "      <td>-2.144</td>\n",
       "      <td>0</td>\n",
       "      <td>0.0513</td>\n",
       "      <td>144.988</td>\n",
       "      <td>4</td>\n",
       "      <td>spotify:track:0WgBb7XgdtbUW0GlYel9mH</td>\n",
       "      <td>0.806</td>\n",
       "      <td>0</td>\n",
       "    </tr>\n",
       "    <tr>\n",
       "      <th>0</th>\n",
       "      <td>0.2100</td>\n",
       "      <td>0.404</td>\n",
       "      <td>212933</td>\n",
       "      <td>0.758</td>\n",
       "      <td>0.000000</td>\n",
       "      <td>11</td>\n",
       "      <td>0.161</td>\n",
       "      <td>-4.304</td>\n",
       "      <td>0</td>\n",
       "      <td>0.397</td>\n",
       "      <td>139.534</td>\n",
       "      <td>5</td>\n",
       "      <td>spotify:track:5HxyJa6E8OXdYKKfufrbKE</td>\n",
       "      <td>0.311</td>\n",
       "      <td>0</td>\n",
       "    </tr>\n",
       "  </tbody>\n",
       "</table>\n",
       "</div>"
      ],
      "text/plain": [
       "   acousticness danceability  duration_ms  energy  instrumentalness  key  \\\n",
       "0        0.0362        0.886       161067   0.580          0.000002    7   \n",
       "0        0.2100        0.404       212933   0.758          0.000000   11   \n",
       "\n",
       "  liveness  loudness  mode speechiness    tempo time_signature  \\\n",
       "0   0.0882    -2.144     0      0.0513  144.988              4   \n",
       "0    0.161    -4.304     0       0.397  139.534              5   \n",
       "\n",
       "                                    uri valence  is_top10  \n",
       "0  spotify:track:0WgBb7XgdtbUW0GlYel9mH   0.806         0  \n",
       "0  spotify:track:5HxyJa6E8OXdYKKfufrbKE   0.311         0  "
      ]
     },
     "execution_count": 14,
     "metadata": {},
     "output_type": "execute_result"
    }
   ],
   "source": [
    "import pandas as pd\n",
    "audio_data = pd.read_pickle('Same_album_track_audio_features')\n",
    "not_top10 = len(audio_data)\n",
    "audio_data2 = pd.read_pickle('Spotify_audio_features')\n",
    "top10 = len(audio_data2)\n",
    "data = audio_data.append(audio_data2)\n",
    "data['is_top10'] = [[0,1][i>=not_top10] for i in range(not_top10+top10)]\n",
    "data.head(2)"
   ]
  },
  {
   "cell_type": "code",
   "execution_count": 16,
   "metadata": {
    "collapsed": false
   },
   "outputs": [
    {
     "name": "stdout",
     "output_type": "stream",
     "text": [
      " 3865 4264\n"
     ]
    }
   ],
   "source": [
    "print not_top10,top10"
   ]
  },
  {
   "cell_type": "code",
   "execution_count": 17,
   "metadata": {
    "collapsed": false
   },
   "outputs": [
    {
     "data": {
      "text/html": [
       "<div>\n",
       "<table border=\"1\" class=\"dataframe\">\n",
       "  <thead>\n",
       "    <tr style=\"text-align: right;\">\n",
       "      <th></th>\n",
       "      <th>acousticness</th>\n",
       "      <th>danceability</th>\n",
       "      <th>duration_ms</th>\n",
       "      <th>energy</th>\n",
       "      <th>instrumentalness</th>\n",
       "      <th>key</th>\n",
       "      <th>liveness</th>\n",
       "      <th>loudness</th>\n",
       "      <th>mode</th>\n",
       "      <th>speechiness</th>\n",
       "      <th>tempo</th>\n",
       "      <th>time_signature</th>\n",
       "      <th>valence</th>\n",
       "      <th>is_top10</th>\n",
       "    </tr>\n",
       "  </thead>\n",
       "  <tbody>\n",
       "    <tr>\n",
       "      <th>0</th>\n",
       "      <td>0.03620</td>\n",
       "      <td>0.886</td>\n",
       "      <td>161067</td>\n",
       "      <td>0.580</td>\n",
       "      <td>0.000002</td>\n",
       "      <td>7</td>\n",
       "      <td>0.0882</td>\n",
       "      <td>-2.144</td>\n",
       "      <td>0</td>\n",
       "      <td>0.0513</td>\n",
       "      <td>144.988</td>\n",
       "      <td>4</td>\n",
       "      <td>0.806</td>\n",
       "      <td>0</td>\n",
       "    </tr>\n",
       "    <tr>\n",
       "      <th>0</th>\n",
       "      <td>0.21000</td>\n",
       "      <td>0.404</td>\n",
       "      <td>212933</td>\n",
       "      <td>0.758</td>\n",
       "      <td>0.000000</td>\n",
       "      <td>11</td>\n",
       "      <td>0.161</td>\n",
       "      <td>-4.304</td>\n",
       "      <td>0</td>\n",
       "      <td>0.397</td>\n",
       "      <td>139.534</td>\n",
       "      <td>5</td>\n",
       "      <td>0.311</td>\n",
       "      <td>0</td>\n",
       "    </tr>\n",
       "    <tr>\n",
       "      <th>0</th>\n",
       "      <td>0.00532</td>\n",
       "      <td>0.853</td>\n",
       "      <td>215467</td>\n",
       "      <td>0.784</td>\n",
       "      <td>0.000000</td>\n",
       "      <td>5</td>\n",
       "      <td>0.0985</td>\n",
       "      <td>-4.874</td>\n",
       "      <td>1</td>\n",
       "      <td>0.0457</td>\n",
       "      <td>132.072</td>\n",
       "      <td>4</td>\n",
       "      <td>0.306</td>\n",
       "      <td>0</td>\n",
       "    </tr>\n",
       "    <tr>\n",
       "      <th>0</th>\n",
       "      <td>0.40800</td>\n",
       "      <td>0.378</td>\n",
       "      <td>202360</td>\n",
       "      <td>0.403</td>\n",
       "      <td>0.000012</td>\n",
       "      <td>9</td>\n",
       "      <td>0.0481</td>\n",
       "      <td>-7.472</td>\n",
       "      <td>1</td>\n",
       "      <td>0.0387</td>\n",
       "      <td>204.581</td>\n",
       "      <td>3</td>\n",
       "      <td>0.2</td>\n",
       "      <td>0</td>\n",
       "    </tr>\n",
       "    <tr>\n",
       "      <th>0</th>\n",
       "      <td>0.74900</td>\n",
       "      <td>0.453</td>\n",
       "      <td>83400</td>\n",
       "      <td>0.380</td>\n",
       "      <td>0.000002</td>\n",
       "      <td>9</td>\n",
       "      <td>0.145</td>\n",
       "      <td>-7.914</td>\n",
       "      <td>0</td>\n",
       "      <td>0.0298</td>\n",
       "      <td>99.893</td>\n",
       "      <td>4</td>\n",
       "      <td>0.154</td>\n",
       "      <td>0</td>\n",
       "    </tr>\n",
       "  </tbody>\n",
       "</table>\n",
       "</div>"
      ],
      "text/plain": [
       "   acousticness danceability  duration_ms  energy  instrumentalness  key  \\\n",
       "0       0.03620        0.886       161067   0.580          0.000002    7   \n",
       "0       0.21000        0.404       212933   0.758          0.000000   11   \n",
       "0       0.00532        0.853       215467   0.784          0.000000    5   \n",
       "0       0.40800        0.378       202360   0.403          0.000012    9   \n",
       "0       0.74900        0.453        83400   0.380          0.000002    9   \n",
       "\n",
       "  liveness  loudness  mode speechiness    tempo time_signature valence  \\\n",
       "0   0.0882    -2.144     0      0.0513  144.988              4   0.806   \n",
       "0    0.161    -4.304     0       0.397  139.534              5   0.311   \n",
       "0   0.0985    -4.874     1      0.0457  132.072              4   0.306   \n",
       "0   0.0481    -7.472     1      0.0387  204.581              3     0.2   \n",
       "0    0.145    -7.914     0      0.0298   99.893              4   0.154   \n",
       "\n",
       "   is_top10  \n",
       "0         0  \n",
       "0         0  \n",
       "0         0  \n",
       "0         0  \n",
       "0         0  "
      ]
     },
     "execution_count": 17,
     "metadata": {},
     "output_type": "execute_result"
    }
   ],
   "source": [
    "del data['uri']\n",
    "data.head()"
   ]
  },
  {
   "cell_type": "code",
   "execution_count": 18,
   "metadata": {
    "collapsed": false
   },
   "outputs": [
    {
     "data": {
      "text/plain": [
       "acousticness        False\n",
       "danceability         True\n",
       "duration_ms         False\n",
       "energy              False\n",
       "instrumentalness    False\n",
       "key                 False\n",
       "liveness             True\n",
       "loudness            False\n",
       "mode                False\n",
       "speechiness          True\n",
       "tempo               False\n",
       "time_signature       True\n",
       "valence              True\n",
       "is_top10            False\n",
       "dtype: bool"
      ]
     },
     "execution_count": 18,
     "metadata": {},
     "output_type": "execute_result"
    }
   ],
   "source": [
    "data.isnull().any()"
   ]
  },
  {
   "cell_type": "code",
   "execution_count": 29,
   "metadata": {
    "collapsed": false
   },
   "outputs": [
    {
     "data": {
      "text/plain": [
       "(3851, 3865)"
      ]
     },
     "execution_count": 29,
     "metadata": {},
     "output_type": "execute_result"
    }
   ],
   "source": [
    "sum(data_scaled.is_top10==0),sum(data.is_top10==0)"
   ]
  },
  {
   "cell_type": "code",
   "execution_count": 19,
   "metadata": {
    "collapsed": false
   },
   "outputs": [
    {
     "data": {
      "text/html": [
       "<div>\n",
       "<table border=\"1\" class=\"dataframe\">\n",
       "  <thead>\n",
       "    <tr style=\"text-align: right;\">\n",
       "      <th></th>\n",
       "      <th>acousticness</th>\n",
       "      <th>danceability</th>\n",
       "      <th>duration_ms</th>\n",
       "      <th>energy</th>\n",
       "      <th>instrumentalness</th>\n",
       "      <th>key</th>\n",
       "      <th>liveness</th>\n",
       "      <th>loudness</th>\n",
       "      <th>mode</th>\n",
       "      <th>speechiness</th>\n",
       "      <th>tempo</th>\n",
       "      <th>time_signature</th>\n",
       "      <th>valence</th>\n",
       "      <th>is_top10</th>\n",
       "    </tr>\n",
       "  </thead>\n",
       "  <tbody>\n",
       "    <tr>\n",
       "      <th>0</th>\n",
       "      <td>-0.941360</td>\n",
       "      <td>1.863035</td>\n",
       "      <td>-0.868285</td>\n",
       "      <td>-0.160642</td>\n",
       "      <td>-0.276590</td>\n",
       "      <td>0.502495</td>\n",
       "      <td>-0.647150</td>\n",
       "      <td>1.837466</td>\n",
       "      <td>-1.569892</td>\n",
       "      <td>-0.216965</td>\n",
       "      <td>0.911101</td>\n",
       "      <td>0.200974</td>\n",
       "      <td>0.768650</td>\n",
       "      <td>0</td>\n",
       "    </tr>\n",
       "    <tr>\n",
       "      <th>1</th>\n",
       "      <td>-0.336054</td>\n",
       "      <td>-1.288054</td>\n",
       "      <td>-0.101807</td>\n",
       "      <td>0.694296</td>\n",
       "      <td>-0.276604</td>\n",
       "      <td>1.629584</td>\n",
       "      <td>-0.223676</td>\n",
       "      <td>1.256591</td>\n",
       "      <td>-1.569892</td>\n",
       "      <td>3.898542</td>\n",
       "      <td>0.714177</td>\n",
       "      <td>3.449383</td>\n",
       "      <td>-1.285799</td>\n",
       "      <td>0</td>\n",
       "    </tr>\n",
       "  </tbody>\n",
       "</table>\n",
       "</div>"
      ],
      "text/plain": [
       "   acousticness  danceability  duration_ms    energy  instrumentalness  \\\n",
       "0     -0.941360      1.863035    -0.868285 -0.160642         -0.276590   \n",
       "1     -0.336054     -1.288054    -0.101807  0.694296         -0.276604   \n",
       "\n",
       "        key  liveness  loudness      mode  speechiness     tempo  \\\n",
       "0  0.502495 -0.647150  1.837466 -1.569892    -0.216965  0.911101   \n",
       "1  1.629584 -0.223676  1.256591 -1.569892     3.898542  0.714177   \n",
       "\n",
       "   time_signature   valence  is_top10  \n",
       "0        0.200974  0.768650         0  \n",
       "1        3.449383 -1.285799         0  "
      ]
     },
     "execution_count": 19,
     "metadata": {},
     "output_type": "execute_result"
    }
   ],
   "source": [
    "# remove null values\n",
    "data_notnull = data.dropna()\n",
    "\n",
    "# normalize all columns since they have 0 values and their value ranges are quite different\n",
    "from sklearn import preprocessing\n",
    "data_scaled = preprocessing.scale(data_notnull.ix[:,:-1]) # not normalize Y variable\n",
    "data_scaled = pd.DataFrame(data_scaled,columns=data_notnull.columns[:-1])\n",
    "\n",
    "data_scaled['is_top10'] = data_notnull['is_top10'].values\n",
    "data_scaled.head(2)"
   ]
  },
  {
   "cell_type": "code",
   "execution_count": 20,
   "metadata": {
    "collapsed": false
   },
   "outputs": [
    {
     "name": "stdout",
     "output_type": "stream",
     "text": [
      "Randomly select will produce prediction accuracy of 0.53\n"
     ]
    }
   ],
   "source": [
    "print('Randomly select will produce prediction accuracy of %0.2f' % (sum(data_scaled.is_top10==1)/float(len(data_scaled.is_top10))))"
   ]
  },
  {
   "cell_type": "code",
   "execution_count": 21,
   "metadata": {
    "collapsed": false
   },
   "outputs": [
    {
     "name": "stdout",
     "output_type": "stream",
     "text": [
      "Accuracy: 0.49 (+/- 0.10)\n"
     ]
    }
   ],
   "source": [
    "from sklearn.linear_model import LogisticRegression\n",
    "from sklearn.model_selection import cross_val_score\n",
    "\n",
    "clf = LogisticRegression()\n",
    "scores = cross_val_score(clf, data_scaled.ix[:,:-1].values, data_scaled.is_top10.values, cv=5)\n",
    "\n",
    "print(\"Accuracy: %0.2f (+/- %0.2f)\" % (scores.mean(), scores.std() * 2))"
   ]
  },
  {
   "cell_type": "code",
   "execution_count": 22,
   "metadata": {
    "collapsed": false
   },
   "outputs": [
    {
     "name": "stdout",
     "output_type": "stream",
     "text": [
      "Accuracy: 0.49 (+/- 0.08) using margin 0.2\n",
      "Accuracy: 0.50 (+/- 0.08) using margin 0.5\n",
      "Accuracy: 0.50 (+/- 0.07) using margin 0.8\n",
      "Accuracy: 0.50 (+/- 0.07) using margin 1.0\n"
     ]
    }
   ],
   "source": [
    "from sklearn import svm\n",
    "\n",
    "Cs = [0.2,0.5,0.8,1]\n",
    "for c in Cs:\n",
    "    clf = svm.SVC(kernel='rbf', C=c)\n",
    "    scores = cross_val_score(clf, data_scaled.ix[:,:-1].values, data_scaled.is_top10.values, cv=5)\n",
    "\n",
    "    print(\"Accuracy: %0.2f (+/- %0.2f) using margin %0.1f\" % (scores.mean(), scores.std() * 2,c))"
   ]
  },
  {
   "cell_type": "code",
   "execution_count": 23,
   "metadata": {
    "collapsed": false
   },
   "outputs": [
    {
     "name": "stdout",
     "output_type": "stream",
     "text": [
      "Accuracy: 0.49 (+/- 0.10) using linear kernel\n"
     ]
    }
   ],
   "source": [
    "clf = svm.SVC(kernel='linear', C=c)\n",
    "scores = cross_val_score(clf, data_scaled.ix[:,:-1].values, data_scaled.is_top10.values, cv=5)\n",
    "\n",
    "print(\"Accuracy: %0.2f (+/- %0.2f) using linear kernel\" % (scores.mean(), scores.std() * 2))"
   ]
  },
  {
   "cell_type": "code",
   "execution_count": 24,
   "metadata": {
    "collapsed": false
   },
   "outputs": [
    {
     "name": "stdout",
     "output_type": "stream",
     "text": [
      "Accuracy: 0.49 (+/- 0.02) using 5 estimators\n",
      "Accuracy: 0.48 (+/- 0.05) using 10 estimators\n",
      "Accuracy: 0.50 (+/- 0.06) using 20 estimators\n",
      "Accuracy: 0.48 (+/- 0.04) using 30 estimators\n"
     ]
    }
   ],
   "source": [
    "from sklearn.ensemble import RandomForestClassifier\n",
    "\n",
    "n_trees = [5,10,20,30]\n",
    "for n in n_trees:\n",
    "    clf = RandomForestClassifier(n_estimators=n)\n",
    "    scores = cross_val_score(clf, data_scaled.ix[:,:-1].values, data_scaled.is_top10.values, cv=5)\n",
    "\n",
    "    print(\"Accuracy: %0.2f (+/- %0.2f) using %s estimators\" % (scores.mean(), scores.std() * 2,n))"
   ]
  },
  {
   "cell_type": "code",
   "execution_count": 26,
   "metadata": {
    "collapsed": false
   },
   "outputs": [
    {
     "name": "stdout",
     "output_type": "stream",
     "text": [
      "Accuracy: 0.49 (+/- 0.04) using 21 estimators\n",
      "Accuracy: 0.48 (+/- 0.06) using 22 estimators\n",
      "Accuracy: 0.50 (+/- 0.07) using 23 estimators\n",
      "Accuracy: 0.49 (+/- 0.06) using 24 estimators\n",
      "Accuracy: 0.49 (+/- 0.06) using 25 estimators\n",
      "Accuracy: 0.48 (+/- 0.07) using 26 estimators\n",
      "Accuracy: 0.49 (+/- 0.05) using 27 estimators\n",
      "Accuracy: 0.49 (+/- 0.05) using 28 estimators\n",
      "Accuracy: 0.49 (+/- 0.07) using 29 estimators\n"
     ]
    }
   ],
   "source": [
    "n_trees = range(21,30)\n",
    "for n in n_trees:\n",
    "    clf = RandomForestClassifier(n_estimators=n)\n",
    "    scores = cross_val_score(clf, data_scaled.ix[:,:-1].values, data_scaled.is_top10.values, cv=5)\n",
    "\n",
    "    print(\"Accuracy: %0.2f (+/- %0.2f) using %s estimators\" % (scores.mean(), scores.std() * 2,n))"
   ]
  },
  {
   "cell_type": "code",
   "execution_count": null,
   "metadata": {
    "collapsed": true
   },
   "outputs": [],
   "source": []
  }
 ],
 "metadata": {
  "kernelspec": {
   "display_name": "Python 2",
   "language": "python",
   "name": "python2"
  },
  "language_info": {
   "codemirror_mode": {
    "name": "ipython",
    "version": 2
   },
   "file_extension": ".py",
   "mimetype": "text/x-python",
   "name": "python",
   "nbconvert_exporter": "python",
   "pygments_lexer": "ipython2",
   "version": "2.7.12"
  }
 },
 "nbformat": 4,
 "nbformat_minor": 1
}
