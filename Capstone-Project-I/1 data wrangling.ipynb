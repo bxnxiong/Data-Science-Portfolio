{
 "cells": [
  {
   "cell_type": "markdown",
   "metadata": {},
   "source": [
    "*****\n",
    "## Step 1: collect billboard data\n",
    "Songs date as far back as 1958, where I found the first available chart for Hot 100."
   ]
  },
  {
   "cell_type": "code",
   "execution_count": null,
   "metadata": {
    "collapsed": true
   },
   "outputs": [],
   "source": [
    "# pip install billboard.py\n",
    "\n",
    "# in this part we want to build up a data frame of all available charts on billboard\n",
    "import billboard\n",
    "import pandas as pd\n",
    "\n",
    "Hot_10 = pd.DataFrame(columns = ['date','title','artist','rank','weeks','change_in_rank','spotifyID'\n",
    "    ])\n",
    "\n",
    "\n",
    "chart = billboard.ChartData('hot-100',date = '2010-12-25') # this breaks sometimes so have to rerun and change date\n",
    "date = chart.date\n",
    "prev_year,prev_month = date.split('-')[0],date.split('-')[1]\n",
    "\n",
    "while chart.previousDate:\n",
    "    year,month = date.split('-')[0],date.split('-')[1]\n",
    "    if prev_month != month:\n",
    "        print 'chart year:{},month:{}'.format(year,month)\n",
    "    for i in range(10):\n",
    "        song = chart[i]\n",
    "        Hot_10 = Hot_10.append([(date,song.title,song.artist,song.rank,song.weeks,song.change,song.spotifyID)])\n",
    "    chart = billboard.ChartData('hot-100',chart.previousDate)\n",
    "    prev_year,prev_month = year,month\n",
    "    date = chart.date\n",
    "    no += 1\n"
   ]
  },
  {
   "cell_type": "code",
   "execution_count": null,
   "metadata": {
    "collapsed": true
   },
   "outputs": [],
   "source": [
    "# the scrapping breaks sometimes due to website control so have to rerun and change date\n",
    "chart = billboard.ChartData('hot-100',date = '1958-08-09') \n",
    "date = chart.date\n",
    "prev_year,prev_month = date.split('-')[0],date.split('-')[1]\n",
    "\n",
    "while chart.previousDate:\n",
    "    year,month = date.split('-')[0],date.split('-')[1]\n",
    "    if prev_month != month:\n",
    "        print 'chart year:{},month:{}'.format(year,month)\n",
    "    for i in range(10):\n",
    "        song = chart[i]\n",
    "        Hot_10 = Hot_10.append([(date,song.title,song.artist,song.rank,song.weeks,song.change,song.spotifyID)])\n",
    "    chart = billboard.ChartData('hot-100',chart.previousDate)\n",
    "    prev_year,prev_month = year,month\n",
    "    date = chart.date\n",
    "    no += 1"
   ]
  },
  {
   "cell_type": "code",
   "execution_count": null,
   "metadata": {
    "collapsed": true
   },
   "outputs": [],
   "source": [
    "Hot_10_dropped = Hot_10.drop(Hot_10.columns.values[7:],axis=1)\n",
    "Hot_10_dropped.columns = ['date','title','artist','rank','weeks','change_in_rank','spotifyID']\n",
    "Hot_10_dropped.to_pickle('Billboard_data')"
   ]
  },
  {
   "cell_type": "code",
   "execution_count": null,
   "metadata": {
    "collapsed": true
   },
   "outputs": [],
   "source": [
    "import pandas as pd\n",
    "top10 = pd.read_pickle('Billboard_data')\n",
    "top10.head()"
   ]
  }
 ],
 "metadata": {
  "kernelspec": {
   "display_name": "Python 2",
   "language": "python",
   "name": "python2"
  },
  "language_info": {
   "codemirror_mode": {
    "name": "ipython",
    "version": 2
   },
   "file_extension": ".py",
   "mimetype": "text/x-python",
   "name": "python",
   "nbconvert_exporter": "python",
   "pygments_lexer": "ipython2",
   "version": "2.7.12"
  }
 },
 "nbformat": 4,
 "nbformat_minor": 1
}
