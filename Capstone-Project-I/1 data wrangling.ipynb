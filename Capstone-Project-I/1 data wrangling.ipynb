{
 "cells": [
  {
   "cell_type": "markdown",
   "metadata": {},
   "source": [
    "# Data ETL using billboard and spotify data\n"
   ]
  },
  {
   "cell_type": "code",
   "execution_count": null,
   "metadata": {
    "collapsed": true
   },
   "outputs": [],
   "source": [
    "# all packages\n",
    "import billboard\n",
    "import pandas as pd\n",
    "import os\n",
    "\n",
    "from oauthlib.oauth2 import BackendApplicationClient\n",
    "from requests_oauthlib import OAuth2Session\n",
    "import time,json\n",
    "import pandas as pd\n",
    "import requests\n",
    "import re\n",
    "import random\n",
    "import urllib\n",
    "import os.path"
   ]
  },
  {
   "cell_type": "markdown",
   "metadata": {},
   "source": [
    "*****\n",
    "## Step 1: collect billboard data\n",
    "Songs date as far back as 1958, where I found the first available chart for Hot 100."
   ]
  },
  {
   "cell_type": "code",
   "execution_count": 1,
   "metadata": {
    "collapsed": true
   },
   "outputs": [],
   "source": [
    "# pip install billboard.py\n",
    "\n",
    "# in this part we want to build up a data frame of all available charts on billboard\n",
    "\n",
    "if not os.path.isfile('Billboard_data'):\n",
    "    Hot_10 = pd.DataFrame(columns = ['date','title','artist','rank','weeks','change_in_rank','spotifyID'\n",
    "        ])\n",
    "\n",
    "\n",
    "    chart = billboard.ChartData('hot-100',date = '2010-12-25') # this breaks sometimes so have to rerun and change date\n",
    "    date = chart.date\n",
    "    prev_year,prev_month = date.split('-')[0],date.split('-')[1]\n",
    "\n",
    "    while chart.previousDate:\n",
    "        year,month = date.split('-')[0],date.split('-')[1]\n",
    "        if prev_month != month:\n",
    "            print 'chart year:{},month:{}'.format(year,month)\n",
    "        for i in range(10):\n",
    "            song = chart[i]\n",
    "            Hot_10 = Hot_10.append([(date,song.title,song.artist,song.rank,song.weeks,song.change,song.spotifyID)])\n",
    "        chart = billboard.ChartData('hot-100',chart.previousDate)\n",
    "        prev_year,prev_month = year,month\n",
    "        date = chart.date\n",
    "        no += 1\n"
   ]
  },
  {
   "cell_type": "code",
   "execution_count": 2,
   "metadata": {
    "collapsed": true
   },
   "outputs": [],
   "source": [
    "if not os.path.isfile('Billboard_data'):\n",
    "    # the scrapping breaks sometimes due to website control so have to rerun and change date\n",
    "    chart = billboard.ChartData('hot-100',date = '1958-08-09') \n",
    "    date = chart.date\n",
    "    prev_year,prev_month = date.split('-')[0],date.split('-')[1]\n",
    "\n",
    "    while chart.previousDate:\n",
    "        year,month = date.split('-')[0],date.split('-')[1]\n",
    "        if prev_month != month:\n",
    "            print 'chart year:{},month:{}'.format(year,month)\n",
    "        for i in range(10):\n",
    "            song = chart[i]\n",
    "            Hot_10 = Hot_10.append([(date,song.title,song.artist,song.rank,song.weeks,song.change,song.spotifyID)])\n",
    "        chart = billboard.ChartData('hot-100',chart.previousDate)\n",
    "        prev_year,prev_month = year,month\n",
    "        date = chart.date\n",
    "        no += 1\n",
    "        \n",
    "    Hot_10_dropped = Hot_10.drop(Hot_10.columns.values[7:],axis=1)\n",
    "    Hot_10_dropped.columns = ['date','title','artist','rank','weeks','change_in_rank','spotifyID']\n",
    "    Hot_10_dropped.to_pickle('Billboard_data')"
   ]
  },
  {
   "cell_type": "code",
   "execution_count": null,
   "metadata": {
    "collapsed": true
   },
   "outputs": [],
   "source": []
  },
  {
   "cell_type": "code",
   "execution_count": 3,
   "metadata": {
    "collapsed": false
   },
   "outputs": [
    {
     "data": {
      "text/html": [
       "<div>\n",
       "<table border=\"1\" class=\"dataframe\">\n",
       "  <thead>\n",
       "    <tr style=\"text-align: right;\">\n",
       "      <th></th>\n",
       "      <th>date</th>\n",
       "      <th>title</th>\n",
       "      <th>artist</th>\n",
       "      <th>rank</th>\n",
       "      <th>weeks</th>\n",
       "      <th>change_in_rank</th>\n",
       "      <th>spotifyID</th>\n",
       "    </tr>\n",
       "  </thead>\n",
       "  <tbody>\n",
       "    <tr>\n",
       "      <th>0</th>\n",
       "      <td>2017-03-18</td>\n",
       "      <td>Shape Of You</td>\n",
       "      <td>Ed Sheeran</td>\n",
       "      <td>1.0</td>\n",
       "      <td>8.0</td>\n",
       "      <td>0</td>\n",
       "      <td>0FE9t6xYkqWXU2ahLh6D8X</td>\n",
       "    </tr>\n",
       "    <tr>\n",
       "      <th>0</th>\n",
       "      <td>2017-03-18</td>\n",
       "      <td>Bad And Boujee</td>\n",
       "      <td>Migos Featuring Lil Uzi Vert</td>\n",
       "      <td>2.0</td>\n",
       "      <td>16.0</td>\n",
       "      <td>0</td>\n",
       "      <td>1FvU97lrWOG2NRxErh6OZz</td>\n",
       "    </tr>\n",
       "  </tbody>\n",
       "</table>\n",
       "</div>"
      ],
      "text/plain": [
       "         date           title                        artist  rank  weeks  \\\n",
       "0  2017-03-18    Shape Of You                    Ed Sheeran   1.0    8.0   \n",
       "0  2017-03-18  Bad And Boujee  Migos Featuring Lil Uzi Vert   2.0   16.0   \n",
       "\n",
       "  change_in_rank               spotifyID  \n",
       "0              0  0FE9t6xYkqWXU2ahLh6D8X  \n",
       "0              0  1FvU97lrWOG2NRxErh6OZz  "
      ]
     },
     "execution_count": 3,
     "metadata": {},
     "output_type": "execute_result"
    }
   ],
   "source": [
    "\n",
    "top10 = pd.read_pickle('Billboard_data')\n",
    "top10_spotify = top10[top10.spotifyID != u'']\n",
    "top10_spotify.head(2)"
   ]
  },
  {
   "cell_type": "code",
   "execution_count": null,
   "metadata": {
    "collapsed": true
   },
   "outputs": [],
   "source": []
  },
  {
   "cell_type": "markdown",
   "metadata": {},
   "source": [
    "*****\n",
    "## Step 2: collect spotify data"
   ]
  },
  {
   "cell_type": "code",
   "execution_count": 4,
   "metadata": {
    "collapsed": true
   },
   "outputs": [],
   "source": []
  },
  {
   "cell_type": "code",
   "execution_count": 24,
   "metadata": {
    "collapsed": true
   },
   "outputs": [],
   "source": [
    "def get_token():\n",
    "    auth_url = u'https://accounts.spotify.com/api/token'\n",
    "\n",
    "    ##### private information #####\n",
    "    client_id = u'client_id_string_here'\n",
    "    client_secret = u'client_secret_string_here'\n",
    "    ##### wipe if publish in public #####\n",
    "    client = BackendApplicationClient(client_id=client_id)\n",
    "    oauth = OAuth2Session(client=client)\n",
    "    token = oauth.fetch_token(token_url=auth_url, client_id=client_id,\n",
    "        client_secret=client_secret)\n",
    "\n",
    "    return token\n",
    "\n",
    "def get_spotify_json(url,token=None):\n",
    "    if not token or token['expires_at']-time.time() < 100: # if token less than 100 seconds until expiration\n",
    "        token = get_token()\n",
    "\n",
    "    access_token = token['access_token']\n",
    "    header = {u'Authorization':u'Bearer '+access_token}\n",
    "\n",
    "    r = requests.get(url,headers=header)\n",
    "    return r.json(),token\n",
    "\n",
    "def single_audio_features(track_id,token=None):\n",
    "    url_head = u'https://api.spotify.com/v1/audio-features/'\n",
    "\n",
    "    if type(track_id) == str:\n",
    "        url = url_head + track_id\n",
    "    else:\n",
    "        raise TypeError(\"Track_id should be str!\")\n",
    "\n",
    "    r,token = get_spotify_json(url,token)\n",
    "    table = pd.DataFrame([r])\n",
    "    table.drop(['analysis_url','id','track_href','type'],axis=1,inplace=True)\n",
    "    return table,token\n",
    "    \n",
    "def multiple_audio_features(track_ids,token=None):\n",
    "    url_head = u'https://api.spotify.com/v1/audio-features?ids='\n",
    "\n",
    "    url = url_head + ','.join(track_ids)\n",
    "\n",
    "    rs,token = get_spotify_json(url,token)\n",
    "    table = pd.DataFrame()\n",
    "    for r in rs['audio_features']:\n",
    "        row = pd.DataFrame([r])\n",
    "        row.drop(['analysis_url','id','track_href','type'],axis=1,inplace=True)\n",
    "        table = table.append(row)\n",
    "\n",
    "    return table,token\n",
    "\n",
    "def chunk_100(series):\n",
    "    for i in xrange(0,len(series),100):\n",
    "        yield series[i:(i+100)]\n",
    "    \n",
    "def search_uri(title,artist,token=None):\n",
    "    '''\n",
    "    title eg.: 'never gonna give you up'\n",
    "    '''\n",
    "    url_head = u'https://api.spotify.com/v1/search?q='\n",
    "    name = '+'.join(map(urllib.quote,unicode(title,errors='ignore').split(' ')))\n",
    "\n",
    "    url = url_head+name+'&type=track&market=US&limit=20'\n",
    "    \n",
    "    rs,token = get_spotify_json(url,token)\n",
    "    \n",
    "    if 'tracks' in rs and 'items' in rs['tracks']:\n",
    "        for result in rs['tracks']['items']:\n",
    "            if result['album']['artists'][0]['name'].lower() == artist.lower():\n",
    "                return result['id']\n",
    "    return None\n"
   ]
  },
  {
   "cell_type": "markdown",
   "metadata": {},
   "source": [
    "## Get audio features for billboard songs"
   ]
  },
  {
   "cell_type": "code",
   "execution_count": 9,
   "metadata": {
    "collapsed": false
   },
   "outputs": [],
   "source": [
    "top10_spotify = top10[top10.spotifyID != u'']\n",
    "distinct_trackids = list(set(top10_spotify.spotifyID.values))\n",
    "\n",
    "audio_data = pd.DataFrame()\n",
    "if not os.path.isfile('Spotify_audio_features'):\n",
    "    for i,track_ids in enumerate(chunk_100(distinct_trackids)):\n",
    "        audio_features,token = multiple_audio_features(track_ids,token)\n",
    "        audio_data = audio_data.append(audio_features)\n",
    "        \n",
    "    assert len(audio_data)==len(distinct_trackids)\n",
    "    audio_data.to_pickle('Spotify_audio_features')\n",
    "\n",
    "else:\n",
    "    audio_data = pd.read_pickle('Spotify_audio_features')"
   ]
  },
  {
   "cell_type": "markdown",
   "metadata": {},
   "source": [
    "## Get audio features for 4000 MSD songs"
   ]
  },
  {
   "cell_type": "code",
   "execution_count": 10,
   "metadata": {
    "collapsed": false
   },
   "outputs": [
    {
     "name": "stdout",
     "output_type": "stream",
     "text": [
      "4314\n"
     ]
    }
   ],
   "source": [
    "title_artist_spotify_set = set(zip(map(lambda x:x.lower(),top10_spotify.title.values),map(lambda x:x.lower(),top10_spotify.artist.values)))\n",
    "print len(title_artist_spotify_set)"
   ]
  },
  {
   "cell_type": "code",
   "execution_count": 19,
   "metadata": {
    "collapsed": false,
    "scrolled": true
   },
   "outputs": [],
   "source": [
    "def get_MSD_tracks(title_artist_set):\n",
    "    MSD_tracks = []\n",
    "    with open('./MSD/MillionSongSubset/AdditionalFiles/subset_unique_tracks.txt') as f:\n",
    "        for i,line in enumerate(f):\n",
    "            if len(MSD_tracks) % 100 == 0:\n",
    "                print i,len(MSD_tracks)\n",
    "            title,artist = re.split('<SEP>',line.replace('\\n',''))[::-1][:2]\n",
    "            pair = (title.lower(),artist.lower())\n",
    "\n",
    "            if len(MSD_tracks) <= 4000:\n",
    "                if pair not in title_artist_set:\n",
    "                    uri = search_uri(title,artist)\n",
    "                    if uri:\n",
    "                        MSD_tracks.append((title,artist,uri))\n",
    "            else:\n",
    "                return MSD_tracks\n",
    "        return MSD_tracks\n",
    "\n",
    "if not os.path.isfile('MSD_tracks'):\n",
    "    MSD_tracks = get_MSD_tracks(title_artist_spotify_set)\n",
    "    MSD = pd.DataFrame(MSD_tracks,columns=['title','artist','uri'])\n",
    "    MSD.to_pickle('MSD_tracks')\n",
    "else:\n",
    "    MSD = pd.read_pickle('MSD_tracks')\n",
    "    MSD_track_ids = MSD.uri.values"
   ]
  },
  {
   "cell_type": "code",
   "execution_count": 21,
   "metadata": {
    "collapsed": false
   },
   "outputs": [
    {
     "data": {
      "text/html": [
       "<div>\n",
       "<table border=\"1\" class=\"dataframe\">\n",
       "  <thead>\n",
       "    <tr style=\"text-align: right;\">\n",
       "      <th></th>\n",
       "      <th>title</th>\n",
       "      <th>artist</th>\n",
       "      <th>uri</th>\n",
       "    </tr>\n",
       "  </thead>\n",
       "  <tbody>\n",
       "    <tr>\n",
       "      <th>0</th>\n",
       "      <td>I Didn't Mean To</td>\n",
       "      <td>Casual</td>\n",
       "      <td>01TR6aAKrA2cI3Z0gnCOsu</td>\n",
       "    </tr>\n",
       "    <tr>\n",
       "      <th>1</th>\n",
       "      <td>Soul Deep</td>\n",
       "      <td>The Box Tops</td>\n",
       "      <td>4yPl1mK1oluIrCwI4HInPR</td>\n",
       "    </tr>\n",
       "  </tbody>\n",
       "</table>\n",
       "</div>"
      ],
      "text/plain": [
       "              title        artist                     uri\n",
       "0  I Didn't Mean To        Casual  01TR6aAKrA2cI3Z0gnCOsu\n",
       "1         Soul Deep  The Box Tops  4yPl1mK1oluIrCwI4HInPR"
      ]
     },
     "execution_count": 21,
     "metadata": {},
     "output_type": "execute_result"
    }
   ],
   "source": [
    "MSD.head(2)"
   ]
  },
  {
   "cell_type": "code",
   "execution_count": 13,
   "metadata": {
    "collapsed": false
   },
   "outputs": [],
   "source": [
    "audio_data = pd.DataFrame()\n",
    "if not os.path.isfile('MSD_audio_features'):\n",
    "    for i,track_ids in enumerate(chunk_100(MSD_track_ids)):\n",
    "        audio_features,token = multiple_audio_features(track_ids)\n",
    "        audio_data = audio_data.append(audio_features)\n",
    "        \n",
    "    assert len(audio_data)==len(MSD_track_ids)\n",
    "    audio_data.to_pickle('MSD_audio_features')\n",
    "\n",
    "else:\n",
    "    audio_data = pd.read_pickle('MSD_audio_features')"
   ]
  },
  {
   "cell_type": "code",
   "execution_count": null,
   "metadata": {
    "collapsed": true
   },
   "outputs": [],
   "source": []
  },
  {
   "cell_type": "markdown",
   "metadata": {},
   "source": [
    "*****\n",
    "## Step 3 Get lyrics from lyrics.wikia.com\n",
    "\n",
    "According to the original plan I was to get the lyrics from Musixmatch, but for their free version they only provide 30% of the lyrics per song, and has a quota of 2000 songs per day. So I looked for other resources and found this website, and scraped from its html code\n",
    "link to the website:\n",
    "http://lyrics.wikia.com/"
   ]
  },
  {
   "cell_type": "markdown",
   "metadata": {
    "collapsed": true
   },
   "source": [
    "Since it's a long process I singled the whole process out for a separate notebook. Please check '1.5 get lyrics.ipynb' for details"
   ]
  },
  {
   "cell_type": "markdown",
   "metadata": {},
   "source": [
    "*****\n",
    "## Step 4 Look for other songs by same billboard artists\n",
    "\n",
    "From Step 3 I found that only 46% of the MSD songs have lyrics available, and from those whose lyrics are not available, I found that was because they were very unpopular songs, some in foreign languages even.(details can be found in '1.5 get lyrics.ipynb')\n",
    "\n",
    "Therefore I decided to replace MSD songs with a list of songs by billboard artists, in that sense I can achieve two goals:\n",
    "- 1 by limiting artists to those once have billboard hit songs, I can compare songs with their production companies a controlled variable, i.e. the influence of production companies will be limited and under control because of sourcing process of data.\n",
    "- 2 I can still get 4000 more non-billboard songs, and get the lyrics of them and build the prediction model"
   ]
  },
  {
   "cell_type": "code",
   "execution_count": 41,
   "metadata": {
    "collapsed": true
   },
   "outputs": [],
   "source": [
    "def search_artist_id(artist,token=None):\n",
    "    '''\n",
    "    artist: single artist name, should be from get_spotify_names,i.e. spotify name for artist\n",
    "    '''\n",
    "    url_head = u'https://api.spotify.com/v1/search?q='\n",
    "    name = '+'.join(map(urllib.quote,unicode(artist,errors='ignore').split(' ')))\n",
    "    \n",
    "    url = url_head+name+'&type=artist&market=US&limit=20'\n",
    "    \n",
    "    rs,token = get_spotify_json(url,token)\n",
    "    \n",
    "    if 'artists' in rs and 'items' in rs['artists']:\n",
    "        for result in rs['artists']['items']:\n",
    "            if result['name'].lower() == artist.lower():\n",
    "                return result['id']\n",
    "    return None\n",
    "\n",
    "def get_artist_albums(artist_id,token=None):\n",
    "    url_head = u'https://api.spotify.com/v1/artists/'\n",
    "    \n",
    "    url = url_head+artist_id+'/albums?market=US'\n",
    "    \n",
    "    rs,token = get_spotify_json(url,token)\n",
    "    \n",
    "    results = []\n",
    "    if 'items' in rs:\n",
    "        for result in rs['items']:\n",
    "            r = result['name'],result['type'],result['uri'] #album,album_type,album_uri\n",
    "            results.append(r)\n",
    "        return results\n",
    "    return None\n",
    "\n",
    "def get_album_tracks(album_id,token=None):\n",
    "    url_head = u'https://api.spotify.com/v1/albums/'\n",
    "    \n",
    "    url = url_head+album_id+'/tracks?market=US'\n",
    "    \n",
    "    rs,token = get_spotify_json(url,token)\n",
    "    \n",
    "    results = []\n",
    "    if 'items' in rs:\n",
    "        for result in rs['items']:\n",
    "            r = result['name'],result['track_number'],result['uri'] #album,album_type,album_uri\n",
    "            results.append(r)\n",
    "        return results\n",
    "    return None"
   ]
  },
  {
   "cell_type": "code",
   "execution_count": 82,
   "metadata": {
    "collapsed": false
   },
   "outputs": [],
   "source": []
  },
  {
   "cell_type": "code",
   "execution_count": 100,
   "metadata": {
    "collapsed": false
   },
   "outputs": [],
   "source": []
  },
  {
   "cell_type": "code",
   "execution_count": 104,
   "metadata": {
    "collapsed": true
   },
   "outputs": [],
   "source": [
    "test_artist_id = search_artist_id('michael jackson')"
   ]
  },
  {
   "cell_type": "code",
   "execution_count": 105,
   "metadata": {
    "collapsed": false
   },
   "outputs": [],
   "source": [
    "result = get_artist_albums(test_artist_id)"
   ]
  },
  {
   "cell_type": "code",
   "execution_count": 106,
   "metadata": {
    "collapsed": false
   },
   "outputs": [
    {
     "data": {
      "text/html": [
       "<div>\n",
       "<table border=\"1\" class=\"dataframe\">\n",
       "  <thead>\n",
       "    <tr style=\"text-align: right;\">\n",
       "      <th></th>\n",
       "      <th>0</th>\n",
       "      <th>1</th>\n",
       "      <th>2</th>\n",
       "    </tr>\n",
       "  </thead>\n",
       "  <tbody>\n",
       "    <tr>\n",
       "      <th>0</th>\n",
       "      <td>XSCAPE</td>\n",
       "      <td>album</td>\n",
       "      <td>spotify:album:7pomP86PUhoJpY3fsC0WDQ</td>\n",
       "    </tr>\n",
       "    <tr>\n",
       "      <th>1</th>\n",
       "      <td>XSCAPE - Track by Track Commentary</td>\n",
       "      <td>album</td>\n",
       "      <td>spotify:album:54WFfZzds26NrwcmStfamd</td>\n",
       "    </tr>\n",
       "    <tr>\n",
       "      <th>2</th>\n",
       "      <td>Michael</td>\n",
       "      <td>album</td>\n",
       "      <td>spotify:album:0yYWeLqonFk11pmb0RiMbP</td>\n",
       "    </tr>\n",
       "    <tr>\n",
       "      <th>3</th>\n",
       "      <td>Invincible</td>\n",
       "      <td>album</td>\n",
       "      <td>spotify:album:52E4RP7XDzalpIrOgSTgiQ</td>\n",
       "    </tr>\n",
       "    <tr>\n",
       "      <th>4</th>\n",
       "      <td>BLOOD ON THE DANCE FLOOR/ HIStory In The Mix</td>\n",
       "      <td>album</td>\n",
       "      <td>spotify:album:0RNsFWWdiz1rrdLI1pwbvJ</td>\n",
       "    </tr>\n",
       "    <tr>\n",
       "      <th>5</th>\n",
       "      <td>HIStory - PAST, PRESENT AND FUTURE - Book I</td>\n",
       "      <td>album</td>\n",
       "      <td>spotify:album:4Cq3OcsC1jw9fhHiVdsFXv</td>\n",
       "    </tr>\n",
       "    <tr>\n",
       "      <th>6</th>\n",
       "      <td>HIStory - PAST, PRESENT AND FUTURE - BOOK I</td>\n",
       "      <td>album</td>\n",
       "      <td>spotify:album:3OBhnTLrvkoEEETjFA3Qfk</td>\n",
       "    </tr>\n",
       "    <tr>\n",
       "      <th>7</th>\n",
       "      <td>Dangerous</td>\n",
       "      <td>album</td>\n",
       "      <td>spotify:album:0oX4SealMgNXrvRDhqqOKg</td>\n",
       "    </tr>\n",
       "    <tr>\n",
       "      <th>8</th>\n",
       "      <td>Bad (Remastered)</td>\n",
       "      <td>album</td>\n",
       "      <td>spotify:album:3Us57CjssWnHjTUIXBuIeH</td>\n",
       "    </tr>\n",
       "    <tr>\n",
       "      <th>9</th>\n",
       "      <td>Bad 25th Anniversary</td>\n",
       "      <td>album</td>\n",
       "      <td>spotify:album:24TAupSNVWSAHL0R7n71vm</td>\n",
       "    </tr>\n",
       "    <tr>\n",
       "      <th>10</th>\n",
       "      <td>Thriller</td>\n",
       "      <td>album</td>\n",
       "      <td>spotify:album:2ANVost0y2y52ema1E9xAZ</td>\n",
       "    </tr>\n",
       "    <tr>\n",
       "      <th>11</th>\n",
       "      <td>Thriller 25 Super Deluxe Edition</td>\n",
       "      <td>album</td>\n",
       "      <td>spotify:album:1C2h7mLntPSeVYciMRTF4a</td>\n",
       "    </tr>\n",
       "    <tr>\n",
       "      <th>12</th>\n",
       "      <td>Off the Wall</td>\n",
       "      <td>album</td>\n",
       "      <td>spotify:album:2ZytN2cY4Zjrr9ukb2rqTP</td>\n",
       "    </tr>\n",
       "    <tr>\n",
       "      <th>13</th>\n",
       "      <td>Forever, Michael</td>\n",
       "      <td>album</td>\n",
       "      <td>spotify:album:6leeBdAohG7zhybC3Cmu8W</td>\n",
       "    </tr>\n",
       "    <tr>\n",
       "      <th>14</th>\n",
       "      <td>Music and Me</td>\n",
       "      <td>album</td>\n",
       "      <td>spotify:album:19vhLDr0Fw8Lja1I8xVV09</td>\n",
       "    </tr>\n",
       "    <tr>\n",
       "      <th>15</th>\n",
       "      <td>Ben</td>\n",
       "      <td>album</td>\n",
       "      <td>spotify:album:3xo2soey9XEBI5DlmT4KlQ</td>\n",
       "    </tr>\n",
       "    <tr>\n",
       "      <th>16</th>\n",
       "      <td>Got To Be There</td>\n",
       "      <td>album</td>\n",
       "      <td>spotify:album:0F4XW0iBOhNFkbn1BuQ8cu</td>\n",
       "    </tr>\n",
       "    <tr>\n",
       "      <th>17</th>\n",
       "      <td>Slave to the Rhythm (Audien Remix Radio Edit)</td>\n",
       "      <td>album</td>\n",
       "      <td>spotify:album:64pX2ZupRbnsRz1cnox0ss</td>\n",
       "    </tr>\n",
       "    <tr>\n",
       "      <th>18</th>\n",
       "      <td>Love Never Felt so Good (Fedde Le Grand Remix ...</td>\n",
       "      <td>album</td>\n",
       "      <td>spotify:album:6JXkWyhiS8cLHvXeF8kjtd</td>\n",
       "    </tr>\n",
       "    <tr>\n",
       "      <th>19</th>\n",
       "      <td>Bad (Remix By Afrojack Featuring Pitbull- DJ B...</td>\n",
       "      <td>album</td>\n",
       "      <td>spotify:album:7mrsnkBMKSs5b2pmoO5dMs</td>\n",
       "    </tr>\n",
       "  </tbody>\n",
       "</table>\n",
       "</div>"
      ],
      "text/plain": [
       "                                                    0      1  \\\n",
       "0                                              XSCAPE  album   \n",
       "1                  XSCAPE - Track by Track Commentary  album   \n",
       "2                                             Michael  album   \n",
       "3                                          Invincible  album   \n",
       "4        BLOOD ON THE DANCE FLOOR/ HIStory In The Mix  album   \n",
       "5         HIStory - PAST, PRESENT AND FUTURE - Book I  album   \n",
       "6         HIStory - PAST, PRESENT AND FUTURE - BOOK I  album   \n",
       "7                                           Dangerous  album   \n",
       "8                                    Bad (Remastered)  album   \n",
       "9                                Bad 25th Anniversary  album   \n",
       "10                                           Thriller  album   \n",
       "11                   Thriller 25 Super Deluxe Edition  album   \n",
       "12                                       Off the Wall  album   \n",
       "13                                   Forever, Michael  album   \n",
       "14                                       Music and Me  album   \n",
       "15                                                Ben  album   \n",
       "16                                    Got To Be There  album   \n",
       "17      Slave to the Rhythm (Audien Remix Radio Edit)  album   \n",
       "18  Love Never Felt so Good (Fedde Le Grand Remix ...  album   \n",
       "19  Bad (Remix By Afrojack Featuring Pitbull- DJ B...  album   \n",
       "\n",
       "                                       2  \n",
       "0   spotify:album:7pomP86PUhoJpY3fsC0WDQ  \n",
       "1   spotify:album:54WFfZzds26NrwcmStfamd  \n",
       "2   spotify:album:0yYWeLqonFk11pmb0RiMbP  \n",
       "3   spotify:album:52E4RP7XDzalpIrOgSTgiQ  \n",
       "4   spotify:album:0RNsFWWdiz1rrdLI1pwbvJ  \n",
       "5   spotify:album:4Cq3OcsC1jw9fhHiVdsFXv  \n",
       "6   spotify:album:3OBhnTLrvkoEEETjFA3Qfk  \n",
       "7   spotify:album:0oX4SealMgNXrvRDhqqOKg  \n",
       "8   spotify:album:3Us57CjssWnHjTUIXBuIeH  \n",
       "9   spotify:album:24TAupSNVWSAHL0R7n71vm  \n",
       "10  spotify:album:2ANVost0y2y52ema1E9xAZ  \n",
       "11  spotify:album:1C2h7mLntPSeVYciMRTF4a  \n",
       "12  spotify:album:2ZytN2cY4Zjrr9ukb2rqTP  \n",
       "13  spotify:album:6leeBdAohG7zhybC3Cmu8W  \n",
       "14  spotify:album:19vhLDr0Fw8Lja1I8xVV09  \n",
       "15  spotify:album:3xo2soey9XEBI5DlmT4KlQ  \n",
       "16  spotify:album:0F4XW0iBOhNFkbn1BuQ8cu  \n",
       "17  spotify:album:64pX2ZupRbnsRz1cnox0ss  \n",
       "18  spotify:album:6JXkWyhiS8cLHvXeF8kjtd  \n",
       "19  spotify:album:7mrsnkBMKSs5b2pmoO5dMs  "
      ]
     },
     "execution_count": 106,
     "metadata": {},
     "output_type": "execute_result"
    }
   ],
   "source": [
    "pd.DataFrame(result)"
   ]
  },
  {
   "cell_type": "code",
   "execution_count": null,
   "metadata": {
    "collapsed": true
   },
   "outputs": [],
   "source": []
  },
  {
   "cell_type": "markdown",
   "metadata": {},
   "source": [
    "Table:\n",
    "| Artist | Artist ID | Album | Album Type | Track | Track Number | Track ID"
   ]
  }
 ],
 "metadata": {
  "kernelspec": {
   "display_name": "Python 2",
   "language": "python",
   "name": "python2"
  },
  "language_info": {
   "codemirror_mode": {
    "name": "ipython",
    "version": 2
   },
   "file_extension": ".py",
   "mimetype": "text/x-python",
   "name": "python",
   "nbconvert_exporter": "python",
   "pygments_lexer": "ipython2",
   "version": "2.7.12"
  }
 },
 "nbformat": 4,
 "nbformat_minor": 1
}
