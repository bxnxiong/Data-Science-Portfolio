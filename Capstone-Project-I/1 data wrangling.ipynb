{
 "cells": [
  {
   "cell_type": "markdown",
   "metadata": {},
   "source": [
    "# Data ETL using billboard and spotify data\n",
    "*****\n",
    "## Step 1: collect billboard data\n",
    "Songs date as far back as 1958, where I found the first available chart for Hot 100."
   ]
  },
  {
   "cell_type": "code",
   "execution_count": null,
   "metadata": {
    "collapsed": true
   },
   "outputs": [],
   "source": [
    "# pip install billboard.py\n",
    "\n",
    "# in this part we want to build up a data frame of all available charts on billboard\n",
    "import billboard\n",
    "import pandas as pd\n",
    "\n",
    "Hot_10 = pd.DataFrame(columns = ['date','title','artist','rank','weeks','change_in_rank','spotifyID'\n",
    "    ])\n",
    "\n",
    "\n",
    "chart = billboard.ChartData('hot-100',date = '2010-12-25') # this breaks sometimes so have to rerun and change date\n",
    "date = chart.date\n",
    "prev_year,prev_month = date.split('-')[0],date.split('-')[1]\n",
    "\n",
    "while chart.previousDate:\n",
    "    year,month = date.split('-')[0],date.split('-')[1]\n",
    "    if prev_month != month:\n",
    "        print 'chart year:{},month:{}'.format(year,month)\n",
    "    for i in range(10):\n",
    "        song = chart[i]\n",
    "        Hot_10 = Hot_10.append([(date,song.title,song.artist,song.rank,song.weeks,song.change,song.spotifyID)])\n",
    "    chart = billboard.ChartData('hot-100',chart.previousDate)\n",
    "    prev_year,prev_month = year,month\n",
    "    date = chart.date\n",
    "    no += 1\n"
   ]
  },
  {
   "cell_type": "code",
   "execution_count": null,
   "metadata": {
    "collapsed": true
   },
   "outputs": [],
   "source": [
    "# the scrapping breaks sometimes due to website control so have to rerun and change date\n",
    "chart = billboard.ChartData('hot-100',date = '1958-08-09') \n",
    "date = chart.date\n",
    "prev_year,prev_month = date.split('-')[0],date.split('-')[1]\n",
    "\n",
    "while chart.previousDate:\n",
    "    year,month = date.split('-')[0],date.split('-')[1]\n",
    "    if prev_month != month:\n",
    "        print 'chart year:{},month:{}'.format(year,month)\n",
    "    for i in range(10):\n",
    "        song = chart[i]\n",
    "        Hot_10 = Hot_10.append([(date,song.title,song.artist,song.rank,song.weeks,song.change,song.spotifyID)])\n",
    "    chart = billboard.ChartData('hot-100',chart.previousDate)\n",
    "    prev_year,prev_month = year,month\n",
    "    date = chart.date\n",
    "    no += 1"
   ]
  },
  {
   "cell_type": "code",
   "execution_count": null,
   "metadata": {
    "collapsed": true
   },
   "outputs": [],
   "source": [
    "Hot_10_dropped = Hot_10.drop(Hot_10.columns.values[7:],axis=1)\n",
    "Hot_10_dropped.columns = ['date','title','artist','rank','weeks','change_in_rank','spotifyID']\n",
    "Hot_10_dropped.to_pickle('Billboard_data')"
   ]
  },
  {
   "cell_type": "code",
   "execution_count": 37,
   "metadata": {
    "collapsed": false
   },
   "outputs": [
    {
     "data": {
      "text/html": [
       "<div>\n",
       "<table border=\"1\" class=\"dataframe\">\n",
       "  <thead>\n",
       "    <tr style=\"text-align: right;\">\n",
       "      <th></th>\n",
       "      <th>date</th>\n",
       "      <th>title</th>\n",
       "      <th>artist</th>\n",
       "      <th>rank</th>\n",
       "      <th>weeks</th>\n",
       "      <th>change_in_rank</th>\n",
       "      <th>spotifyID</th>\n",
       "    </tr>\n",
       "  </thead>\n",
       "  <tbody>\n",
       "    <tr>\n",
       "      <th>0</th>\n",
       "      <td>2017-03-18</td>\n",
       "      <td>Shape Of You</td>\n",
       "      <td>Ed Sheeran</td>\n",
       "      <td>1.0</td>\n",
       "      <td>8.0</td>\n",
       "      <td>0</td>\n",
       "      <td>0FE9t6xYkqWXU2ahLh6D8X</td>\n",
       "    </tr>\n",
       "    <tr>\n",
       "      <th>0</th>\n",
       "      <td>2017-03-18</td>\n",
       "      <td>Bad And Boujee</td>\n",
       "      <td>Migos Featuring Lil Uzi Vert</td>\n",
       "      <td>2.0</td>\n",
       "      <td>16.0</td>\n",
       "      <td>0</td>\n",
       "      <td>1FvU97lrWOG2NRxErh6OZz</td>\n",
       "    </tr>\n",
       "  </tbody>\n",
       "</table>\n",
       "</div>"
      ],
      "text/plain": [
       "         date           title                        artist  rank  weeks  \\\n",
       "0  2017-03-18    Shape Of You                    Ed Sheeran   1.0    8.0   \n",
       "0  2017-03-18  Bad And Boujee  Migos Featuring Lil Uzi Vert   2.0   16.0   \n",
       "\n",
       "  change_in_rank               spotifyID  \n",
       "0              0  0FE9t6xYkqWXU2ahLh6D8X  \n",
       "0              0  1FvU97lrWOG2NRxErh6OZz  "
      ]
     },
     "execution_count": 37,
     "metadata": {},
     "output_type": "execute_result"
    }
   ],
   "source": [
    "import pandas as pd\n",
    "top10 = pd.read_pickle('Billboard_data')\n",
    "top10_spotify = top10[top10.spotifyID != u'']\n",
    "top10_spotify.head(2)"
   ]
  },
  {
   "cell_type": "code",
   "execution_count": null,
   "metadata": {
    "collapsed": true
   },
   "outputs": [],
   "source": []
  },
  {
   "cell_type": "markdown",
   "metadata": {},
   "source": [
    "*****\n",
    "## Step 2: collect spotify data"
   ]
  },
  {
   "cell_type": "code",
   "execution_count": 56,
   "metadata": {
    "collapsed": true
   },
   "outputs": [],
   "source": [
    "from oauthlib.oauth2 import BackendApplicationClient\n",
    "from requests_oauthlib import OAuth2Session\n",
    "import time,json\n",
    "import pandas as pd\n",
    "import requests\n",
    "import re\n",
    "import random\n",
    "import urllib"
   ]
  },
  {
   "cell_type": "code",
   "execution_count": 96,
   "metadata": {
    "collapsed": true
   },
   "outputs": [],
   "source": [
    "def get_token():\n",
    "    auth_url = u'https://accounts.spotify.com/api/token'\n",
    "\n",
    "    ##### private information #####\n",
    "    client_id = u'c7cdefa717bb477c8d04cb65978e7003'\n",
    "    client_secret = u'f3571dfd22c040dd84959f858e5c482d'\n",
    "    ##### wipe if publish in public #####\n",
    "    client = BackendApplicationClient(client_id=client_id)\n",
    "    oauth = OAuth2Session(client=client)\n",
    "    token = oauth.fetch_token(token_url=auth_url, client_id=client_id,\n",
    "        client_secret=client_secret)\n",
    "\n",
    "    return token\n",
    "\n",
    "def get_spotify_json(url,token=None):\n",
    "    if not token or token['expires_at']-time.time() < 100: # if token less than 100 seconds until expiration\n",
    "        token = get_token()\n",
    "\n",
    "    access_token = token['access_token']\n",
    "    header = {u'Authorization':u'Bearer '+access_token}\n",
    "\n",
    "    r = requests.get(url,headers=header)\n",
    "    return r.json(),token\n",
    "\n",
    "def single_audio_features(track_id,token=None):\n",
    "    url_head = u'https://api.spotify.com/v1/audio-features/'\n",
    "\n",
    "    if type(track_id) == str:\n",
    "        url = url_head + track_id\n",
    "    else:\n",
    "        raise TypeError(\"Track_id should be str!\")\n",
    "\n",
    "    r,token = get_spotify_json(url,token)\n",
    "    table = pd.DataFrame([r])\n",
    "    table.drop(['analysis_url','id','track_href','type'],axis=1,inplace=True)\n",
    "    return table,token\n",
    "    \n",
    "def multiple_audio_features(track_ids,token=None):\n",
    "    url_head = u'https://api.spotify.com/v1/audio-features?ids='\n",
    "\n",
    "    url = url_head + ','.join(track_ids)\n",
    "\n",
    "    rs,token = get_spotify_json(url,token)\n",
    "    table = pd.DataFrame()\n",
    "    for r in rs['audio_features']:\n",
    "        row = pd.DataFrame([r])\n",
    "        row.drop(['analysis_url','id','track_href','type'],axis=1,inplace=True)\n",
    "        table = table.append(row)\n",
    "\n",
    "    return table,token\n",
    "\n",
    "def chunk_100(series):\n",
    "    for i in xrange(0,len(series),100):\n",
    "        yield series[i:(i+100)]\n",
    "    \n",
    "def search_uri(title,artist,token=None):\n",
    "    '''\n",
    "    title eg.: 'never gonna give you up'\n",
    "    '''\n",
    "    url_head = u'https://api.spotify.com/v1/search?q='\n",
    "    name = '+'.join(map(urllib.quote,unicode(title,errors='ignore').split(' ')))\n",
    "\n",
    "    url = url_head+name+'&type=track&market=US&limit=20'\n",
    "    \n",
    "    rs,token = get_spotify_json(url,token)\n",
    "    \n",
    "    if 'tracks' in rs and 'items' in rs['tracks']:\n",
    "        for result in rs['tracks']['items']:\n",
    "            if result['album']['artists'][0]['name'].lower() == artist.lower():\n",
    "                return result['id']\n",
    "    return None\n"
   ]
  },
  {
   "cell_type": "code",
   "execution_count": 39,
   "metadata": {
    "collapsed": false
   },
   "outputs": [
    {
     "name": "stdout",
     "output_type": "stream",
     "text": [
      "4314\n"
     ]
    }
   ],
   "source": [
    "title_artist_spotify_set = set(zip(map(lambda x:x.lower(),top10_spotify.title.values),map(lambda x:x.lower(),top10_spotify.artist.values)))\n",
    "print len(title_artist_spotify_set)"
   ]
  },
  {
   "cell_type": "code",
   "execution_count": 100,
   "metadata": {
    "collapsed": false,
    "scrolled": true
   },
   "outputs": [
    {
     "name": "stdout",
     "output_type": "stream",
     "text": [
      "0 0\n"
     ]
    },
    {
     "name": "stderr",
     "output_type": "stream",
     "text": [
      "/Library/Frameworks/Python.framework/Versions/2.7/lib/python2.7/site-packages/ipykernel/__main__.py:69: UnicodeWarning: Unicode equal comparison failed to convert both arguments to Unicode - interpreting them as being unequal\n"
     ]
    },
    {
     "name": "stdout",
     "output_type": "stream",
     "text": [
      "211 100\n",
      "212 100\n",
      "475 200\n",
      "476 200\n",
      "730 300\n",
      "731 300\n",
      "732 300\n",
      "979 400\n",
      "1200 500\n",
      "1421 600\n",
      "1422 600\n",
      "1423 600\n",
      "1424 600\n",
      "1691 700\n",
      "1692 700\n",
      "1693 700\n",
      "1942 800\n",
      "2198 900\n",
      "2464 1000\n",
      "2465 1000\n",
      "2466 1000\n",
      "2699 1100\n",
      "2939 1200\n",
      "2940 1200\n",
      "2941 1200\n",
      "2942 1200\n",
      "2943 1200\n",
      "3214 1300\n",
      "3215 1300\n",
      "3216 1300\n",
      "3484 1400\n",
      "3739 1500\n",
      "4023 1600\n",
      "4024 1600\n",
      "4257 1700\n",
      "4523 1800\n",
      "4785 1900\n",
      "4786 1900\n",
      "5003 2000\n",
      "5004 2000\n",
      "5005 2000\n",
      "5227 2100\n",
      "5488 2200\n",
      "5489 2200\n",
      "5716 2300\n",
      "5966 2400\n",
      "5967 2400\n",
      "6226 2500\n",
      "6227 2500\n",
      "6508 2600\n",
      "6509 2600\n",
      "6747 2700\n",
      "6748 2700\n",
      "6749 2700\n",
      "6750 2700\n",
      "6751 2700\n",
      "6752 2700\n",
      "6753 2700\n",
      "6754 2700\n",
      "6755 2700\n",
      "6999 2800\n",
      "7000 2800\n",
      "7001 2800\n",
      "7002 2800\n",
      "7003 2800\n",
      "7004 2800\n",
      "7005 2800\n",
      "7006 2800\n",
      "7235 2900\n",
      "7236 2900\n",
      "7461 3000\n",
      "7462 3000\n",
      "7726 3100\n",
      "7727 3100\n",
      "7988 3200\n",
      "8259 3300\n",
      "8260 3300\n",
      "8498 3400\n",
      "8499 3400\n",
      "8500 3400\n",
      "8501 3400\n",
      "8502 3400\n",
      "8503 3400\n",
      "8504 3400\n",
      "8505 3400\n",
      "8506 3400\n",
      "8781 3500\n",
      "8782 3500\n",
      "9042 3600\n",
      "9043 3600\n",
      "9044 3600\n",
      "9259 3700\n",
      "9522 3800\n",
      "9800 3900\n"
     ]
    }
   ],
   "source": [
    "# select until 4000 songs from MSD dataset which has spotify uri for each track_artist pair\n",
    "\n",
    "def get_MSD_tracks(title_artist_set):\n",
    "    MSD_tracks = []\n",
    "    with open('./MSD/MillionSongSubset/AdditionalFiles/subset_unique_tracks.txt') as f:\n",
    "        for i,line in enumerate(f):\n",
    "            if len(MSD_tracks) % 100 == 0:\n",
    "                print i,len(MSD_tracks)\n",
    "            title,artist = re.split('<SEP>',line.replace('\\n',''))[::-1][:2]\n",
    "            pair = (title.lower(),artist.lower())\n",
    "\n",
    "            if len(MSD_tracks) <= 4000:\n",
    "                if pair not in title_artist_set:\n",
    "                    uri = search_uri(title,artist)\n",
    "                    if uri:\n",
    "                        MSD_tracks.append((title,artist,uri))\n",
    "            else:\n",
    "                return MSD_tracks\n",
    "        return MSD_tracks\n",
    "\n",
    "MSD_tracks = get_MSD_tracks(title_artist_spotify_set)"
   ]
  },
  {
   "cell_type": "code",
   "execution_count": null,
   "metadata": {
    "collapsed": true
   },
   "outputs": [],
   "source": []
  },
  {
   "cell_type": "code",
   "execution_count": 104,
   "metadata": {
    "collapsed": false
   },
   "outputs": [],
   "source": [
    "MSD_track_ids = map(lambda x:x[2],MSD_tracks)\n",
    "import os.path\n",
    "\n",
    "audio_data = pd.DataFrame()\n",
    "if not os.path.isfile('MSD_audio_features'):\n",
    "    for i,track_ids in enumerate(chunk_100(MSD_track_ids)):\n",
    "        audio_features,token = multiple_audio_features(track_ids)\n",
    "        audio_data = audio_data.append(audio_features)\n",
    "        \n",
    "    assert len(audio_data)==len(MSD_track_ids)\n",
    "    audio_data.to_pickle('MSD_audio_features')\n",
    "\n",
    "else:\n",
    "    audio_data = pd.read_pickle('MSD_audio_features')"
   ]
  },
  {
   "cell_type": "code",
   "execution_count": null,
   "metadata": {
    "collapsed": true
   },
   "outputs": [],
   "source": []
  }
 ],
 "metadata": {
  "kernelspec": {
   "display_name": "Python 2",
   "language": "python",
   "name": "python2"
  },
  "language_info": {
   "codemirror_mode": {
    "name": "ipython",
    "version": 2
   },
   "file_extension": ".py",
   "mimetype": "text/x-python",
   "name": "python",
   "nbconvert_exporter": "python",
   "pygments_lexer": "ipython2",
   "version": "2.7.12"
  }
 },
 "nbformat": 4,
 "nbformat_minor": 1
}
