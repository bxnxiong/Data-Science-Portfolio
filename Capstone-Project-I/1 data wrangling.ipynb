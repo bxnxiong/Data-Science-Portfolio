{
 "cells": [
  {
   "cell_type": "markdown",
   "metadata": {},
   "source": [
    "# Data ETL using billboard and spotify data\n"
   ]
  },
  {
   "cell_type": "code",
   "execution_count": 15,
   "metadata": {
    "collapsed": true
   },
   "outputs": [],
   "source": [
    "# all packages\n",
    "import billboard\n",
    "import pandas as pd\n",
    "import os\n",
    "\n",
    "from oauthlib.oauth2 import BackendApplicationClient\n",
    "from requests_oauthlib import OAuth2Session\n",
    "import time,json\n",
    "import requests\n",
    "import re\n",
    "import random\n",
    "import urllib\n",
    "import os.path"
   ]
  },
  {
   "cell_type": "markdown",
   "metadata": {},
   "source": [
    "*****\n",
    "## Step 1: collect billboard data\n",
    "Songs date as far back as 1958, where I found the first available chart for Hot 100."
   ]
  },
  {
   "cell_type": "code",
   "execution_count": 1,
   "metadata": {
    "collapsed": true
   },
   "outputs": [],
   "source": [
    "# pip install billboard.py\n",
    "\n",
    "# in this part we want to build up a data frame of all available charts on billboard\n",
    "\n",
    "if not os.path.isfile('Billboard_data'):\n",
    "    Hot_10 = pd.DataFrame(columns = ['date','title','artist','rank','weeks','change_in_rank','spotifyID'\n",
    "        ])\n",
    "\n",
    "\n",
    "    chart = billboard.ChartData('hot-100',date = '2010-12-25') # this breaks sometimes so have to rerun and change date\n",
    "    date = chart.date\n",
    "    prev_year,prev_month = date.split('-')[0],date.split('-')[1]\n",
    "\n",
    "    while chart.previousDate:\n",
    "        year,month = date.split('-')[0],date.split('-')[1]\n",
    "        if prev_month != month:\n",
    "            print 'chart year:{},month:{}'.format(year,month)\n",
    "        for i in range(10):\n",
    "            song = chart[i]\n",
    "            Hot_10 = Hot_10.append([(date,song.title,song.artist,song.rank,song.weeks,song.change,song.spotifyID)])\n",
    "        chart = billboard.ChartData('hot-100',chart.previousDate)\n",
    "        prev_year,prev_month = year,month\n",
    "        date = chart.date\n",
    "        no += 1\n"
   ]
  },
  {
   "cell_type": "code",
   "execution_count": 2,
   "metadata": {
    "collapsed": true
   },
   "outputs": [],
   "source": [
    "if not os.path.isfile('Billboard_data'):\n",
    "    # the scrapping breaks sometimes due to website control so have to rerun and change date\n",
    "    chart = billboard.ChartData('hot-100',date = '1958-08-09') \n",
    "    date = chart.date\n",
    "    prev_year,prev_month = date.split('-')[0],date.split('-')[1]\n",
    "\n",
    "    while chart.previousDate:\n",
    "        year,month = date.split('-')[0],date.split('-')[1]\n",
    "        if prev_month != month:\n",
    "            print 'chart year:{},month:{}'.format(year,month)\n",
    "        for i in range(10):\n",
    "            song = chart[i]\n",
    "            Hot_10 = Hot_10.append([(date,song.title,song.artist,song.rank,song.weeks,song.change,song.spotifyID)])\n",
    "        chart = billboard.ChartData('hot-100',chart.previousDate)\n",
    "        prev_year,prev_month = year,month\n",
    "        date = chart.date\n",
    "        no += 1\n",
    "        \n",
    "    Hot_10_dropped = Hot_10.drop(Hot_10.columns.values[7:],axis=1)\n",
    "    Hot_10_dropped.columns = ['date','title','artist','rank','weeks','change_in_rank','spotifyID']\n",
    "    Hot_10_dropped.to_pickle('Billboard_data')"
   ]
  },
  {
   "cell_type": "code",
   "execution_count": null,
   "metadata": {
    "collapsed": true
   },
   "outputs": [],
   "source": []
  },
  {
   "cell_type": "code",
   "execution_count": 3,
   "metadata": {
    "collapsed": false
   },
   "outputs": [
    {
     "data": {
      "text/html": [
       "<div>\n",
       "<table border=\"1\" class=\"dataframe\">\n",
       "  <thead>\n",
       "    <tr style=\"text-align: right;\">\n",
       "      <th></th>\n",
       "      <th>date</th>\n",
       "      <th>title</th>\n",
       "      <th>artist</th>\n",
       "      <th>rank</th>\n",
       "      <th>weeks</th>\n",
       "      <th>change_in_rank</th>\n",
       "      <th>spotifyID</th>\n",
       "    </tr>\n",
       "  </thead>\n",
       "  <tbody>\n",
       "    <tr>\n",
       "      <th>0</th>\n",
       "      <td>2017-03-18</td>\n",
       "      <td>Shape Of You</td>\n",
       "      <td>Ed Sheeran</td>\n",
       "      <td>1.0</td>\n",
       "      <td>8.0</td>\n",
       "      <td>0</td>\n",
       "      <td>0FE9t6xYkqWXU2ahLh6D8X</td>\n",
       "    </tr>\n",
       "    <tr>\n",
       "      <th>0</th>\n",
       "      <td>2017-03-18</td>\n",
       "      <td>Bad And Boujee</td>\n",
       "      <td>Migos Featuring Lil Uzi Vert</td>\n",
       "      <td>2.0</td>\n",
       "      <td>16.0</td>\n",
       "      <td>0</td>\n",
       "      <td>1FvU97lrWOG2NRxErh6OZz</td>\n",
       "    </tr>\n",
       "  </tbody>\n",
       "</table>\n",
       "</div>"
      ],
      "text/plain": [
       "         date           title                        artist  rank  weeks  \\\n",
       "0  2017-03-18    Shape Of You                    Ed Sheeran   1.0    8.0   \n",
       "0  2017-03-18  Bad And Boujee  Migos Featuring Lil Uzi Vert   2.0   16.0   \n",
       "\n",
       "  change_in_rank               spotifyID  \n",
       "0              0  0FE9t6xYkqWXU2ahLh6D8X  \n",
       "0              0  1FvU97lrWOG2NRxErh6OZz  "
      ]
     },
     "execution_count": 3,
     "metadata": {},
     "output_type": "execute_result"
    }
   ],
   "source": [
    "\n",
    "top10 = pd.read_pickle('Billboard_data')\n",
    "top10_spotify = top10[top10.spotifyID != u'']\n",
    "top10_spotify.head(2)"
   ]
  },
  {
   "cell_type": "code",
   "execution_count": null,
   "metadata": {
    "collapsed": true
   },
   "outputs": [],
   "source": []
  },
  {
   "cell_type": "markdown",
   "metadata": {},
   "source": [
    "*****\n",
    "## Step 2: collect spotify data"
   ]
  },
  {
   "cell_type": "code",
   "execution_count": 4,
   "metadata": {
    "collapsed": true
   },
   "outputs": [],
   "source": []
  },
  {
   "cell_type": "code",
   "execution_count": 6,
   "metadata": {
    "collapsed": true
   },
   "outputs": [],
   "source": [
    "def get_token():\n",
    "    auth_url = u'https://accounts.spotify.com/api/token'\n",
    "\n",
    "    ##### private information #####\n",
    "    client_id = u'client_id_string_here'\n",
    "    client_secret = u'client_secret_string_here'\n",
    "    ##### wipe if publish in public #####\n",
    "    client = BackendApplicationClient(client_id=client_id)\n",
    "    oauth = OAuth2Session(client=client)\n",
    "    token = oauth.fetch_token(token_url=auth_url, client_id=client_id,\n",
    "        client_secret=client_secret)\n",
    "\n",
    "    return token\n",
    "\n",
    "def get_spotify_json(url,token=None):\n",
    "    if not token or token['expires_at']-time.time() < 100: # if token less than 100 seconds until expiration\n",
    "        token = get_token()\n",
    "\n",
    "    access_token = token['access_token']\n",
    "    header = {u'Authorization':u'Bearer '+access_token}\n",
    "\n",
    "    r = requests.get(url,headers=header)\n",
    "    return r.json(),token\n",
    "\n",
    "def single_audio_features(track_id,token=None):\n",
    "    url_head = u'https://api.spotify.com/v1/audio-features/'\n",
    "\n",
    "    if type(track_id) == str:\n",
    "        url = url_head + track_id\n",
    "    else:\n",
    "        raise TypeError(\"Track_id should be str!\")\n",
    "\n",
    "    r,token = get_spotify_json(url,token)\n",
    "    table = pd.DataFrame([r])\n",
    "    table.drop(['analysis_url','id','track_href','type'],axis=1,inplace=True)\n",
    "    return table,token\n",
    "    \n",
    "def multiple_audio_features(track_ids,token=None):\n",
    "    url_head = u'https://api.spotify.com/v1/audio-features?ids='\n",
    "\n",
    "    url = url_head + ','.join(track_ids)\n",
    "\n",
    "    rs,token = get_spotify_json(url,token)\n",
    "    table = pd.DataFrame()\n",
    "    for r in rs['audio_features']:\n",
    "        row = pd.DataFrame([r])\n",
    "        row.drop(['analysis_url','id','track_href','type'],axis=1,inplace=True)\n",
    "        table = table.append(row)\n",
    "\n",
    "    return table,token\n",
    "\n",
    "def chunk_100(series):\n",
    "    for i in xrange(0,len(series),100):\n",
    "        yield series[i:(i+100)]\n",
    "    \n",
    "def search_uri(title,artist,token=None):\n",
    "    '''\n",
    "    title eg.: 'never gonna give you up'\n",
    "    '''\n",
    "    url_head = u'https://api.spotify.com/v1/search?q='\n",
    "    name = '+'.join(map(urllib.quote,unicode(title,errors='ignore').split(' ')))\n",
    "\n",
    "    url = url_head+name+'&type=track&market=US&limit=20'\n",
    "    \n",
    "    rs,token = get_spotify_json(url,token)\n",
    "    \n",
    "    if 'tracks' in rs and 'items' in rs['tracks']:\n",
    "        for result in rs['tracks']['items']:\n",
    "            if result['album']['artists'][0]['name'].lower() == artist.lower():\n",
    "                return result['id']\n",
    "    return None\n"
   ]
  },
  {
   "cell_type": "markdown",
   "metadata": {},
   "source": [
    "## Get audio features for billboard songs"
   ]
  },
  {
   "cell_type": "code",
   "execution_count": 9,
   "metadata": {
    "collapsed": false
   },
   "outputs": [],
   "source": [
    "top10_spotify = top10[top10.spotifyID != u'']\n",
    "distinct_trackids = list(set(top10_spotify.spotifyID.values))\n",
    "\n",
    "audio_data = pd.DataFrame()\n",
    "if not os.path.isfile('Spotify_audio_features'):\n",
    "    for i,track_ids in enumerate(chunk_100(distinct_trackids)):\n",
    "        audio_features,token = multiple_audio_features(track_ids,token)\n",
    "        audio_data = audio_data.append(audio_features)\n",
    "        \n",
    "    assert len(audio_data)==len(distinct_trackids)\n",
    "    audio_data.to_pickle('Spotify_audio_features')\n",
    "\n",
    "else:\n",
    "    audio_data = pd.read_pickle('Spotify_audio_features')\n",
    "    # be aware that some songs are not in their original form given the spotifyID\n",
    "    # eg. smooth criminal by Michael Jackson, the given spotifyID on billboard.com\n",
    "    # is song by alien ant farm, and is recreated into another style.\n",
    "    # however this should not be common in this dataset, not exceeding 700\n",
    "    # 700 is achieved using billboard_crosscheck function,which also includes\n",
    "    # naming differences and copyright issues. eg. Taylor Swift, Adele don't\n",
    "    # have their songs available on spotify, also beyonce has encoded as beyonc/xe9\n",
    "    # in spotify database"
   ]
  },
  {
   "cell_type": "markdown",
   "metadata": {},
   "source": [
    "## Get audio features for 4000 MSD songs"
   ]
  },
  {
   "cell_type": "code",
   "execution_count": 10,
   "metadata": {
    "collapsed": false
   },
   "outputs": [
    {
     "name": "stdout",
     "output_type": "stream",
     "text": [
      "4314\n"
     ]
    }
   ],
   "source": [
    "title_artist_spotify_set = set(zip(map(lambda x:x.lower(),top10_spotify.title.values),map(lambda x:x.lower(),top10_spotify.artist.values)))\n",
    "print len(title_artist_spotify_set)"
   ]
  },
  {
   "cell_type": "code",
   "execution_count": 19,
   "metadata": {
    "collapsed": false,
    "scrolled": true
   },
   "outputs": [],
   "source": [
    "def get_MSD_tracks(title_artist_set):\n",
    "    MSD_tracks = []\n",
    "    with open('./MSD/MillionSongSubset/AdditionalFiles/subset_unique_tracks.txt') as f:\n",
    "        for i,line in enumerate(f):\n",
    "            if len(MSD_tracks) % 100 == 0:\n",
    "                print i,len(MSD_tracks)\n",
    "            title,artist = re.split('<SEP>',line.replace('\\n',''))[::-1][:2]\n",
    "            pair = (title.lower(),artist.lower())\n",
    "\n",
    "            if len(MSD_tracks) <= 4000:\n",
    "                if pair not in title_artist_set:\n",
    "                    uri = search_uri(title,artist)\n",
    "                    if uri:\n",
    "                        MSD_tracks.append((title,artist,uri))\n",
    "            else:\n",
    "                return MSD_tracks\n",
    "        return MSD_tracks\n",
    "\n",
    "if not os.path.isfile('MSD_tracks'):\n",
    "    MSD_tracks = get_MSD_tracks(title_artist_spotify_set)\n",
    "    MSD = pd.DataFrame(MSD_tracks,columns=['title','artist','uri'])\n",
    "    MSD.to_pickle('MSD_tracks')\n",
    "else:\n",
    "    MSD = pd.read_pickle('MSD_tracks')\n",
    "    MSD_track_ids = MSD.uri.values"
   ]
  },
  {
   "cell_type": "code",
   "execution_count": 21,
   "metadata": {
    "collapsed": false
   },
   "outputs": [
    {
     "data": {
      "text/html": [
       "<div>\n",
       "<table border=\"1\" class=\"dataframe\">\n",
       "  <thead>\n",
       "    <tr style=\"text-align: right;\">\n",
       "      <th></th>\n",
       "      <th>title</th>\n",
       "      <th>artist</th>\n",
       "      <th>uri</th>\n",
       "    </tr>\n",
       "  </thead>\n",
       "  <tbody>\n",
       "    <tr>\n",
       "      <th>0</th>\n",
       "      <td>I Didn't Mean To</td>\n",
       "      <td>Casual</td>\n",
       "      <td>01TR6aAKrA2cI3Z0gnCOsu</td>\n",
       "    </tr>\n",
       "    <tr>\n",
       "      <th>1</th>\n",
       "      <td>Soul Deep</td>\n",
       "      <td>The Box Tops</td>\n",
       "      <td>4yPl1mK1oluIrCwI4HInPR</td>\n",
       "    </tr>\n",
       "  </tbody>\n",
       "</table>\n",
       "</div>"
      ],
      "text/plain": [
       "              title        artist                     uri\n",
       "0  I Didn't Mean To        Casual  01TR6aAKrA2cI3Z0gnCOsu\n",
       "1         Soul Deep  The Box Tops  4yPl1mK1oluIrCwI4HInPR"
      ]
     },
     "execution_count": 21,
     "metadata": {},
     "output_type": "execute_result"
    }
   ],
   "source": [
    "MSD.head(2)"
   ]
  },
  {
   "cell_type": "code",
   "execution_count": 13,
   "metadata": {
    "collapsed": false
   },
   "outputs": [],
   "source": [
    "audio_data = pd.DataFrame()\n",
    "if not os.path.isfile('MSD_audio_features'):\n",
    "    for i,track_ids in enumerate(chunk_100(MSD_track_ids)):\n",
    "        audio_features,token = multiple_audio_features(track_ids)\n",
    "        audio_data = audio_data.append(audio_features)\n",
    "        \n",
    "    assert len(audio_data)==len(MSD_track_ids)\n",
    "    audio_data.to_pickle('MSD_audio_features')\n",
    "\n",
    "else:\n",
    "    audio_data = pd.read_pickle('MSD_audio_features')"
   ]
  },
  {
   "cell_type": "code",
   "execution_count": null,
   "metadata": {
    "collapsed": true
   },
   "outputs": [],
   "source": []
  },
  {
   "cell_type": "markdown",
   "metadata": {},
   "source": [
    "*****\n",
    "## Step 3 Get lyrics from lyrics.wikia.com\n",
    "\n",
    "According to the original plan I was to get the lyrics from Musixmatch, but for their free version they only provide 30% of the lyrics per song, and has a quota of 2000 songs per day. So I looked for other resources and found this website, and scraped from its html code\n",
    "link to the website:\n",
    "http://lyrics.wikia.com/"
   ]
  },
  {
   "cell_type": "markdown",
   "metadata": {
    "collapsed": true
   },
   "source": [
    "Since it's a long process I singled the whole process out for a separate notebook. Please check '1.5 get lyrics.ipynb' for details"
   ]
  },
  {
   "cell_type": "markdown",
   "metadata": {},
   "source": [
    "*****\n",
    "## Step 4 Look for other songs by same billboard artists\n",
    "\n",
    "From Step 3 I found that only 46% of the MSD songs have lyrics available, and from those whose lyrics are not available, I found that was because they were very unpopular songs, some in foreign languages even.(details can be found in '1.5 get lyrics.ipynb')\n",
    "\n",
    "Therefore I decided to replace MSD songs with a list of songs by billboard artists, in that sense I can achieve two goals:\n",
    "- 1 by limiting artists to those once have billboard hit songs, I can compare songs with their production companies a controlled variable, i.e. the influence of production companies will be limited and under control because of sourcing process of data.\n",
    "- 2 I can still get 4000 more non-billboard songs, and get the lyrics of them and build the prediction model"
   ]
  },
  {
   "cell_type": "code",
   "execution_count": 2,
   "metadata": {
    "collapsed": false
   },
   "outputs": [],
   "source": [
    "top10_spotify = pd.read_pickle('Billboard_data')\n",
    "top10_spotify = top10_spotify[top10_spotify.spotifyID != '']\n",
    "unique = top10_spotify.copy()\n",
    "unique = unique.loc[:,['title','artist','spotifyID']]\n",
    "unique = unique.drop_duplicates(subset='spotifyID',keep='first')\n",
    "len(unique) # should be 4264"
   ]
  },
  {
   "cell_type": "code",
   "execution_count": null,
   "metadata": {
    "collapsed": true
   },
   "outputs": [],
   "source": []
  },
  {
   "cell_type": "code",
   "execution_count": 103,
   "metadata": {
    "collapsed": false
   },
   "outputs": [],
   "source": [
    "def chunk_50(series): # requesting track info needs smaller size of requests\n",
    "    for i in xrange(0,len(series),50):\n",
    "        yield series[i:(i+50)]\n",
    "\n",
    "def get_track_info(chunked_spotifyIDs,token=None):\n",
    "    '''\n",
    "    chuncked_spotifyIDs:chunk_20,track IDs\n",
    "    '''\n",
    "    url_head = u'https://api.spotify.com/v1/tracks?ids='\n",
    "\n",
    "    if type(chunked_spotifyIDs) == list:\n",
    "        url = url_head + ','.join(chunked_spotifyIDs)\n",
    "    else:\n",
    "        raise TypeError(\"IDs should be list!\")\n",
    "\n",
    "    rs,token = get_spotify_json(url,token)\n",
    "    results = []\n",
    "    if 'tracks' in rs:\n",
    "        for r in rs['tracks']:\n",
    "            title,uri,pos,artist,album = r['name'],r['uri'],r['track_number'],r['artists'][0]['uri'],r['album']['uri']\n",
    "            results.append((title,uri,pos,artist,album))\n",
    "        results = pd.DataFrame(results,columns = ['title','track_uri','track_number','artist','album_uri'])\n",
    "        return results\n",
    "    return None\n",
    "\n",
    "def get_album_tracks(album_id,token=None):\n",
    "    '''\n",
    "    in: album_id: u'0FE9t6xYkqWXU2ahLh6D8X'\n",
    "    out: [trackID1,...]\n",
    "    '''\n",
    "    url_head = u'https://api.spotify.com/v1/albums/'\n",
    "\n",
    "    url = url_head+album_id+'/tracks?market=US'\n",
    "\n",
    "    rs,token = get_spotify_json(url,token)\n",
    "    \n",
    "    results = []\n",
    "    if 'items' in rs:\n",
    "        for result in rs['items']:\n",
    "            r = result['uri']\n",
    "            results.append(r)\n",
    "        return results #track_uri\n",
    "    return None\n",
    "\n",
    "def get_same_album_tracks(spotifyIDs,chosen_songs,token=None):\n",
    "    '''\n",
    "    spotifyIDs:album IDs\n",
    "    chosen_songs: dict of chosen songs,initiated as list of billboard songs\n",
    "    '''\n",
    "    results = [] # stores track ids\n",
    "    for n,album_id in enumerate(spotifyIDs):\n",
    "        if n % 100 == 0:\n",
    "            print 'Processing {:{prec}} of total albums'.format(n/4264.0,prec='.2')\n",
    "        tracks = get_album_tracks(album_id,token)\n",
    "        \n",
    "        for i in range(len(tracks)):\n",
    "            track_id = tracks[i].split(':')[-1]\n",
    "            if track_id not in chosen_songs: # choose a song\n",
    "                chosen_songs[track_id] = True\n",
    "                results.append(track_id)\n",
    "                break\n",
    "    return results,chosen_songs"
   ]
  },
  {
   "cell_type": "code",
   "execution_count": 110,
   "metadata": {
    "collapsed": false
   },
   "outputs": [
    {
     "name": "stdout",
     "output_type": "stream",
     "text": [
      "[u'0FE9t6xYkqWXU2ahLh6D8X', u'1FvU97lrWOG2NRxErh6OZz']\n"
     ]
    }
   ],
   "source": [
    "if not os.path.isfile('Billboard_track_info'):\n",
    "    unique_ids = unique.spotifyID.tolist()\n",
    "    \n",
    "    unique_ids = chunk_50(unique_ids)\n",
    "    billboard_track_info = pd.DataFrame()\n",
    "    for ids in unique_ids:\n",
    "        billboard_track_info = billboard_track_info.append(get_track_info(ids))\n",
    "    \n",
    "    billboard_track_info.to_pickle('Billboard_track_info')\n",
    "else:\n",
    "    billboard_track_info = pd.read_pickle('Billboard_track_info')"
   ]
  },
  {
   "cell_type": "code",
   "execution_count": 106,
   "metadata": {
    "collapsed": false
   },
   "outputs": [],
   "source": [
    "# if not os.path.isfile('same_album_tracks.p'):\n",
    "    \n",
    "#     pickle.dump(same_album_tracks, open('same_album_tracks.p', 'wb')) \n",
    "# else:\n",
    "#     same_album_tracks = pickle.load(open('same_album_tracks.p','rb'))\n",
    "    \n",
    "if not os.path.isfile('Same_album_track_info'):\n",
    "    unique_ids = unique.spotifyID.tolist()\n",
    "    chosen_songs = {ids:True for ids in unique_ids}\n",
    "    billboard_album_ids = map(lambda x:x.split(':')[-1],billboard_track_info['album_uri'])\n",
    "    # takes about 30 mins\n",
    "    same_album_tracks,added_chosen_songs = get_same_album_tracks(billboard_album_ids,chosen_songs)\n",
    "    \n",
    "    same_chunked = chunk_50(same_album_tracks)\n",
    "    same_track_info = pd.DataFrame()\n",
    "    for ids in same_chunked:\n",
    "        same_track_info = same_track_info.append(get_track_info(ids))\n",
    "    \n",
    "    same_track_info.to_pickle('Same_album_track_info')\n",
    "else:\n",
    "    same_track_info = pd.read_pickle('Same_album_track_info')\n",
    "    # NOTICE: eg. 4Km5HrUvYTaSUfiSGPJeQR(track_id), is contained in album 3tWaxq6QGN4jkrrXHcvNBA\n",
    "    # but when look up track info on Spotify using this track_id, it is listed under album 2AvupjUeMnSffKEV05x222\n",
    "    # so have to use title + artist to do filtering"
   ]
  },
  {
   "cell_type": "code",
   "execution_count": 107,
   "metadata": {
    "collapsed": false
   },
   "outputs": [
    {
     "data": {
      "text/html": [
       "<div>\n",
       "<table border=\"1\" class=\"dataframe\">\n",
       "  <thead>\n",
       "    <tr style=\"text-align: right;\">\n",
       "      <th></th>\n",
       "      <th>title</th>\n",
       "      <th>track_uri</th>\n",
       "      <th>track_number</th>\n",
       "      <th>artist</th>\n",
       "      <th>album_uri</th>\n",
       "    </tr>\n",
       "  </thead>\n",
       "  <tbody>\n",
       "    <tr>\n",
       "      <th>0</th>\n",
       "      <td>Bad and Boujee (feat. Lil Uzi Vert)</td>\n",
       "      <td>spotify:track:4Km5HrUvYTaSUfiSGPJeQR</td>\n",
       "      <td>4</td>\n",
       "      <td>spotify:artist:6oMuImdp5ZcFhWP0ESe6mG</td>\n",
       "      <td>spotify:album:2AvupjUeMnSffKEV05x222</td>\n",
       "    </tr>\n",
       "    <tr>\n",
       "      <th>1</th>\n",
       "      <td>I Don’t Wanna Live Forever (Fifty Shades Darker)</td>\n",
       "      <td>spotify:track:2y5aJvzXhHPA94U5GFAcXe</td>\n",
       "      <td>1</td>\n",
       "      <td>spotify:artist:5ZsFI1h6hIdQRw2ti0hz81</td>\n",
       "      <td>spotify:album:5VML6S956h4YfoYPooqLEi</td>\n",
       "    </tr>\n",
       "    <tr>\n",
       "      <th>2</th>\n",
       "      <td>24K Magic</td>\n",
       "      <td>spotify:track:6b8Be6ljOzmkOmFslEb23P</td>\n",
       "      <td>1</td>\n",
       "      <td>spotify:artist:0du5cEVh5yTK9QJze8zA0C</td>\n",
       "      <td>spotify:album:4PgleR09JVnm3zY1fW3XBA</td>\n",
       "    </tr>\n",
       "    <tr>\n",
       "      <th>3</th>\n",
       "      <td>Consideration</td>\n",
       "      <td>spotify:track:0WgBb7XgdtbUW0GlYel9mH</td>\n",
       "      <td>1</td>\n",
       "      <td>spotify:artist:5pKCCKE2ajJHZ9KAiaK11H</td>\n",
       "      <td>spotify:album:3Q149ZH46Z0f3oDR7vlDYV</td>\n",
       "    </tr>\n",
       "    <tr>\n",
       "      <th>4</th>\n",
       "      <td>Bounce Back</td>\n",
       "      <td>spotify:track:0SGkqnVQo9KPytSri1H6cF</td>\n",
       "      <td>3</td>\n",
       "      <td>spotify:artist:0c173mlxpT3dSFRgMO8XPh</td>\n",
       "      <td>spotify:album:0XAIjjN5qxViVS0Y5fYkar</td>\n",
       "    </tr>\n",
       "  </tbody>\n",
       "</table>\n",
       "</div>"
      ],
      "text/plain": [
       "                                              title  \\\n",
       "0               Bad and Boujee (feat. Lil Uzi Vert)   \n",
       "1  I Don’t Wanna Live Forever (Fifty Shades Darker)   \n",
       "2                                         24K Magic   \n",
       "3                                     Consideration   \n",
       "4                                       Bounce Back   \n",
       "\n",
       "                              track_uri  track_number  \\\n",
       "0  spotify:track:4Km5HrUvYTaSUfiSGPJeQR             4   \n",
       "1  spotify:track:2y5aJvzXhHPA94U5GFAcXe             1   \n",
       "2  spotify:track:6b8Be6ljOzmkOmFslEb23P             1   \n",
       "3  spotify:track:0WgBb7XgdtbUW0GlYel9mH             1   \n",
       "4  spotify:track:0SGkqnVQo9KPytSri1H6cF             3   \n",
       "\n",
       "                                  artist                             album_uri  \n",
       "0  spotify:artist:6oMuImdp5ZcFhWP0ESe6mG  spotify:album:2AvupjUeMnSffKEV05x222  \n",
       "1  spotify:artist:5ZsFI1h6hIdQRw2ti0hz81  spotify:album:5VML6S956h4YfoYPooqLEi  \n",
       "2  spotify:artist:0du5cEVh5yTK9QJze8zA0C  spotify:album:4PgleR09JVnm3zY1fW3XBA  \n",
       "3  spotify:artist:5pKCCKE2ajJHZ9KAiaK11H  spotify:album:3Q149ZH46Z0f3oDR7vlDYV  \n",
       "4  spotify:artist:0c173mlxpT3dSFRgMO8XPh  spotify:album:0XAIjjN5qxViVS0Y5fYkar  "
      ]
     },
     "execution_count": 107,
     "metadata": {},
     "output_type": "execute_result"
    }
   ],
   "source": [
    "same_track_info.head()"
   ]
  },
  {
   "cell_type": "code",
   "execution_count": 111,
   "metadata": {
    "collapsed": false
   },
   "outputs": [
    {
     "data": {
      "text/html": [
       "<div>\n",
       "<table border=\"1\" class=\"dataframe\">\n",
       "  <thead>\n",
       "    <tr style=\"text-align: right;\">\n",
       "      <th></th>\n",
       "      <th>title</th>\n",
       "      <th>track_uri</th>\n",
       "      <th>track_number</th>\n",
       "      <th>artist</th>\n",
       "      <th>album_uri</th>\n",
       "    </tr>\n",
       "  </thead>\n",
       "  <tbody>\n",
       "    <tr>\n",
       "      <th>0</th>\n",
       "      <td>Shape of You</td>\n",
       "      <td>spotify:track:0FE9t6xYkqWXU2ahLh6D8X</td>\n",
       "      <td>1</td>\n",
       "      <td>spotify:artist:6eUKZXaKkcviH0Ku9w2n3V</td>\n",
       "      <td>spotify:album:7oJa8bPFKVbq4c7NswXHw8</td>\n",
       "    </tr>\n",
       "    <tr>\n",
       "      <th>1</th>\n",
       "      <td>Bad and Boujee (feat. Lil Uzi Vert)</td>\n",
       "      <td>spotify:track:1FvU97lrWOG2NRxErh6OZz</td>\n",
       "      <td>1</td>\n",
       "      <td>spotify:artist:6oMuImdp5ZcFhWP0ESe6mG</td>\n",
       "      <td>spotify:album:3tWaxq6QGN4jkrrXHcvNBA</td>\n",
       "    </tr>\n",
       "    <tr>\n",
       "      <th>2</th>\n",
       "      <td>I Don’t Wanna Live Forever (Fifty Shades Darker)</td>\n",
       "      <td>spotify:track:6yIdwnpDHufLWgQcveTPMk</td>\n",
       "      <td>1</td>\n",
       "      <td>spotify:artist:5ZsFI1h6hIdQRw2ti0hz81</td>\n",
       "      <td>spotify:album:2i54PoQ1ENZSYsZZE8haRr</td>\n",
       "    </tr>\n",
       "    <tr>\n",
       "      <th>3</th>\n",
       "      <td>That's What I Like</td>\n",
       "      <td>spotify:track:0KKkJNfGyhkQ5aFogxQAPU</td>\n",
       "      <td>4</td>\n",
       "      <td>spotify:artist:0du5cEVh5yTK9QJze8zA0C</td>\n",
       "      <td>spotify:album:4PgleR09JVnm3zY1fW3XBA</td>\n",
       "    </tr>\n",
       "    <tr>\n",
       "      <th>4</th>\n",
       "      <td>Love On The Brain</td>\n",
       "      <td>spotify:track:7HRHMuUTY7Dk4mw7CjS36i</td>\n",
       "      <td>11</td>\n",
       "      <td>spotify:artist:5pKCCKE2ajJHZ9KAiaK11H</td>\n",
       "      <td>spotify:album:2hNdpum500dG6mDXs87nbc</td>\n",
       "    </tr>\n",
       "  </tbody>\n",
       "</table>\n",
       "</div>"
      ],
      "text/plain": [
       "                                              title  \\\n",
       "0                                      Shape of You   \n",
       "1               Bad and Boujee (feat. Lil Uzi Vert)   \n",
       "2  I Don’t Wanna Live Forever (Fifty Shades Darker)   \n",
       "3                                That's What I Like   \n",
       "4                                 Love On The Brain   \n",
       "\n",
       "                              track_uri  track_number  \\\n",
       "0  spotify:track:0FE9t6xYkqWXU2ahLh6D8X             1   \n",
       "1  spotify:track:1FvU97lrWOG2NRxErh6OZz             1   \n",
       "2  spotify:track:6yIdwnpDHufLWgQcveTPMk             1   \n",
       "3  spotify:track:0KKkJNfGyhkQ5aFogxQAPU             4   \n",
       "4  spotify:track:7HRHMuUTY7Dk4mw7CjS36i            11   \n",
       "\n",
       "                                  artist                             album_uri  \n",
       "0  spotify:artist:6eUKZXaKkcviH0Ku9w2n3V  spotify:album:7oJa8bPFKVbq4c7NswXHw8  \n",
       "1  spotify:artist:6oMuImdp5ZcFhWP0ESe6mG  spotify:album:3tWaxq6QGN4jkrrXHcvNBA  \n",
       "2  spotify:artist:5ZsFI1h6hIdQRw2ti0hz81  spotify:album:2i54PoQ1ENZSYsZZE8haRr  \n",
       "3  spotify:artist:0du5cEVh5yTK9QJze8zA0C  spotify:album:4PgleR09JVnm3zY1fW3XBA  \n",
       "4  spotify:artist:5pKCCKE2ajJHZ9KAiaK11H  spotify:album:2hNdpum500dG6mDXs87nbc  "
      ]
     },
     "execution_count": 111,
     "metadata": {},
     "output_type": "execute_result"
    }
   ],
   "source": [
    "billboard_track_info.head()"
   ]
  },
  {
   "cell_type": "code",
   "execution_count": 149,
   "metadata": {
    "collapsed": false
   },
   "outputs": [],
   "source": [
    "# check duplicate tracks \n",
    "i = 0 # billboard\n",
    "j = 0 # extra\n",
    "duplicate = []\n",
    "while i <len(billboard_track_info):\n",
    "    row_i = billboard_track_info.iloc[i,:]\n",
    "    row_j = same_track_info.iloc[j,:]\n",
    "    title_i,artist_i = row_i.title,row_i.artist\n",
    "    title_j,artist_j = row_j.title,row_j.artist\n",
    "    if artist_i == artist_j:\n",
    "        if title_i == title_j:\n",
    "            duplicate.append(j)\n",
    "        i += 1\n",
    "        j += 1\n",
    "    else:\n",
    "        i += 1\n",
    "\n",
    "same_track_info = same_track_info.reset_index(range(len(same_track_info)))\n",
    "same_track_info.drop(same_track_info.index[duplicate],inplace=True)"
   ]
  },
  {
   "cell_type": "code",
   "execution_count": 154,
   "metadata": {
    "collapsed": false
   },
   "outputs": [],
   "source": [
    "if not os.path.isfile('Same_album_track_audio_features'):\n",
    "    audio_data = pd.DataFrame()\n",
    "    distinct_trackids = map(lambda x:x.split(':')[-1],same_track_info.track_uri)\n",
    "    token = get_token()\n",
    "    for i,track_ids in enumerate(chunk_100(distinct_trackids)):\n",
    "        audio_features,token = multiple_audio_features(track_ids,token)\n",
    "        audio_data = audio_data.append(audio_features)\n",
    "        \n",
    "    assert len(audio_data)==len(distinct_trackids)\n",
    "    audio_data.to_pickle('Same_album_track_audio_features')\n",
    "\n",
    "else:\n",
    "    audio_data = pd.read_pickle('Same_album_track_audio_features')"
   ]
  },
  {
   "cell_type": "code",
   "execution_count": 155,
   "metadata": {
    "collapsed": false
   },
   "outputs": [
    {
     "data": {
      "text/html": [
       "<div>\n",
       "<table border=\"1\" class=\"dataframe\">\n",
       "  <thead>\n",
       "    <tr style=\"text-align: right;\">\n",
       "      <th></th>\n",
       "      <th>acousticness</th>\n",
       "      <th>danceability</th>\n",
       "      <th>duration_ms</th>\n",
       "      <th>energy</th>\n",
       "      <th>instrumentalness</th>\n",
       "      <th>key</th>\n",
       "      <th>liveness</th>\n",
       "      <th>loudness</th>\n",
       "      <th>mode</th>\n",
       "      <th>speechiness</th>\n",
       "      <th>tempo</th>\n",
       "      <th>time_signature</th>\n",
       "      <th>uri</th>\n",
       "      <th>valence</th>\n",
       "    </tr>\n",
       "  </thead>\n",
       "  <tbody>\n",
       "    <tr>\n",
       "      <th>0</th>\n",
       "      <td>0.0340</td>\n",
       "      <td>0.818</td>\n",
       "      <td>225983</td>\n",
       "      <td>0.803</td>\n",
       "      <td>0.000000</td>\n",
       "      <td>1</td>\n",
       "      <td>0.153</td>\n",
       "      <td>-4.282</td>\n",
       "      <td>1</td>\n",
       "      <td>0.0797</td>\n",
       "      <td>106.970</td>\n",
       "      <td>4</td>\n",
       "      <td>spotify:track:6b8Be6ljOzmkOmFslEb23P</td>\n",
       "      <td>0.618</td>\n",
       "    </tr>\n",
       "    <tr>\n",
       "      <th>0</th>\n",
       "      <td>0.0362</td>\n",
       "      <td>0.886</td>\n",
       "      <td>161067</td>\n",
       "      <td>0.580</td>\n",
       "      <td>0.000002</td>\n",
       "      <td>7</td>\n",
       "      <td>0.0882</td>\n",
       "      <td>-2.144</td>\n",
       "      <td>0</td>\n",
       "      <td>0.0513</td>\n",
       "      <td>144.988</td>\n",
       "      <td>4</td>\n",
       "      <td>spotify:track:0WgBb7XgdtbUW0GlYel9mH</td>\n",
       "      <td>0.806</td>\n",
       "    </tr>\n",
       "  </tbody>\n",
       "</table>\n",
       "</div>"
      ],
      "text/plain": [
       "   acousticness danceability  duration_ms  energy  instrumentalness  key  \\\n",
       "0        0.0340        0.818       225983   0.803          0.000000    1   \n",
       "0        0.0362        0.886       161067   0.580          0.000002    7   \n",
       "\n",
       "  liveness  loudness  mode speechiness    tempo time_signature  \\\n",
       "0    0.153    -4.282     1      0.0797  106.970              4   \n",
       "0   0.0882    -2.144     0      0.0513  144.988              4   \n",
       "\n",
       "                                    uri valence  \n",
       "0  spotify:track:6b8Be6ljOzmkOmFslEb23P   0.618  \n",
       "0  spotify:track:0WgBb7XgdtbUW0GlYel9mH   0.806  "
      ]
     },
     "execution_count": 155,
     "metadata": {},
     "output_type": "execute_result"
    }
   ],
   "source": [
    "audio_data.head(2)"
   ]
  },
  {
   "cell_type": "code",
   "execution_count": null,
   "metadata": {
    "collapsed": true
   },
   "outputs": [],
   "source": []
  }
 ],
 "metadata": {
  "kernelspec": {
   "display_name": "Python 2",
   "language": "python",
   "name": "python2"
  },
  "language_info": {
   "codemirror_mode": {
    "name": "ipython",
    "version": 2
   },
   "file_extension": ".py",
   "mimetype": "text/x-python",
   "name": "python",
   "nbconvert_exporter": "python",
   "pygments_lexer": "ipython2",
   "version": "2.7.12"
  }
 },
 "nbformat": 4,
 "nbformat_minor": 1
}
