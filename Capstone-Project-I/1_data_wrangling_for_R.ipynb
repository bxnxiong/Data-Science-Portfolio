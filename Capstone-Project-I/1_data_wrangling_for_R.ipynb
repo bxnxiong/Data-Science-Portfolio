{
 "cells": [
  {
   "cell_type": "code",
   "execution_count": 1,
   "metadata": {
    "collapsed": true
   },
   "outputs": [],
   "source": [
    "import pandas as pd"
   ]
  },
  {
   "cell_type": "code",
   "execution_count": 2,
   "metadata": {
    "collapsed": false
   },
   "outputs": [
    {
     "data": {
      "text/html": [
       "<div>\n",
       "<style scoped>\n",
       "    .dataframe tbody tr th:only-of-type {\n",
       "        vertical-align: middle;\n",
       "    }\n",
       "\n",
       "    .dataframe tbody tr th {\n",
       "        vertical-align: top;\n",
       "    }\n",
       "\n",
       "    .dataframe thead th {\n",
       "        text-align: right;\n",
       "    }\n",
       "</style>\n",
       "<table border=\"1\" class=\"dataframe\">\n",
       "  <thead>\n",
       "    <tr style=\"text-align: right;\">\n",
       "      <th></th>\n",
       "      <th>index</th>\n",
       "      <th>title</th>\n",
       "      <th>track_uri</th>\n",
       "      <th>track_number</th>\n",
       "      <th>artist</th>\n",
       "      <th>album_uri</th>\n",
       "      <th>album_release_date</th>\n",
       "    </tr>\n",
       "  </thead>\n",
       "  <tbody>\n",
       "    <tr>\n",
       "      <th>0</th>\n",
       "      <td>0</td>\n",
       "      <td>Shape of You</td>\n",
       "      <td>spotify:track:0FE9t6xYkqWXU2ahLh6D8X</td>\n",
       "      <td>1</td>\n",
       "      <td>spotify:artist:6eUKZXaKkcviH0Ku9w2n3V</td>\n",
       "      <td>spotify:album:7oJa8bPFKVbq4c7NswXHw8</td>\n",
       "      <td>2017-01-06</td>\n",
       "    </tr>\n",
       "    <tr>\n",
       "      <th>1</th>\n",
       "      <td>1</td>\n",
       "      <td>Bad and Boujee (feat. Lil Uzi Vert)</td>\n",
       "      <td>spotify:track:1FvU97lrWOG2NRxErh6OZz</td>\n",
       "      <td>1</td>\n",
       "      <td>spotify:artist:6oMuImdp5ZcFhWP0ESe6mG</td>\n",
       "      <td>spotify:album:3tWaxq6QGN4jkrrXHcvNBA</td>\n",
       "      <td>2016-10-28</td>\n",
       "    </tr>\n",
       "    <tr>\n",
       "      <th>2</th>\n",
       "      <td>2</td>\n",
       "      <td>I Don’t Wanna Live Forever (Fifty Shades Darker)</td>\n",
       "      <td>spotify:track:6yIdwnpDHufLWgQcveTPMk</td>\n",
       "      <td>1</td>\n",
       "      <td>spotify:artist:5ZsFI1h6hIdQRw2ti0hz81</td>\n",
       "      <td>spotify:album:2i54PoQ1ENZSYsZZE8haRr</td>\n",
       "      <td>2016-12-09</td>\n",
       "    </tr>\n",
       "    <tr>\n",
       "      <th>3</th>\n",
       "      <td>3</td>\n",
       "      <td>That's What I Like</td>\n",
       "      <td>spotify:track:0KKkJNfGyhkQ5aFogxQAPU</td>\n",
       "      <td>4</td>\n",
       "      <td>spotify:artist:0du5cEVh5yTK9QJze8zA0C</td>\n",
       "      <td>spotify:album:4PgleR09JVnm3zY1fW3XBA</td>\n",
       "      <td>2016-11-17</td>\n",
       "    </tr>\n",
       "    <tr>\n",
       "      <th>4</th>\n",
       "      <td>4</td>\n",
       "      <td>Love On The Brain</td>\n",
       "      <td>spotify:track:7HRHMuUTY7Dk4mw7CjS36i</td>\n",
       "      <td>11</td>\n",
       "      <td>spotify:artist:5pKCCKE2ajJHZ9KAiaK11H</td>\n",
       "      <td>spotify:album:2hNdpum500dG6mDXs87nbc</td>\n",
       "      <td>2016-01-28</td>\n",
       "    </tr>\n",
       "  </tbody>\n",
       "</table>\n",
       "</div>"
      ],
      "text/plain": [
       "   index                                             title  \\\n",
       "0      0                                      Shape of You   \n",
       "1      1               Bad and Boujee (feat. Lil Uzi Vert)   \n",
       "2      2  I Don’t Wanna Live Forever (Fifty Shades Darker)   \n",
       "3      3                                That's What I Like   \n",
       "4      4                                 Love On The Brain   \n",
       "\n",
       "                              track_uri  track_number  \\\n",
       "0  spotify:track:0FE9t6xYkqWXU2ahLh6D8X             1   \n",
       "1  spotify:track:1FvU97lrWOG2NRxErh6OZz             1   \n",
       "2  spotify:track:6yIdwnpDHufLWgQcveTPMk             1   \n",
       "3  spotify:track:0KKkJNfGyhkQ5aFogxQAPU             4   \n",
       "4  spotify:track:7HRHMuUTY7Dk4mw7CjS36i            11   \n",
       "\n",
       "                                  artist  \\\n",
       "0  spotify:artist:6eUKZXaKkcviH0Ku9w2n3V   \n",
       "1  spotify:artist:6oMuImdp5ZcFhWP0ESe6mG   \n",
       "2  spotify:artist:5ZsFI1h6hIdQRw2ti0hz81   \n",
       "3  spotify:artist:0du5cEVh5yTK9QJze8zA0C   \n",
       "4  spotify:artist:5pKCCKE2ajJHZ9KAiaK11H   \n",
       "\n",
       "                              album_uri album_release_date  \n",
       "0  spotify:album:7oJa8bPFKVbq4c7NswXHw8         2017-01-06  \n",
       "1  spotify:album:3tWaxq6QGN4jkrrXHcvNBA         2016-10-28  \n",
       "2  spotify:album:2i54PoQ1ENZSYsZZE8haRr         2016-12-09  \n",
       "3  spotify:album:4PgleR09JVnm3zY1fW3XBA         2016-11-17  \n",
       "4  spotify:album:2hNdpum500dG6mDXs87nbc         2016-01-28  "
      ]
     },
     "execution_count": 2,
     "metadata": {},
     "output_type": "execute_result"
    }
   ],
   "source": [
    "track_info = pd.read_pickle('Billboard_track_info_final_wtime')\n",
    "track_ids = map(lambda x:x.split(':')[-1],track_info.track_uri)\n",
    "track_numbers = track_info.track_number\n",
    "track_info.head()"
   ]
  },
  {
   "cell_type": "code",
   "execution_count": 3,
   "metadata": {
    "collapsed": false
   },
   "outputs": [
    {
     "data": {
      "text/html": [
       "<div>\n",
       "<style scoped>\n",
       "    .dataframe tbody tr th:only-of-type {\n",
       "        vertical-align: middle;\n",
       "    }\n",
       "\n",
       "    .dataframe tbody tr th {\n",
       "        vertical-align: top;\n",
       "    }\n",
       "\n",
       "    .dataframe thead th {\n",
       "        text-align: right;\n",
       "    }\n",
       "</style>\n",
       "<table border=\"1\" class=\"dataframe\">\n",
       "  <thead>\n",
       "    <tr style=\"text-align: right;\">\n",
       "      <th></th>\n",
       "      <th>level_0</th>\n",
       "      <th>album_uri</th>\n",
       "      <th>artist</th>\n",
       "      <th>index</th>\n",
       "      <th>title</th>\n",
       "      <th>track_number</th>\n",
       "      <th>track_uri</th>\n",
       "      <th>album_release_date</th>\n",
       "    </tr>\n",
       "  </thead>\n",
       "  <tbody>\n",
       "    <tr>\n",
       "      <th>0</th>\n",
       "      <td>0</td>\n",
       "      <td>spotify:album:3Q149ZH46Z0f3oDR7vlDYV</td>\n",
       "      <td>spotify:artist:5pKCCKE2ajJHZ9KAiaK11H</td>\n",
       "      <td>3.0</td>\n",
       "      <td>Consideration</td>\n",
       "      <td>1</td>\n",
       "      <td>spotify:track:0WgBb7XgdtbUW0GlYel9mH</td>\n",
       "      <td>2016-01-28</td>\n",
       "    </tr>\n",
       "    <tr>\n",
       "      <th>1</th>\n",
       "      <td>1</td>\n",
       "      <td>spotify:album:7HnbhIDKXIBhMR4EPGuMgu</td>\n",
       "      <td>spotify:artist:2wUjUUtkb5lvLKcGKsKqsR</td>\n",
       "      <td>7.0</td>\n",
       "      <td>Seventeen</td>\n",
       "      <td>1</td>\n",
       "      <td>spotify:track:5HxyJa6E8OXdYKKfufrbKE</td>\n",
       "      <td>2015-11-13</td>\n",
       "    </tr>\n",
       "    <tr>\n",
       "      <th>2</th>\n",
       "      <td>2</td>\n",
       "      <td>spotify:album:5v6iBhIlflzR9rEd1LAMbd</td>\n",
       "      <td>spotify:artist:7iZtZyCzp3LItcw1wtPI3D</td>\n",
       "      <td>10.0</td>\n",
       "      <td>Start A Party</td>\n",
       "      <td>1</td>\n",
       "      <td>spotify:track:6vFpwoagZKaQveINvGrbFK</td>\n",
       "      <td>2016-08-12</td>\n",
       "    </tr>\n",
       "    <tr>\n",
       "      <th>3</th>\n",
       "      <td>3</td>\n",
       "      <td>spotify:album:3OZgEywV4krCZ814pTJWr7</td>\n",
       "      <td>spotify:artist:66CXWjxzNUsdJxJ2JdwvnR</td>\n",
       "      <td>11.0</td>\n",
       "      <td>Moonlight</td>\n",
       "      <td>1</td>\n",
       "      <td>spotify:track:4TZdeM7zelZGz6JPrXSEZ1</td>\n",
       "      <td>2016-05-20</td>\n",
       "    </tr>\n",
       "    <tr>\n",
       "      <th>4</th>\n",
       "      <td>4</td>\n",
       "      <td>spotify:album:02sEJTj1sye1JaqxqpcSCp</td>\n",
       "      <td>spotify:artist:540vIaP2JwjQb9dm3aArA4</td>\n",
       "      <td>12.0</td>\n",
       "      <td>Intro (A86)</td>\n",
       "      <td>1</td>\n",
       "      <td>spotify:track:21yo11TFsfpDtuYyCbqhZS</td>\n",
       "      <td>2016-08-05</td>\n",
       "    </tr>\n",
       "  </tbody>\n",
       "</table>\n",
       "</div>"
      ],
      "text/plain": [
       "   level_0                             album_uri  \\\n",
       "0        0  spotify:album:3Q149ZH46Z0f3oDR7vlDYV   \n",
       "1        1  spotify:album:7HnbhIDKXIBhMR4EPGuMgu   \n",
       "2        2  spotify:album:5v6iBhIlflzR9rEd1LAMbd   \n",
       "3        3  spotify:album:3OZgEywV4krCZ814pTJWr7   \n",
       "4        4  spotify:album:02sEJTj1sye1JaqxqpcSCp   \n",
       "\n",
       "                                  artist  index          title  track_number  \\\n",
       "0  spotify:artist:5pKCCKE2ajJHZ9KAiaK11H    3.0  Consideration             1   \n",
       "1  spotify:artist:2wUjUUtkb5lvLKcGKsKqsR    7.0      Seventeen             1   \n",
       "2  spotify:artist:7iZtZyCzp3LItcw1wtPI3D   10.0  Start A Party             1   \n",
       "3  spotify:artist:66CXWjxzNUsdJxJ2JdwvnR   11.0      Moonlight             1   \n",
       "4  spotify:artist:540vIaP2JwjQb9dm3aArA4   12.0    Intro (A86)             1   \n",
       "\n",
       "                              track_uri album_release_date  \n",
       "0  spotify:track:0WgBb7XgdtbUW0GlYel9mH         2016-01-28  \n",
       "1  spotify:track:5HxyJa6E8OXdYKKfufrbKE         2015-11-13  \n",
       "2  spotify:track:6vFpwoagZKaQveINvGrbFK         2016-08-12  \n",
       "3  spotify:track:4TZdeM7zelZGz6JPrXSEZ1         2016-05-20  \n",
       "4  spotify:track:21yo11TFsfpDtuYyCbqhZS         2016-08-05  "
      ]
     },
     "execution_count": 3,
     "metadata": {},
     "output_type": "execute_result"
    }
   ],
   "source": [
    "track_info2 = pd.read_pickle('Extra_track_info_final_wtime')\n",
    "track_info2.head()"
   ]
  },
  {
   "cell_type": "code",
   "execution_count": 4,
   "metadata": {
    "collapsed": true
   },
   "outputs": [],
   "source": [
    "track_info2.drop('level_0', axis=1,inplace=True)\n",
    "all_track_info = track_info.append(track_info2)"
   ]
  },
  {
   "cell_type": "code",
   "execution_count": 5,
   "metadata": {
    "collapsed": true
   },
   "outputs": [],
   "source": [
    "audio_data = pd.read_pickle('Extra_audio_features')\n",
    "audio_data2 = pd.read_pickle('Billboard_audio_features')\n",
    "data = audio_data.append(audio_data2)"
   ]
  },
  {
   "cell_type": "code",
   "execution_count": 6,
   "metadata": {
    "collapsed": false
   },
   "outputs": [],
   "source": [
    "merged = pd.merge(all_track_info, data, left_on='track_uri', right_on='uri')"
   ]
  },
  {
   "cell_type": "code",
   "execution_count": 7,
   "metadata": {
    "collapsed": true
   },
   "outputs": [],
   "source": [
    "merged.drop(['index','album_uri','track_uri'],axis=1, inplace=True)"
   ]
  },
  {
   "cell_type": "code",
   "execution_count": 9,
   "metadata": {
    "collapsed": true
   },
   "outputs": [],
   "source": [
    "merged.loc[:, 'spotifyID'] = merged.uri.apply(lambda x:x.split('spotify:track:')[-1])"
   ]
  },
  {
   "cell_type": "code",
   "execution_count": 12,
   "metadata": {
    "collapsed": false
   },
   "outputs": [
    {
     "data": {
      "text/html": [
       "<div>\n",
       "<style scoped>\n",
       "    .dataframe tbody tr th:only-of-type {\n",
       "        vertical-align: middle;\n",
       "    }\n",
       "\n",
       "    .dataframe tbody tr th {\n",
       "        vertical-align: top;\n",
       "    }\n",
       "\n",
       "    .dataframe thead th {\n",
       "        text-align: right;\n",
       "    }\n",
       "</style>\n",
       "<table border=\"1\" class=\"dataframe\">\n",
       "  <thead>\n",
       "    <tr style=\"text-align: right;\">\n",
       "      <th></th>\n",
       "      <th>title</th>\n",
       "      <th>artist</th>\n",
       "      <th>uri</th>\n",
       "    </tr>\n",
       "  </thead>\n",
       "  <tbody>\n",
       "    <tr>\n",
       "      <th>0</th>\n",
       "      <td>I Didn't Mean To</td>\n",
       "      <td>Casual</td>\n",
       "      <td>01TR6aAKrA2cI3Z0gnCOsu</td>\n",
       "    </tr>\n",
       "    <tr>\n",
       "      <th>1</th>\n",
       "      <td>Soul Deep</td>\n",
       "      <td>The Box Tops</td>\n",
       "      <td>4yPl1mK1oluIrCwI4HInPR</td>\n",
       "    </tr>\n",
       "    <tr>\n",
       "      <th>2</th>\n",
       "      <td>Something Girls</td>\n",
       "      <td>Adam Ant</td>\n",
       "      <td>1BddSZ9x0Vi2WfZOSna47Z</td>\n",
       "    </tr>\n",
       "    <tr>\n",
       "      <th>3</th>\n",
       "      <td>Face the Ashes</td>\n",
       "      <td>Gob</td>\n",
       "      <td>4cdbM6efK43Cs2PDMtzdhv</td>\n",
       "    </tr>\n",
       "    <tr>\n",
       "      <th>4</th>\n",
       "      <td>Keepin It Real (Skit)</td>\n",
       "      <td>Rated R</td>\n",
       "      <td>0e4hF4Jxyh7cuwB2pMYhBh</td>\n",
       "    </tr>\n",
       "  </tbody>\n",
       "</table>\n",
       "</div>"
      ],
      "text/plain": [
       "                   title        artist                     uri\n",
       "0       I Didn't Mean To        Casual  01TR6aAKrA2cI3Z0gnCOsu\n",
       "1              Soul Deep  The Box Tops  4yPl1mK1oluIrCwI4HInPR\n",
       "2        Something Girls      Adam Ant  1BddSZ9x0Vi2WfZOSna47Z\n",
       "3         Face the Ashes           Gob  4cdbM6efK43Cs2PDMtzdhv\n",
       "4  Keepin It Real (Skit)       Rated R  0e4hF4Jxyh7cuwB2pMYhBh"
      ]
     },
     "execution_count": 12,
     "metadata": {},
     "output_type": "execute_result"
    }
   ],
   "source": [
    "msd_tracks = pd.read_pickle('MSD_tracks')\n",
    "msd_tracks.head()"
   ]
  },
  {
   "cell_type": "code",
   "execution_count": 13,
   "metadata": {
    "collapsed": false
   },
   "outputs": [
    {
     "data": {
      "text/html": [
       "<div>\n",
       "<style scoped>\n",
       "    .dataframe tbody tr th:only-of-type {\n",
       "        vertical-align: middle;\n",
       "    }\n",
       "\n",
       "    .dataframe tbody tr th {\n",
       "        vertical-align: top;\n",
       "    }\n",
       "\n",
       "    .dataframe thead th {\n",
       "        text-align: right;\n",
       "    }\n",
       "</style>\n",
       "<table border=\"1\" class=\"dataframe\">\n",
       "  <thead>\n",
       "    <tr style=\"text-align: right;\">\n",
       "      <th></th>\n",
       "      <th>date</th>\n",
       "      <th>title</th>\n",
       "      <th>artist</th>\n",
       "      <th>rank</th>\n",
       "      <th>weeks</th>\n",
       "      <th>change_in_rank</th>\n",
       "      <th>spotifyID</th>\n",
       "    </tr>\n",
       "  </thead>\n",
       "  <tbody>\n",
       "    <tr>\n",
       "      <th>0</th>\n",
       "      <td>2017-03-18</td>\n",
       "      <td>Shape Of You</td>\n",
       "      <td>Ed Sheeran</td>\n",
       "      <td>1.0</td>\n",
       "      <td>8.0</td>\n",
       "      <td>0</td>\n",
       "      <td>0FE9t6xYkqWXU2ahLh6D8X</td>\n",
       "    </tr>\n",
       "    <tr>\n",
       "      <th>0</th>\n",
       "      <td>2017-03-18</td>\n",
       "      <td>Bad And Boujee</td>\n",
       "      <td>Migos Featuring Lil Uzi Vert</td>\n",
       "      <td>2.0</td>\n",
       "      <td>16.0</td>\n",
       "      <td>0</td>\n",
       "      <td>1FvU97lrWOG2NRxErh6OZz</td>\n",
       "    </tr>\n",
       "    <tr>\n",
       "      <th>0</th>\n",
       "      <td>2017-03-18</td>\n",
       "      <td>I Don't Wanna Live Forever (Fifty Shades Darker)</td>\n",
       "      <td>Zayn / Taylor Swift</td>\n",
       "      <td>3.0</td>\n",
       "      <td>12.0</td>\n",
       "      <td>0</td>\n",
       "      <td>6yIdwnpDHufLWgQcveTPMk</td>\n",
       "    </tr>\n",
       "    <tr>\n",
       "      <th>0</th>\n",
       "      <td>2017-03-18</td>\n",
       "      <td>That's What I Like</td>\n",
       "      <td>Bruno Mars</td>\n",
       "      <td>4.0</td>\n",
       "      <td>7.0</td>\n",
       "      <td>0</td>\n",
       "      <td>0KKkJNfGyhkQ5aFogxQAPU</td>\n",
       "    </tr>\n",
       "    <tr>\n",
       "      <th>0</th>\n",
       "      <td>2017-03-18</td>\n",
       "      <td>Something Just Like This</td>\n",
       "      <td>The Chainsmokers &amp; Coldplay</td>\n",
       "      <td>5.0</td>\n",
       "      <td>2.0</td>\n",
       "      <td>+51</td>\n",
       "      <td></td>\n",
       "    </tr>\n",
       "  </tbody>\n",
       "</table>\n",
       "</div>"
      ],
      "text/plain": [
       "         date                                             title  \\\n",
       "0  2017-03-18                                      Shape Of You   \n",
       "0  2017-03-18                                    Bad And Boujee   \n",
       "0  2017-03-18  I Don't Wanna Live Forever (Fifty Shades Darker)   \n",
       "0  2017-03-18                                That's What I Like   \n",
       "0  2017-03-18                          Something Just Like This   \n",
       "\n",
       "                         artist  rank  weeks change_in_rank  \\\n",
       "0                    Ed Sheeran   1.0    8.0              0   \n",
       "0  Migos Featuring Lil Uzi Vert   2.0   16.0              0   \n",
       "0           Zayn / Taylor Swift   3.0   12.0              0   \n",
       "0                    Bruno Mars   4.0    7.0              0   \n",
       "0   The Chainsmokers & Coldplay   5.0    2.0            +51   \n",
       "\n",
       "                spotifyID  \n",
       "0  0FE9t6xYkqWXU2ahLh6D8X  \n",
       "0  1FvU97lrWOG2NRxErh6OZz  \n",
       "0  6yIdwnpDHufLWgQcveTPMk  \n",
       "0  0KKkJNfGyhkQ5aFogxQAPU  \n",
       "0                          "
      ]
     },
     "execution_count": 13,
     "metadata": {},
     "output_type": "execute_result"
    }
   ],
   "source": [
    "billboard_tracks = pd.read_pickle('Billboard_data')\n",
    "billboard_tracks.head()"
   ]
  },
  {
   "cell_type": "code",
   "execution_count": 11,
   "metadata": {
    "collapsed": true
   },
   "outputs": [],
   "source": [
    "# build artist,uri mapping dataframe for MSD & Billboard Top10 songs\n",
    "msd_artist_uri = msd_tracks[['artist','uri']].to_dict(orient='list')\n",
    "msd_artist = msd_artist_uri['artist']\n",
    "msd_uri = msd_artist_uri['uri']\n",
    "\n",
    "billboard_artist_uri = billboard_tracks[['artist','spotifyID']].to_dict(orient='list')\n",
    "billboard_artist = billboard_artist_uri['artist']\n",
    "billboard_uri = billboard_artist_uri['spotifyID']\n",
    "\n",
    "all_artist = msd_artist[:]\n",
    "all_artist.extend(billboard_artist)\n",
    "all_uri = msd_uri[:]\n",
    "all_uri.extend(billboard_uri)\n",
    "\n",
    "artist_uri_df = pd.DataFrame({'artist':all_artist,'spotifyID':all_uri})\n",
    "artist_uri_df_dedup = artist_uri_df.drop_duplicates()"
   ]
  },
  {
   "cell_type": "code",
   "execution_count": 14,
   "metadata": {
    "collapsed": true
   },
   "outputs": [],
   "source": [
    "merged.drop('artist',axis=1,inplace=True)\n",
    "\n",
    "merged_final = pd.merge(merged, artist_uri_df_dedup, on='spotifyID', how='left')\n",
    "\n",
    "merged_final.drop(['mode','time_signature','uri','spotifyID'], axis=1, inplace=True)\n",
    "\n",
    "merged_final.to_csv('spotify_metrics_all_tracks.csv', header=True, index=False, encoding='utf-8')"
   ]
  },
  {
   "cell_type": "code",
   "execution_count": null,
   "metadata": {
    "collapsed": true
   },
   "outputs": [],
   "source": []
  }
 ],
 "metadata": {
  "kernelspec": {
   "display_name": "Python 2",
   "language": "python",
   "name": "python2"
  },
  "language_info": {
   "codemirror_mode": {
    "name": "ipython",
    "version": 2
   },
   "file_extension": ".py",
   "mimetype": "text/x-python",
   "name": "python",
   "nbconvert_exporter": "python",
   "pygments_lexer": "ipython2",
   "version": "2.7.12"
  }
 },
 "nbformat": 4,
 "nbformat_minor": 1
}
